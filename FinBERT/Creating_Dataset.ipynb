{
  "nbformat": 4,
  "nbformat_minor": 0,
  "metadata": {
    "colab": {
      "provenance": [],
      "machine_shape": "hm",
      "gpuType": "A100"
    },
    "kernelspec": {
      "name": "python3",
      "display_name": "Python 3"
    },
    "language_info": {
      "name": "python"
    },
    "accelerator": "GPU"
  },
  "cells": [
    {
      "cell_type": "code",
      "execution_count": null,
      "metadata": {
        "id": "db_0iHvgv3Fl"
      },
      "outputs": [],
      "source": [
        "import pandas as pd\n",
        "import numpy as np"
      ]
    },
    {
      "cell_type": "code",
      "source": [
        "hdfc_data= pd.read_csv(\"/content/HDFC.csv\")\n",
        "hdfc_data"
      ],
      "metadata": {
        "colab": {
          "base_uri": "https://localhost:8080/",
          "height": 636
        },
        "id": "9CYa1RNiwEUd",
        "outputId": "a9e6104a-1985-484a-e221-f69e27c8b8ee"
      },
      "execution_count": null,
      "outputs": [
        {
          "output_type": "stream",
          "name": "stderr",
          "text": [
            "/usr/local/lib/python3.11/dist-packages/google/colab/_dataframe_summarizer.py:88: UserWarning: Could not infer format, so each element will be parsed individually, falling back to `dateutil`. To ensure parsing is consistent and as-expected, please specify a format.\n",
            "  cast_date_col = pd.to_datetime(column, errors=\"coerce\")\n"
          ]
        },
        {
          "output_type": "execute_result",
          "data": {
            "text/plain": [
              "           Date           Adj Close               Close                High  \\\n",
              "0           NaN         HDFCBANK.NS         HDFCBANK.NS         HDFCBANK.NS   \n",
              "1    2022-04-01    1451.98486328125              1506.0              1510.0   \n",
              "2    2022-04-04   1597.376220703125   1656.800048828125  1722.0999755859375   \n",
              "3    2022-04-05  1550.5675048828125             1608.25   1666.699951171875   \n",
              "4    2022-04-06   1495.226318359375  1550.8499755859375   1589.800048828125   \n",
              "..          ...                 ...                 ...                 ...   \n",
              "673  2024-12-23              1801.0              1801.0              1806.0   \n",
              "674  2024-12-24  1798.0999755859375  1798.0999755859375   1808.699951171875   \n",
              "675  2024-12-26             1790.75             1790.75              1812.0   \n",
              "676  2024-12-27             1798.25             1798.25   1805.949951171875   \n",
              "677  2024-12-30  1777.9000244140625  1777.9000244140625              1815.0   \n",
              "\n",
              "                    Low                Open       Volume quarter  \\\n",
              "0           HDFCBANK.NS         HDFCBANK.NS  HDFCBANK.NS     NaN   \n",
              "1     1470.300048828125  1476.4000244140625      7284278  2023Q1   \n",
              "2     1562.550048828125              1580.0     48725485  2023Q1   \n",
              "3                1602.0   1666.699951171875     15461291  2023Q1   \n",
              "4    1547.3499755859375   1587.699951171875     13513930  2023Q1   \n",
              "..                  ...                 ...          ...     ...   \n",
              "673   1781.300048828125              1782.0      5522296  2025Q3   \n",
              "674   1789.550048828125   1802.050048828125      7242917  2025Q3   \n",
              "675             1780.75   1798.550048828125      5240839  2025Q3   \n",
              "676  1789.0999755859375   1794.800048828125      3629665  2025Q3   \n",
              "677              1771.0   1792.199951171875     11111109  2025Q3   \n",
              "\n",
              "     report_sentiment  \n",
              "0                 NaN  \n",
              "1            0.726230  \n",
              "2            0.726230  \n",
              "3            0.726230  \n",
              "4            0.726230  \n",
              "..                ...  \n",
              "673          0.770711  \n",
              "674          0.770711  \n",
              "675          0.770711  \n",
              "676          0.770711  \n",
              "677          0.770711  \n",
              "\n",
              "[678 rows x 9 columns]"
            ],
            "text/html": [
              "\n",
              "  <div id=\"df-be11a6fc-f09c-4373-92e4-4043cdcc6c42\" class=\"colab-df-container\">\n",
              "    <div>\n",
              "<style scoped>\n",
              "    .dataframe tbody tr th:only-of-type {\n",
              "        vertical-align: middle;\n",
              "    }\n",
              "\n",
              "    .dataframe tbody tr th {\n",
              "        vertical-align: top;\n",
              "    }\n",
              "\n",
              "    .dataframe thead th {\n",
              "        text-align: right;\n",
              "    }\n",
              "</style>\n",
              "<table border=\"1\" class=\"dataframe\">\n",
              "  <thead>\n",
              "    <tr style=\"text-align: right;\">\n",
              "      <th></th>\n",
              "      <th>Date</th>\n",
              "      <th>Adj Close</th>\n",
              "      <th>Close</th>\n",
              "      <th>High</th>\n",
              "      <th>Low</th>\n",
              "      <th>Open</th>\n",
              "      <th>Volume</th>\n",
              "      <th>quarter</th>\n",
              "      <th>report_sentiment</th>\n",
              "    </tr>\n",
              "  </thead>\n",
              "  <tbody>\n",
              "    <tr>\n",
              "      <th>0</th>\n",
              "      <td>NaN</td>\n",
              "      <td>HDFCBANK.NS</td>\n",
              "      <td>HDFCBANK.NS</td>\n",
              "      <td>HDFCBANK.NS</td>\n",
              "      <td>HDFCBANK.NS</td>\n",
              "      <td>HDFCBANK.NS</td>\n",
              "      <td>HDFCBANK.NS</td>\n",
              "      <td>NaN</td>\n",
              "      <td>NaN</td>\n",
              "    </tr>\n",
              "    <tr>\n",
              "      <th>1</th>\n",
              "      <td>2022-04-01</td>\n",
              "      <td>1451.98486328125</td>\n",
              "      <td>1506.0</td>\n",
              "      <td>1510.0</td>\n",
              "      <td>1470.300048828125</td>\n",
              "      <td>1476.4000244140625</td>\n",
              "      <td>7284278</td>\n",
              "      <td>2023Q1</td>\n",
              "      <td>0.726230</td>\n",
              "    </tr>\n",
              "    <tr>\n",
              "      <th>2</th>\n",
              "      <td>2022-04-04</td>\n",
              "      <td>1597.376220703125</td>\n",
              "      <td>1656.800048828125</td>\n",
              "      <td>1722.0999755859375</td>\n",
              "      <td>1562.550048828125</td>\n",
              "      <td>1580.0</td>\n",
              "      <td>48725485</td>\n",
              "      <td>2023Q1</td>\n",
              "      <td>0.726230</td>\n",
              "    </tr>\n",
              "    <tr>\n",
              "      <th>3</th>\n",
              "      <td>2022-04-05</td>\n",
              "      <td>1550.5675048828125</td>\n",
              "      <td>1608.25</td>\n",
              "      <td>1666.699951171875</td>\n",
              "      <td>1602.0</td>\n",
              "      <td>1666.699951171875</td>\n",
              "      <td>15461291</td>\n",
              "      <td>2023Q1</td>\n",
              "      <td>0.726230</td>\n",
              "    </tr>\n",
              "    <tr>\n",
              "      <th>4</th>\n",
              "      <td>2022-04-06</td>\n",
              "      <td>1495.226318359375</td>\n",
              "      <td>1550.8499755859375</td>\n",
              "      <td>1589.800048828125</td>\n",
              "      <td>1547.3499755859375</td>\n",
              "      <td>1587.699951171875</td>\n",
              "      <td>13513930</td>\n",
              "      <td>2023Q1</td>\n",
              "      <td>0.726230</td>\n",
              "    </tr>\n",
              "    <tr>\n",
              "      <th>...</th>\n",
              "      <td>...</td>\n",
              "      <td>...</td>\n",
              "      <td>...</td>\n",
              "      <td>...</td>\n",
              "      <td>...</td>\n",
              "      <td>...</td>\n",
              "      <td>...</td>\n",
              "      <td>...</td>\n",
              "      <td>...</td>\n",
              "    </tr>\n",
              "    <tr>\n",
              "      <th>673</th>\n",
              "      <td>2024-12-23</td>\n",
              "      <td>1801.0</td>\n",
              "      <td>1801.0</td>\n",
              "      <td>1806.0</td>\n",
              "      <td>1781.300048828125</td>\n",
              "      <td>1782.0</td>\n",
              "      <td>5522296</td>\n",
              "      <td>2025Q3</td>\n",
              "      <td>0.770711</td>\n",
              "    </tr>\n",
              "    <tr>\n",
              "      <th>674</th>\n",
              "      <td>2024-12-24</td>\n",
              "      <td>1798.0999755859375</td>\n",
              "      <td>1798.0999755859375</td>\n",
              "      <td>1808.699951171875</td>\n",
              "      <td>1789.550048828125</td>\n",
              "      <td>1802.050048828125</td>\n",
              "      <td>7242917</td>\n",
              "      <td>2025Q3</td>\n",
              "      <td>0.770711</td>\n",
              "    </tr>\n",
              "    <tr>\n",
              "      <th>675</th>\n",
              "      <td>2024-12-26</td>\n",
              "      <td>1790.75</td>\n",
              "      <td>1790.75</td>\n",
              "      <td>1812.0</td>\n",
              "      <td>1780.75</td>\n",
              "      <td>1798.550048828125</td>\n",
              "      <td>5240839</td>\n",
              "      <td>2025Q3</td>\n",
              "      <td>0.770711</td>\n",
              "    </tr>\n",
              "    <tr>\n",
              "      <th>676</th>\n",
              "      <td>2024-12-27</td>\n",
              "      <td>1798.25</td>\n",
              "      <td>1798.25</td>\n",
              "      <td>1805.949951171875</td>\n",
              "      <td>1789.0999755859375</td>\n",
              "      <td>1794.800048828125</td>\n",
              "      <td>3629665</td>\n",
              "      <td>2025Q3</td>\n",
              "      <td>0.770711</td>\n",
              "    </tr>\n",
              "    <tr>\n",
              "      <th>677</th>\n",
              "      <td>2024-12-30</td>\n",
              "      <td>1777.9000244140625</td>\n",
              "      <td>1777.9000244140625</td>\n",
              "      <td>1815.0</td>\n",
              "      <td>1771.0</td>\n",
              "      <td>1792.199951171875</td>\n",
              "      <td>11111109</td>\n",
              "      <td>2025Q3</td>\n",
              "      <td>0.770711</td>\n",
              "    </tr>\n",
              "  </tbody>\n",
              "</table>\n",
              "<p>678 rows × 9 columns</p>\n",
              "</div>\n",
              "    <div class=\"colab-df-buttons\">\n",
              "\n",
              "  <div class=\"colab-df-container\">\n",
              "    <button class=\"colab-df-convert\" onclick=\"convertToInteractive('df-be11a6fc-f09c-4373-92e4-4043cdcc6c42')\"\n",
              "            title=\"Convert this dataframe to an interactive table.\"\n",
              "            style=\"display:none;\">\n",
              "\n",
              "  <svg xmlns=\"http://www.w3.org/2000/svg\" height=\"24px\" viewBox=\"0 -960 960 960\">\n",
              "    <path d=\"M120-120v-720h720v720H120Zm60-500h600v-160H180v160Zm220 220h160v-160H400v160Zm0 220h160v-160H400v160ZM180-400h160v-160H180v160Zm440 0h160v-160H620v160ZM180-180h160v-160H180v160Zm440 0h160v-160H620v160Z\"/>\n",
              "  </svg>\n",
              "    </button>\n",
              "\n",
              "  <style>\n",
              "    .colab-df-container {\n",
              "      display:flex;\n",
              "      gap: 12px;\n",
              "    }\n",
              "\n",
              "    .colab-df-convert {\n",
              "      background-color: #E8F0FE;\n",
              "      border: none;\n",
              "      border-radius: 50%;\n",
              "      cursor: pointer;\n",
              "      display: none;\n",
              "      fill: #1967D2;\n",
              "      height: 32px;\n",
              "      padding: 0 0 0 0;\n",
              "      width: 32px;\n",
              "    }\n",
              "\n",
              "    .colab-df-convert:hover {\n",
              "      background-color: #E2EBFA;\n",
              "      box-shadow: 0px 1px 2px rgba(60, 64, 67, 0.3), 0px 1px 3px 1px rgba(60, 64, 67, 0.15);\n",
              "      fill: #174EA6;\n",
              "    }\n",
              "\n",
              "    .colab-df-buttons div {\n",
              "      margin-bottom: 4px;\n",
              "    }\n",
              "\n",
              "    [theme=dark] .colab-df-convert {\n",
              "      background-color: #3B4455;\n",
              "      fill: #D2E3FC;\n",
              "    }\n",
              "\n",
              "    [theme=dark] .colab-df-convert:hover {\n",
              "      background-color: #434B5C;\n",
              "      box-shadow: 0px 1px 3px 1px rgba(0, 0, 0, 0.15);\n",
              "      filter: drop-shadow(0px 1px 2px rgba(0, 0, 0, 0.3));\n",
              "      fill: #FFFFFF;\n",
              "    }\n",
              "  </style>\n",
              "\n",
              "    <script>\n",
              "      const buttonEl =\n",
              "        document.querySelector('#df-be11a6fc-f09c-4373-92e4-4043cdcc6c42 button.colab-df-convert');\n",
              "      buttonEl.style.display =\n",
              "        google.colab.kernel.accessAllowed ? 'block' : 'none';\n",
              "\n",
              "      async function convertToInteractive(key) {\n",
              "        const element = document.querySelector('#df-be11a6fc-f09c-4373-92e4-4043cdcc6c42');\n",
              "        const dataTable =\n",
              "          await google.colab.kernel.invokeFunction('convertToInteractive',\n",
              "                                                    [key], {});\n",
              "        if (!dataTable) return;\n",
              "\n",
              "        const docLinkHtml = 'Like what you see? Visit the ' +\n",
              "          '<a target=\"_blank\" href=https://colab.research.google.com/notebooks/data_table.ipynb>data table notebook</a>'\n",
              "          + ' to learn more about interactive tables.';\n",
              "        element.innerHTML = '';\n",
              "        dataTable['output_type'] = 'display_data';\n",
              "        await google.colab.output.renderOutput(dataTable, element);\n",
              "        const docLink = document.createElement('div');\n",
              "        docLink.innerHTML = docLinkHtml;\n",
              "        element.appendChild(docLink);\n",
              "      }\n",
              "    </script>\n",
              "  </div>\n",
              "\n",
              "\n",
              "    <div id=\"df-282efe8b-5966-4dde-9dc7-1687785bc0dc\">\n",
              "      <button class=\"colab-df-quickchart\" onclick=\"quickchart('df-282efe8b-5966-4dde-9dc7-1687785bc0dc')\"\n",
              "                title=\"Suggest charts\"\n",
              "                style=\"display:none;\">\n",
              "\n",
              "<svg xmlns=\"http://www.w3.org/2000/svg\" height=\"24px\"viewBox=\"0 0 24 24\"\n",
              "     width=\"24px\">\n",
              "    <g>\n",
              "        <path d=\"M19 3H5c-1.1 0-2 .9-2 2v14c0 1.1.9 2 2 2h14c1.1 0 2-.9 2-2V5c0-1.1-.9-2-2-2zM9 17H7v-7h2v7zm4 0h-2V7h2v10zm4 0h-2v-4h2v4z\"/>\n",
              "    </g>\n",
              "</svg>\n",
              "      </button>\n",
              "\n",
              "<style>\n",
              "  .colab-df-quickchart {\n",
              "      --bg-color: #E8F0FE;\n",
              "      --fill-color: #1967D2;\n",
              "      --hover-bg-color: #E2EBFA;\n",
              "      --hover-fill-color: #174EA6;\n",
              "      --disabled-fill-color: #AAA;\n",
              "      --disabled-bg-color: #DDD;\n",
              "  }\n",
              "\n",
              "  [theme=dark] .colab-df-quickchart {\n",
              "      --bg-color: #3B4455;\n",
              "      --fill-color: #D2E3FC;\n",
              "      --hover-bg-color: #434B5C;\n",
              "      --hover-fill-color: #FFFFFF;\n",
              "      --disabled-bg-color: #3B4455;\n",
              "      --disabled-fill-color: #666;\n",
              "  }\n",
              "\n",
              "  .colab-df-quickchart {\n",
              "    background-color: var(--bg-color);\n",
              "    border: none;\n",
              "    border-radius: 50%;\n",
              "    cursor: pointer;\n",
              "    display: none;\n",
              "    fill: var(--fill-color);\n",
              "    height: 32px;\n",
              "    padding: 0;\n",
              "    width: 32px;\n",
              "  }\n",
              "\n",
              "  .colab-df-quickchart:hover {\n",
              "    background-color: var(--hover-bg-color);\n",
              "    box-shadow: 0 1px 2px rgba(60, 64, 67, 0.3), 0 1px 3px 1px rgba(60, 64, 67, 0.15);\n",
              "    fill: var(--button-hover-fill-color);\n",
              "  }\n",
              "\n",
              "  .colab-df-quickchart-complete:disabled,\n",
              "  .colab-df-quickchart-complete:disabled:hover {\n",
              "    background-color: var(--disabled-bg-color);\n",
              "    fill: var(--disabled-fill-color);\n",
              "    box-shadow: none;\n",
              "  }\n",
              "\n",
              "  .colab-df-spinner {\n",
              "    border: 2px solid var(--fill-color);\n",
              "    border-color: transparent;\n",
              "    border-bottom-color: var(--fill-color);\n",
              "    animation:\n",
              "      spin 1s steps(1) infinite;\n",
              "  }\n",
              "\n",
              "  @keyframes spin {\n",
              "    0% {\n",
              "      border-color: transparent;\n",
              "      border-bottom-color: var(--fill-color);\n",
              "      border-left-color: var(--fill-color);\n",
              "    }\n",
              "    20% {\n",
              "      border-color: transparent;\n",
              "      border-left-color: var(--fill-color);\n",
              "      border-top-color: var(--fill-color);\n",
              "    }\n",
              "    30% {\n",
              "      border-color: transparent;\n",
              "      border-left-color: var(--fill-color);\n",
              "      border-top-color: var(--fill-color);\n",
              "      border-right-color: var(--fill-color);\n",
              "    }\n",
              "    40% {\n",
              "      border-color: transparent;\n",
              "      border-right-color: var(--fill-color);\n",
              "      border-top-color: var(--fill-color);\n",
              "    }\n",
              "    60% {\n",
              "      border-color: transparent;\n",
              "      border-right-color: var(--fill-color);\n",
              "    }\n",
              "    80% {\n",
              "      border-color: transparent;\n",
              "      border-right-color: var(--fill-color);\n",
              "      border-bottom-color: var(--fill-color);\n",
              "    }\n",
              "    90% {\n",
              "      border-color: transparent;\n",
              "      border-bottom-color: var(--fill-color);\n",
              "    }\n",
              "  }\n",
              "</style>\n",
              "\n",
              "      <script>\n",
              "        async function quickchart(key) {\n",
              "          const quickchartButtonEl =\n",
              "            document.querySelector('#' + key + ' button');\n",
              "          quickchartButtonEl.disabled = true;  // To prevent multiple clicks.\n",
              "          quickchartButtonEl.classList.add('colab-df-spinner');\n",
              "          try {\n",
              "            const charts = await google.colab.kernel.invokeFunction(\n",
              "                'suggestCharts', [key], {});\n",
              "          } catch (error) {\n",
              "            console.error('Error during call to suggestCharts:', error);\n",
              "          }\n",
              "          quickchartButtonEl.classList.remove('colab-df-spinner');\n",
              "          quickchartButtonEl.classList.add('colab-df-quickchart-complete');\n",
              "        }\n",
              "        (() => {\n",
              "          let quickchartButtonEl =\n",
              "            document.querySelector('#df-282efe8b-5966-4dde-9dc7-1687785bc0dc button');\n",
              "          quickchartButtonEl.style.display =\n",
              "            google.colab.kernel.accessAllowed ? 'block' : 'none';\n",
              "        })();\n",
              "      </script>\n",
              "    </div>\n",
              "\n",
              "  <div id=\"id_f3ce40eb-1912-4525-89b3-b30b1dee72d8\">\n",
              "    <style>\n",
              "      .colab-df-generate {\n",
              "        background-color: #E8F0FE;\n",
              "        border: none;\n",
              "        border-radius: 50%;\n",
              "        cursor: pointer;\n",
              "        display: none;\n",
              "        fill: #1967D2;\n",
              "        height: 32px;\n",
              "        padding: 0 0 0 0;\n",
              "        width: 32px;\n",
              "      }\n",
              "\n",
              "      .colab-df-generate:hover {\n",
              "        background-color: #E2EBFA;\n",
              "        box-shadow: 0px 1px 2px rgba(60, 64, 67, 0.3), 0px 1px 3px 1px rgba(60, 64, 67, 0.15);\n",
              "        fill: #174EA6;\n",
              "      }\n",
              "\n",
              "      [theme=dark] .colab-df-generate {\n",
              "        background-color: #3B4455;\n",
              "        fill: #D2E3FC;\n",
              "      }\n",
              "\n",
              "      [theme=dark] .colab-df-generate:hover {\n",
              "        background-color: #434B5C;\n",
              "        box-shadow: 0px 1px 3px 1px rgba(0, 0, 0, 0.15);\n",
              "        filter: drop-shadow(0px 1px 2px rgba(0, 0, 0, 0.3));\n",
              "        fill: #FFFFFF;\n",
              "      }\n",
              "    </style>\n",
              "    <button class=\"colab-df-generate\" onclick=\"generateWithVariable('hdfc_data')\"\n",
              "            title=\"Generate code using this dataframe.\"\n",
              "            style=\"display:none;\">\n",
              "\n",
              "  <svg xmlns=\"http://www.w3.org/2000/svg\" height=\"24px\"viewBox=\"0 0 24 24\"\n",
              "       width=\"24px\">\n",
              "    <path d=\"M7,19H8.4L18.45,9,17,7.55,7,17.6ZM5,21V16.75L18.45,3.32a2,2,0,0,1,2.83,0l1.4,1.43a1.91,1.91,0,0,1,.58,1.4,1.91,1.91,0,0,1-.58,1.4L9.25,21ZM18.45,9,17,7.55Zm-12,3A5.31,5.31,0,0,0,4.9,8.1,5.31,5.31,0,0,0,1,6.5,5.31,5.31,0,0,0,4.9,4.9,5.31,5.31,0,0,0,6.5,1,5.31,5.31,0,0,0,8.1,4.9,5.31,5.31,0,0,0,12,6.5,5.46,5.46,0,0,0,6.5,12Z\"/>\n",
              "  </svg>\n",
              "    </button>\n",
              "    <script>\n",
              "      (() => {\n",
              "      const buttonEl =\n",
              "        document.querySelector('#id_f3ce40eb-1912-4525-89b3-b30b1dee72d8 button.colab-df-generate');\n",
              "      buttonEl.style.display =\n",
              "        google.colab.kernel.accessAllowed ? 'block' : 'none';\n",
              "\n",
              "      buttonEl.onclick = () => {\n",
              "        google.colab.notebook.generateWithVariable('hdfc_data');\n",
              "      }\n",
              "      })();\n",
              "    </script>\n",
              "  </div>\n",
              "\n",
              "    </div>\n",
              "  </div>\n"
            ],
            "application/vnd.google.colaboratory.intrinsic+json": {
              "type": "dataframe",
              "variable_name": "hdfc_data",
              "summary": "{\n  \"name\": \"hdfc_data\",\n  \"rows\": 678,\n  \"fields\": [\n    {\n      \"column\": \"Date\",\n      \"properties\": {\n        \"dtype\": \"date\",\n        \"min\": \"2022-04-01 00:00:00\",\n        \"max\": \"2024-12-30 00:00:00\",\n        \"num_unique_values\": 677,\n        \"samples\": [\n          \"2024-11-13\",\n          \"2023-08-09\",\n          \"2022-07-04\"\n        ],\n        \"semantic_type\": \"\",\n        \"description\": \"\"\n      }\n    },\n    {\n      \"column\": \"Adj Close\",\n      \"properties\": {\n        \"dtype\": \"string\",\n        \"num_unique_values\": 664,\n        \"samples\": [\n          \"1613.4674072265625\",\n          \"1582.786376953125\",\n          \"1440.726318359375\"\n        ],\n        \"semantic_type\": \"\",\n        \"description\": \"\"\n      }\n    },\n    {\n      \"column\": \"Close\",\n      \"properties\": {\n        \"dtype\": \"string\",\n        \"num_unique_values\": 647,\n        \"samples\": [\n          \"1863.0999755859375\",\n          \"1614.199951171875\",\n          \"1679.1500244140625\"\n        ],\n        \"semantic_type\": \"\",\n        \"description\": \"\"\n      }\n    },\n    {\n      \"column\": \"High\",\n      \"properties\": {\n        \"dtype\": \"string\",\n        \"num_unique_values\": 617,\n        \"samples\": [\n          \"1315.800048828125\",\n          \"1771.5\",\n          \"1435.75\"\n        ],\n        \"semantic_type\": \"\",\n        \"description\": \"\"\n      }\n    },\n    {\n      \"column\": \"Low\",\n      \"properties\": {\n        \"dtype\": \"string\",\n        \"num_unique_values\": 628,\n        \"samples\": [\n          \"1710.699951171875\",\n          \"1697.9000244140625\",\n          \"1624.5999755859375\"\n        ],\n        \"semantic_type\": \"\",\n        \"description\": \"\"\n      }\n    },\n    {\n      \"column\": \"Open\",\n      \"properties\": {\n        \"dtype\": \"string\",\n        \"num_unique_values\": 579,\n        \"samples\": [\n          \"1648.0\",\n          \"1724.0\",\n          \"1822.699951171875\"\n        ],\n        \"semantic_type\": \"\",\n        \"description\": \"\"\n      }\n    },\n    {\n      \"column\": \"Volume\",\n      \"properties\": {\n        \"dtype\": \"string\",\n        \"num_unique_values\": 678,\n        \"samples\": [\n          \"15697703\",\n          \"21886914\",\n          \"5736226\"\n        ],\n        \"semantic_type\": \"\",\n        \"description\": \"\"\n      }\n    },\n    {\n      \"column\": \"quarter\",\n      \"properties\": {\n        \"dtype\": \"date\",\n        \"min\": \"2023-01-01 00:00:00\",\n        \"max\": \"2025-07-01 00:00:00\",\n        \"num_unique_values\": 11,\n        \"samples\": [\n          \"2024Q2\",\n          \"2023Q1\",\n          \"2025Q2\"\n        ],\n        \"semantic_type\": \"\",\n        \"description\": \"\"\n      }\n    },\n    {\n      \"column\": \"report_sentiment\",\n      \"properties\": {\n        \"dtype\": \"number\",\n        \"std\": 0.026636818851848293,\n        \"min\": 0.7262301925263362,\n        \"max\": 0.8209624915296988,\n        \"num_unique_values\": 11,\n        \"samples\": [\n          0.8209624915296988,\n          0.7262301925263362,\n          0.7421250070061316\n        ],\n        \"semantic_type\": \"\",\n        \"description\": \"\"\n      }\n    }\n  ]\n}"
            }
          },
          "metadata": {},
          "execution_count": 2
        }
      ]
    },
    {
      "cell_type": "code",
      "source": [
        "news_data= pd.read_csv(\"/content/NewsData.io_HDFC.csv\")\n",
        "news_data"
      ],
      "metadata": {
        "colab": {
          "base_uri": "https://localhost:8080/",
          "height": 1000
        },
        "id": "iNe7yILGwKFR",
        "outputId": "274fd148-0a1e-4ec8-8ab2-54d9f71166e8"
      },
      "execution_count": null,
      "outputs": [
        {
          "output_type": "execute_result",
          "data": {
            "text/plain": [
              "                              article_id  \\\n",
              "0     \"d649cd8b19f76d527019e8fce6796d61\"   \n",
              "1     \"3a06fd0f564756206409c45d2b562850\"   \n",
              "2     \"9b1a6b931f7edb318aa378ecd8af9372\"   \n",
              "3     \"9d85a0140edc0d0fcbc30c4c9b52ef19\"   \n",
              "4     \"46845e022609107653533bfd65d8d7bd\"   \n",
              "...                                  ...   \n",
              "4042  \"df21d5a023afb8c230d0aa8866031576\"   \n",
              "4043  \"5bf9b65f30875d455e02c978609a130e\"   \n",
              "4044  \"bd4d1bc3f9c22a2544ec0991f1f9dc1e\"   \n",
              "4045  \"4b9e97ad09cd36126f8be2d78826f439\"   \n",
              "4046  \"767f9b06e6f93dbdb8916a2e6ca68b7f\"   \n",
              "\n",
              "                                                  title  \\\n",
              "0     \"मुकेश अंबानी नहीं इन दिग्गजों का बजा डंका, शे...   \n",
              "1     \"Bank Holiday: ਕੀ ਭਲਕੇ 1 ਜਨਵਰੀ 2025 ਨੂੰ ਬੰਦ ਰਹ...   \n",
              "2     \"HDFC Bank Credit Cards: Key changes in reward...   \n",
              "3     \"Nifty Bank rejig today: SBI, HDFC Bank may wi...   \n",
              "4     \"Day Trading Guide For December 31, 2024: Intr...   \n",
              "...                                                 ...   \n",
              "4042  \"HDFC Bank Shares Continue To Fall: Here's Wha...   \n",
              "4043  \"HDFC Bank પર એનાલિસ્ટ્સને પૂરો ભરોસોઃ શેર 30%...   \n",
              "4044  \"HDFC बैंक की इस स्कीम से बिना गारंटी के दुकान...   \n",
              "4045  \"HDFC बैंक की दूर हुई तकनीकी समस्या, ग्राहक कर...   \n",
              "4046  \"HDFC Bank named India’s Best SME Bank at Asia...   \n",
              "\n",
              "                                                   link  \\\n",
              "0     \"https://www.tv9hindi.com/business/reliance-in...   \n",
              "1     \"https://punjab.news18.com/news/business/bank-...   \n",
              "2     \"https://www.livemint.com/money/personal-finan...   \n",
              "3     \"https://economictimes.indiatimes.com/markets/...   \n",
              "4     \"https://www.thehindubusinessline.com/portfoli...   \n",
              "...                                                 ...   \n",
              "4042  \"https://www.ndtv.com/business/hdfc-bank-share...   \n",
              "4043  \"https://www.iamgujarat.com/business/analysts-...   \n",
              "4044  \"https://www.naidunia.com/business/commodity-w...   \n",
              "4045  \"https://www.naidunia.com/business/commodity-h...   \n",
              "4046  \"https://thenortheasttoday.com/business/hdfc-b...   \n",
              "\n",
              "                                               keywords            creator  \\\n",
              "0                                                   NaN  \"TV9 Bharatvarsh\"   \n",
              "1                                            \"business\"   \"News18 Punjabi\"   \n",
              "2                                                   NaN                NaN   \n",
              "3                                                   NaN                NaN   \n",
              "4                                   \"day trading guide\"                NaN   \n",
              "...                                                 ...                ...   \n",
              "4042                                                NaN                NaN   \n",
              "4043                                                NaN                NaN   \n",
              "4044                                                NaN                NaN   \n",
              "4045                                                NaN                NaN   \n",
              "4046  \"business, current affairs, latest news, busin...                NaN   \n",
              "\n",
              "                                            description  \\\n",
              "0     \"देश की टॉप 10 कंपनियों के मार्केट कैप की बात ...   \n",
              "1     \"। ਛੁੱਟੀਆਂ ਦੌਰਾਨ ਨਕਦ ਜਾਂ ਹੋਰ ਬੈਂਕਿੰਗ ਲੋੜਾਂ ਲਈ,...   \n",
              "2     \"Credit cards: HDFC Bank introduced processing...   \n",
              "3     \"Nifty Bank index has been reshuffled. This ch...   \n",
              "4     \"Day Trading Guide gives you the key intraday ...   \n",
              "...                                                 ...   \n",
              "4042  \"Shares of HDFC Bank on Tuesday continued thei...   \n",
              "4043  \"HDFC બેન્કની એસેટ ક્વોલિટીની ચિંતા દૂર થઈઃ તમ...   \n",
              "4044  \"HDFC बैंक द्वारा 'दुकानदार ओवरड्राफ्ट योजना' ...   \n",
              "4045  \"शिकायत मिलने के बाद बैंक ने नेट बैंकिंग इस्ते...   \n",
              "4046  \"HDFC Bank named India’s Best SME Bank at Asia...   \n",
              "\n",
              "                                                content  \\\n",
              "0     \"साल 2024 खत्म हो चुका है. अगर शेयर बाजार की 1...   \n",
              "1     \"2025 ਦੀ ਸ਼ੁਰੂਆਤ ਦੇ ਨਾਲ ਕਈ ਬਦਲਾਅ ਲੋਕਾਂ ਦੇ ਜੀਵਨ...   \n",
              "2     \"In the last few months, several banks have ma...   \n",
              "3     \"The reshuffle The periodic rebalancing of Nif...   \n",
              "4     \"₹1778 • HDFC Bank S1 S2 R1 R2 COMMENT 1768 17...   \n",
              "...                                                 ...   \n",
              "4042  \"HDFC Bank fell 3.73 per cent to settle at Rs ...   \n",
              "4043  \"HDFC બેન્કની એસેટ ક્વોલિટીની ચિંતા દૂર થઈઃ તમ...   \n",
              "4044  \"देश में छोटे-छोटे दुकानदारों से लेकर बड़े-बड़...   \n",
              "4045  \"प्राइवेट क्षेत्र की सबसे बड़ी एचडीएफसी बैंक (...   \n",
              "4046  \"NEW DELHI: Housing Development Finance Corpor...   \n",
              "\n",
              "                    pubDate pubDateTZ  \\\n",
              "0     \"2024-12-31 17:13:49\"     \"UTC\"   \n",
              "1     \"2024-12-31 09:41:55\"     \"UTC\"   \n",
              "2     \"2024-12-31 07:53:58\"     \"UTC\"   \n",
              "3     \"2024-12-31 05:30:23\"     \"UTC\"   \n",
              "4     \"2024-12-31 00:30:00\"     \"UTC\"   \n",
              "...                     ...       ...   \n",
              "4042  \"2022-04-19 11:21:07\"     \"UTC\"   \n",
              "4043  \"2022-01-17 05:41:46\"     \"UTC\"   \n",
              "4044  \"2021-07-27 09:42:46\"     \"UTC\"   \n",
              "4045  \"2021-06-15 12:15:48\"     \"UTC\"   \n",
              "4046  \"2021-03-25 09:43:54\"     \"UTC\"   \n",
              "\n",
              "                                              image_url  ...  \\\n",
              "0     \"https://images.tv9hindi.com/wp-content/upload...  ...   \n",
              "1     \"https://images.news18.com/punjabi/uploads/202...  ...   \n",
              "2     \"https://www.livemint.com/lm-img/img/2024/12/3...  ...   \n",
              "3     \"https://img.etimg.com/thumb/msid-116818863,wi...  ...   \n",
              "4     \"https://bl-i.thgim.com/public/incoming/5krvnp...  ...   \n",
              "...                                                 ...  ...   \n",
              "4042  \"https://c.ndtvimg.com/2022-04/5c3sv48o_hdfc-b...  ...   \n",
              "4043  \"https://static.langimg.com/photo/imgsize-6527...  ...   \n",
              "4044  \"https://img.naidunia.com/naidunia/ndnimg/2707...  ...   \n",
              "4045  \"https://img.naidunia.com/naidunia/ndnimg/1506...  ...   \n",
              "4046  \"https://thenortheasttoday.com/static/c1e/clie...  ...   \n",
              "\n",
              "                                  source_url  \\\n",
              "0                 \"https://www.tv9hindi.com\"   \n",
              "1                \"https://punjab.news18.com\"   \n",
              "2                 \"https://www.livemint.com\"   \n",
              "3     \"https://economictimes.indiatimes.com\"   \n",
              "4     \"https://www.thehindubusinessline.com\"   \n",
              "...                                      ...   \n",
              "4042                   \"http://www.ndtv.com\"   \n",
              "4043            \"https://www.iamgujarat.com\"   \n",
              "4044              \"https://www.naidunia.com\"   \n",
              "4045              \"https://www.naidunia.com\"   \n",
              "4046                                     NaN   \n",
              "\n",
              "                                            source_icon    language  country  \\\n",
              "0     \"https://i.bytvi.com/domain_icons/tv9bharatvar...     \"hindi\"  \"india\"   \n",
              "1     \"https://i.bytvi.com/domain_icons/punjab_news1...   \"punjabi\"  \"india\"   \n",
              "2       \"https://i.bytvi.com/domain_icons/livemint.png\"   \"english\"  \"india\"   \n",
              "3     \"https://i.bytvi.com/domain_icons/economictime...   \"english\"  \"india\"   \n",
              "4     \"https://i.bytvi.com/domain_icons/thehindubusi...   \"english\"  \"india\"   \n",
              "...                                                 ...         ...      ...   \n",
              "4042        \"https://i.bytvi.com/domain_icons/ndtv.png\"   \"english\"  \"india\"   \n",
              "4043  \"https://i.bytvi.com/domain_icons/iamgujarat.png\"  \"gujarati\"  \"india\"   \n",
              "4044    \"https://i.bytvi.com/domain_icons/naidunia.png\"     \"hindi\"  \"india\"   \n",
              "4045    \"https://i.bytvi.com/domain_icons/naidunia.png\"     \"hindi\"  \"india\"   \n",
              "4046  \"https://i.bytvi.com/domain_icons/thenortheast...   \"english\"  \"india\"   \n",
              "\n",
              "        category  sentiment                              sentiment_stats  \\\n",
              "0     \"business\"  \"neutral\"  \"positive:0.23,neutral:99.52,negative:0.25\"   \n",
              "1     \"business\"  \"neutral\"  \"positive:0.12,neutral:99.73,negative:0.15\"   \n",
              "2     \"business\"  \"neutral\"  \"positive:0.11,neutral:99.78,negative:0.11\"   \n",
              "3     \"business\"  \"neutral\"  \"positive:0.45,neutral:99.43,negative:0.12\"   \n",
              "4     \"business\"  \"neutral\"    \"positive:0.11,neutral:99.8,negative:0.1\"   \n",
              "...          ...        ...                                          ...   \n",
              "4042  \"business\"        NaN                                          NaN   \n",
              "4043  \"business\"  \"neutral\"  \"positive:0.38,neutral:99.43,negative:0.19\"   \n",
              "4044  \"business\"  \"neutral\"  \"positive:5.44,neutral:94.25,negative:0.31\"   \n",
              "4045  \"business\"  \"neutral\"     \"positive:0.2,neutral:99.6,negative:0.2\"   \n",
              "4046  \"business\"  \"neutral\"  \"positive:0.22,neutral:99.65,negative:0.13\"   \n",
              "\n",
              "                                       ai_tag  \\\n",
              "0                   \"awards and recognitions\"   \n",
              "1                   \"awards and recognitions\"   \n",
              "2                       \"banking and finance\"   \n",
              "3                       \"banking and finance\"   \n",
              "4                         \"financial markets\"   \n",
              "...                                       ...   \n",
              "4042                                      NaN   \n",
              "4043  \"banking and finance,financial markets\"   \n",
              "4044                    \"banking and finance\"   \n",
              "4045                    \"banking and finance\"   \n",
              "4046                    \"banking and finance\"   \n",
              "\n",
              "                                    ai_region  \\\n",
              "0                                         NaN   \n",
              "1                                         NaN   \n",
              "2                                         NaN   \n",
              "3                                         NaN   \n",
              "4                                         NaN   \n",
              "...                                       ...   \n",
              "4042                                      NaN   \n",
              "4043                                      NaN   \n",
              "4044                                      NaN   \n",
              "4045                                      NaN   \n",
              "4046  \"india,asia,new delhi,delhi,india,asia\"   \n",
              "\n",
              "                                 ai_org  \n",
              "0                                   NaN  \n",
              "1                                   NaN  \n",
              "2                           \"hdfc bank\"  \n",
              "3            \"nifty bank,sbi,hdfc bank\"  \n",
              "4     \"day trading guide,nifty futures\"  \n",
              "...                                 ...  \n",
              "4042                                NaN  \n",
              "4043                        \"hdfc bank\"  \n",
              "4044                                NaN  \n",
              "4045                                NaN  \n",
              "4046                                NaN  \n",
              "\n",
              "[4047 rows x 24 columns]"
            ],
            "text/html": [
              "\n",
              "  <div id=\"df-9e97fc10-ef1a-4209-b3a6-94e576af402b\" class=\"colab-df-container\">\n",
              "    <div>\n",
              "<style scoped>\n",
              "    .dataframe tbody tr th:only-of-type {\n",
              "        vertical-align: middle;\n",
              "    }\n",
              "\n",
              "    .dataframe tbody tr th {\n",
              "        vertical-align: top;\n",
              "    }\n",
              "\n",
              "    .dataframe thead th {\n",
              "        text-align: right;\n",
              "    }\n",
              "</style>\n",
              "<table border=\"1\" class=\"dataframe\">\n",
              "  <thead>\n",
              "    <tr style=\"text-align: right;\">\n",
              "      <th></th>\n",
              "      <th>article_id</th>\n",
              "      <th>title</th>\n",
              "      <th>link</th>\n",
              "      <th>keywords</th>\n",
              "      <th>creator</th>\n",
              "      <th>description</th>\n",
              "      <th>content</th>\n",
              "      <th>pubDate</th>\n",
              "      <th>pubDateTZ</th>\n",
              "      <th>image_url</th>\n",
              "      <th>...</th>\n",
              "      <th>source_url</th>\n",
              "      <th>source_icon</th>\n",
              "      <th>language</th>\n",
              "      <th>country</th>\n",
              "      <th>category</th>\n",
              "      <th>sentiment</th>\n",
              "      <th>sentiment_stats</th>\n",
              "      <th>ai_tag</th>\n",
              "      <th>ai_region</th>\n",
              "      <th>ai_org</th>\n",
              "    </tr>\n",
              "  </thead>\n",
              "  <tbody>\n",
              "    <tr>\n",
              "      <th>0</th>\n",
              "      <td>\"d649cd8b19f76d527019e8fce6796d61\"</td>\n",
              "      <td>\"मुकेश अंबानी नहीं इन दिग्गजों का बजा डंका, शे...</td>\n",
              "      <td>\"https://www.tv9hindi.com/business/reliance-in...</td>\n",
              "      <td>NaN</td>\n",
              "      <td>\"TV9 Bharatvarsh\"</td>\n",
              "      <td>\"देश की टॉप 10 कंपनियों के मार्केट कैप की बात ...</td>\n",
              "      <td>\"साल 2024 खत्म हो चुका है. अगर शेयर बाजार की 1...</td>\n",
              "      <td>\"2024-12-31 17:13:49\"</td>\n",
              "      <td>\"UTC\"</td>\n",
              "      <td>\"https://images.tv9hindi.com/wp-content/upload...</td>\n",
              "      <td>...</td>\n",
              "      <td>\"https://www.tv9hindi.com\"</td>\n",
              "      <td>\"https://i.bytvi.com/domain_icons/tv9bharatvar...</td>\n",
              "      <td>\"hindi\"</td>\n",
              "      <td>\"india\"</td>\n",
              "      <td>\"business\"</td>\n",
              "      <td>\"neutral\"</td>\n",
              "      <td>\"positive:0.23,neutral:99.52,negative:0.25\"</td>\n",
              "      <td>\"awards and recognitions\"</td>\n",
              "      <td>NaN</td>\n",
              "      <td>NaN</td>\n",
              "    </tr>\n",
              "    <tr>\n",
              "      <th>1</th>\n",
              "      <td>\"3a06fd0f564756206409c45d2b562850\"</td>\n",
              "      <td>\"Bank Holiday: ਕੀ ਭਲਕੇ 1 ਜਨਵਰੀ 2025 ਨੂੰ ਬੰਦ ਰਹ...</td>\n",
              "      <td>\"https://punjab.news18.com/news/business/bank-...</td>\n",
              "      <td>\"business\"</td>\n",
              "      <td>\"News18 Punjabi\"</td>\n",
              "      <td>\"। ਛੁੱਟੀਆਂ ਦੌਰਾਨ ਨਕਦ ਜਾਂ ਹੋਰ ਬੈਂਕਿੰਗ ਲੋੜਾਂ ਲਈ,...</td>\n",
              "      <td>\"2025 ਦੀ ਸ਼ੁਰੂਆਤ ਦੇ ਨਾਲ ਕਈ ਬਦਲਾਅ ਲੋਕਾਂ ਦੇ ਜੀਵਨ...</td>\n",
              "      <td>\"2024-12-31 09:41:55\"</td>\n",
              "      <td>\"UTC\"</td>\n",
              "      <td>\"https://images.news18.com/punjabi/uploads/202...</td>\n",
              "      <td>...</td>\n",
              "      <td>\"https://punjab.news18.com\"</td>\n",
              "      <td>\"https://i.bytvi.com/domain_icons/punjab_news1...</td>\n",
              "      <td>\"punjabi\"</td>\n",
              "      <td>\"india\"</td>\n",
              "      <td>\"business\"</td>\n",
              "      <td>\"neutral\"</td>\n",
              "      <td>\"positive:0.12,neutral:99.73,negative:0.15\"</td>\n",
              "      <td>\"awards and recognitions\"</td>\n",
              "      <td>NaN</td>\n",
              "      <td>NaN</td>\n",
              "    </tr>\n",
              "    <tr>\n",
              "      <th>2</th>\n",
              "      <td>\"9b1a6b931f7edb318aa378ecd8af9372\"</td>\n",
              "      <td>\"HDFC Bank Credit Cards: Key changes in reward...</td>\n",
              "      <td>\"https://www.livemint.com/money/personal-finan...</td>\n",
              "      <td>NaN</td>\n",
              "      <td>NaN</td>\n",
              "      <td>\"Credit cards: HDFC Bank introduced processing...</td>\n",
              "      <td>\"In the last few months, several banks have ma...</td>\n",
              "      <td>\"2024-12-31 07:53:58\"</td>\n",
              "      <td>\"UTC\"</td>\n",
              "      <td>\"https://www.livemint.com/lm-img/img/2024/12/3...</td>\n",
              "      <td>...</td>\n",
              "      <td>\"https://www.livemint.com\"</td>\n",
              "      <td>\"https://i.bytvi.com/domain_icons/livemint.png\"</td>\n",
              "      <td>\"english\"</td>\n",
              "      <td>\"india\"</td>\n",
              "      <td>\"business\"</td>\n",
              "      <td>\"neutral\"</td>\n",
              "      <td>\"positive:0.11,neutral:99.78,negative:0.11\"</td>\n",
              "      <td>\"banking and finance\"</td>\n",
              "      <td>NaN</td>\n",
              "      <td>\"hdfc bank\"</td>\n",
              "    </tr>\n",
              "    <tr>\n",
              "      <th>3</th>\n",
              "      <td>\"9d85a0140edc0d0fcbc30c4c9b52ef19\"</td>\n",
              "      <td>\"Nifty Bank rejig today: SBI, HDFC Bank may wi...</td>\n",
              "      <td>\"https://economictimes.indiatimes.com/markets/...</td>\n",
              "      <td>NaN</td>\n",
              "      <td>NaN</td>\n",
              "      <td>\"Nifty Bank index has been reshuffled. This ch...</td>\n",
              "      <td>\"The reshuffle The periodic rebalancing of Nif...</td>\n",
              "      <td>\"2024-12-31 05:30:23\"</td>\n",
              "      <td>\"UTC\"</td>\n",
              "      <td>\"https://img.etimg.com/thumb/msid-116818863,wi...</td>\n",
              "      <td>...</td>\n",
              "      <td>\"https://economictimes.indiatimes.com\"</td>\n",
              "      <td>\"https://i.bytvi.com/domain_icons/economictime...</td>\n",
              "      <td>\"english\"</td>\n",
              "      <td>\"india\"</td>\n",
              "      <td>\"business\"</td>\n",
              "      <td>\"neutral\"</td>\n",
              "      <td>\"positive:0.45,neutral:99.43,negative:0.12\"</td>\n",
              "      <td>\"banking and finance\"</td>\n",
              "      <td>NaN</td>\n",
              "      <td>\"nifty bank,sbi,hdfc bank\"</td>\n",
              "    </tr>\n",
              "    <tr>\n",
              "      <th>4</th>\n",
              "      <td>\"46845e022609107653533bfd65d8d7bd\"</td>\n",
              "      <td>\"Day Trading Guide For December 31, 2024: Intr...</td>\n",
              "      <td>\"https://www.thehindubusinessline.com/portfoli...</td>\n",
              "      <td>\"day trading guide\"</td>\n",
              "      <td>NaN</td>\n",
              "      <td>\"Day Trading Guide gives you the key intraday ...</td>\n",
              "      <td>\"₹1778 • HDFC Bank S1 S2 R1 R2 COMMENT 1768 17...</td>\n",
              "      <td>\"2024-12-31 00:30:00\"</td>\n",
              "      <td>\"UTC\"</td>\n",
              "      <td>\"https://bl-i.thgim.com/public/incoming/5krvnp...</td>\n",
              "      <td>...</td>\n",
              "      <td>\"https://www.thehindubusinessline.com\"</td>\n",
              "      <td>\"https://i.bytvi.com/domain_icons/thehindubusi...</td>\n",
              "      <td>\"english\"</td>\n",
              "      <td>\"india\"</td>\n",
              "      <td>\"business\"</td>\n",
              "      <td>\"neutral\"</td>\n",
              "      <td>\"positive:0.11,neutral:99.8,negative:0.1\"</td>\n",
              "      <td>\"financial markets\"</td>\n",
              "      <td>NaN</td>\n",
              "      <td>\"day trading guide,nifty futures\"</td>\n",
              "    </tr>\n",
              "    <tr>\n",
              "      <th>...</th>\n",
              "      <td>...</td>\n",
              "      <td>...</td>\n",
              "      <td>...</td>\n",
              "      <td>...</td>\n",
              "      <td>...</td>\n",
              "      <td>...</td>\n",
              "      <td>...</td>\n",
              "      <td>...</td>\n",
              "      <td>...</td>\n",
              "      <td>...</td>\n",
              "      <td>...</td>\n",
              "      <td>...</td>\n",
              "      <td>...</td>\n",
              "      <td>...</td>\n",
              "      <td>...</td>\n",
              "      <td>...</td>\n",
              "      <td>...</td>\n",
              "      <td>...</td>\n",
              "      <td>...</td>\n",
              "      <td>...</td>\n",
              "      <td>...</td>\n",
              "    </tr>\n",
              "    <tr>\n",
              "      <th>4042</th>\n",
              "      <td>\"df21d5a023afb8c230d0aa8866031576\"</td>\n",
              "      <td>\"HDFC Bank Shares Continue To Fall: Here's Wha...</td>\n",
              "      <td>\"https://www.ndtv.com/business/hdfc-bank-share...</td>\n",
              "      <td>NaN</td>\n",
              "      <td>NaN</td>\n",
              "      <td>\"Shares of HDFC Bank on Tuesday continued thei...</td>\n",
              "      <td>\"HDFC Bank fell 3.73 per cent to settle at Rs ...</td>\n",
              "      <td>\"2022-04-19 11:21:07\"</td>\n",
              "      <td>\"UTC\"</td>\n",
              "      <td>\"https://c.ndtvimg.com/2022-04/5c3sv48o_hdfc-b...</td>\n",
              "      <td>...</td>\n",
              "      <td>\"http://www.ndtv.com\"</td>\n",
              "      <td>\"https://i.bytvi.com/domain_icons/ndtv.png\"</td>\n",
              "      <td>\"english\"</td>\n",
              "      <td>\"india\"</td>\n",
              "      <td>\"business\"</td>\n",
              "      <td>NaN</td>\n",
              "      <td>NaN</td>\n",
              "      <td>NaN</td>\n",
              "      <td>NaN</td>\n",
              "      <td>NaN</td>\n",
              "    </tr>\n",
              "    <tr>\n",
              "      <th>4043</th>\n",
              "      <td>\"5bf9b65f30875d455e02c978609a130e\"</td>\n",
              "      <td>\"HDFC Bank પર એનાલિસ્ટ્સને પૂરો ભરોસોઃ શેર 30%...</td>\n",
              "      <td>\"https://www.iamgujarat.com/business/analysts-...</td>\n",
              "      <td>NaN</td>\n",
              "      <td>NaN</td>\n",
              "      <td>\"HDFC બેન્કની એસેટ ક્વોલિટીની ચિંતા દૂર થઈઃ તમ...</td>\n",
              "      <td>\"HDFC બેન્કની એસેટ ક્વોલિટીની ચિંતા દૂર થઈઃ તમ...</td>\n",
              "      <td>\"2022-01-17 05:41:46\"</td>\n",
              "      <td>\"UTC\"</td>\n",
              "      <td>\"https://static.langimg.com/photo/imgsize-6527...</td>\n",
              "      <td>...</td>\n",
              "      <td>\"https://www.iamgujarat.com\"</td>\n",
              "      <td>\"https://i.bytvi.com/domain_icons/iamgujarat.png\"</td>\n",
              "      <td>\"gujarati\"</td>\n",
              "      <td>\"india\"</td>\n",
              "      <td>\"business\"</td>\n",
              "      <td>\"neutral\"</td>\n",
              "      <td>\"positive:0.38,neutral:99.43,negative:0.19\"</td>\n",
              "      <td>\"banking and finance,financial markets\"</td>\n",
              "      <td>NaN</td>\n",
              "      <td>\"hdfc bank\"</td>\n",
              "    </tr>\n",
              "    <tr>\n",
              "      <th>4044</th>\n",
              "      <td>\"bd4d1bc3f9c22a2544ec0991f1f9dc1e\"</td>\n",
              "      <td>\"HDFC बैंक की इस स्कीम से बिना गारंटी के दुकान...</td>\n",
              "      <td>\"https://www.naidunia.com/business/commodity-w...</td>\n",
              "      <td>NaN</td>\n",
              "      <td>NaN</td>\n",
              "      <td>\"HDFC बैंक द्वारा 'दुकानदार ओवरड्राफ्ट योजना' ...</td>\n",
              "      <td>\"देश में छोटे-छोटे दुकानदारों से लेकर बड़े-बड़...</td>\n",
              "      <td>\"2021-07-27 09:42:46\"</td>\n",
              "      <td>\"UTC\"</td>\n",
              "      <td>\"https://img.naidunia.com/naidunia/ndnimg/2707...</td>\n",
              "      <td>...</td>\n",
              "      <td>\"https://www.naidunia.com\"</td>\n",
              "      <td>\"https://i.bytvi.com/domain_icons/naidunia.png\"</td>\n",
              "      <td>\"hindi\"</td>\n",
              "      <td>\"india\"</td>\n",
              "      <td>\"business\"</td>\n",
              "      <td>\"neutral\"</td>\n",
              "      <td>\"positive:5.44,neutral:94.25,negative:0.31\"</td>\n",
              "      <td>\"banking and finance\"</td>\n",
              "      <td>NaN</td>\n",
              "      <td>NaN</td>\n",
              "    </tr>\n",
              "    <tr>\n",
              "      <th>4045</th>\n",
              "      <td>\"4b9e97ad09cd36126f8be2d78826f439\"</td>\n",
              "      <td>\"HDFC बैंक की दूर हुई तकनीकी समस्या, ग्राहक कर...</td>\n",
              "      <td>\"https://www.naidunia.com/business/commodity-h...</td>\n",
              "      <td>NaN</td>\n",
              "      <td>NaN</td>\n",
              "      <td>\"शिकायत मिलने के बाद बैंक ने नेट बैंकिंग इस्ते...</td>\n",
              "      <td>\"प्राइवेट क्षेत्र की सबसे बड़ी एचडीएफसी बैंक (...</td>\n",
              "      <td>\"2021-06-15 12:15:48\"</td>\n",
              "      <td>\"UTC\"</td>\n",
              "      <td>\"https://img.naidunia.com/naidunia/ndnimg/1506...</td>\n",
              "      <td>...</td>\n",
              "      <td>\"https://www.naidunia.com\"</td>\n",
              "      <td>\"https://i.bytvi.com/domain_icons/naidunia.png\"</td>\n",
              "      <td>\"hindi\"</td>\n",
              "      <td>\"india\"</td>\n",
              "      <td>\"business\"</td>\n",
              "      <td>\"neutral\"</td>\n",
              "      <td>\"positive:0.2,neutral:99.6,negative:0.2\"</td>\n",
              "      <td>\"banking and finance\"</td>\n",
              "      <td>NaN</td>\n",
              "      <td>NaN</td>\n",
              "    </tr>\n",
              "    <tr>\n",
              "      <th>4046</th>\n",
              "      <td>\"767f9b06e6f93dbdb8916a2e6ca68b7f\"</td>\n",
              "      <td>\"HDFC Bank named India’s Best SME Bank at Asia...</td>\n",
              "      <td>\"https://thenortheasttoday.com/business/hdfc-b...</td>\n",
              "      <td>\"business, current affairs, latest news, busin...</td>\n",
              "      <td>NaN</td>\n",
              "      <td>\"HDFC Bank named India’s Best SME Bank at Asia...</td>\n",
              "      <td>\"NEW DELHI: Housing Development Finance Corpor...</td>\n",
              "      <td>\"2021-03-25 09:43:54\"</td>\n",
              "      <td>\"UTC\"</td>\n",
              "      <td>\"https://thenortheasttoday.com/static/c1e/clie...</td>\n",
              "      <td>...</td>\n",
              "      <td>NaN</td>\n",
              "      <td>\"https://i.bytvi.com/domain_icons/thenortheast...</td>\n",
              "      <td>\"english\"</td>\n",
              "      <td>\"india\"</td>\n",
              "      <td>\"business\"</td>\n",
              "      <td>\"neutral\"</td>\n",
              "      <td>\"positive:0.22,neutral:99.65,negative:0.13\"</td>\n",
              "      <td>\"banking and finance\"</td>\n",
              "      <td>\"india,asia,new delhi,delhi,india,asia\"</td>\n",
              "      <td>NaN</td>\n",
              "    </tr>\n",
              "  </tbody>\n",
              "</table>\n",
              "<p>4047 rows × 24 columns</p>\n",
              "</div>\n",
              "    <div class=\"colab-df-buttons\">\n",
              "\n",
              "  <div class=\"colab-df-container\">\n",
              "    <button class=\"colab-df-convert\" onclick=\"convertToInteractive('df-9e97fc10-ef1a-4209-b3a6-94e576af402b')\"\n",
              "            title=\"Convert this dataframe to an interactive table.\"\n",
              "            style=\"display:none;\">\n",
              "\n",
              "  <svg xmlns=\"http://www.w3.org/2000/svg\" height=\"24px\" viewBox=\"0 -960 960 960\">\n",
              "    <path d=\"M120-120v-720h720v720H120Zm60-500h600v-160H180v160Zm220 220h160v-160H400v160Zm0 220h160v-160H400v160ZM180-400h160v-160H180v160Zm440 0h160v-160H620v160ZM180-180h160v-160H180v160Zm440 0h160v-160H620v160Z\"/>\n",
              "  </svg>\n",
              "    </button>\n",
              "\n",
              "  <style>\n",
              "    .colab-df-container {\n",
              "      display:flex;\n",
              "      gap: 12px;\n",
              "    }\n",
              "\n",
              "    .colab-df-convert {\n",
              "      background-color: #E8F0FE;\n",
              "      border: none;\n",
              "      border-radius: 50%;\n",
              "      cursor: pointer;\n",
              "      display: none;\n",
              "      fill: #1967D2;\n",
              "      height: 32px;\n",
              "      padding: 0 0 0 0;\n",
              "      width: 32px;\n",
              "    }\n",
              "\n",
              "    .colab-df-convert:hover {\n",
              "      background-color: #E2EBFA;\n",
              "      box-shadow: 0px 1px 2px rgba(60, 64, 67, 0.3), 0px 1px 3px 1px rgba(60, 64, 67, 0.15);\n",
              "      fill: #174EA6;\n",
              "    }\n",
              "\n",
              "    .colab-df-buttons div {\n",
              "      margin-bottom: 4px;\n",
              "    }\n",
              "\n",
              "    [theme=dark] .colab-df-convert {\n",
              "      background-color: #3B4455;\n",
              "      fill: #D2E3FC;\n",
              "    }\n",
              "\n",
              "    [theme=dark] .colab-df-convert:hover {\n",
              "      background-color: #434B5C;\n",
              "      box-shadow: 0px 1px 3px 1px rgba(0, 0, 0, 0.15);\n",
              "      filter: drop-shadow(0px 1px 2px rgba(0, 0, 0, 0.3));\n",
              "      fill: #FFFFFF;\n",
              "    }\n",
              "  </style>\n",
              "\n",
              "    <script>\n",
              "      const buttonEl =\n",
              "        document.querySelector('#df-9e97fc10-ef1a-4209-b3a6-94e576af402b button.colab-df-convert');\n",
              "      buttonEl.style.display =\n",
              "        google.colab.kernel.accessAllowed ? 'block' : 'none';\n",
              "\n",
              "      async function convertToInteractive(key) {\n",
              "        const element = document.querySelector('#df-9e97fc10-ef1a-4209-b3a6-94e576af402b');\n",
              "        const dataTable =\n",
              "          await google.colab.kernel.invokeFunction('convertToInteractive',\n",
              "                                                    [key], {});\n",
              "        if (!dataTable) return;\n",
              "\n",
              "        const docLinkHtml = 'Like what you see? Visit the ' +\n",
              "          '<a target=\"_blank\" href=https://colab.research.google.com/notebooks/data_table.ipynb>data table notebook</a>'\n",
              "          + ' to learn more about interactive tables.';\n",
              "        element.innerHTML = '';\n",
              "        dataTable['output_type'] = 'display_data';\n",
              "        await google.colab.output.renderOutput(dataTable, element);\n",
              "        const docLink = document.createElement('div');\n",
              "        docLink.innerHTML = docLinkHtml;\n",
              "        element.appendChild(docLink);\n",
              "      }\n",
              "    </script>\n",
              "  </div>\n",
              "\n",
              "\n",
              "    <div id=\"df-01532251-adbd-4ec1-8698-256146629aa5\">\n",
              "      <button class=\"colab-df-quickchart\" onclick=\"quickchart('df-01532251-adbd-4ec1-8698-256146629aa5')\"\n",
              "                title=\"Suggest charts\"\n",
              "                style=\"display:none;\">\n",
              "\n",
              "<svg xmlns=\"http://www.w3.org/2000/svg\" height=\"24px\"viewBox=\"0 0 24 24\"\n",
              "     width=\"24px\">\n",
              "    <g>\n",
              "        <path d=\"M19 3H5c-1.1 0-2 .9-2 2v14c0 1.1.9 2 2 2h14c1.1 0 2-.9 2-2V5c0-1.1-.9-2-2-2zM9 17H7v-7h2v7zm4 0h-2V7h2v10zm4 0h-2v-4h2v4z\"/>\n",
              "    </g>\n",
              "</svg>\n",
              "      </button>\n",
              "\n",
              "<style>\n",
              "  .colab-df-quickchart {\n",
              "      --bg-color: #E8F0FE;\n",
              "      --fill-color: #1967D2;\n",
              "      --hover-bg-color: #E2EBFA;\n",
              "      --hover-fill-color: #174EA6;\n",
              "      --disabled-fill-color: #AAA;\n",
              "      --disabled-bg-color: #DDD;\n",
              "  }\n",
              "\n",
              "  [theme=dark] .colab-df-quickchart {\n",
              "      --bg-color: #3B4455;\n",
              "      --fill-color: #D2E3FC;\n",
              "      --hover-bg-color: #434B5C;\n",
              "      --hover-fill-color: #FFFFFF;\n",
              "      --disabled-bg-color: #3B4455;\n",
              "      --disabled-fill-color: #666;\n",
              "  }\n",
              "\n",
              "  .colab-df-quickchart {\n",
              "    background-color: var(--bg-color);\n",
              "    border: none;\n",
              "    border-radius: 50%;\n",
              "    cursor: pointer;\n",
              "    display: none;\n",
              "    fill: var(--fill-color);\n",
              "    height: 32px;\n",
              "    padding: 0;\n",
              "    width: 32px;\n",
              "  }\n",
              "\n",
              "  .colab-df-quickchart:hover {\n",
              "    background-color: var(--hover-bg-color);\n",
              "    box-shadow: 0 1px 2px rgba(60, 64, 67, 0.3), 0 1px 3px 1px rgba(60, 64, 67, 0.15);\n",
              "    fill: var(--button-hover-fill-color);\n",
              "  }\n",
              "\n",
              "  .colab-df-quickchart-complete:disabled,\n",
              "  .colab-df-quickchart-complete:disabled:hover {\n",
              "    background-color: var(--disabled-bg-color);\n",
              "    fill: var(--disabled-fill-color);\n",
              "    box-shadow: none;\n",
              "  }\n",
              "\n",
              "  .colab-df-spinner {\n",
              "    border: 2px solid var(--fill-color);\n",
              "    border-color: transparent;\n",
              "    border-bottom-color: var(--fill-color);\n",
              "    animation:\n",
              "      spin 1s steps(1) infinite;\n",
              "  }\n",
              "\n",
              "  @keyframes spin {\n",
              "    0% {\n",
              "      border-color: transparent;\n",
              "      border-bottom-color: var(--fill-color);\n",
              "      border-left-color: var(--fill-color);\n",
              "    }\n",
              "    20% {\n",
              "      border-color: transparent;\n",
              "      border-left-color: var(--fill-color);\n",
              "      border-top-color: var(--fill-color);\n",
              "    }\n",
              "    30% {\n",
              "      border-color: transparent;\n",
              "      border-left-color: var(--fill-color);\n",
              "      border-top-color: var(--fill-color);\n",
              "      border-right-color: var(--fill-color);\n",
              "    }\n",
              "    40% {\n",
              "      border-color: transparent;\n",
              "      border-right-color: var(--fill-color);\n",
              "      border-top-color: var(--fill-color);\n",
              "    }\n",
              "    60% {\n",
              "      border-color: transparent;\n",
              "      border-right-color: var(--fill-color);\n",
              "    }\n",
              "    80% {\n",
              "      border-color: transparent;\n",
              "      border-right-color: var(--fill-color);\n",
              "      border-bottom-color: var(--fill-color);\n",
              "    }\n",
              "    90% {\n",
              "      border-color: transparent;\n",
              "      border-bottom-color: var(--fill-color);\n",
              "    }\n",
              "  }\n",
              "</style>\n",
              "\n",
              "      <script>\n",
              "        async function quickchart(key) {\n",
              "          const quickchartButtonEl =\n",
              "            document.querySelector('#' + key + ' button');\n",
              "          quickchartButtonEl.disabled = true;  // To prevent multiple clicks.\n",
              "          quickchartButtonEl.classList.add('colab-df-spinner');\n",
              "          try {\n",
              "            const charts = await google.colab.kernel.invokeFunction(\n",
              "                'suggestCharts', [key], {});\n",
              "          } catch (error) {\n",
              "            console.error('Error during call to suggestCharts:', error);\n",
              "          }\n",
              "          quickchartButtonEl.classList.remove('colab-df-spinner');\n",
              "          quickchartButtonEl.classList.add('colab-df-quickchart-complete');\n",
              "        }\n",
              "        (() => {\n",
              "          let quickchartButtonEl =\n",
              "            document.querySelector('#df-01532251-adbd-4ec1-8698-256146629aa5 button');\n",
              "          quickchartButtonEl.style.display =\n",
              "            google.colab.kernel.accessAllowed ? 'block' : 'none';\n",
              "        })();\n",
              "      </script>\n",
              "    </div>\n",
              "\n",
              "  <div id=\"id_c5637e2a-13f0-4836-b151-9d0e456f67ec\">\n",
              "    <style>\n",
              "      .colab-df-generate {\n",
              "        background-color: #E8F0FE;\n",
              "        border: none;\n",
              "        border-radius: 50%;\n",
              "        cursor: pointer;\n",
              "        display: none;\n",
              "        fill: #1967D2;\n",
              "        height: 32px;\n",
              "        padding: 0 0 0 0;\n",
              "        width: 32px;\n",
              "      }\n",
              "\n",
              "      .colab-df-generate:hover {\n",
              "        background-color: #E2EBFA;\n",
              "        box-shadow: 0px 1px 2px rgba(60, 64, 67, 0.3), 0px 1px 3px 1px rgba(60, 64, 67, 0.15);\n",
              "        fill: #174EA6;\n",
              "      }\n",
              "\n",
              "      [theme=dark] .colab-df-generate {\n",
              "        background-color: #3B4455;\n",
              "        fill: #D2E3FC;\n",
              "      }\n",
              "\n",
              "      [theme=dark] .colab-df-generate:hover {\n",
              "        background-color: #434B5C;\n",
              "        box-shadow: 0px 1px 3px 1px rgba(0, 0, 0, 0.15);\n",
              "        filter: drop-shadow(0px 1px 2px rgba(0, 0, 0, 0.3));\n",
              "        fill: #FFFFFF;\n",
              "      }\n",
              "    </style>\n",
              "    <button class=\"colab-df-generate\" onclick=\"generateWithVariable('news_data')\"\n",
              "            title=\"Generate code using this dataframe.\"\n",
              "            style=\"display:none;\">\n",
              "\n",
              "  <svg xmlns=\"http://www.w3.org/2000/svg\" height=\"24px\"viewBox=\"0 0 24 24\"\n",
              "       width=\"24px\">\n",
              "    <path d=\"M7,19H8.4L18.45,9,17,7.55,7,17.6ZM5,21V16.75L18.45,3.32a2,2,0,0,1,2.83,0l1.4,1.43a1.91,1.91,0,0,1,.58,1.4,1.91,1.91,0,0,1-.58,1.4L9.25,21ZM18.45,9,17,7.55Zm-12,3A5.31,5.31,0,0,0,4.9,8.1,5.31,5.31,0,0,0,1,6.5,5.31,5.31,0,0,0,4.9,4.9,5.31,5.31,0,0,0,6.5,1,5.31,5.31,0,0,0,8.1,4.9,5.31,5.31,0,0,0,12,6.5,5.46,5.46,0,0,0,6.5,12Z\"/>\n",
              "  </svg>\n",
              "    </button>\n",
              "    <script>\n",
              "      (() => {\n",
              "      const buttonEl =\n",
              "        document.querySelector('#id_c5637e2a-13f0-4836-b151-9d0e456f67ec button.colab-df-generate');\n",
              "      buttonEl.style.display =\n",
              "        google.colab.kernel.accessAllowed ? 'block' : 'none';\n",
              "\n",
              "      buttonEl.onclick = () => {\n",
              "        google.colab.notebook.generateWithVariable('news_data');\n",
              "      }\n",
              "      })();\n",
              "    </script>\n",
              "  </div>\n",
              "\n",
              "    </div>\n",
              "  </div>\n"
            ],
            "application/vnd.google.colaboratory.intrinsic+json": {
              "type": "dataframe",
              "variable_name": "news_data"
            }
          },
          "metadata": {},
          "execution_count": 3
        }
      ]
    },
    {
      "cell_type": "code",
      "source": [
        "# From 2022-04-01 to 2024-12-30\n",
        "\n",
        "news_data[\"pubDate\"]"
      ],
      "metadata": {
        "colab": {
          "base_uri": "https://localhost:8080/",
          "height": 458
        },
        "id": "CtXEcZkVwPmK",
        "outputId": "aec907f2-8afc-46ca-a2eb-c7b49740d71f"
      },
      "execution_count": null,
      "outputs": [
        {
          "output_type": "execute_result",
          "data": {
            "text/plain": [
              "0       \"2024-12-31 17:13:49\"\n",
              "1       \"2024-12-31 09:41:55\"\n",
              "2       \"2024-12-31 07:53:58\"\n",
              "3       \"2024-12-31 05:30:23\"\n",
              "4       \"2024-12-31 00:30:00\"\n",
              "                ...          \n",
              "4042    \"2022-04-19 11:21:07\"\n",
              "4043    \"2022-01-17 05:41:46\"\n",
              "4044    \"2021-07-27 09:42:46\"\n",
              "4045    \"2021-06-15 12:15:48\"\n",
              "4046    \"2021-03-25 09:43:54\"\n",
              "Name: pubDate, Length: 4047, dtype: object"
            ],
            "text/html": [
              "<div>\n",
              "<style scoped>\n",
              "    .dataframe tbody tr th:only-of-type {\n",
              "        vertical-align: middle;\n",
              "    }\n",
              "\n",
              "    .dataframe tbody tr th {\n",
              "        vertical-align: top;\n",
              "    }\n",
              "\n",
              "    .dataframe thead th {\n",
              "        text-align: right;\n",
              "    }\n",
              "</style>\n",
              "<table border=\"1\" class=\"dataframe\">\n",
              "  <thead>\n",
              "    <tr style=\"text-align: right;\">\n",
              "      <th></th>\n",
              "      <th>pubDate</th>\n",
              "    </tr>\n",
              "  </thead>\n",
              "  <tbody>\n",
              "    <tr>\n",
              "      <th>0</th>\n",
              "      <td>\"2024-12-31 17:13:49\"</td>\n",
              "    </tr>\n",
              "    <tr>\n",
              "      <th>1</th>\n",
              "      <td>\"2024-12-31 09:41:55\"</td>\n",
              "    </tr>\n",
              "    <tr>\n",
              "      <th>2</th>\n",
              "      <td>\"2024-12-31 07:53:58\"</td>\n",
              "    </tr>\n",
              "    <tr>\n",
              "      <th>3</th>\n",
              "      <td>\"2024-12-31 05:30:23\"</td>\n",
              "    </tr>\n",
              "    <tr>\n",
              "      <th>4</th>\n",
              "      <td>\"2024-12-31 00:30:00\"</td>\n",
              "    </tr>\n",
              "    <tr>\n",
              "      <th>...</th>\n",
              "      <td>...</td>\n",
              "    </tr>\n",
              "    <tr>\n",
              "      <th>4042</th>\n",
              "      <td>\"2022-04-19 11:21:07\"</td>\n",
              "    </tr>\n",
              "    <tr>\n",
              "      <th>4043</th>\n",
              "      <td>\"2022-01-17 05:41:46\"</td>\n",
              "    </tr>\n",
              "    <tr>\n",
              "      <th>4044</th>\n",
              "      <td>\"2021-07-27 09:42:46\"</td>\n",
              "    </tr>\n",
              "    <tr>\n",
              "      <th>4045</th>\n",
              "      <td>\"2021-06-15 12:15:48\"</td>\n",
              "    </tr>\n",
              "    <tr>\n",
              "      <th>4046</th>\n",
              "      <td>\"2021-03-25 09:43:54\"</td>\n",
              "    </tr>\n",
              "  </tbody>\n",
              "</table>\n",
              "<p>4047 rows × 1 columns</p>\n",
              "</div><br><label><b>dtype:</b> object</label>"
            ]
          },
          "metadata": {},
          "execution_count": 4
        }
      ]
    },
    {
      "cell_type": "code",
      "source": [
        "news_data['pubDate'] = news_data['pubDate'].str.strip('\"').str.split().str[0]\n",
        "news_data[\"pubDate\"]"
      ],
      "metadata": {
        "colab": {
          "base_uri": "https://localhost:8080/",
          "height": 458
        },
        "id": "W9nCd17ex_ap",
        "outputId": "3e3a28fa-b3f9-46eb-b76e-21d0199aeab8"
      },
      "execution_count": null,
      "outputs": [
        {
          "output_type": "execute_result",
          "data": {
            "text/plain": [
              "0       2024-12-31\n",
              "1       2024-12-31\n",
              "2       2024-12-31\n",
              "3       2024-12-31\n",
              "4       2024-12-31\n",
              "           ...    \n",
              "4042    2022-04-19\n",
              "4043    2022-01-17\n",
              "4044    2021-07-27\n",
              "4045    2021-06-15\n",
              "4046    2021-03-25\n",
              "Name: pubDate, Length: 4047, dtype: object"
            ],
            "text/html": [
              "<div>\n",
              "<style scoped>\n",
              "    .dataframe tbody tr th:only-of-type {\n",
              "        vertical-align: middle;\n",
              "    }\n",
              "\n",
              "    .dataframe tbody tr th {\n",
              "        vertical-align: top;\n",
              "    }\n",
              "\n",
              "    .dataframe thead th {\n",
              "        text-align: right;\n",
              "    }\n",
              "</style>\n",
              "<table border=\"1\" class=\"dataframe\">\n",
              "  <thead>\n",
              "    <tr style=\"text-align: right;\">\n",
              "      <th></th>\n",
              "      <th>pubDate</th>\n",
              "    </tr>\n",
              "  </thead>\n",
              "  <tbody>\n",
              "    <tr>\n",
              "      <th>0</th>\n",
              "      <td>2024-12-31</td>\n",
              "    </tr>\n",
              "    <tr>\n",
              "      <th>1</th>\n",
              "      <td>2024-12-31</td>\n",
              "    </tr>\n",
              "    <tr>\n",
              "      <th>2</th>\n",
              "      <td>2024-12-31</td>\n",
              "    </tr>\n",
              "    <tr>\n",
              "      <th>3</th>\n",
              "      <td>2024-12-31</td>\n",
              "    </tr>\n",
              "    <tr>\n",
              "      <th>4</th>\n",
              "      <td>2024-12-31</td>\n",
              "    </tr>\n",
              "    <tr>\n",
              "      <th>...</th>\n",
              "      <td>...</td>\n",
              "    </tr>\n",
              "    <tr>\n",
              "      <th>4042</th>\n",
              "      <td>2022-04-19</td>\n",
              "    </tr>\n",
              "    <tr>\n",
              "      <th>4043</th>\n",
              "      <td>2022-01-17</td>\n",
              "    </tr>\n",
              "    <tr>\n",
              "      <th>4044</th>\n",
              "      <td>2021-07-27</td>\n",
              "    </tr>\n",
              "    <tr>\n",
              "      <th>4045</th>\n",
              "      <td>2021-06-15</td>\n",
              "    </tr>\n",
              "    <tr>\n",
              "      <th>4046</th>\n",
              "      <td>2021-03-25</td>\n",
              "    </tr>\n",
              "  </tbody>\n",
              "</table>\n",
              "<p>4047 rows × 1 columns</p>\n",
              "</div><br><label><b>dtype:</b> object</label>"
            ]
          },
          "metadata": {},
          "execution_count": 5
        }
      ]
    },
    {
      "cell_type": "code",
      "source": [
        "news_data[\"sentiment\"].value_counts()"
      ],
      "metadata": {
        "colab": {
          "base_uri": "https://localhost:8080/",
          "height": 210
        },
        "id": "memhuSOryOpF",
        "outputId": "e0b2a541-ac7f-4914-f9cd-3329c58cc559"
      },
      "execution_count": null,
      "outputs": [
        {
          "output_type": "execute_result",
          "data": {
            "text/plain": [
              "sentiment\n",
              "\"neutral\"     2421\n",
              "\"positive\"     429\n",
              "\"negative\"     232\n",
              "Name: count, dtype: int64"
            ],
            "text/html": [
              "<div>\n",
              "<style scoped>\n",
              "    .dataframe tbody tr th:only-of-type {\n",
              "        vertical-align: middle;\n",
              "    }\n",
              "\n",
              "    .dataframe tbody tr th {\n",
              "        vertical-align: top;\n",
              "    }\n",
              "\n",
              "    .dataframe thead th {\n",
              "        text-align: right;\n",
              "    }\n",
              "</style>\n",
              "<table border=\"1\" class=\"dataframe\">\n",
              "  <thead>\n",
              "    <tr style=\"text-align: right;\">\n",
              "      <th></th>\n",
              "      <th>count</th>\n",
              "    </tr>\n",
              "    <tr>\n",
              "      <th>sentiment</th>\n",
              "      <th></th>\n",
              "    </tr>\n",
              "  </thead>\n",
              "  <tbody>\n",
              "    <tr>\n",
              "      <th>\"neutral\"</th>\n",
              "      <td>2421</td>\n",
              "    </tr>\n",
              "    <tr>\n",
              "      <th>\"positive\"</th>\n",
              "      <td>429</td>\n",
              "    </tr>\n",
              "    <tr>\n",
              "      <th>\"negative\"</th>\n",
              "      <td>232</td>\n",
              "    </tr>\n",
              "  </tbody>\n",
              "</table>\n",
              "</div><br><label><b>dtype:</b> int64</label>"
            ]
          },
          "metadata": {},
          "execution_count": 6
        }
      ]
    },
    {
      "cell_type": "code",
      "source": [
        "news_data[\"link\"]"
      ],
      "metadata": {
        "colab": {
          "base_uri": "https://localhost:8080/",
          "height": 458
        },
        "id": "rIttOmAwyrzN",
        "outputId": "5086da94-4004-4aa3-eff3-b3f639b8614e"
      },
      "execution_count": null,
      "outputs": [
        {
          "output_type": "execute_result",
          "data": {
            "text/plain": [
              "0       \"https://www.tv9hindi.com/business/reliance-in...\n",
              "1       \"https://punjab.news18.com/news/business/bank-...\n",
              "2       \"https://www.livemint.com/money/personal-finan...\n",
              "3       \"https://economictimes.indiatimes.com/markets/...\n",
              "4       \"https://www.thehindubusinessline.com/portfoli...\n",
              "                              ...                        \n",
              "4042    \"https://www.ndtv.com/business/hdfc-bank-share...\n",
              "4043    \"https://www.iamgujarat.com/business/analysts-...\n",
              "4044    \"https://www.naidunia.com/business/commodity-w...\n",
              "4045    \"https://www.naidunia.com/business/commodity-h...\n",
              "4046    \"https://thenortheasttoday.com/business/hdfc-b...\n",
              "Name: link, Length: 4047, dtype: object"
            ],
            "text/html": [
              "<div>\n",
              "<style scoped>\n",
              "    .dataframe tbody tr th:only-of-type {\n",
              "        vertical-align: middle;\n",
              "    }\n",
              "\n",
              "    .dataframe tbody tr th {\n",
              "        vertical-align: top;\n",
              "    }\n",
              "\n",
              "    .dataframe thead th {\n",
              "        text-align: right;\n",
              "    }\n",
              "</style>\n",
              "<table border=\"1\" class=\"dataframe\">\n",
              "  <thead>\n",
              "    <tr style=\"text-align: right;\">\n",
              "      <th></th>\n",
              "      <th>link</th>\n",
              "    </tr>\n",
              "  </thead>\n",
              "  <tbody>\n",
              "    <tr>\n",
              "      <th>0</th>\n",
              "      <td>\"https://www.tv9hindi.com/business/reliance-in...</td>\n",
              "    </tr>\n",
              "    <tr>\n",
              "      <th>1</th>\n",
              "      <td>\"https://punjab.news18.com/news/business/bank-...</td>\n",
              "    </tr>\n",
              "    <tr>\n",
              "      <th>2</th>\n",
              "      <td>\"https://www.livemint.com/money/personal-finan...</td>\n",
              "    </tr>\n",
              "    <tr>\n",
              "      <th>3</th>\n",
              "      <td>\"https://economictimes.indiatimes.com/markets/...</td>\n",
              "    </tr>\n",
              "    <tr>\n",
              "      <th>4</th>\n",
              "      <td>\"https://www.thehindubusinessline.com/portfoli...</td>\n",
              "    </tr>\n",
              "    <tr>\n",
              "      <th>...</th>\n",
              "      <td>...</td>\n",
              "    </tr>\n",
              "    <tr>\n",
              "      <th>4042</th>\n",
              "      <td>\"https://www.ndtv.com/business/hdfc-bank-share...</td>\n",
              "    </tr>\n",
              "    <tr>\n",
              "      <th>4043</th>\n",
              "      <td>\"https://www.iamgujarat.com/business/analysts-...</td>\n",
              "    </tr>\n",
              "    <tr>\n",
              "      <th>4044</th>\n",
              "      <td>\"https://www.naidunia.com/business/commodity-w...</td>\n",
              "    </tr>\n",
              "    <tr>\n",
              "      <th>4045</th>\n",
              "      <td>\"https://www.naidunia.com/business/commodity-h...</td>\n",
              "    </tr>\n",
              "    <tr>\n",
              "      <th>4046</th>\n",
              "      <td>\"https://thenortheasttoday.com/business/hdfc-b...</td>\n",
              "    </tr>\n",
              "  </tbody>\n",
              "</table>\n",
              "<p>4047 rows × 1 columns</p>\n",
              "</div><br><label><b>dtype:</b> object</label>"
            ]
          },
          "metadata": {},
          "execution_count": 7
        }
      ]
    },
    {
      "cell_type": "code",
      "source": [
        "!pip install newspaper3k transformers\n"
      ],
      "metadata": {
        "colab": {
          "base_uri": "https://localhost:8080/"
        },
        "id": "FzMc84Do0ggs",
        "outputId": "6dbaa605-aed2-4dc6-88f6-75aa620fa3c0"
      },
      "execution_count": null,
      "outputs": [
        {
          "output_type": "stream",
          "name": "stdout",
          "text": [
            "Collecting newspaper3k\n",
            "  Downloading newspaper3k-0.2.8-py3-none-any.whl.metadata (11 kB)\n",
            "Requirement already satisfied: transformers in /usr/local/lib/python3.11/dist-packages (4.52.4)\n",
            "Requirement already satisfied: beautifulsoup4>=4.4.1 in /usr/local/lib/python3.11/dist-packages (from newspaper3k) (4.13.4)\n",
            "Requirement already satisfied: Pillow>=3.3.0 in /usr/local/lib/python3.11/dist-packages (from newspaper3k) (11.2.1)\n",
            "Requirement already satisfied: PyYAML>=3.11 in /usr/local/lib/python3.11/dist-packages (from newspaper3k) (6.0.2)\n",
            "Collecting cssselect>=0.9.2 (from newspaper3k)\n",
            "  Downloading cssselect-1.3.0-py3-none-any.whl.metadata (2.6 kB)\n",
            "Requirement already satisfied: lxml>=3.6.0 in /usr/local/lib/python3.11/dist-packages (from newspaper3k) (5.4.0)\n",
            "Requirement already satisfied: nltk>=3.2.1 in /usr/local/lib/python3.11/dist-packages (from newspaper3k) (3.9.1)\n",
            "Requirement already satisfied: requests>=2.10.0 in /usr/local/lib/python3.11/dist-packages (from newspaper3k) (2.32.3)\n",
            "Collecting feedparser>=5.2.1 (from newspaper3k)\n",
            "  Downloading feedparser-6.0.11-py3-none-any.whl.metadata (2.4 kB)\n",
            "Collecting tldextract>=2.0.1 (from newspaper3k)\n",
            "  Downloading tldextract-5.3.0-py3-none-any.whl.metadata (11 kB)\n",
            "Collecting feedfinder2>=0.0.4 (from newspaper3k)\n",
            "  Downloading feedfinder2-0.0.4.tar.gz (3.3 kB)\n",
            "  Preparing metadata (setup.py) ... \u001b[?25l\u001b[?25hdone\n",
            "Collecting jieba3k>=0.35.1 (from newspaper3k)\n",
            "  Downloading jieba3k-0.35.1.zip (7.4 MB)\n",
            "\u001b[2K     \u001b[90m━━━━━━━━━━━━━━━━━━━━━━━━━━━━━━━━━━━━━━━━\u001b[0m \u001b[32m7.4/7.4 MB\u001b[0m \u001b[31m93.2 MB/s\u001b[0m eta \u001b[36m0:00:00\u001b[0m\n",
            "\u001b[?25h  Preparing metadata (setup.py) ... \u001b[?25l\u001b[?25hdone\n",
            "Requirement already satisfied: python-dateutil>=2.5.3 in /usr/local/lib/python3.11/dist-packages (from newspaper3k) (2.9.0.post0)\n",
            "Collecting tinysegmenter==0.3 (from newspaper3k)\n",
            "  Downloading tinysegmenter-0.3.tar.gz (16 kB)\n",
            "  Preparing metadata (setup.py) ... \u001b[?25l\u001b[?25hdone\n",
            "Requirement already satisfied: filelock in /usr/local/lib/python3.11/dist-packages (from transformers) (3.18.0)\n",
            "Requirement already satisfied: huggingface-hub<1.0,>=0.30.0 in /usr/local/lib/python3.11/dist-packages (from transformers) (0.32.4)\n",
            "Requirement already satisfied: numpy>=1.17 in /usr/local/lib/python3.11/dist-packages (from transformers) (2.0.2)\n",
            "Requirement already satisfied: packaging>=20.0 in /usr/local/lib/python3.11/dist-packages (from transformers) (24.2)\n",
            "Requirement already satisfied: regex!=2019.12.17 in /usr/local/lib/python3.11/dist-packages (from transformers) (2024.11.6)\n",
            "Requirement already satisfied: tokenizers<0.22,>=0.21 in /usr/local/lib/python3.11/dist-packages (from transformers) (0.21.1)\n",
            "Requirement already satisfied: safetensors>=0.4.3 in /usr/local/lib/python3.11/dist-packages (from transformers) (0.5.3)\n",
            "Requirement already satisfied: tqdm>=4.27 in /usr/local/lib/python3.11/dist-packages (from transformers) (4.67.1)\n",
            "Requirement already satisfied: soupsieve>1.2 in /usr/local/lib/python3.11/dist-packages (from beautifulsoup4>=4.4.1->newspaper3k) (2.7)\n",
            "Requirement already satisfied: typing-extensions>=4.0.0 in /usr/local/lib/python3.11/dist-packages (from beautifulsoup4>=4.4.1->newspaper3k) (4.14.0)\n",
            "Requirement already satisfied: six in /usr/local/lib/python3.11/dist-packages (from feedfinder2>=0.0.4->newspaper3k) (1.17.0)\n",
            "Collecting sgmllib3k (from feedparser>=5.2.1->newspaper3k)\n",
            "  Downloading sgmllib3k-1.0.0.tar.gz (5.8 kB)\n",
            "  Preparing metadata (setup.py) ... \u001b[?25l\u001b[?25hdone\n",
            "Requirement already satisfied: fsspec>=2023.5.0 in /usr/local/lib/python3.11/dist-packages (from huggingface-hub<1.0,>=0.30.0->transformers) (2025.3.2)\n",
            "Requirement already satisfied: hf-xet<2.0.0,>=1.1.2 in /usr/local/lib/python3.11/dist-packages (from huggingface-hub<1.0,>=0.30.0->transformers) (1.1.2)\n",
            "Requirement already satisfied: click in /usr/local/lib/python3.11/dist-packages (from nltk>=3.2.1->newspaper3k) (8.2.1)\n",
            "Requirement already satisfied: joblib in /usr/local/lib/python3.11/dist-packages (from nltk>=3.2.1->newspaper3k) (1.5.1)\n",
            "Requirement already satisfied: charset-normalizer<4,>=2 in /usr/local/lib/python3.11/dist-packages (from requests>=2.10.0->newspaper3k) (3.4.2)\n",
            "Requirement already satisfied: idna<4,>=2.5 in /usr/local/lib/python3.11/dist-packages (from requests>=2.10.0->newspaper3k) (3.10)\n",
            "Requirement already satisfied: urllib3<3,>=1.21.1 in /usr/local/lib/python3.11/dist-packages (from requests>=2.10.0->newspaper3k) (2.4.0)\n",
            "Requirement already satisfied: certifi>=2017.4.17 in /usr/local/lib/python3.11/dist-packages (from requests>=2.10.0->newspaper3k) (2025.4.26)\n",
            "Collecting requests-file>=1.4 (from tldextract>=2.0.1->newspaper3k)\n",
            "  Downloading requests_file-2.1.0-py2.py3-none-any.whl.metadata (1.7 kB)\n",
            "Downloading newspaper3k-0.2.8-py3-none-any.whl (211 kB)\n",
            "\u001b[2K   \u001b[90m━━━━━━━━━━━━━━━━━━━━━━━━━━━━━━━━━━━━━━━━\u001b[0m \u001b[32m211.1/211.1 kB\u001b[0m \u001b[31m18.3 MB/s\u001b[0m eta \u001b[36m0:00:00\u001b[0m\n",
            "\u001b[?25hDownloading cssselect-1.3.0-py3-none-any.whl (18 kB)\n",
            "Downloading feedparser-6.0.11-py3-none-any.whl (81 kB)\n",
            "\u001b[2K   \u001b[90m━━━━━━━━━━━━━━━━━━━━━━━━━━━━━━━━━━━━━━━━\u001b[0m \u001b[32m81.3/81.3 kB\u001b[0m \u001b[31m7.5 MB/s\u001b[0m eta \u001b[36m0:00:00\u001b[0m\n",
            "\u001b[?25hDownloading tldextract-5.3.0-py3-none-any.whl (107 kB)\n",
            "\u001b[2K   \u001b[90m━━━━━━━━━━━━━━━━━━━━━━━━━━━━━━━━━━━━━━━━\u001b[0m \u001b[32m107.4/107.4 kB\u001b[0m \u001b[31m9.7 MB/s\u001b[0m eta \u001b[36m0:00:00\u001b[0m\n",
            "\u001b[?25hDownloading requests_file-2.1.0-py2.py3-none-any.whl (4.2 kB)\n",
            "Building wheels for collected packages: tinysegmenter, feedfinder2, jieba3k, sgmllib3k\n",
            "  Building wheel for tinysegmenter (setup.py) ... \u001b[?25l\u001b[?25hdone\n",
            "  Created wheel for tinysegmenter: filename=tinysegmenter-0.3-py3-none-any.whl size=13540 sha256=85add0fa97da04a6c16e059535013803ce7edbb1de169fef86656ea73d84bc35\n",
            "  Stored in directory: /root/.cache/pip/wheels/fc/ab/f8/cce3a9ae6d828bd346be695f7ff54612cd22b7cbd7208d68f3\n",
            "  Building wheel for feedfinder2 (setup.py) ... \u001b[?25l\u001b[?25hdone\n",
            "  Created wheel for feedfinder2: filename=feedfinder2-0.0.4-py3-none-any.whl size=3341 sha256=2995b0faccf6a6965569c25ad69aade56f87ed9b9750abdceb2799e0c982ff78\n",
            "  Stored in directory: /root/.cache/pip/wheels/80/d5/72/9cd9eccc819636436c6a6e59c22a0fb1ec167beef141f56491\n",
            "  Building wheel for jieba3k (setup.py) ... \u001b[?25l\u001b[?25hdone\n",
            "  Created wheel for jieba3k: filename=jieba3k-0.35.1-py3-none-any.whl size=7398380 sha256=8884e3e7aaea50c8a78ebc6dad288fb4cad5c705ba02b07e689b24144502e48f\n",
            "  Stored in directory: /root/.cache/pip/wheels/3a/a1/46/8e68055c1713f9c4598774c15ad0541f26d5425ee7423b6493\n",
            "  Building wheel for sgmllib3k (setup.py) ... \u001b[?25l\u001b[?25hdone\n",
            "  Created wheel for sgmllib3k: filename=sgmllib3k-1.0.0-py3-none-any.whl size=6046 sha256=be699948278bb8a8883566781a472268f3b4de077c63d886c15000fc327bdd71\n",
            "  Stored in directory: /root/.cache/pip/wheels/3b/25/2a/105d6a15df6914f4d15047691c6c28f9052cc1173e40285d03\n",
            "Successfully built tinysegmenter feedfinder2 jieba3k sgmllib3k\n",
            "Installing collected packages: tinysegmenter, sgmllib3k, jieba3k, feedparser, cssselect, requests-file, feedfinder2, tldextract, newspaper3k\n",
            "Successfully installed cssselect-1.3.0 feedfinder2-0.0.4 feedparser-6.0.11 jieba3k-0.35.1 newspaper3k-0.2.8 requests-file-2.1.0 sgmllib3k-1.0.0 tinysegmenter-0.3 tldextract-5.3.0\n"
          ]
        }
      ]
    },
    {
      "cell_type": "code",
      "source": [
        "# preprocessing_sentiment.py\n",
        "import re\n",
        "from transformers import pipeline, AutoTokenizer\n",
        "from collections import Counter\n",
        "\n",
        "def clean_text(text):\n",
        "    \"\"\"Removes extra whitespace from the text.\"\"\"\n",
        "    return re.sub(r'\\s+', ' ', text).strip()\n",
        "\n",
        "#saved model\n",
        "model_id = \"/content/drive/MyDrive/finbert_kdave_trained\"\n",
        "# Loading the sentiment analysis pipeline and the tokenizer.\n",
        "finbert = pipeline(\"sentiment-analysis\", model=model_id)\n",
        "tokenizer = AutoTokenizer.from_pretrained(model_id)\n",
        "\n",
        "\n",
        "def split_text_into_chunks(text, max_tokens=512):\n",
        "    \"\"\"\n",
        "    Splits the text into chunks that, when processed by the pipeline (which adds special tokens),\n",
        "    will be within the 512-token limit.\n",
        "    This function:\n",
        "      - Tokenizes the text (without special tokens),\n",
        "      - Splits the token list into chunks of length (max_tokens - 2),\n",
        "      - Converts each chunk back to text.\n",
        "    \"\"\"\n",
        "    tokens = tokenizer.tokenize(text)\n",
        "    chunk_size = max_tokens - 2\n",
        "    chunks = []\n",
        "    for i in range(0, len(tokens), chunk_size):\n",
        "        chunk_tokens = tokens[i:i+chunk_size]\n",
        "        chunk_text = tokenizer.convert_tokens_to_string(chunk_tokens)\n",
        "        chunks.append(chunk_text)\n",
        "    return chunks\n",
        "\n",
        "def get_sentiment(text):\n",
        "    \"\"\"\n",
        "    Returns the sentiment label and average score for the text.\n",
        "    If the text is too long, it is split into chunks, and the sentiment is computed for each chunk.\n",
        "    Then the majority label (by vote) is selected and scores are averaged.\n",
        "    \"\"\"\n",
        "    text = clean_text(text)\n",
        "    tokens = tokenizer.tokenize(text)\n",
        "    if len(tokens) <= 510:\n",
        "        result = finbert(text, truncation=True, max_length=512)\n",
        "        return result[0]['label'], result[0]['score']\n",
        "\n",
        "    # split into chunks if text is too long\n",
        "    chunks = split_text_into_chunks(text, max_tokens=512)\n",
        "\n",
        "    sentiments = []\n",
        "    labels = []\n",
        "    for chunk in chunks:\n",
        "        if not chunk.strip():\n",
        "            continue\n",
        "        result = finbert(chunk, truncation=True, max_length=512)\n",
        "        labels.append(result[0]['label'])\n",
        "        sentiments.append(result[0]['score'])\n",
        "\n",
        "    if not sentiments:\n",
        "        return None, None\n",
        "\n",
        "    majority_label = Counter(labels).most_common(1)[0][0]\n",
        "    avg_score = sum(sentiments) / len(sentiments)\n",
        "    return majority_label, avg_score\n",
        "\n",
        "def sentiment_chain(document):\n",
        "    \"\"\"\n",
        "    Processes a document dictionary:\n",
        "      - Cleans the text,\n",
        "      - Splits it into chunks if necessary,\n",
        "      - Computes sentiment for each chunk,\n",
        "      - Aggregates the results (majority vote and average score),\n",
        "      - Returns a dictionary containing the sentiment result and document metadata.\n",
        "    \"\"\"\n",
        "    text = document.get(\"text\", \"\")\n",
        "    label, score = get_sentiment(text)\n",
        "    return {\n",
        "        \"sentiment_label\": label,\n",
        "        \"sentiment_score\": score,\n",
        "        \"source\": document.get(\"source\", \"\"),\n",
        "        \"type\": document.get(\"type\", \"\"),\n",
        "        \"quarter\": document.get(\"quarter\", None)\n",
        "    }\n"
      ],
      "metadata": {
        "colab": {
          "base_uri": "https://localhost:8080/"
        },
        "id": "48Z9NrhN2Fdz",
        "outputId": "07f2b782-255b-4f1f-bef5-e4b31a51a919"
      },
      "execution_count": null,
      "outputs": [
        {
          "output_type": "stream",
          "name": "stderr",
          "text": [
            "Device set to use cuda:0\n"
          ]
        }
      ]
    },
    {
      "cell_type": "code",
      "source": [
        "!pip install lxml_html_clean"
      ],
      "metadata": {
        "colab": {
          "base_uri": "https://localhost:8080/"
        },
        "id": "3eteIei44Fes",
        "outputId": "18faf227-88cf-45ce-a217-d8b3b5058af0"
      },
      "execution_count": null,
      "outputs": [
        {
          "output_type": "stream",
          "name": "stdout",
          "text": [
            "Collecting lxml_html_clean\n",
            "  Downloading lxml_html_clean-0.4.2-py3-none-any.whl.metadata (2.4 kB)\n",
            "Requirement already satisfied: lxml in /usr/local/lib/python3.11/dist-packages (from lxml_html_clean) (5.4.0)\n",
            "Downloading lxml_html_clean-0.4.2-py3-none-any.whl (14 kB)\n",
            "Installing collected packages: lxml_html_clean\n",
            "Successfully installed lxml_html_clean-0.4.2\n"
          ]
        }
      ]
    },
    {
      "cell_type": "code",
      "source": [
        "import pandas as pd\n",
        "import requests\n",
        "from bs4 import BeautifulSoup\n",
        "from tqdm import tqdm\n",
        "#from preprocessing_sentiment import sentiment_chain\n",
        "\n",
        "# this is a function to extract article text using requests,BeautifulSoup\n",
        "def extract_article_text(url):\n",
        "    try:\n",
        "        headers = {\n",
        "            'User-Agent': 'Mozilla/5.0 (Windows NT 10.0; Win64; x64)'\n",
        "        }\n",
        "        response = requests.get(url, headers=headers, timeout=10)\n",
        "        response.raise_for_status()\n",
        "\n",
        "        soup = BeautifulSoup(response.content, 'html.parser')\n",
        "\n",
        "        # Extracting all paragraphs using soup\n",
        "        paragraphs = soup.find_all('p')\n",
        "        text = ' '.join(p.get_text() for p in paragraphs)\n",
        "        return text.strip()\n",
        "\n",
        "    except Exception as e:\n",
        "        print(f\"Failed to fetch {url}: {e}\")\n",
        "        return None\n",
        "\n",
        "df = pd.read_csv('/content/NewsData.io_HDFC.csv')\n",
        "df['sentiment_label'] = None\n",
        "df['sentiment_score'] = None\n",
        "\n",
        "# Iterate over all rows\n",
        "for i, row in tqdm(df.iterrows(), total=len(df)):\n",
        "    url = row['link'].strip('\"')  # cleaning\n",
        "\n",
        "    try:\n",
        "        text = extract_article_text(url)\n",
        "        if not text or len(text) < 50:\n",
        "            raise ValueError(\"No meaningful content extracted.\")\n",
        "\n",
        "        document = {\n",
        "            \"text\": text,\n",
        "            \"source\": url,\n",
        "            \"type\": \"article\",\n",
        "            \"quarter\": None\n",
        "        }\n",
        "\n",
        "        result = sentiment_chain(document)\n",
        "        df.at[i, 'sentiment_label'] = result['sentiment_label']\n",
        "        df.at[i, 'sentiment_score'] = result['sentiment_score']\n",
        "\n",
        "    except Exception as e:\n",
        "        print(f\"Failed to process {url}: {e}\")\n",
        "        df.at[i, 'sentiment_label'] = \"ERROR\"\n",
        "        df.at[i, 'sentiment_score'] = None\n",
        "\n",
        "df.to_csv('articles_with_sentiment.csv', index=False)\n"
      ],
      "metadata": {
        "colab": {
          "base_uri": "https://localhost:8080/"
        },
        "id": "uuWatrf11q7_",
        "outputId": "07f5820c-cbfe-4134-91be-cac2e34edd34"
      },
      "execution_count": null,
      "outputs": [
        {
          "output_type": "stream",
          "name": "stderr",
          "text": [
            "  0%|          | 5/4047 [00:05<1:23:29,  1.24s/it]You seem to be using the pipelines sequentially on GPU. In order to maximize efficiency please use a dataset\n",
            "  1%|          | 29/4047 [00:13<12:37,  5.30it/s]"
          ]
        },
        {
          "output_type": "stream",
          "name": "stdout",
          "text": [
            "Failed to fetch https://www.goodreturns.in/news/hma-agro-industries-board-okays-epc-credit-facility-of-rs160-cr-from-hdfc-bank-1396305.html: 403 Client Error: Forbidden for url: https://www.goodreturns.in/news/hma-agro-industries-board-okays-epc-credit-facility-of-rs160-cr-from-hdfc-bank-1396305.html\n",
            "Failed to process https://www.goodreturns.in/news/hma-agro-industries-board-okays-epc-credit-facility-of-rs160-cr-from-hdfc-bank-1396305.html: No meaningful content extracted.\n"
          ]
        },
        {
          "output_type": "stream",
          "name": "stderr",
          "text": [
            "  1%|          | 49/4047 [00:20<20:32,  3.24it/s]"
          ]
        },
        {
          "output_type": "stream",
          "name": "stdout",
          "text": [
            "Failed to fetch https://www.livemint.com/market/live-blog/hdfc-bank-share-price-today-latest-live-updates-on-24-dec-2024-11735007733343.html: 410 Client Error: Gone for url: https://www.livemint.com/market/live-blog/hdfc-bank-share-price-today-latest-live-updates-on-24-dec-2024-11735007733343.html\n",
            "Failed to process https://www.livemint.com/market/live-blog/hdfc-bank-share-price-today-latest-live-updates-on-24-dec-2024-11735007733343.html: No meaningful content extracted.\n"
          ]
        },
        {
          "output_type": "stream",
          "name": "stderr",
          "text": [
            "  2%|▏         | 76/4047 [00:31<37:43,  1.75it/s]  "
          ]
        },
        {
          "output_type": "stream",
          "name": "stdout",
          "text": [
            "Failed to fetch https://www.livemint.com/market/live-blog/hdfc-bank-share-price-today-latest-live-updates-on-20-dec-2024-11734662091528.html: 410 Client Error: Gone for url: https://www.livemint.com/market/live-blog/hdfc-bank-share-price-today-latest-live-updates-on-20-dec-2024-11734662091528.html\n",
            "Failed to process https://www.livemint.com/market/live-blog/hdfc-bank-share-price-today-latest-live-updates-on-20-dec-2024-11734662091528.html: No meaningful content extracted.\n"
          ]
        },
        {
          "output_type": "stream",
          "name": "stderr",
          "text": [
            "  2%|▏         | 85/4047 [00:34<15:08,  4.36it/s]"
          ]
        },
        {
          "output_type": "stream",
          "name": "stdout",
          "text": [
            "Failed to fetch https://www.livemint.com/market/live-blog/hdfc-bank-share-price-today-latest-live-updates-on-19-dec-2024-11734575525945.html: 410 Client Error: Gone for url: https://www.livemint.com/market/live-blog/hdfc-bank-share-price-today-latest-live-updates-on-19-dec-2024-11734575525945.html\n",
            "Failed to process https://www.livemint.com/market/live-blog/hdfc-bank-share-price-today-latest-live-updates-on-19-dec-2024-11734575525945.html: No meaningful content extracted.\n"
          ]
        },
        {
          "output_type": "stream",
          "name": "stderr",
          "text": [
            "  3%|▎         | 108/4047 [00:53<26:28,  2.48it/s]"
          ]
        },
        {
          "output_type": "stream",
          "name": "stdout",
          "text": [
            "Failed to fetch https://www.livemint.com/market/live-blog/hdfc-bank-share-price-today-latest-live-updates-on-17-dec-2024-11734402721012.html: 410 Client Error: Gone for url: https://www.livemint.com/market/live-blog/hdfc-bank-share-price-today-latest-live-updates-on-17-dec-2024-11734402721012.html\n",
            "Failed to process https://www.livemint.com/market/live-blog/hdfc-bank-share-price-today-latest-live-updates-on-17-dec-2024-11734402721012.html: No meaningful content extracted.\n"
          ]
        },
        {
          "output_type": "stream",
          "name": "stderr",
          "text": [
            "  3%|▎         | 128/4047 [00:59<34:54,  1.87it/s]"
          ]
        },
        {
          "output_type": "stream",
          "name": "stdout",
          "text": [
            "Failed to fetch https://www.livemint.com/market/live-blog/hdfc-bank-share-price-today-latest-live-updates-on-16-dec-2024-11734316405702.html: 410 Client Error: Gone for url: https://www.livemint.com/market/live-blog/hdfc-bank-share-price-today-latest-live-updates-on-16-dec-2024-11734316405702.html\n",
            "Failed to process https://www.livemint.com/market/live-blog/hdfc-bank-share-price-today-latest-live-updates-on-16-dec-2024-11734316405702.html: No meaningful content extracted.\n"
          ]
        },
        {
          "output_type": "stream",
          "name": "stderr",
          "text": [
            "  4%|▎         | 142/4047 [01:09<1:05:33,  1.01s/it]"
          ]
        },
        {
          "output_type": "stream",
          "name": "stdout",
          "text": [
            "Failed to fetch https://www.tamiltv9.com/business/hdfc-bank-announced-the-increased-interest-rates-of-its-fixed-deposit-schemes-2093571.html: HTTPSConnectionPool(host='www.tamiltv9.com', port=443): Max retries exceeded with url: /business/hdfc-bank-announced-the-increased-interest-rates-of-its-fixed-deposit-schemes-2093571.html (Caused by NameResolutionError(\"<urllib3.connection.HTTPSConnection object at 0x7e08bc498f50>: Failed to resolve 'www.tamiltv9.com' ([Errno -2] Name or service not known)\"))\n",
            "Failed to process https://www.tamiltv9.com/business/hdfc-bank-announced-the-increased-interest-rates-of-its-fixed-deposit-schemes-2093571.html: No meaningful content extracted.\n"
          ]
        },
        {
          "output_type": "stream",
          "name": "stderr",
          "text": [
            "  4%|▍         | 165/4047 [01:27<14:51,  4.36it/s]"
          ]
        },
        {
          "output_type": "stream",
          "name": "stdout",
          "text": [
            "Failed to fetch https://www.livemint.com/market/live-blog/hdfc-bank-share-price-today-latest-live-updates-on-12-dec-2024-11733976039542.html: 410 Client Error: Gone for url: https://www.livemint.com/market/live-blog/hdfc-bank-share-price-today-latest-live-updates-on-12-dec-2024-11733976039542.html\n",
            "Failed to process https://www.livemint.com/market/live-blog/hdfc-bank-share-price-today-latest-live-updates-on-12-dec-2024-11733976039542.html: No meaningful content extracted.\n"
          ]
        },
        {
          "output_type": "stream",
          "name": "stderr",
          "text": [
            "  4%|▍         | 170/4047 [01:28<08:54,  7.25it/s]"
          ]
        },
        {
          "output_type": "stream",
          "name": "stdout",
          "text": [
            "Failed to fetch https://www.livemint.com/market/live-blog/hdfc-bank-share-price-today-latest-live-updates-on-11-dec-2024-11733884542593.html: 410 Client Error: Gone for url: https://www.livemint.com/market/live-blog/hdfc-bank-share-price-today-latest-live-updates-on-11-dec-2024-11733884542593.html\n",
            "Failed to process https://www.livemint.com/market/live-blog/hdfc-bank-share-price-today-latest-live-updates-on-11-dec-2024-11733884542593.html: No meaningful content extracted.\n"
          ]
        },
        {
          "output_type": "stream",
          "name": "stderr",
          "text": [
            "  4%|▍         | 181/4047 [01:32<26:25,  2.44it/s]"
          ]
        },
        {
          "output_type": "stream",
          "name": "stdout",
          "text": [
            "Failed to process https://gujarati.news18.com/news/business/personal-finance-hdfc-bank-increases-loan-interest-rate-mclr-by-5-basis-points-mk-2037846.html: No meaningful content extracted.\n"
          ]
        },
        {
          "output_type": "stream",
          "name": "stderr",
          "text": [
            "  5%|▌         | 204/4047 [01:41<17:59,  3.56it/s]"
          ]
        },
        {
          "output_type": "stream",
          "name": "stdout",
          "text": [
            "Failed to fetch https://www.livemint.com/market/live-blog/hdfc-bank-share-price-today-latest-live-updates-on-06-dec-2024-11733452528686.html: 410 Client Error: Gone for url: https://www.livemint.com/market/live-blog/hdfc-bank-share-price-today-latest-live-updates-on-06-dec-2024-11733452528686.html\n",
            "Failed to process https://www.livemint.com/market/live-blog/hdfc-bank-share-price-today-latest-live-updates-on-06-dec-2024-11733452528686.html: No meaningful content extracted.\n"
          ]
        },
        {
          "output_type": "stream",
          "name": "stderr",
          "text": [
            "  5%|▌         | 216/4047 [01:50<49:08,  1.30it/s]  "
          ]
        },
        {
          "output_type": "stream",
          "name": "stdout",
          "text": [
            "Failed to fetch https://www.livemint.com/market/live-blog/hdfc-bank-share-price-today-latest-live-updates-on-05-dec-2024-11733365984139.html: 410 Client Error: Gone for url: https://www.livemint.com/market/live-blog/hdfc-bank-share-price-today-latest-live-updates-on-05-dec-2024-11733365984139.html\n",
            "Failed to process https://www.livemint.com/market/live-blog/hdfc-bank-share-price-today-latest-live-updates-on-05-dec-2024-11733365984139.html: No meaningful content extracted.\n"
          ]
        },
        {
          "output_type": "stream",
          "name": "stderr",
          "text": [
            "  6%|▌         | 227/4047 [01:55<16:29,  3.86it/s]"
          ]
        },
        {
          "output_type": "stream",
          "name": "stdout",
          "text": [
            "Failed to fetch https://www.livemint.com/market/stock-market-news/top-gainers-and-losers-today-on-4-december-2024-hdfc-life-insurance-company-hdfc-bank-bharti-airtel-cipla-among-most-active-stocks-check-full-list-here-11733308398031.html: 410 Client Error: Gone for url: https://www.livemint.com/market/stock-market-news/top-gainers-and-losers-today-on-4-december-2024-hdfc-life-insurance-company-hdfc-bank-bharti-airtel-cipla-among-most-active-stocks-check-full-list-here-11733308398031.html\n",
            "Failed to process https://www.livemint.com/market/stock-market-news/top-gainers-and-losers-today-on-4-december-2024-hdfc-life-insurance-company-hdfc-bank-bharti-airtel-cipla-among-most-active-stocks-check-full-list-here-11733308398031.html: No meaningful content extracted.\n"
          ]
        },
        {
          "output_type": "stream",
          "name": "stderr",
          "text": [
            "  6%|▌         | 239/4047 [02:02<46:42,  1.36it/s]  "
          ]
        },
        {
          "output_type": "stream",
          "name": "stdout",
          "text": [
            "Failed to process https://www.ndtvprofit.com/research-reports/hdfc-bank-to-gravita-india-here-are-the-top-stock-picks-for-december-2024-by-axis-securities: No meaningful content extracted.\n"
          ]
        },
        {
          "output_type": "stream",
          "name": "stderr",
          "text": [
            "  6%|▌         | 251/4047 [02:09<41:46,  1.51it/s]  "
          ]
        },
        {
          "output_type": "stream",
          "name": "stdout",
          "text": [
            "Failed to process https://gujarati.news18.com/news/business/stock-market-hdfc-bank-stock-breakout-buying-block-deal-for-21-lakhs-shares-at-rs-392-crore-pm-2030620.html: No meaningful content extracted.\n"
          ]
        },
        {
          "output_type": "stream",
          "name": "stderr",
          "text": [
            "  6%|▋         | 259/4047 [02:15<50:39,  1.25it/s]  "
          ]
        },
        {
          "output_type": "stream",
          "name": "stdout",
          "text": [
            "Failed to fetch https://www.livemint.com/market/live-blog/hdfc-bank-share-price-today-latest-live-updates-on-03-dec-2024-11733193378682.html: 410 Client Error: Gone for url: https://www.livemint.com/market/live-blog/hdfc-bank-share-price-today-latest-live-updates-on-03-dec-2024-11733193378682.html\n",
            "Failed to process https://www.livemint.com/market/live-blog/hdfc-bank-share-price-today-latest-live-updates-on-03-dec-2024-11733193378682.html: No meaningful content extracted.\n"
          ]
        },
        {
          "output_type": "stream",
          "name": "stderr",
          "text": [
            "  7%|▋         | 267/4047 [02:19<26:22,  2.39it/s]"
          ]
        },
        {
          "output_type": "stream",
          "name": "stdout",
          "text": [
            "Failed to fetch https://www.livemint.com/market/live-blog/hdfc-bank-share-price-today-latest-live-updates-on-02-dec-2024-11733106844424.html: 410 Client Error: Gone for url: https://www.livemint.com/market/live-blog/hdfc-bank-share-price-today-latest-live-updates-on-02-dec-2024-11733106844424.html\n",
            "Failed to process https://www.livemint.com/market/live-blog/hdfc-bank-share-price-today-latest-live-updates-on-02-dec-2024-11733106844424.html: No meaningful content extracted.\n"
          ]
        },
        {
          "output_type": "stream",
          "name": "stderr",
          "text": [
            "  8%|▊         | 328/4047 [03:06<38:17,  1.62it/s]"
          ]
        },
        {
          "output_type": "stream",
          "name": "stdout",
          "text": [
            "Failed to process https://navbharattimes.indiatimes.com/business/share-market/share-news/market-cap-of-8-top-10-domestic-firms-jumps-with-reliance-and-lic-only-loosers/articleshow/115622554.cms: No meaningful content extracted.\n"
          ]
        },
        {
          "output_type": "stream",
          "name": "stderr",
          "text": [
            " 11%|█         | 445/4047 [04:34<1:32:24,  1.54s/it]"
          ]
        },
        {
          "output_type": "stream",
          "name": "stdout",
          "text": [
            "Failed to process https://gujarati.news18.com/news/business/stock-market-stocks-to-buy-today-jspl-larsen-toubro-syngene-tech-mahindra-icici-bank-hdfc-bank-mk-2001651.html: No meaningful content extracted.\n"
          ]
        },
        {
          "output_type": "stream",
          "name": "stderr",
          "text": [
            " 12%|█▏        | 479/4047 [04:55<28:47,  2.06it/s]"
          ]
        },
        {
          "output_type": "stream",
          "name": "stdout",
          "text": [
            "Failed to process https://www.iamgujarat.com/business/news/share-market-crash-sensex-down-over-1100-points/articleshow/114932463.cms: No meaningful content extracted.\n"
          ]
        },
        {
          "output_type": "stream",
          "name": "stderr",
          "text": [
            " 12%|█▏        | 493/4047 [05:03<17:28,  3.39it/s]"
          ]
        },
        {
          "output_type": "stream",
          "name": "stdout",
          "text": [
            "Failed to fetch https://www.livemint.com/companies/latest-company-news-today-on-november-2-2024-live-updates-11730505607918.html: 410 Client Error: Gone for url: https://www.livemint.com/companies/latest-company-news-today-on-november-2-2024-live-updates-11730505607918.html\n",
            "Failed to process https://www.livemint.com/companies/latest-company-news-today-on-november-2-2024-live-updates-11730505607918.html: No meaningful content extracted.\n"
          ]
        },
        {
          "output_type": "stream",
          "name": "stderr",
          "text": [
            " 14%|█▍        | 558/4047 [05:36<17:04,  3.41it/s]"
          ]
        },
        {
          "output_type": "stream",
          "name": "stdout",
          "text": [
            "Failed to fetch https://www.livemint.com/market/hdfc-bank-share-price-today-latest-on-22102024-11729575007363.html: 410 Client Error: Gone for url: https://www.livemint.com/market/hdfc-bank-share-price-today-latest-on-22102024-11729575007363.html\n",
            "Failed to process https://www.livemint.com/market/hdfc-bank-share-price-today-latest-on-22102024-11729575007363.html: No meaningful content extracted.\n"
          ]
        },
        {
          "output_type": "stream",
          "name": "stderr",
          "text": [
            " 14%|█▍        | 568/4047 [05:41<24:00,  2.42it/s]"
          ]
        },
        {
          "output_type": "stream",
          "name": "stdout",
          "text": [
            "Failed to fetch https://www.livemint.com/market/stock-market-news/top-gainers-and-losers-today-on-21-october-2024-bajaj-auto-hdfc-bank-tata-consumer-kotak-mahindra-bank-among-most-active-stocks-check-full-list-here-11729506791092.html: 410 Client Error: Gone for url: https://www.livemint.com/market/stock-market-news/top-gainers-and-losers-today-on-21-october-2024-bajaj-auto-hdfc-bank-tata-consumer-kotak-mahindra-bank-among-most-active-stocks-check-full-list-here-11729506791092.html\n",
            "Failed to process https://www.livemint.com/market/stock-market-news/top-gainers-and-losers-today-on-21-october-2024-bajaj-auto-hdfc-bank-tata-consumer-kotak-mahindra-bank-among-most-active-stocks-check-full-list-here-11729506791092.html: No meaningful content extracted.\n"
          ]
        },
        {
          "output_type": "stream",
          "name": "stderr",
          "text": [
            " 14%|█▍        | 575/4047 [05:43<17:09,  3.37it/s]"
          ]
        },
        {
          "output_type": "stream",
          "name": "stdout",
          "text": [
            "Failed to process https://www.ndtvprofit.com/research-reports/hdfc-bank-q2-results-idbi-capital-maintains-buy-rating-on-the-stock-revises-target-price-heres-why: No meaningful content extracted.\n",
            "Failed to fetch https://www.livemint.com/market/hdfc-bank-share-price-today-latest-on-21102024-11729489387457.html: 410 Client Error: Gone for url: https://www.livemint.com/market/hdfc-bank-share-price-today-latest-on-21102024-11729489387457.html\n",
            "Failed to process https://www.livemint.com/market/hdfc-bank-share-price-today-latest-on-21102024-11729489387457.html: No meaningful content extracted.\n"
          ]
        },
        {
          "output_type": "stream",
          "name": "stderr",
          "text": [
            "\r 14%|█▍        | 576/4047 [05:44<22:37,  2.56it/s]"
          ]
        },
        {
          "output_type": "stream",
          "name": "stdout",
          "text": [
            "Failed to process https://www.ndtvprofit.com/research-reports/hdfc-bank-q2-results-review-steady-quarter-despite-growth-slowdown-dolat-capital: No meaningful content extracted.\n"
          ]
        },
        {
          "output_type": "stream",
          "name": "stderr",
          "text": [
            " 14%|█▍        | 581/4047 [05:47<32:46,  1.76it/s]"
          ]
        },
        {
          "output_type": "stream",
          "name": "stdout",
          "text": [
            "Failed to process https://www.ndtvprofit.com/research-reports/hdfc-bank-q2-results-review-systematix-retains-buy-rating-on-the-stock-heres-why: No meaningful content extracted.\n"
          ]
        },
        {
          "output_type": "stream",
          "name": "stderr",
          "text": [
            " 14%|█▍        | 586/4047 [05:50<35:09,  1.64it/s]"
          ]
        },
        {
          "output_type": "stream",
          "name": "stdout",
          "text": [
            "Failed to process https://www.ndtvprofit.com/markets/brokerage-views-hdfc-bank-kotak-mahindra-bank-earnings-in-focus-jpmorgan-on-cement-firms-and-more: No meaningful content extracted.\n"
          ]
        },
        {
          "output_type": "stream",
          "name": "stderr",
          "text": [
            " 15%|█▍        | 595/4047 [05:52<19:38,  2.93it/s]"
          ]
        },
        {
          "output_type": "stream",
          "name": "stdout",
          "text": [
            "Failed to process https://www.ndtvprofit.com/research-reports/hdfc-bank-q2-results-review-ldr-aspects-still-portend-a-long-walk-to-freedom-yes-securities: No meaningful content extracted.\n"
          ]
        },
        {
          "output_type": "stream",
          "name": "stderr",
          "text": [
            " 16%|█▌        | 649/4047 [06:25<28:27,  1.99it/s]"
          ]
        },
        {
          "output_type": "stream",
          "name": "stdout",
          "text": [
            "Failed to fetch https://www.goodreturns.in/news/hdfc-bank-q2-results-net-profit-reached-rs-16-820-cr-nii-rises-10-rs-30-114-cr-1383229.html: 403 Client Error: Forbidden for url: https://www.goodreturns.in/news/hdfc-bank-q2-results-net-profit-reached-rs-16-820-cr-nii-rises-10-rs-30-114-cr-1383229.html\n",
            "Failed to process https://www.goodreturns.in/news/hdfc-bank-q2-results-net-profit-reached-rs-16-820-cr-nii-rises-10-rs-30-114-cr-1383229.html: No meaningful content extracted.\n"
          ]
        },
        {
          "output_type": "stream",
          "name": "stderr",
          "text": [
            " 17%|█▋        | 675/4047 [06:57<1:20:40,  1.44s/it]"
          ]
        },
        {
          "output_type": "stream",
          "name": "stdout",
          "text": [
            "Failed to fetch https://economictimes.indiatimes.com/mf/analysis/what-hdfc-mutual-fund-bought-and-sold-in-september-heres-a-breakup/articleshow/114309425.cms: 410 Client Error: Gone for url: https://economictimes.indiatimes.com/mf/analysis/what-hdfc-mutual-fund-bought-and-sold-in-september-heres-a-breakup/articleshow/114309425.cms\n",
            "Failed to process https://economictimes.indiatimes.com/mf/analysis/what-hdfc-mutual-fund-bought-and-sold-in-september-heres-a-breakup/articleshow/114309425.cms: No meaningful content extracted.\n"
          ]
        },
        {
          "output_type": "stream",
          "name": "stderr",
          "text": [
            " 18%|█▊        | 735/4047 [08:00<29:09,  1.89it/s]"
          ]
        },
        {
          "output_type": "stream",
          "name": "stdout",
          "text": [
            "Failed to fetch https://www.livemint.com/market/stock-market-news/top-gainers-and-losers-today-on-10-october-2024-kotak-mahindra-bank-hdfc-bank-cipla-tech-mahindra-among-most-active-stocks-check-full-list-here-11728556392427.html: 410 Client Error: Gone for url: https://www.livemint.com/market/stock-market-news/top-gainers-and-losers-today-on-10-october-2024-kotak-mahindra-bank-hdfc-bank-cipla-tech-mahindra-among-most-active-stocks-check-full-list-here-11728556392427.html\n",
            "Failed to process https://www.livemint.com/market/stock-market-news/top-gainers-and-losers-today-on-10-october-2024-kotak-mahindra-bank-hdfc-bank-cipla-tech-mahindra-among-most-active-stocks-check-full-list-here-11728556392427.html: No meaningful content extracted.\n"
          ]
        },
        {
          "output_type": "stream",
          "name": "stderr",
          "text": [
            " 19%|█▉        | 760/4047 [08:22<31:00,  1.77it/s]"
          ]
        },
        {
          "output_type": "stream",
          "name": "stdout",
          "text": [
            "Failed to process https://navbharattimes.indiatimes.com/business/share-market/share-news/sebi-approves-nsdl-ipo-many-banks-including-hdfc-bank-to-pare-stake/articleshow/114041290.cms: No meaningful content extracted.\n"
          ]
        },
        {
          "output_type": "stream",
          "name": "stderr",
          "text": [
            " 19%|█▉        | 771/4047 [08:26<19:26,  2.81it/s]"
          ]
        },
        {
          "output_type": "stream",
          "name": "stdout",
          "text": [
            "Failed to fetch https://www.livemint.com/market/ipo/latest-ipo-news-today-on-october-8-2024-live-updates-11728361940705.html: 410 Client Error: Gone for url: https://www.livemint.com/market/ipo/latest-ipo-news-today-on-october-8-2024-live-updates-11728361940705.html\n",
            "Failed to process https://www.livemint.com/market/ipo/latest-ipo-news-today-on-october-8-2024-live-updates-11728361940705.html: No meaningful content extracted.\n"
          ]
        },
        {
          "output_type": "stream",
          "name": "stderr",
          "text": [
            " 19%|█▉        | 787/4047 [08:34<20:54,  2.60it/s]"
          ]
        },
        {
          "output_type": "stream",
          "name": "stdout",
          "text": [
            "Failed to process https://eisamay.com/business/business-news/hdfc-bank-hikes-loan-interest-rates-by-5-bps-on-these-two-tenures/articleshow/114014070.cms: No meaningful content extracted.\n"
          ]
        },
        {
          "output_type": "stream",
          "name": "stderr",
          "text": [
            " 22%|██▏       | 878/4047 [09:43<33:16,  1.59it/s]"
          ]
        },
        {
          "output_type": "stream",
          "name": "stdout",
          "text": [
            "Failed to process https://www.iamgujarat.com/business/news/287-shares-reach-52-week-high/articleshow/113740582.cms: No meaningful content extracted.\n"
          ]
        },
        {
          "output_type": "stream",
          "name": "stderr",
          "text": [
            " 23%|██▎       | 920/4047 [10:11<18:23,  2.83it/s]"
          ]
        },
        {
          "output_type": "stream",
          "name": "stdout",
          "text": [
            "Failed to process https://vijaykarnataka.com/business/news/another-victim-of-work-stress-hdfc-bank-employee-dies-after-falling-from-the-chair-in-the-office/articleshow/113665794.cms: No meaningful content extracted.\n"
          ]
        },
        {
          "output_type": "stream",
          "name": "stderr",
          "text": [
            " 23%|██▎       | 932/4047 [10:19<32:22,  1.60it/s]"
          ]
        },
        {
          "output_type": "stream",
          "name": "stdout",
          "text": [
            "Failed to process https://www.ndtvprofit.com/markets/brokerage-views-goldman-sachs-picks-20-indian-stocks-ril-ultratech-larsen-and-toubro-indigo-mahindra-adani-ports-hsbc-hikes-hdfc-bank-target-price-and-more: No meaningful content extracted.\n"
          ]
        },
        {
          "output_type": "stream",
          "name": "stderr",
          "text": [
            " 26%|██▌       | 1056/4047 [11:42<22:15,  2.24it/s]"
          ]
        },
        {
          "output_type": "stream",
          "name": "stdout",
          "text": [
            "Failed to process https://navbharattimes.indiatimes.com/business/share-market/share-news/hdfc-bank-airtel-lift-sensex-1000-points-investors-add-rs-5-lakh-crore-why-share-market-is-going-up/articleshow/113287744.cms: No meaningful content extracted.\n"
          ]
        },
        {
          "output_type": "stream",
          "name": "stderr",
          "text": [
            " 27%|██▋       | 1075/4047 [11:57<30:36,  1.62it/s]"
          ]
        },
        {
          "output_type": "stream",
          "name": "stdout",
          "text": [
            "Failed to fetch https://www.goodreturns.in/personal-finance/investment/coal-india-or-hdfc-bank-day-trading-stock-picks-by-vla-ambala-on-wednesday-11th-september-1375625.html: 403 Client Error: Forbidden for url: https://www.goodreturns.in/personal-finance/investment/coal-india-or-hdfc-bank-day-trading-stock-picks-by-vla-ambala-on-wednesday-11th-september-1375625.html\n",
            "Failed to process https://www.goodreturns.in/personal-finance/investment/coal-india-or-hdfc-bank-day-trading-stock-picks-by-vla-ambala-on-wednesday-11th-september-1375625.html: No meaningful content extracted.\n"
          ]
        },
        {
          "output_type": "stream",
          "name": "stderr",
          "text": [
            " 27%|██▋       | 1081/4047 [11:59<21:09,  2.34it/s]"
          ]
        },
        {
          "output_type": "stream",
          "name": "stdout",
          "text": [
            "Failed to process https://navbharattimes.indiatimes.com/business/business-news/rbi-slaps-rs-2-91-crore-penalty-on-axis-bank-hdfc-bank-for-not-complying-with-directives/articleshow/113236348.cms: No meaningful content extracted.\n"
          ]
        },
        {
          "output_type": "stream",
          "name": "stderr",
          "text": [
            " 27%|██▋       | 1088/4047 [12:03<36:23,  1.36it/s]"
          ]
        },
        {
          "output_type": "stream",
          "name": "stdout",
          "text": [
            "Failed to process https://navbharattimes.indiatimes.com/business/personal-finance/savings-and-investments/this-lic-scheme-makes-rs-10k-sip-to-rs-12-lakh-hdfc-bank-tcs-top-stocks-in-portfolio/articleshow/113225840.cms: No meaningful content extracted.\n"
          ]
        },
        {
          "output_type": "stream",
          "name": "stderr",
          "text": [
            " 27%|██▋       | 1110/4047 [12:22<30:52,  1.59it/s]"
          ]
        },
        {
          "output_type": "stream",
          "name": "stdout",
          "text": [
            "Failed to process https://navbharattimes.indiatimes.com/business/business-news/hdfc-bank-increased-mclr-by-5-bps-loan-become-costly-know-new-interest-rate/articleshow/113152426.cms: No meaningful content extracted.\n"
          ]
        },
        {
          "output_type": "stream",
          "name": "stderr",
          "text": [
            " 28%|██▊       | 1121/4047 [12:30<54:58,  1.13s/it]"
          ]
        },
        {
          "output_type": "stream",
          "name": "stdout",
          "text": [
            "Failed to fetch https://www.livemint.com/market/live-blog/hdfc-bank-share-price-today-latest-live-updates-on-06-sep-2024-11725589992051.html: 410 Client Error: Gone for url: https://www.livemint.com/market/live-blog/hdfc-bank-share-price-today-latest-live-updates-on-06-sep-2024-11725589992051.html\n",
            "Failed to process https://www.livemint.com/market/live-blog/hdfc-bank-share-price-today-latest-live-updates-on-06-sep-2024-11725589992051.html: No meaningful content extracted.\n"
          ]
        },
        {
          "output_type": "stream",
          "name": "stderr",
          "text": [
            " 28%|██▊       | 1130/4047 [12:35<39:06,  1.24it/s]  "
          ]
        },
        {
          "output_type": "stream",
          "name": "stdout",
          "text": [
            "Failed to fetch https://www.livemint.com/market/live-blog/hdfc-bank-share-price-today-latest-live-updates-on-05-sep-2024-11725503482308.html: 410 Client Error: Gone for url: https://www.livemint.com/market/live-blog/hdfc-bank-share-price-today-latest-live-updates-on-05-sep-2024-11725503482308.html\n",
            "Failed to process https://www.livemint.com/market/live-blog/hdfc-bank-share-price-today-latest-live-updates-on-05-sep-2024-11725503482308.html: No meaningful content extracted.\n"
          ]
        },
        {
          "output_type": "stream",
          "name": "stderr",
          "text": [
            " 28%|██▊       | 1142/4047 [12:44<22:12,  2.18it/s]"
          ]
        },
        {
          "output_type": "stream",
          "name": "stdout",
          "text": [
            "Failed to fetch https://www.livemint.com/market/live-blog/hdfc-bank-share-price-today-latest-live-updates-on-03-sep-2024-11725330742884.html: 410 Client Error: Gone for url: https://www.livemint.com/market/live-blog/hdfc-bank-share-price-today-latest-live-updates-on-03-sep-2024-11725330742884.html\n",
            "Failed to process https://www.livemint.com/market/live-blog/hdfc-bank-share-price-today-latest-live-updates-on-03-sep-2024-11725330742884.html: No meaningful content extracted.\n"
          ]
        },
        {
          "output_type": "stream",
          "name": "stderr",
          "text": [
            " 28%|██▊       | 1149/4047 [12:56<1:29:11,  1.85s/it]"
          ]
        },
        {
          "output_type": "stream",
          "name": "stdout",
          "text": [
            "Failed to fetch https://www.goodreturns.in/news/hdfc-bank-jlr-india-ink-mou-for-auto-financing-1373899.html: 403 Client Error: Forbidden for url: https://www.goodreturns.in/news/hdfc-bank-jlr-india-ink-mou-for-auto-financing-1373899.html\n",
            "Failed to process https://www.goodreturns.in/news/hdfc-bank-jlr-india-ink-mou-for-auto-financing-1373899.html: No meaningful content extracted.\n"
          ]
        },
        {
          "output_type": "stream",
          "name": "stderr",
          "text": [
            " 29%|██▉       | 1181/4047 [13:37<1:10:22,  1.47s/it]"
          ]
        },
        {
          "output_type": "stream",
          "name": "stdout",
          "text": [
            "Failed to fetch https://www.livemint.com/market/live-blog/hdfc-bank-share-price-today-latest-live-updates-on-30-aug-2024-11724985199202.html: 410 Client Error: Gone for url: https://www.livemint.com/market/live-blog/hdfc-bank-share-price-today-latest-live-updates-on-30-aug-2024-11724985199202.html\n",
            "Failed to process https://www.livemint.com/market/live-blog/hdfc-bank-share-price-today-latest-live-updates-on-30-aug-2024-11724985199202.html: No meaningful content extracted.\n"
          ]
        },
        {
          "output_type": "stream",
          "name": "stderr",
          "text": [
            " 29%|██▉       | 1186/4047 [13:42<1:10:08,  1.47s/it]"
          ]
        },
        {
          "output_type": "stream",
          "name": "stdout",
          "text": [
            "Failed to fetch https://www.livemint.com/market/live-blog/hdfc-bank-share-price-today-latest-live-updates-on-29-aug-2024-11724898707253.html: 410 Client Error: Gone for url: https://www.livemint.com/market/live-blog/hdfc-bank-share-price-today-latest-live-updates-on-29-aug-2024-11724898707253.html\n",
            "Failed to process https://www.livemint.com/market/live-blog/hdfc-bank-share-price-today-latest-live-updates-on-29-aug-2024-11724898707253.html: No meaningful content extracted.\n"
          ]
        },
        {
          "output_type": "stream",
          "name": "stderr",
          "text": [
            " 29%|██▉       | 1191/4047 [13:46<1:09:53,  1.47s/it]"
          ]
        },
        {
          "output_type": "stream",
          "name": "stdout",
          "text": [
            "Failed to fetch https://www.livemint.com/market/live-blog/hdfc-bank-share-price-today-latest-live-updates-on-28-aug-2024-11724812390419.html: 410 Client Error: Gone for url: https://www.livemint.com/market/live-blog/hdfc-bank-share-price-today-latest-live-updates-on-28-aug-2024-11724812390419.html\n",
            "Failed to process https://www.livemint.com/market/live-blog/hdfc-bank-share-price-today-latest-live-updates-on-28-aug-2024-11724812390419.html: No meaningful content extracted.\n"
          ]
        },
        {
          "output_type": "stream",
          "name": "stderr",
          "text": [
            " 30%|██▉       | 1201/4047 [13:54<56:38,  1.19s/it]"
          ]
        },
        {
          "output_type": "stream",
          "name": "stdout",
          "text": [
            "Failed to fetch https://www.livemint.com/market/live-blog/hdfc-bank-share-price-today-latest-live-updates-on-27-aug-2024-11724725974754.html: 410 Client Error: Gone for url: https://www.livemint.com/market/live-blog/hdfc-bank-share-price-today-latest-live-updates-on-27-aug-2024-11724725974754.html\n",
            "Failed to process https://www.livemint.com/market/live-blog/hdfc-bank-share-price-today-latest-live-updates-on-27-aug-2024-11724725974754.html: No meaningful content extracted.\n"
          ]
        },
        {
          "output_type": "stream",
          "name": "stderr",
          "text": [
            " 30%|██▉       | 1212/4047 [14:02<28:43,  1.64it/s]"
          ]
        },
        {
          "output_type": "stream",
          "name": "stdout",
          "text": [
            "Failed to fetch https://www.livemint.com/market/live-blog/hdfc-bank-share-price-today-latest-live-updates-on-26-aug-2024-11724644527651.html: 410 Client Error: Gone for url: https://www.livemint.com/market/live-blog/hdfc-bank-share-price-today-latest-live-updates-on-26-aug-2024-11724644527651.html\n",
            "Failed to process https://www.livemint.com/market/live-blog/hdfc-bank-share-price-today-latest-live-updates-on-26-aug-2024-11724644527651.html: No meaningful content extracted.\n"
          ]
        },
        {
          "output_type": "stream",
          "name": "stderr",
          "text": [
            " 30%|███       | 1215/4047 [14:02<16:12,  2.91it/s]"
          ]
        },
        {
          "output_type": "stream",
          "name": "stdout",
          "text": [
            "Failed to process https://bengali.news18.com/photogallery/business/taken-10-lakh-rupees-personal-loan-from-hdfc-bank-know-how-much-emi-you-have-to-pay-tc-dc-1816595.html: No meaningful content extracted.\n"
          ]
        },
        {
          "output_type": "stream",
          "name": "stderr",
          "text": [
            " 30%|███       | 1225/4047 [14:12<1:42:40,  2.18s/it]"
          ]
        },
        {
          "output_type": "stream",
          "name": "stdout",
          "text": [
            "Failed to fetch https://www.livemint.com/market/live-blog/hdfc-bank-share-price-today-latest-live-updates-on-23-aug-2024-11724380462317.html: 410 Client Error: Gone for url: https://www.livemint.com/market/live-blog/hdfc-bank-share-price-today-latest-live-updates-on-23-aug-2024-11724380462317.html\n",
            "Failed to process https://www.livemint.com/market/live-blog/hdfc-bank-share-price-today-latest-live-updates-on-23-aug-2024-11724380462317.html: No meaningful content extracted.\n"
          ]
        },
        {
          "output_type": "stream",
          "name": "stderr",
          "text": [
            " 30%|███       | 1232/4047 [14:21<1:24:44,  1.81s/it]"
          ]
        },
        {
          "output_type": "stream",
          "name": "stdout",
          "text": [
            "Failed to fetch https://www.livemint.com/market/live-blog/hdfc-bank-share-price-today-latest-live-updates-on-22-aug-2024-11724293873781.html: 410 Client Error: Gone for url: https://www.livemint.com/market/live-blog/hdfc-bank-share-price-today-latest-live-updates-on-22-aug-2024-11724293873781.html\n",
            "Failed to process https://www.livemint.com/market/live-blog/hdfc-bank-share-price-today-latest-live-updates-on-22-aug-2024-11724293873781.html: No meaningful content extracted.\n"
          ]
        },
        {
          "output_type": "stream",
          "name": "stderr",
          "text": [
            " 31%|███       | 1240/4047 [14:24<24:36,  1.90it/s]"
          ]
        },
        {
          "output_type": "stream",
          "name": "stdout",
          "text": [
            "Failed to fetch https://www.livemint.com/market/live-blog/hdfc-bank-share-price-today-latest-live-updates-on-21-aug-2024-11724207445641.html: 410 Client Error: Gone for url: https://www.livemint.com/market/live-blog/hdfc-bank-share-price-today-latest-live-updates-on-21-aug-2024-11724207445641.html\n",
            "Failed to process https://www.livemint.com/market/live-blog/hdfc-bank-share-price-today-latest-live-updates-on-21-aug-2024-11724207445641.html: No meaningful content extracted.\n"
          ]
        },
        {
          "output_type": "stream",
          "name": "stderr",
          "text": [
            " 31%|███       | 1245/4047 [14:29<36:52,  1.27it/s]"
          ]
        },
        {
          "output_type": "stream",
          "name": "stdout",
          "text": [
            "Failed to fetch https://www.livemint.com/market/live-blog/hdfc-bank-share-price-today-latest-live-updates-on-20-aug-2024-11724121166470.html: 410 Client Error: Gone for url: https://www.livemint.com/market/live-blog/hdfc-bank-share-price-today-latest-live-updates-on-20-aug-2024-11724121166470.html\n",
            "Failed to process https://www.livemint.com/market/live-blog/hdfc-bank-share-price-today-latest-live-updates-on-20-aug-2024-11724121166470.html: No meaningful content extracted.\n"
          ]
        },
        {
          "output_type": "stream",
          "name": "stderr",
          "text": [
            " 31%|███       | 1247/4047 [14:30<27:23,  1.70it/s]"
          ]
        },
        {
          "output_type": "stream",
          "name": "stdout",
          "text": [
            "Failed to process https://bengali.news18.com/photogallery/business/money-making-tips-hdfc-bank-vs-sbi-vs-icici-bank-check-detailed-fd-interest-rate-comparison-arn-1809204.html: No meaningful content extracted.\n",
            "Failed to fetch https://www.livemint.com/market/live-blog/hdfc-bank-share-price-today-latest-live-updates-on-19-aug-2024-11724034731024.html: 410 Client Error: Gone for url: https://www.livemint.com/market/live-blog/hdfc-bank-share-price-today-latest-live-updates-on-19-aug-2024-11724034731024.html\n",
            "Failed to process https://www.livemint.com/market/live-blog/hdfc-bank-share-price-today-latest-live-updates-on-19-aug-2024-11724034731024.html: No meaningful content extracted.\n"
          ]
        },
        {
          "output_type": "stream",
          "name": "stderr",
          "text": [
            " 31%|███       | 1250/4047 [14:30<19:18,  2.41it/s]"
          ]
        },
        {
          "output_type": "stream",
          "name": "stdout",
          "text": [
            "Failed to process https://navbharattimes.indiatimes.com/business/business-news/banks-amassed-rs-8495-crore-from-customers-not-maintaining-minimum-balance-know-charge-of-sbi-hdfc-bank-icici-bank-yes-bank-pnb/articleshow/112609689.cms: No meaningful content extracted.\n"
          ]
        },
        {
          "output_type": "stream",
          "name": "stderr",
          "text": [
            " 31%|███       | 1255/4047 [14:32<12:28,  3.73it/s]"
          ]
        },
        {
          "output_type": "stream",
          "name": "stdout",
          "text": [
            "Failed to fetch https://www.livemint.com/market/live-blog/hdfc-bank-share-price-today-latest-live-updates-on-16-aug-2024-11723775676292.html: 410 Client Error: Gone for url: https://www.livemint.com/market/live-blog/hdfc-bank-share-price-today-latest-live-updates-on-16-aug-2024-11723775676292.html\n",
            "Failed to process https://www.livemint.com/market/live-blog/hdfc-bank-share-price-today-latest-live-updates-on-16-aug-2024-11723775676292.html: No meaningful content extracted.\n"
          ]
        },
        {
          "output_type": "stream",
          "name": "stderr",
          "text": [
            " 31%|███       | 1259/4047 [14:33<11:52,  3.91it/s]"
          ]
        },
        {
          "output_type": "stream",
          "name": "stdout",
          "text": [
            "Failed to process https://bengali.news18.com/photogallery/business/if-you-invest-350000-rupees-in-hdfc-bank-fixed-deposit-for-35-months-how-much-return-will-you-get-tc-dc-1801735.html: No meaningful content extracted.\n"
          ]
        },
        {
          "output_type": "stream",
          "name": "stderr",
          "text": [
            " 31%|███       | 1261/4047 [14:33<12:41,  3.66it/s]"
          ]
        },
        {
          "output_type": "stream",
          "name": "stdout",
          "text": [
            "Failed to fetch https://www.livemint.com/market/live-blog/hdfc-bank-share-price-today-latest-live-updates-on-14-aug-2024-11723602908701.html: 410 Client Error: Gone for url: https://www.livemint.com/market/live-blog/hdfc-bank-share-price-today-latest-live-updates-on-14-aug-2024-11723602908701.html\n",
            "Failed to process https://www.livemint.com/market/live-blog/hdfc-bank-share-price-today-latest-live-updates-on-14-aug-2024-11723602908701.html: No meaningful content extracted.\n"
          ]
        },
        {
          "output_type": "stream",
          "name": "stderr",
          "text": [
            " 31%|███▏      | 1274/4047 [14:39<26:26,  1.75it/s]"
          ]
        },
        {
          "output_type": "stream",
          "name": "stdout",
          "text": [
            "Failed to fetch https://www.livemint.com/market/stock-market-news/top-gainers-and-losers-today-on-13-august-2024-titan-company-apollo-hospitals-enterprise-bharat-petroleum-corporation-hdfc-bank-among-most-active-stocks-check-full-list-here-11723545198838.html: 410 Client Error: Gone for url: https://www.livemint.com/market/stock-market-news/top-gainers-and-losers-today-on-13-august-2024-titan-company-apollo-hospitals-enterprise-bharat-petroleum-corporation-hdfc-bank-among-most-active-stocks-check-full-list-here-11723545198838.html\n",
            "Failed to process https://www.livemint.com/market/stock-market-news/top-gainers-and-losers-today-on-13-august-2024-titan-company-apollo-hospitals-enterprise-bharat-petroleum-corporation-hdfc-bank-among-most-active-stocks-check-full-list-here-11723545198838.html: No meaningful content extracted.\n"
          ]
        },
        {
          "output_type": "stream",
          "name": "stderr",
          "text": [
            " 32%|███▏      | 1278/4047 [14:40<18:56,  2.44it/s]"
          ]
        },
        {
          "output_type": "stream",
          "name": "stdout",
          "text": [
            "Failed to fetch https://www.goodreturns.in/news/hdfc-bank-shares-decline-3-as-msci-s-two-tranche-weightage-boost-disappoints-investors-details-1363435.html: 403 Client Error: Forbidden for url: https://www.goodreturns.in/news/hdfc-bank-shares-decline-3-as-msci-s-two-tranche-weightage-boost-disappoints-investors-details-1363435.html\n",
            "Failed to process https://www.goodreturns.in/news/hdfc-bank-shares-decline-3-as-msci-s-two-tranche-weightage-boost-disappoints-investors-details-1363435.html: No meaningful content extracted.\n"
          ]
        },
        {
          "output_type": "stream",
          "name": "stderr",
          "text": [
            " 32%|███▏      | 1295/4047 [14:53<37:28,  1.22it/s]"
          ]
        },
        {
          "output_type": "stream",
          "name": "stdout",
          "text": [
            "Failed to fetch https://www.livemint.com/market/live-blog/hdfc-bank-share-price-today-latest-live-updates-on-12-aug-2024-11723430058797.html: 410 Client Error: Gone for url: https://www.livemint.com/market/live-blog/hdfc-bank-share-price-today-latest-live-updates-on-12-aug-2024-11723430058797.html\n",
            "Failed to process https://www.livemint.com/market/live-blog/hdfc-bank-share-price-today-latest-live-updates-on-12-aug-2024-11723430058797.html: No meaningful content extracted.\n"
          ]
        },
        {
          "output_type": "stream",
          "name": "stderr",
          "text": [
            " 33%|███▎      | 1316/4047 [15:07<25:52,  1.76it/s]"
          ]
        },
        {
          "output_type": "stream",
          "name": "stdout",
          "text": [
            "Failed to fetch https://www.livemint.com/market/live-blog/hdfc-bank-share-price-today-latest-live-updates-on-08-aug-2024-11723084428433.html: 410 Client Error: Gone for url: https://www.livemint.com/market/live-blog/hdfc-bank-share-price-today-latest-live-updates-on-08-aug-2024-11723084428433.html\n",
            "Failed to process https://www.livemint.com/market/live-blog/hdfc-bank-share-price-today-latest-live-updates-on-08-aug-2024-11723084428433.html: No meaningful content extracted.\n"
          ]
        },
        {
          "output_type": "stream",
          "name": "stderr",
          "text": [
            " 33%|███▎      | 1322/4047 [15:09<13:21,  3.40it/s]"
          ]
        },
        {
          "output_type": "stream",
          "name": "stdout",
          "text": [
            "Failed to fetch https://www.livemint.com/market/live-blog/hdfc-bank-share-price-today-latest-live-updates-on-07-aug-2024-11722998011471.html: 410 Client Error: Gone for url: https://www.livemint.com/market/live-blog/hdfc-bank-share-price-today-latest-live-updates-on-07-aug-2024-11722998011471.html\n",
            "Failed to process https://www.livemint.com/market/live-blog/hdfc-bank-share-price-today-latest-live-updates-on-07-aug-2024-11722998011471.html: No meaningful content extracted.\n"
          ]
        },
        {
          "output_type": "stream",
          "name": "stderr",
          "text": [
            " 33%|███▎      | 1334/4047 [15:16<17:23,  2.60it/s]"
          ]
        },
        {
          "output_type": "stream",
          "name": "stdout",
          "text": [
            "Failed to fetch https://www.livemint.com/market/live-blog/hdfc-bank-share-price-today-latest-live-updates-on-06-aug-2024-11722911543961.html: 410 Client Error: Gone for url: https://www.livemint.com/market/live-blog/hdfc-bank-share-price-today-latest-live-updates-on-06-aug-2024-11722911543961.html\n",
            "Failed to process https://www.livemint.com/market/live-blog/hdfc-bank-share-price-today-latest-live-updates-on-06-aug-2024-11722911543961.html: No meaningful content extracted.\n"
          ]
        },
        {
          "output_type": "stream",
          "name": "stderr",
          "text": [
            " 33%|███▎      | 1338/4047 [15:18<26:34,  1.70it/s]"
          ]
        },
        {
          "output_type": "stream",
          "name": "stdout",
          "text": [
            "Failed to fetch https://www.livemint.com/market/live-blog/hdfc-bank-share-price-today-latest-live-updates-on-05-aug-2024-11722825180608.html: 410 Client Error: Gone for url: https://www.livemint.com/market/live-blog/hdfc-bank-share-price-today-latest-live-updates-on-05-aug-2024-11722825180608.html\n",
            "Failed to process https://www.livemint.com/market/live-blog/hdfc-bank-share-price-today-latest-live-updates-on-05-aug-2024-11722825180608.html: No meaningful content extracted.\n"
          ]
        },
        {
          "output_type": "stream",
          "name": "stderr",
          "text": [
            " 33%|███▎      | 1349/4047 [15:24<20:02,  2.24it/s]"
          ]
        },
        {
          "output_type": "stream",
          "name": "stdout",
          "text": [
            "Failed to fetch https://www.livemint.com/market/stock-market-news/top-gainers-and-losers-today-on-2-august-2024-divis-laboratories-hdfc-bank-eicher-motors-maruti-suzuki-india-among-most-active-stocks-check-full-list-here-11722594797419.html: 410 Client Error: Gone for url: https://www.livemint.com/market/stock-market-news/top-gainers-and-losers-today-on-2-august-2024-divis-laboratories-hdfc-bank-eicher-motors-maruti-suzuki-india-among-most-active-stocks-check-full-list-here-11722594797419.html\n",
            "Failed to process https://www.livemint.com/market/stock-market-news/top-gainers-and-losers-today-on-2-august-2024-divis-laboratories-hdfc-bank-eicher-motors-maruti-suzuki-india-among-most-active-stocks-check-full-list-here-11722594797419.html: No meaningful content extracted.\n"
          ]
        },
        {
          "output_type": "stream",
          "name": "stderr",
          "text": [
            " 34%|███▎      | 1357/4047 [15:30<20:20,  2.20it/s]"
          ]
        },
        {
          "output_type": "stream",
          "name": "stdout",
          "text": [
            "Failed to fetch https://www.livemint.com/market/live-blog/hdfc-bank-share-price-today-latest-live-updates-on-02-aug-2024-11722566062330.html: 410 Client Error: Gone for url: https://www.livemint.com/market/live-blog/hdfc-bank-share-price-today-latest-live-updates-on-02-aug-2024-11722566062330.html\n",
            "Failed to process https://www.livemint.com/market/live-blog/hdfc-bank-share-price-today-latest-live-updates-on-02-aug-2024-11722566062330.html: No meaningful content extracted.\n"
          ]
        },
        {
          "output_type": "stream",
          "name": "stderr",
          "text": [
            " 34%|███▍      | 1373/4047 [15:37<17:34,  2.54it/s]"
          ]
        },
        {
          "output_type": "stream",
          "name": "stdout",
          "text": [
            "Failed to fetch https://www.livemint.com/market/live-blog/hdfc-bank-share-price-today-latest-live-updates-on-01-aug-2024-11722479669992.html: 410 Client Error: Gone for url: https://www.livemint.com/market/live-blog/hdfc-bank-share-price-today-latest-live-updates-on-01-aug-2024-11722479669992.html\n",
            "Failed to process https://www.livemint.com/market/live-blog/hdfc-bank-share-price-today-latest-live-updates-on-01-aug-2024-11722479669992.html: No meaningful content extracted.\n"
          ]
        },
        {
          "output_type": "stream",
          "name": "stderr",
          "text": [
            " 34%|███▍      | 1386/4047 [15:41<13:08,  3.37it/s]"
          ]
        },
        {
          "output_type": "stream",
          "name": "stdout",
          "text": [
            "Failed to fetch https://www.livemint.com/market/live-blog/hdfc-bank-share-price-today-latest-live-updates-on-31-jul-2024-11722393228040.html: 410 Client Error: Gone for url: https://www.livemint.com/market/live-blog/hdfc-bank-share-price-today-latest-live-updates-on-31-jul-2024-11722393228040.html\n",
            "Failed to process https://www.livemint.com/market/live-blog/hdfc-bank-share-price-today-latest-live-updates-on-31-jul-2024-11722393228040.html: No meaningful content extracted.\n"
          ]
        },
        {
          "output_type": "stream",
          "name": "stderr",
          "text": [
            " 35%|███▍      | 1398/4047 [15:49<38:05,  1.16it/s]"
          ]
        },
        {
          "output_type": "stream",
          "name": "stdout",
          "text": [
            "Failed to fetch https://www.livemint.com/market/live-blog/hdfc-bank-share-price-today-latest-live-updates-on-30-jul-2024-11722306719320.html: 410 Client Error: Gone for url: https://www.livemint.com/market/live-blog/hdfc-bank-share-price-today-latest-live-updates-on-30-jul-2024-11722306719320.html\n",
            "Failed to process https://www.livemint.com/market/live-blog/hdfc-bank-share-price-today-latest-live-updates-on-30-jul-2024-11722306719320.html: No meaningful content extracted.\n"
          ]
        },
        {
          "output_type": "stream",
          "name": "stderr",
          "text": [
            " 35%|███▍      | 1413/4047 [15:56<15:30,  2.83it/s]"
          ]
        },
        {
          "output_type": "stream",
          "name": "stdout",
          "text": [
            "Failed to fetch https://www.livemint.com/market/live-blog/hdfc-bank-share-price-today-latest-live-updates-on-29-jul-2024-11722220438072.html: 410 Client Error: Gone for url: https://www.livemint.com/market/live-blog/hdfc-bank-share-price-today-latest-live-updates-on-29-jul-2024-11722220438072.html\n",
            "Failed to process https://www.livemint.com/market/live-blog/hdfc-bank-share-price-today-latest-live-updates-on-29-jul-2024-11722220438072.html: No meaningful content extracted.\n"
          ]
        },
        {
          "output_type": "stream",
          "name": "stderr",
          "text": [
            " 35%|███▌      | 1431/4047 [16:05<15:23,  2.83it/s]"
          ]
        },
        {
          "output_type": "stream",
          "name": "stdout",
          "text": [
            "Failed to fetch https://www.livemint.com/market/live-blog/hdfc-bank-share-price-today-latest-live-updates-on-26-jul-2024-11721961241454.html: 410 Client Error: Gone for url: https://www.livemint.com/market/live-blog/hdfc-bank-share-price-today-latest-live-updates-on-26-jul-2024-11721961241454.html\n",
            "Failed to process https://www.livemint.com/market/live-blog/hdfc-bank-share-price-today-latest-live-updates-on-26-jul-2024-11721961241454.html: No meaningful content extracted.\n"
          ]
        },
        {
          "output_type": "stream",
          "name": "stderr",
          "text": [
            " 36%|███▌      | 1447/4047 [16:14<20:03,  2.16it/s]"
          ]
        },
        {
          "output_type": "stream",
          "name": "stdout",
          "text": [
            "Failed to fetch https://www.livemint.com/market/live-blog/hdfc-bank-share-price-today-latest-live-updates-on-25-jul-2024-11721874830650.html: 410 Client Error: Gone for url: https://www.livemint.com/market/live-blog/hdfc-bank-share-price-today-latest-live-updates-on-25-jul-2024-11721874830650.html\n",
            "Failed to process https://www.livemint.com/market/live-blog/hdfc-bank-share-price-today-latest-live-updates-on-25-jul-2024-11721874830650.html: No meaningful content extracted.\n"
          ]
        },
        {
          "output_type": "stream",
          "name": "stderr",
          "text": [
            " 36%|███▌      | 1454/4047 [16:16<14:18,  3.02it/s]"
          ]
        },
        {
          "output_type": "stream",
          "name": "stdout",
          "text": [
            "Failed to fetch https://www.livemint.com/market/live-blog/hdfc-bank-share-price-today-latest-live-updates-on-24-jul-2024-11721788345748.html: 410 Client Error: Gone for url: https://www.livemint.com/market/live-blog/hdfc-bank-share-price-today-latest-live-updates-on-24-jul-2024-11721788345748.html\n",
            "Failed to process https://www.livemint.com/market/live-blog/hdfc-bank-share-price-today-latest-live-updates-on-24-jul-2024-11721788345748.html: No meaningful content extracted.\n"
          ]
        },
        {
          "output_type": "stream",
          "name": "stderr",
          "text": [
            " 36%|███▌      | 1459/4047 [16:19<21:42,  1.99it/s]"
          ]
        },
        {
          "output_type": "stream",
          "name": "stdout",
          "text": [
            "Failed to fetch https://www.livemint.com/market/live-blog/hdfc-bank-share-price-today-latest-live-updates-on-23-jul-2024-11721701887786.html: 410 Client Error: Gone for url: https://www.livemint.com/market/live-blog/hdfc-bank-share-price-today-latest-live-updates-on-23-jul-2024-11721701887786.html\n",
            "Failed to process https://www.livemint.com/market/live-blog/hdfc-bank-share-price-today-latest-live-updates-on-23-jul-2024-11721701887786.html: No meaningful content extracted.\n"
          ]
        },
        {
          "output_type": "stream",
          "name": "stderr",
          "text": [
            " 36%|███▋      | 1470/4047 [16:23<11:53,  3.61it/s]"
          ]
        },
        {
          "output_type": "stream",
          "name": "stdout",
          "text": [
            "Failed to fetch https://www.livemint.com/market/live-blog/hdfc-bank-share-price-today-latest-live-updates-on-22-jul-2024-11721615666987.html: 410 Client Error: Gone for url: https://www.livemint.com/market/live-blog/hdfc-bank-share-price-today-latest-live-updates-on-22-jul-2024-11721615666987.html\n",
            "Failed to process https://www.livemint.com/market/live-blog/hdfc-bank-share-price-today-latest-live-updates-on-22-jul-2024-11721615666987.html: No meaningful content extracted.\n"
          ]
        },
        {
          "output_type": "stream",
          "name": "stderr",
          "text": [
            " 37%|███▋      | 1516/4047 [16:43<13:03,  3.23it/s]"
          ]
        },
        {
          "output_type": "stream",
          "name": "stdout",
          "text": [
            "Failed to fetch https://www.livemint.com/market/live-blog/hdfc-bank-share-price-today-latest-live-updates-on-19-jul-2024-11721356396423.html: 410 Client Error: Gone for url: https://www.livemint.com/market/live-blog/hdfc-bank-share-price-today-latest-live-updates-on-19-jul-2024-11721356396423.html\n",
            "Failed to process https://www.livemint.com/market/live-blog/hdfc-bank-share-price-today-latest-live-updates-on-19-jul-2024-11721356396423.html: No meaningful content extracted.\n"
          ]
        },
        {
          "output_type": "stream",
          "name": "stderr",
          "text": [
            " 38%|███▊      | 1528/4047 [16:47<12:21,  3.40it/s]"
          ]
        },
        {
          "output_type": "stream",
          "name": "stdout",
          "text": [
            "Failed to fetch https://www.livemint.com/market/live-blog/hdfc-bank-share-price-today-latest-live-updates-on-16-jul-2024-11721097177279.html: 410 Client Error: Gone for url: https://www.livemint.com/market/live-blog/hdfc-bank-share-price-today-latest-live-updates-on-16-jul-2024-11721097177279.html\n",
            "Failed to process https://www.livemint.com/market/live-blog/hdfc-bank-share-price-today-latest-live-updates-on-16-jul-2024-11721097177279.html: No meaningful content extracted.\n"
          ]
        },
        {
          "output_type": "stream",
          "name": "stderr",
          "text": [
            " 38%|███▊      | 1533/4047 [16:49<12:22,  3.38it/s]"
          ]
        },
        {
          "output_type": "stream",
          "name": "stdout",
          "text": [
            "Failed to fetch https://www.livemint.com/market/live-blog/hdfc-bank-share-price-today-latest-live-updates-on-15-jul-2024-11721010796288.html: 410 Client Error: Gone for url: https://www.livemint.com/market/live-blog/hdfc-bank-share-price-today-latest-live-updates-on-15-jul-2024-11721010796288.html\n",
            "Failed to process https://www.livemint.com/market/live-blog/hdfc-bank-share-price-today-latest-live-updates-on-15-jul-2024-11721010796288.html: No meaningful content extracted.\n"
          ]
        },
        {
          "output_type": "stream",
          "name": "stderr",
          "text": [
            " 38%|███▊      | 1553/4047 [17:05<18:35,  2.24it/s]"
          ]
        },
        {
          "output_type": "stream",
          "name": "stdout",
          "text": [
            "Failed to fetch https://www.livemint.com/market/live-blog/hdfc-bank-share-price-today-latest-live-updates-on-12-jul-2024-11720751571912.html: 410 Client Error: Gone for url: https://www.livemint.com/market/live-blog/hdfc-bank-share-price-today-latest-live-updates-on-12-jul-2024-11720751571912.html\n",
            "Failed to process https://www.livemint.com/market/live-blog/hdfc-bank-share-price-today-latest-live-updates-on-12-jul-2024-11720751571912.html: No meaningful content extracted.\n"
          ]
        },
        {
          "output_type": "stream",
          "name": "stderr",
          "text": [
            " 38%|███▊      | 1557/4047 [17:06<13:26,  3.09it/s]"
          ]
        },
        {
          "output_type": "stream",
          "name": "stdout",
          "text": [
            "Failed to fetch https://www.livemint.com/market/live-blog/hdfc-bank-share-price-today-latest-live-updates-on-11-jul-2024-11720665147624.html: 410 Client Error: Gone for url: https://www.livemint.com/market/live-blog/hdfc-bank-share-price-today-latest-live-updates-on-11-jul-2024-11720665147624.html\n",
            "Failed to process https://www.livemint.com/market/live-blog/hdfc-bank-share-price-today-latest-live-updates-on-11-jul-2024-11720665147624.html: No meaningful content extracted.\n"
          ]
        },
        {
          "output_type": "stream",
          "name": "stderr",
          "text": [
            " 39%|███▊      | 1561/4047 [17:11<35:05,  1.18it/s]"
          ]
        },
        {
          "output_type": "stream",
          "name": "stdout",
          "text": [
            "Failed to fetch https://telugu.samayam.com/business/business-news/rbi-new-rule-can-lower-home-loan-costs-comparison-of-home-loan-charges-of-sbi-hdfc-bank-icici-bank-pnb-kotak-mahindra-bank/articleshow/111635229.cms: 404 Client Error: Not Found for url: https://telugu.samayam.com/business/business-news/rbi-new-rule-can-lower-home-loan-costs-comparison-of-home-loan-charges-of-sbi-hdfc-bank-icici-bank-pnb-kotak-mahindra-bank/articleshow/111635229.cms\n",
            "Failed to process https://telugu.samayam.com/business/business-news/rbi-new-rule-can-lower-home-loan-costs-comparison-of-home-loan-charges-of-sbi-hdfc-bank-icici-bank-pnb-kotak-mahindra-bank/articleshow/111635229.cms: No meaningful content extracted.\n"
          ]
        },
        {
          "output_type": "stream",
          "name": "stderr",
          "text": [
            " 39%|███▉      | 1570/4047 [17:14<17:12,  2.40it/s]"
          ]
        },
        {
          "output_type": "stream",
          "name": "stdout",
          "text": [
            "Failed to fetch https://www.livemint.com/market/live-blog/hdfc-bank-share-price-today-latest-live-updates-on-09-jul-2024-11720492329947.html: 410 Client Error: Gone for url: https://www.livemint.com/market/live-blog/hdfc-bank-share-price-today-latest-live-updates-on-09-jul-2024-11720492329947.html\n",
            "Failed to process https://www.livemint.com/market/live-blog/hdfc-bank-share-price-today-latest-live-updates-on-09-jul-2024-11720492329947.html: No meaningful content extracted.\n"
          ]
        },
        {
          "output_type": "stream",
          "name": "stderr",
          "text": [
            " 39%|███▉      | 1577/4047 [17:23<35:36,  1.16it/s]"
          ]
        },
        {
          "output_type": "stream",
          "name": "stdout",
          "text": [
            "Failed to fetch https://www.livemint.com/market/live-blog/hdfc-bank-share-price-today-latest-live-updates-on-08-jul-2024-11720406026793.html: 410 Client Error: Gone for url: https://www.livemint.com/market/live-blog/hdfc-bank-share-price-today-latest-live-updates-on-08-jul-2024-11720406026793.html\n",
            "Failed to process https://www.livemint.com/market/live-blog/hdfc-bank-share-price-today-latest-live-updates-on-08-jul-2024-11720406026793.html: No meaningful content extracted.\n"
          ]
        },
        {
          "output_type": "stream",
          "name": "stderr",
          "text": [
            " 40%|███▉      | 1599/4047 [17:32<16:37,  2.45it/s]"
          ]
        },
        {
          "output_type": "stream",
          "name": "stdout",
          "text": [
            "Failed to process https://eisamay.com/business/share-market/stock-price-fall-of-hdfc-bank-investors-lost-rs-53000-crore/articleshow/111517116.cms: No meaningful content extracted.\n"
          ]
        },
        {
          "output_type": "stream",
          "name": "stderr",
          "text": [
            " 40%|███▉      | 1607/4047 [17:37<18:23,  2.21it/s]"
          ]
        },
        {
          "output_type": "stream",
          "name": "stdout",
          "text": [
            "Failed to fetch https://www.livemint.com/market/stock-market-news/top-gainers-and-losers-today-on-5-july-2024-oil-natural-gas-corporation-state-bank-of-india-hdfc-bank-titan-company-among-most-active-stocks-check-full-list-here-11720175597341.html: 410 Client Error: Gone for url: https://www.livemint.com/market/stock-market-news/top-gainers-and-losers-today-on-5-july-2024-oil-natural-gas-corporation-state-bank-of-india-hdfc-bank-titan-company-among-most-active-stocks-check-full-list-here-11720175597341.html\n",
            "Failed to process https://www.livemint.com/market/stock-market-news/top-gainers-and-losers-today-on-5-july-2024-oil-natural-gas-corporation-state-bank-of-india-hdfc-bank-titan-company-among-most-active-stocks-check-full-list-here-11720175597341.html: No meaningful content extracted.\n"
          ]
        },
        {
          "output_type": "stream",
          "name": "stderr",
          "text": [
            " 40%|████      | 1628/4047 [17:47<13:43,  2.94it/s]"
          ]
        },
        {
          "output_type": "stream",
          "name": "stdout",
          "text": [
            "Failed to fetch https://www.livemint.com/market/stock-market-news/top-gainers-and-losers-today-on-4-july-2024-hcl-technologies-icici-bank-hdfc-bank-bajaj-finance-among-most-active-stocks-check-full-list-here-11720089196747.html: 410 Client Error: Gone for url: https://www.livemint.com/market/stock-market-news/top-gainers-and-losers-today-on-4-july-2024-hcl-technologies-icici-bank-hdfc-bank-bajaj-finance-among-most-active-stocks-check-full-list-here-11720089196747.html\n",
            "Failed to process https://www.livemint.com/market/stock-market-news/top-gainers-and-losers-today-on-4-july-2024-hcl-technologies-icici-bank-hdfc-bank-bajaj-finance-among-most-active-stocks-check-full-list-here-11720089196747.html: No meaningful content extracted.\n"
          ]
        },
        {
          "output_type": "stream",
          "name": "stderr",
          "text": [
            " 40%|████      | 1636/4047 [17:50<19:59,  2.01it/s]"
          ]
        },
        {
          "output_type": "stream",
          "name": "stdout",
          "text": [
            "Failed to fetch https://www.livemint.com/market/live-blog/hdfc-bank-share-price-today-latest-live-updates-on-04-jul-2024-11720060355307.html: 410 Client Error: Gone for url: https://www.livemint.com/market/live-blog/hdfc-bank-share-price-today-latest-live-updates-on-04-jul-2024-11720060355307.html\n",
            "Failed to process https://www.livemint.com/market/live-blog/hdfc-bank-share-price-today-latest-live-updates-on-04-jul-2024-11720060355307.html: No meaningful content extracted.\n"
          ]
        },
        {
          "output_type": "stream",
          "name": "stderr",
          "text": [
            "\r 40%|████      | 1638/4047 [17:50<17:12,  2.33it/s]"
          ]
        },
        {
          "output_type": "stream",
          "name": "stdout",
          "text": [
            "Failed to process https://vijaykarnataka.com/business/stock-market/sensex-crosses-80000-milestone-on-wednesday-hdfc-bank-stock-hits-52-week-high/articleshow/111467017.cms: No meaningful content extracted.\n"
          ]
        },
        {
          "output_type": "stream",
          "name": "stderr",
          "text": [
            " 41%|████      | 1654/4047 [18:02<19:53,  2.00it/s]"
          ]
        },
        {
          "output_type": "stream",
          "name": "stdout",
          "text": [
            "Failed to fetch https://www.livemint.com/market/genus-power-infrastructures-hdfc-bank-others-hit-52-week-high-today-do-you-own-any-11719984600849.html: 410 Client Error: Gone for url: https://www.livemint.com/market/genus-power-infrastructures-hdfc-bank-others-hit-52-week-high-today-do-you-own-any-11719984600849.html\n",
            "Failed to process https://www.livemint.com/market/genus-power-infrastructures-hdfc-bank-others-hit-52-week-high-today-do-you-own-any-11719984600849.html: No meaningful content extracted.\n"
          ]
        },
        {
          "output_type": "stream",
          "name": "stderr",
          "text": [
            " 41%|████      | 1656/4047 [18:02<15:04,  2.64it/s]"
          ]
        },
        {
          "output_type": "stream",
          "name": "stdout",
          "text": [
            "Failed to fetch https://www.goodreturns.in/news/bull-rally-intensifies-market-at-record-high-sensex-tops-80-000-nifty-near-24-300-hdfc-leads-1355215.html: 403 Client Error: Forbidden for url: https://www.goodreturns.in/news/bull-rally-intensifies-market-at-record-high-sensex-tops-80-000-nifty-near-24-300-hdfc-leads-1355215.html\n",
            "Failed to process https://www.goodreturns.in/news/bull-rally-intensifies-market-at-record-high-sensex-tops-80-000-nifty-near-24-300-hdfc-leads-1355215.html: No meaningful content extracted.\n",
            "Failed to fetch https://www.goodreturns.in/news/hdfc-bank-stock-sensex-nifty-to-fresh-record-rally-ahead-the-reason-could-be-msci-august-rejig-1355213.html: 403 Client Error: Forbidden for url: https://www.goodreturns.in/news/hdfc-bank-stock-sensex-nifty-to-fresh-record-rally-ahead-the-reason-could-be-msci-august-rejig-1355213.html\n",
            "Failed to process https://www.goodreturns.in/news/hdfc-bank-stock-sensex-nifty-to-fresh-record-rally-ahead-the-reason-could-be-msci-august-rejig-1355213.html: No meaningful content extracted.\n"
          ]
        },
        {
          "output_type": "stream",
          "name": "stderr",
          "text": [
            " 41%|████      | 1663/4047 [18:04<11:32,  3.44it/s]"
          ]
        },
        {
          "output_type": "stream",
          "name": "stdout",
          "text": [
            "Failed to fetch https://www.livemint.com/market/live-blog/hdfc-bank-share-price-today-latest-live-updates-on-03-jul-2024-11719973992160.html: 410 Client Error: Gone for url: https://www.livemint.com/market/live-blog/hdfc-bank-share-price-today-latest-live-updates-on-03-jul-2024-11719973992160.html\n",
            "Failed to process https://www.livemint.com/market/live-blog/hdfc-bank-share-price-today-latest-live-updates-on-03-jul-2024-11719973992160.html: No meaningful content extracted.\n"
          ]
        },
        {
          "output_type": "stream",
          "name": "stderr",
          "text": [
            " 41%|████▏     | 1671/4047 [18:07<11:09,  3.55it/s]"
          ]
        },
        {
          "output_type": "stream",
          "name": "stdout",
          "text": [
            "Failed to fetch https://www.livemint.com/market/live-blog/hdfc-bank-share-price-today-latest-live-updates-on-02-jul-2024-11719887507826.html: 410 Client Error: Gone for url: https://www.livemint.com/market/live-blog/hdfc-bank-share-price-today-latest-live-updates-on-02-jul-2024-11719887507826.html\n",
            "Failed to process https://www.livemint.com/market/live-blog/hdfc-bank-share-price-today-latest-live-updates-on-02-jul-2024-11719887507826.html: No meaningful content extracted.\n"
          ]
        },
        {
          "output_type": "stream",
          "name": "stderr",
          "text": [
            " 42%|████▏     | 1685/4047 [18:11<05:44,  6.85it/s]"
          ]
        },
        {
          "output_type": "stream",
          "name": "stdout",
          "text": [
            "Failed to fetch https://www.livemint.com/market/live-blog/hdfc-bank-share-price-today-latest-live-updates-on-01-jul-2024-11719801252436.html: 410 Client Error: Gone for url: https://www.livemint.com/market/live-blog/hdfc-bank-share-price-today-latest-live-updates-on-01-jul-2024-11719801252436.html\n",
            "Failed to process https://www.livemint.com/market/live-blog/hdfc-bank-share-price-today-latest-live-updates-on-01-jul-2024-11719801252436.html: No meaningful content extracted.\n"
          ]
        },
        {
          "output_type": "stream",
          "name": "stderr",
          "text": [
            " 42%|████▏     | 1695/4047 [18:15<16:48,  2.33it/s]"
          ]
        },
        {
          "output_type": "stream",
          "name": "stdout",
          "text": [
            "Failed to fetch https://www.goodreturns.in/personal-finance/hdfc-bank-revises-credit-card-rules-from-august-1-from-fees-to-features-all-you-need-to-know-1354639.html: 403 Client Error: Forbidden for url: https://www.goodreturns.in/personal-finance/hdfc-bank-revises-credit-card-rules-from-august-1-from-fees-to-features-all-you-need-to-know-1354639.html\n",
            "Failed to process https://www.goodreturns.in/personal-finance/hdfc-bank-revises-credit-card-rules-from-august-1-from-fees-to-features-all-you-need-to-know-1354639.html: No meaningful content extracted.\n"
          ]
        },
        {
          "output_type": "stream",
          "name": "stderr",
          "text": [
            " 42%|████▏     | 1699/4047 [18:16<16:01,  2.44it/s]"
          ]
        },
        {
          "output_type": "stream",
          "name": "stdout",
          "text": [
            "Failed to process https://vijaykarnataka.com/business/personal-finance/hdfc-bank-credit-card-new-fees-rules-to-come-into-effect-from-august-1-here-is-new-late-payment-fee-bill-payment-rules/articleshow/111341514.cms: No meaningful content extracted.\n"
          ]
        },
        {
          "output_type": "stream",
          "name": "stderr",
          "text": [
            " 42%|████▏     | 1705/4047 [18:19<20:10,  1.94it/s]"
          ]
        },
        {
          "output_type": "stream",
          "name": "stdout",
          "text": [
            "Failed to fetch https://www.livemint.com/market/live-blog/hdfc-bank-share-price-today-latest-live-updates-on-28-jun-2024-11719542015393.html: 410 Client Error: Gone for url: https://www.livemint.com/market/live-blog/hdfc-bank-share-price-today-latest-live-updates-on-28-jun-2024-11719542015393.html\n",
            "Failed to process https://www.livemint.com/market/live-blog/hdfc-bank-share-price-today-latest-live-updates-on-28-jun-2024-11719542015393.html: No meaningful content extracted.\n"
          ]
        },
        {
          "output_type": "stream",
          "name": "stderr",
          "text": [
            " 42%|████▏     | 1716/4047 [18:23<14:34,  2.67it/s]"
          ]
        },
        {
          "output_type": "stream",
          "name": "stdout",
          "text": [
            "Failed to fetch https://www.livemint.com/market/live-blog/hdfc-bank-share-price-today-latest-live-updates-on-27-jun-2024-11719455663299.html: 410 Client Error: Gone for url: https://www.livemint.com/market/live-blog/hdfc-bank-share-price-today-latest-live-updates-on-27-jun-2024-11719455663299.html\n",
            "Failed to process https://www.livemint.com/market/live-blog/hdfc-bank-share-price-today-latest-live-updates-on-27-jun-2024-11719455663299.html: No meaningful content extracted.\n"
          ]
        },
        {
          "output_type": "stream",
          "name": "stderr",
          "text": [
            " 43%|████▎     | 1737/4047 [18:33<23:14,  1.66it/s]"
          ]
        },
        {
          "output_type": "stream",
          "name": "stdout",
          "text": [
            "Failed to fetch https://www.livemint.com/market/live-blog/hdfc-bank-share-price-today-latest-live-updates-on-24-jun-2024-11719211282289.html: 410 Client Error: Gone for url: https://www.livemint.com/market/live-blog/hdfc-bank-share-price-today-latest-live-updates-on-24-jun-2024-11719211282289.html\n",
            "Failed to process https://www.livemint.com/market/live-blog/hdfc-bank-share-price-today-latest-live-updates-on-24-jun-2024-11719211282289.html: No meaningful content extracted.\n"
          ]
        },
        {
          "output_type": "stream",
          "name": "stderr",
          "text": [
            " 43%|████▎     | 1757/4047 [18:44<29:08,  1.31it/s]"
          ]
        },
        {
          "output_type": "stream",
          "name": "stdout",
          "text": [
            "Failed to fetch https://www.livemint.com/market/live-blog/hdfc-bank-share-price-today-latest-live-updates-on-21-jun-2024-11718937310890.html: 410 Client Error: Gone for url: https://www.livemint.com/market/live-blog/hdfc-bank-share-price-today-latest-live-updates-on-21-jun-2024-11718937310890.html\n",
            "Failed to process https://www.livemint.com/market/live-blog/hdfc-bank-share-price-today-latest-live-updates-on-21-jun-2024-11718937310890.html: No meaningful content extracted.\n"
          ]
        },
        {
          "output_type": "stream",
          "name": "stderr",
          "text": [
            "\r 43%|████▎     | 1759/4047 [18:44<18:41,  2.04it/s]"
          ]
        },
        {
          "output_type": "stream",
          "name": "stdout",
          "text": [
            "Failed to fetch https://www.goodreturns.in/personal-finance/hdfc-bank-mutual-funds-bet-big-on-india-s-largest-lender-for-the-5th-month-brokerages-bullish-1353055.html: 403 Client Error: Forbidden for url: https://www.goodreturns.in/personal-finance/hdfc-bank-mutual-funds-bet-big-on-india-s-largest-lender-for-the-5th-month-brokerages-bullish-1353055.html\n",
            "Failed to process https://www.goodreturns.in/personal-finance/hdfc-bank-mutual-funds-bet-big-on-india-s-largest-lender-for-the-5th-month-brokerages-bullish-1353055.html: No meaningful content extracted.\n"
          ]
        },
        {
          "output_type": "stream",
          "name": "stderr",
          "text": [
            " 44%|████▎     | 1769/4047 [18:48<16:42,  2.27it/s]"
          ]
        },
        {
          "output_type": "stream",
          "name": "stdout",
          "text": [
            "Failed to fetch https://www.livemint.com/market/live-blog/hdfc-bank-share-price-today-latest-live-updates-on-20-jun-2024-11718850943863.html: 410 Client Error: Gone for url: https://www.livemint.com/market/live-blog/hdfc-bank-share-price-today-latest-live-updates-on-20-jun-2024-11718850943863.html\n",
            "Failed to process https://www.livemint.com/market/live-blog/hdfc-bank-share-price-today-latest-live-updates-on-20-jun-2024-11718850943863.html: No meaningful content extracted.\n"
          ]
        },
        {
          "output_type": "stream",
          "name": "stderr",
          "text": [
            " 44%|████▍     | 1773/4047 [18:51<24:45,  1.53it/s]"
          ]
        },
        {
          "output_type": "stream",
          "name": "stdout",
          "text": [
            "Failed to fetch https://www.livemint.com/market/stock-market-news/top-gainers-and-losers-today-on-19-june-2024-hdfc-bank-axis-bank-titan-company-larsen-toubro-among-most-active-stocks-check-full-list-here-11718793199200.html: 410 Client Error: Gone for url: https://www.livemint.com/market/stock-market-news/top-gainers-and-losers-today-on-19-june-2024-hdfc-bank-axis-bank-titan-company-larsen-toubro-among-most-active-stocks-check-full-list-here-11718793199200.html\n",
            "Failed to process https://www.livemint.com/market/stock-market-news/top-gainers-and-losers-today-on-19-june-2024-hdfc-bank-axis-bank-titan-company-larsen-toubro-among-most-active-stocks-check-full-list-here-11718793199200.html: No meaningful content extracted.\n"
          ]
        },
        {
          "output_type": "stream",
          "name": "stderr",
          "text": [
            " 44%|████▍     | 1778/4047 [18:52<09:59,  3.78it/s]"
          ]
        },
        {
          "output_type": "stream",
          "name": "stdout",
          "text": [
            "Failed to fetch https://www.goodreturns.in/news/record-high-nifty-bank-soars-to-all-time-high-for-the-first-time-after-june-4-slump-hdfc-bank-leads-1352641.html: 403 Client Error: Forbidden for url: https://www.goodreturns.in/news/record-high-nifty-bank-soars-to-all-time-high-for-the-first-time-after-june-4-slump-hdfc-bank-leads-1352641.html\n",
            "Failed to process https://www.goodreturns.in/news/record-high-nifty-bank-soars-to-all-time-high-for-the-first-time-after-june-4-slump-hdfc-bank-leads-1352641.html: No meaningful content extracted.\n"
          ]
        },
        {
          "output_type": "stream",
          "name": "stderr",
          "text": [
            " 44%|████▍     | 1780/4047 [18:53<19:39,  1.92it/s]"
          ]
        },
        {
          "output_type": "stream",
          "name": "stdout",
          "text": [
            "Failed to fetch https://www.livemint.com/market/live-blog/hdfc-bank-share-price-today-latest-live-updates-on-19-jun-2024-11718764517752.html: 410 Client Error: Gone for url: https://www.livemint.com/market/live-blog/hdfc-bank-share-price-today-latest-live-updates-on-19-jun-2024-11718764517752.html\n",
            "Failed to process https://www.livemint.com/market/live-blog/hdfc-bank-share-price-today-latest-live-updates-on-19-jun-2024-11718764517752.html: No meaningful content extracted.\n"
          ]
        },
        {
          "output_type": "stream",
          "name": "stderr",
          "text": [
            " 44%|████▍     | 1784/4047 [18:58<33:24,  1.13it/s]"
          ]
        },
        {
          "output_type": "stream",
          "name": "stdout",
          "text": [
            "Failed to fetch https://www.livemint.com/market/live-blog/hdfc-bank-share-price-today-latest-live-updates-on-18-jun-2024-11718678123045.html: 410 Client Error: Gone for url: https://www.livemint.com/market/live-blog/hdfc-bank-share-price-today-latest-live-updates-on-18-jun-2024-11718678123045.html\n",
            "Failed to process https://www.livemint.com/market/live-blog/hdfc-bank-share-price-today-latest-live-updates-on-18-jun-2024-11718678123045.html: No meaningful content extracted.\n"
          ]
        },
        {
          "output_type": "stream",
          "name": "stderr",
          "text": [
            " 44%|████▍     | 1787/4047 [18:59<18:43,  2.01it/s]"
          ]
        },
        {
          "output_type": "stream",
          "name": "stdout",
          "text": [
            "Failed to fetch https://seekingalpha.com/article/4699592-hdfc-bank-negatives-are-priced-in?source=feed_tag_india: 403 Client Error: Forbidden for url: https://seekingalpha.com/article/4699592-hdfc-bank-negatives-are-priced-in?source=feed_tag_india\n",
            "Failed to process https://seekingalpha.com/article/4699592-hdfc-bank-negatives-are-priced-in?source=feed_tag_india: No meaningful content extracted.\n"
          ]
        },
        {
          "output_type": "stream",
          "name": "stderr",
          "text": [
            " 45%|████▍     | 1803/4047 [19:13<14:39,  2.55it/s]"
          ]
        },
        {
          "output_type": "stream",
          "name": "stdout",
          "text": [
            "Failed to process https://bengali.news18.com/photogallery/business/hdfc-bank-fd-rates-in-different-tenure-fixed-deposit-rates-are-too-much-attractive-interest-rates-arn-1705633.html: No meaningful content extracted.\n"
          ]
        },
        {
          "output_type": "stream",
          "name": "stderr",
          "text": [
            " 45%|████▍     | 1807/4047 [19:15<13:31,  2.76it/s]"
          ]
        },
        {
          "output_type": "stream",
          "name": "stdout",
          "text": [
            "Failed to fetch https://www.goodreturns.in/news/closing-bell-market-ends-with-gains-sensex-nifty-rise-on-positive-global-cues-ril-hdfc-bank-s-1351569.html: 403 Client Error: Forbidden for url: https://www.goodreturns.in/news/closing-bell-market-ends-with-gains-sensex-nifty-rise-on-positive-global-cues-ril-hdfc-bank-s-1351569.html\n",
            "Failed to process https://www.goodreturns.in/news/closing-bell-market-ends-with-gains-sensex-nifty-rise-on-positive-global-cues-ril-hdfc-bank-s-1351569.html: No meaningful content extracted.\n"
          ]
        },
        {
          "output_type": "stream",
          "name": "stderr",
          "text": [
            "\r 45%|████▍     | 1809/4047 [19:16<16:07,  2.31it/s]"
          ]
        },
        {
          "output_type": "stream",
          "name": "stdout",
          "text": [
            "Failed to fetch https://www.newsr.in/n/Business/1zqw3l0plo/HDFC-Bank-Hikes-Fixed-Deposit-Rates-On-Various.htm: 403 Client Error: Forbidden for url: https://www.newsr.in/n/Business/1zqw3l0plo/HDFC-Bank-Hikes-Fixed-Deposit-Rates-On-Various.htm\n",
            "Failed to process https://www.newsr.in/n/Business/1zqw3l0plo/HDFC-Bank-Hikes-Fixed-Deposit-Rates-On-Various.htm: No meaningful content extracted.\n",
            "Failed to fetch https://www.livemint.com/market/live-blog/hdfc-bank-share-price-today-latest-live-updates-on-12-jun-2024-11718159582354.html: 410 Client Error: Gone for url: https://www.livemint.com/market/live-blog/hdfc-bank-share-price-today-latest-live-updates-on-12-jun-2024-11718159582354.html\n",
            "Failed to process https://www.livemint.com/market/live-blog/hdfc-bank-share-price-today-latest-live-updates-on-12-jun-2024-11718159582354.html: No meaningful content extracted.\n"
          ]
        },
        {
          "output_type": "stream",
          "name": "stderr",
          "text": [
            " 45%|████▌     | 1827/4047 [19:28<42:53,  1.16s/it]"
          ]
        },
        {
          "output_type": "stream",
          "name": "stdout",
          "text": [
            "Failed to fetch https://www.newsr.in/n/Business/1zqw3l0ca2/Sensex-Nifty-Breach-Record-Levels-But-Settle-Lower.htm: 403 Client Error: Forbidden for url: https://www.newsr.in/n/Business/1zqw3l0ca2/Sensex-Nifty-Breach-Record-Levels-But-Settle-Lower.htm\n",
            "Failed to process https://www.newsr.in/n/Business/1zqw3l0ca2/Sensex-Nifty-Breach-Record-Levels-But-Settle-Lower.htm: No meaningful content extracted.\n"
          ]
        },
        {
          "output_type": "stream",
          "name": "stderr",
          "text": [
            " 45%|████▌     | 1831/4047 [19:30<27:18,  1.35it/s]"
          ]
        },
        {
          "output_type": "stream",
          "name": "stdout",
          "text": [
            "Failed to process https://jantaserishta.com/business/big-gift-to-hdfc-bank-customers-3317401: No meaningful content extracted.\n"
          ]
        },
        {
          "output_type": "stream",
          "name": "stderr",
          "text": [
            " 45%|████▌     | 1838/4047 [19:35<18:26,  2.00it/s]"
          ]
        },
        {
          "output_type": "stream",
          "name": "stdout",
          "text": [
            "Failed to fetch https://www.goodreturns.in/news/telecom-giant-bharti-airtel-enters-the-100-billion-market-cap-club-in-india-joins-ril-tcs-hdfc-bank-1351049.html: 403 Client Error: Forbidden for url: https://www.goodreturns.in/news/telecom-giant-bharti-airtel-enters-the-100-billion-market-cap-club-in-india-joins-ril-tcs-hdfc-bank-1351049.html\n",
            "Failed to process https://www.goodreturns.in/news/telecom-giant-bharti-airtel-enters-the-100-billion-market-cap-club-in-india-joins-ril-tcs-hdfc-bank-1351049.html: No meaningful content extracted.\n",
            "Failed to fetch https://www.goodreturns.in/personal-finance/hdfc-bank-hikes-fixed-deposit-interest-rates-by-15-20-bps-on-select-tenures-1351043.html: 403 Client Error: Forbidden for url: https://www.goodreturns.in/personal-finance/hdfc-bank-hikes-fixed-deposit-interest-rates-by-15-20-bps-on-select-tenures-1351043.html\n",
            "Failed to process https://www.goodreturns.in/personal-finance/hdfc-bank-hikes-fixed-deposit-interest-rates-by-15-20-bps-on-select-tenures-1351043.html: No meaningful content extracted.\n",
            "Failed to fetch https://www.livemint.com/market/live-blog/hdfc-bank-share-price-today-latest-live-updates-on-10-jun-2024-11717992001523.html: 410 Client Error: Gone for url: https://www.livemint.com/market/live-blog/hdfc-bank-share-price-today-latest-live-updates-on-10-jun-2024-11717992001523.html\n",
            "Failed to process https://www.livemint.com/market/live-blog/hdfc-bank-share-price-today-latest-live-updates-on-10-jun-2024-11717992001523.html: No meaningful content extracted.\n"
          ]
        },
        {
          "output_type": "stream",
          "name": "stderr",
          "text": [
            " 46%|████▌     | 1860/4047 [19:46<10:47,  3.38it/s]"
          ]
        },
        {
          "output_type": "stream",
          "name": "stdout",
          "text": [
            "Failed to fetch https://www.livemint.com/market/live-blog/hdfc-bank-share-price-today-latest-live-updates-on-07-jun-2024-11717727406967.html: 410 Client Error: Gone for url: https://www.livemint.com/market/live-blog/hdfc-bank-share-price-today-latest-live-updates-on-07-jun-2024-11717727406967.html\n",
            "Failed to process https://www.livemint.com/market/live-blog/hdfc-bank-share-price-today-latest-live-updates-on-07-jun-2024-11717727406967.html: No meaningful content extracted.\n"
          ]
        },
        {
          "output_type": "stream",
          "name": "stderr",
          "text": [
            " 46%|████▌     | 1865/4047 [19:48<13:25,  2.71it/s]"
          ]
        },
        {
          "output_type": "stream",
          "name": "stdout",
          "text": [
            "Failed to process https://news18marathi.com/money/hdfc-bank-credit-and-debit-cards-updates-gh-mhkk-1193527.html: No meaningful content extracted.\n"
          ]
        },
        {
          "output_type": "stream",
          "name": "stderr",
          "text": [
            "\r 46%|████▌     | 1866/4047 [19:48<13:53,  2.62it/s]"
          ]
        },
        {
          "output_type": "stream",
          "name": "stdout",
          "text": [
            "Failed to fetch https://www.livemint.com/market/live-blog/hdfc-bank-share-price-today-latest-live-updates-on-06-jun-2024-11717653060195.html: 410 Client Error: Gone for url: https://www.livemint.com/market/live-blog/hdfc-bank-share-price-today-latest-live-updates-on-06-jun-2024-11717653060195.html\n",
            "Failed to process https://www.livemint.com/market/live-blog/hdfc-bank-share-price-today-latest-live-updates-on-06-jun-2024-11717653060195.html: No meaningful content extracted.\n"
          ]
        },
        {
          "output_type": "stream",
          "name": "stderr",
          "text": [
            " 46%|████▌     | 1869/4047 [19:49<10:44,  3.38it/s]"
          ]
        },
        {
          "output_type": "stream",
          "name": "stdout",
          "text": [
            "Failed to process https://www.ndtvprofit.com/buzzing-stocks/stock-market-today-brokerage-views-calls-on-asian-paints-hdfc-bank-itc-and-more-stocks-share-price: No meaningful content extracted.\n"
          ]
        },
        {
          "output_type": "stream",
          "name": "stderr",
          "text": [
            " 46%|████▋     | 1874/4047 [19:50<10:08,  3.57it/s]"
          ]
        },
        {
          "output_type": "stream",
          "name": "stdout",
          "text": [
            "Failed to process https://bengali.news18.com/photogallery/business/hdfc-bank-cards-will-not-be-working-on-6th-june-bank-aletrts-customers-tc-dc-1694204.html: No meaningful content extracted.\n"
          ]
        },
        {
          "output_type": "stream",
          "name": "stderr",
          "text": [
            " 46%|████▋     | 1877/4047 [19:51<11:56,  3.03it/s]"
          ]
        },
        {
          "output_type": "stream",
          "name": "stdout",
          "text": [
            "Failed to fetch https://www.livemint.com/market/live-blog/hdfc-bank-share-price-today-latest-live-updates-on-05-jun-2024-11717560051137.html: 410 Client Error: Gone for url: https://www.livemint.com/market/live-blog/hdfc-bank-share-price-today-latest-live-updates-on-05-jun-2024-11717560051137.html\n",
            "Failed to process https://www.livemint.com/market/live-blog/hdfc-bank-share-price-today-latest-live-updates-on-05-jun-2024-11717560051137.html: No meaningful content extracted.\n"
          ]
        },
        {
          "output_type": "stream",
          "name": "stderr",
          "text": [
            " 47%|████▋     | 1892/4047 [19:59<10:15,  3.50it/s]"
          ]
        },
        {
          "output_type": "stream",
          "name": "stdout",
          "text": [
            "Failed to fetch https://www.livemint.com/market/live-blog/hdfc-bank-share-price-today-latest-live-updates-on-03-jun-2024-11717382058210.html: 410 Client Error: Gone for url: https://www.livemint.com/market/live-blog/hdfc-bank-share-price-today-latest-live-updates-on-03-jun-2024-11717382058210.html\n",
            "Failed to process https://www.livemint.com/market/live-blog/hdfc-bank-share-price-today-latest-live-updates-on-03-jun-2024-11717382058210.html: No meaningful content extracted.\n"
          ]
        },
        {
          "output_type": "stream",
          "name": "stderr",
          "text": [
            " 47%|████▋     | 1899/4047 [20:02<17:22,  2.06it/s]"
          ]
        },
        {
          "output_type": "stream",
          "name": "stdout",
          "text": [
            "Failed to fetch https://www.livemint.com/market/live-blog/hdfc-bank-share-price-today-latest-live-updates-on-31-may-2024-11717123057040.html: 410 Client Error: Gone for url: https://www.livemint.com/market/live-blog/hdfc-bank-share-price-today-latest-live-updates-on-31-may-2024-11717123057040.html\n",
            "Failed to process https://www.livemint.com/market/live-blog/hdfc-bank-share-price-today-latest-live-updates-on-31-may-2024-11717123057040.html: No meaningful content extracted.\n",
            "Failed to fetch https://www.goodreturns.in/personal-finance/investment/from-sbi-to-hdfc-bank-5-buy-sell-stock-recommendations-by-vla-ambala-on-friday-31st-may-1349575.html: 403 Client Error: Forbidden for url: https://www.goodreturns.in/personal-finance/investment/from-sbi-to-hdfc-bank-5-buy-sell-stock-recommendations-by-vla-ambala-on-friday-31st-may-1349575.html\n",
            "Failed to process https://www.goodreturns.in/personal-finance/investment/from-sbi-to-hdfc-bank-5-buy-sell-stock-recommendations-by-vla-ambala-on-friday-31st-may-1349575.html: No meaningful content extracted.\n"
          ]
        },
        {
          "output_type": "stream",
          "name": "stderr",
          "text": [
            " 47%|████▋     | 1920/4047 [20:16<25:34,  1.39it/s]"
          ]
        },
        {
          "output_type": "stream",
          "name": "stdout",
          "text": [
            "Failed to fetch https://www.goodreturns.in/news/closing-bell-market-falls-for-4th-straight-day-nifty-holds-22-700-icici-bank-hdfc-bank-ril-drag-1349245.html: 403 Client Error: Forbidden for url: https://www.goodreturns.in/news/closing-bell-market-falls-for-4th-straight-day-nifty-holds-22-700-icici-bank-hdfc-bank-ril-drag-1349245.html\n",
            "Failed to process https://www.goodreturns.in/news/closing-bell-market-falls-for-4th-straight-day-nifty-holds-22-700-icici-bank-hdfc-bank-ril-drag-1349245.html: No meaningful content extracted.\n"
          ]
        },
        {
          "output_type": "stream",
          "name": "stderr",
          "text": [
            " 48%|████▊     | 1926/4047 [20:18<15:39,  2.26it/s]"
          ]
        },
        {
          "output_type": "stream",
          "name": "stdout",
          "text": [
            "Failed to fetch https://www.newsr.in/n/Business/1zqvn1ktxr/HDFC-Bank-To-Stop-SMS-Alerts-For-Small.htm: 403 Client Error: Forbidden for url: https://www.newsr.in/n/Business/1zqvn1ktxr/HDFC-Bank-To-Stop-SMS-Alerts-For-Small.htm\n",
            "Failed to process https://www.newsr.in/n/Business/1zqvn1ktxr/HDFC-Bank-To-Stop-SMS-Alerts-For-Small.htm: No meaningful content extracted.\n"
          ]
        },
        {
          "output_type": "stream",
          "name": "stderr",
          "text": [
            " 48%|████▊     | 1934/4047 [20:30<32:03,  1.10it/s]"
          ]
        },
        {
          "output_type": "stream",
          "name": "stdout",
          "text": [
            "Failed to fetch https://www.newsr.in/n/Business/1zqvn1ks6g/HDFC-to-stop-SMS-alerts-for-UPI-payments.htm: 403 Client Error: Forbidden for url: https://www.newsr.in/n/Business/1zqvn1ks6g/HDFC-to-stop-SMS-alerts-for-UPI-payments.htm\n",
            "Failed to process https://www.newsr.in/n/Business/1zqvn1ks6g/HDFC-to-stop-SMS-alerts-for-UPI-payments.htm: No meaningful content extracted.\n"
          ]
        },
        {
          "output_type": "stream",
          "name": "stderr",
          "text": [
            " 48%|████▊     | 1940/4047 [20:32<17:01,  2.06it/s]"
          ]
        },
        {
          "output_type": "stream",
          "name": "stdout",
          "text": [
            "Failed to fetch https://www.newsr.in/n/Business/1zqvn1khbn/Sensex-Trades-Higher-After-Opening-At-Record-Level.htm: 403 Client Error: Forbidden for url: https://www.newsr.in/n/Business/1zqvn1khbn/Sensex-Trades-Higher-After-Opening-At-Record-Level.htm\n",
            "Failed to process https://www.newsr.in/n/Business/1zqvn1khbn/Sensex-Trades-Higher-After-Opening-At-Record-Level.htm: No meaningful content extracted.\n"
          ]
        },
        {
          "output_type": "stream",
          "name": "stderr",
          "text": [
            " 48%|████▊     | 1954/4047 [20:42<10:30,  3.32it/s]"
          ]
        },
        {
          "output_type": "stream",
          "name": "stdout",
          "text": [
            "Failed to fetch https://www.newsr.in/n/Business/1zqvn1k6es/HDFC-Bank-Customers-Alert%21-UPI-Net-Banking-And.htm: 403 Client Error: Forbidden for url: https://www.newsr.in/n/Business/1zqvn1k6es/HDFC-Bank-Customers-Alert%21-UPI-Net-Banking-And.htm\n",
            "Failed to process https://www.newsr.in/n/Business/1zqvn1k6es/HDFC-Bank-Customers-Alert%21-UPI-Net-Banking-And.htm: No meaningful content extracted.\n"
          ]
        },
        {
          "output_type": "stream",
          "name": "stderr",
          "text": [
            " 48%|████▊     | 1958/4047 [20:43<13:31,  2.57it/s]"
          ]
        },
        {
          "output_type": "stream",
          "name": "stdout",
          "text": [
            "Failed to fetch https://www.livemint.com/market/stock-market-news/top-gainers-and-losers-today-on-24-may-2024-hdfc-bank-larsen-toubro-adani-ports-special-economic-zone-tata-consumer-among-most-active-stocks-check-full-list-here-11716546802560.html: 410 Client Error: Gone for url: https://www.livemint.com/market/stock-market-news/top-gainers-and-losers-today-on-24-may-2024-hdfc-bank-larsen-toubro-adani-ports-special-economic-zone-tata-consumer-among-most-active-stocks-check-full-list-here-11716546802560.html\n",
            "Failed to process https://www.livemint.com/market/stock-market-news/top-gainers-and-losers-today-on-24-may-2024-hdfc-bank-larsen-toubro-adani-ports-special-economic-zone-tata-consumer-among-most-active-stocks-check-full-list-here-11716546802560.html: No meaningful content extracted.\n"
          ]
        },
        {
          "output_type": "stream",
          "name": "stderr",
          "text": [
            " 49%|████▊     | 1966/4047 [20:45<08:32,  4.06it/s]"
          ]
        },
        {
          "output_type": "stream",
          "name": "stdout",
          "text": [
            "Failed to fetch https://www.livemint.com/market/live-blog/hdfc-bank-share-price-today-latest-live-updates-on-24-may-2024-11716518271618.html: 410 Client Error: Gone for url: https://www.livemint.com/market/live-blog/hdfc-bank-share-price-today-latest-live-updates-on-24-may-2024-11716518271618.html\n",
            "Failed to process https://www.livemint.com/market/live-blog/hdfc-bank-share-price-today-latest-live-updates-on-24-may-2024-11716518271618.html: No meaningful content extracted.\n"
          ]
        },
        {
          "output_type": "stream",
          "name": "stderr",
          "text": [
            "\r 49%|████▊     | 1967/4047 [20:49<37:27,  1.08s/it]"
          ]
        },
        {
          "output_type": "stream",
          "name": "stdout",
          "text": [
            "Failed to fetch https://www.goodreturns.in/news/sensex-nifty-hit-all-time-highs-after-rbis-highest-ever-dividend-announcement-1348341.html: 403 Client Error: Forbidden for url: https://www.goodreturns.in/news/sensex-nifty-hit-all-time-highs-after-rbis-highest-ever-dividend-announcement-1348341.html\n",
            "Failed to process https://www.goodreturns.in/news/sensex-nifty-hit-all-time-highs-after-rbis-highest-ever-dividend-announcement-1348341.html: No meaningful content extracted.\n"
          ]
        },
        {
          "output_type": "stream",
          "name": "stderr",
          "text": [
            " 49%|████▊     | 1972/4047 [20:51<18:25,  1.88it/s]"
          ]
        },
        {
          "output_type": "stream",
          "name": "stdout",
          "text": [
            "Failed to fetch https://www.livemint.com/market/live-blog/hdfc-bank-share-price-today-latest-live-updates-on-23-may-2024-11716431653176.html: 410 Client Error: Gone for url: https://www.livemint.com/market/live-blog/hdfc-bank-share-price-today-latest-live-updates-on-23-may-2024-11716431653176.html\n",
            "Failed to process https://www.livemint.com/market/live-blog/hdfc-bank-share-price-today-latest-live-updates-on-23-may-2024-11716431653176.html: No meaningful content extracted.\n"
          ]
        },
        {
          "output_type": "stream",
          "name": "stderr",
          "text": [
            " 49%|████▉     | 1981/4047 [20:53<10:10,  3.38it/s]"
          ]
        },
        {
          "output_type": "stream",
          "name": "stdout",
          "text": [
            "Failed to fetch https://www.livemint.com/market/live-blog/hdfc-bank-share-price-today-latest-live-updates-on-21-may-2024-11716258876093.html: 410 Client Error: Gone for url: https://www.livemint.com/market/live-blog/hdfc-bank-share-price-today-latest-live-updates-on-21-may-2024-11716258876093.html\n",
            "Failed to process https://www.livemint.com/market/live-blog/hdfc-bank-share-price-today-latest-live-updates-on-21-may-2024-11716258876093.html: No meaningful content extracted.\n"
          ]
        },
        {
          "output_type": "stream",
          "name": "stderr",
          "text": [
            " 49%|████▉     | 1992/4047 [20:59<26:09,  1.31it/s]"
          ]
        },
        {
          "output_type": "stream",
          "name": "stdout",
          "text": [
            "Failed to process https://bengali.news18.com/photogallery/business/hdfc-bank-rd-calculator-if-you-are-investing-10-thousand-rupees-monthly-in-hdfc-bank-how-much-return-will-you-get-tc-dc-1663550.html: No meaningful content extracted.\n"
          ]
        },
        {
          "output_type": "stream",
          "name": "stderr",
          "text": [
            " 49%|████▉     | 1995/4047 [21:01<19:59,  1.71it/s]"
          ]
        },
        {
          "output_type": "stream",
          "name": "stdout",
          "text": [
            "Failed to fetch https://www.goodreturns.in/news/hdfc-bank-raises-usd-500-mn-from-ifc-for-on-lending-to-women-borrowers-1347383.html: 403 Client Error: Forbidden for url: https://www.goodreturns.in/news/hdfc-bank-raises-usd-500-mn-from-ifc-for-on-lending-to-women-borrowers-1347383.html\n",
            "Failed to process https://www.goodreturns.in/news/hdfc-bank-raises-usd-500-mn-from-ifc-for-on-lending-to-women-borrowers-1347383.html: No meaningful content extracted.\n"
          ]
        },
        {
          "output_type": "stream",
          "name": "stderr",
          "text": [
            "\r 49%|████▉     | 1997/4047 [21:02<15:51,  2.15it/s]"
          ]
        },
        {
          "output_type": "stream",
          "name": "stdout",
          "text": [
            "Failed to fetch https://www.livemint.com/market/live-blog/hdfc-bank-share-price-today-latest-live-updates-on-17-may-2024-11715913169521.html: 410 Client Error: Gone for url: https://www.livemint.com/market/live-blog/hdfc-bank-share-price-today-latest-live-updates-on-17-may-2024-11715913169521.html\n",
            "Failed to process https://www.livemint.com/market/live-blog/hdfc-bank-share-price-today-latest-live-updates-on-17-may-2024-11715913169521.html: No meaningful content extracted.\n"
          ]
        },
        {
          "output_type": "stream",
          "name": "stderr",
          "text": [
            " 50%|████▉     | 2006/4047 [21:08<15:18,  2.22it/s]"
          ]
        },
        {
          "output_type": "stream",
          "name": "stdout",
          "text": [
            "Failed to fetch https://www.newsr.in/n/Business/1zqvn1io4s/Latest-loan-interest-rates-from-top-banks-SBI.htm: 403 Client Error: Forbidden for url: https://www.newsr.in/n/Business/1zqvn1io4s/Latest-loan-interest-rates-from-top-banks-SBI.htm\n",
            "Failed to process https://www.newsr.in/n/Business/1zqvn1io4s/Latest-loan-interest-rates-from-top-banks-SBI.htm: No meaningful content extracted.\n"
          ]
        },
        {
          "output_type": "stream",
          "name": "stderr",
          "text": [
            " 50%|████▉     | 2013/4047 [21:18<35:07,  1.04s/it]"
          ]
        },
        {
          "output_type": "stream",
          "name": "stdout",
          "text": [
            "Failed to fetch https://www.livemint.com/market/live-blog/hdfc-bank-share-price-today-latest-live-updates-on-16-may-2024-11715826936763.html: 410 Client Error: Gone for url: https://www.livemint.com/market/live-blog/hdfc-bank-share-price-today-latest-live-updates-on-16-may-2024-11715826936763.html\n",
            "Failed to process https://www.livemint.com/market/live-blog/hdfc-bank-share-price-today-latest-live-updates-on-16-may-2024-11715826936763.html: No meaningful content extracted.\n"
          ]
        },
        {
          "output_type": "stream",
          "name": "stderr",
          "text": [
            " 50%|█████     | 2026/4047 [21:26<09:10,  3.67it/s]"
          ]
        },
        {
          "output_type": "stream",
          "name": "stdout",
          "text": [
            "Failed to fetch https://www.livemint.com/market/live-blog/hdfc-bank-share-price-today-latest-live-updates-on-15-may-2024-11715740495863.html: 410 Client Error: Gone for url: https://www.livemint.com/market/live-blog/hdfc-bank-share-price-today-latest-live-updates-on-15-may-2024-11715740495863.html\n",
            "Failed to process https://www.livemint.com/market/live-blog/hdfc-bank-share-price-today-latest-live-updates-on-15-may-2024-11715740495863.html: No meaningful content extracted.\n",
            "Failed to fetch https://www.newsr.in/n/Business/1zqvn1idwo/HDFC-to-allocate-of-its-budget.htm: 403 Client Error: Forbidden for url: https://www.newsr.in/n/Business/1zqvn1idwo/HDFC-to-allocate-of-its-budget.htm\n",
            "Failed to process https://www.newsr.in/n/Business/1zqvn1idwo/HDFC-to-allocate-of-its-budget.htm: No meaningful content extracted.\n",
            "Failed to fetch https://www.newsr.in/n/Business/1zqvn1iaza/HDFC-Bank-says-of-overall.htm: 403 Client Error: Forbidden for url: https://www.newsr.in/n/Business/1zqvn1iaza/HDFC-Bank-says-of-overall.htm\n",
            "Failed to process https://www.newsr.in/n/Business/1zqvn1iaza/HDFC-Bank-says-of-overall.htm: No meaningful content extracted.\n"
          ]
        },
        {
          "output_type": "stream",
          "name": "stderr",
          "text": [
            " 50%|█████     | 2032/4047 [21:28<14:46,  2.27it/s]"
          ]
        },
        {
          "output_type": "stream",
          "name": "stdout",
          "text": [
            "Failed to fetch https://www.livemint.com/market/live-blog/hdfc-bank-share-price-today-latest-live-updates-on-14-may-2024-11715654029565.html: 410 Client Error: Gone for url: https://www.livemint.com/market/live-blog/hdfc-bank-share-price-today-latest-live-updates-on-14-may-2024-11715654029565.html\n",
            "Failed to process https://www.livemint.com/market/live-blog/hdfc-bank-share-price-today-latest-live-updates-on-14-may-2024-11715654029565.html: No meaningful content extracted.\n"
          ]
        },
        {
          "output_type": "stream",
          "name": "stderr",
          "text": [
            " 50%|█████     | 2041/4047 [21:36<24:06,  1.39it/s]"
          ]
        },
        {
          "output_type": "stream",
          "name": "stdout",
          "text": [
            "Failed to fetch https://www.goodreturns.in/news/closing-bell-market-recovers-to-end-with-mild-gains-hdfc-bank-icici-bank-lend-support-to-nifty-1346381.html: 403 Client Error: Forbidden for url: https://www.goodreturns.in/news/closing-bell-market-recovers-to-end-with-mild-gains-hdfc-bank-icici-bank-lend-support-to-nifty-1346381.html\n",
            "Failed to process https://www.goodreturns.in/news/closing-bell-market-recovers-to-end-with-mild-gains-hdfc-bank-icici-bank-lend-support-to-nifty-1346381.html: No meaningful content extracted.\n"
          ]
        },
        {
          "output_type": "stream",
          "name": "stderr",
          "text": [
            " 51%|█████     | 2045/4047 [21:37<15:18,  2.18it/s]"
          ]
        },
        {
          "output_type": "stream",
          "name": "stdout",
          "text": [
            "Failed to fetch https://www.livemint.com/market/live-blog/hdfc-bank-share-price-today-latest-live-updates-on-13-may-2024-11715567865982.html: 410 Client Error: Gone for url: https://www.livemint.com/market/live-blog/hdfc-bank-share-price-today-latest-live-updates-on-13-may-2024-11715567865982.html\n",
            "Failed to process https://www.livemint.com/market/live-blog/hdfc-bank-share-price-today-latest-live-updates-on-13-may-2024-11715567865982.html: No meaningful content extracted.\n"
          ]
        },
        {
          "output_type": "stream",
          "name": "stderr",
          "text": [
            " 51%|█████     | 2052/4047 [21:40<14:49,  2.24it/s]"
          ]
        },
        {
          "output_type": "stream",
          "name": "stdout",
          "text": [
            "Failed to fetch https://ndtv.in/india/hdfc-bank-cuts-notice-period-only-30-days-instead-of-90-5643693#publisher=newsstand: 403 Client Error: Forbidden for url: https://ndtv.in/india/hdfc-bank-cuts-notice-period-only-30-days-instead-of-90-5643693#publisher=newsstand\n",
            "Failed to process https://ndtv.in/india/hdfc-bank-cuts-notice-period-only-30-days-instead-of-90-5643693#publisher=newsstand: No meaningful content extracted.\n"
          ]
        },
        {
          "output_type": "stream",
          "name": "stderr",
          "text": [
            " 51%|█████     | 2059/4047 [21:46<37:45,  1.14s/it]"
          ]
        },
        {
          "output_type": "stream",
          "name": "stdout",
          "text": [
            "Failed to fetch https://www.newsr.in/n/Business/1zqvn1hfvt/Latest-HDFC-Bank-lending-rates-What-home-loan.htm: 403 Client Error: Forbidden for url: https://www.newsr.in/n/Business/1zqvn1hfvt/Latest-HDFC-Bank-lending-rates-What-home-loan.htm\n",
            "Failed to process https://www.newsr.in/n/Business/1zqvn1hfvt/Latest-HDFC-Bank-lending-rates-What-home-loan.htm: No meaningful content extracted.\n"
          ]
        },
        {
          "output_type": "stream",
          "name": "stderr",
          "text": [
            " 51%|█████     | 2064/4047 [21:48<18:42,  1.77it/s]"
          ]
        },
        {
          "output_type": "stream",
          "name": "stdout",
          "text": [
            "Failed to fetch https://www.newsr.in/n/Business/1zqvn1ha04/At-nearly-Rs-21k-crore-SBI-posts-highest.htm: 403 Client Error: Forbidden for url: https://www.newsr.in/n/Business/1zqvn1ha04/At-nearly-Rs-21k-crore-SBI-posts-highest.htm\n",
            "Failed to process https://www.newsr.in/n/Business/1zqvn1ha04/At-nearly-Rs-21k-crore-SBI-posts-highest.htm: No meaningful content extracted.\n"
          ]
        },
        {
          "output_type": "stream",
          "name": "stderr",
          "text": [
            "\r 51%|█████     | 2066/4047 [21:51<28:43,  1.15it/s]"
          ]
        },
        {
          "output_type": "stream",
          "name": "stdout",
          "text": [
            "Failed to fetch https://www.goodreturns.in/personal-finance/10-large-cap-companies-like-coal-india-hdfc-bank-get-upgrades-downgrades-from-motilal-oswal-on-q4-1345819.html: 403 Client Error: Forbidden for url: https://www.goodreturns.in/personal-finance/10-large-cap-companies-like-coal-india-hdfc-bank-get-upgrades-downgrades-from-motilal-oswal-on-q4-1345819.html\n",
            "Failed to process https://www.goodreturns.in/personal-finance/10-large-cap-companies-like-coal-india-hdfc-bank-get-upgrades-downgrades-from-motilal-oswal-on-q4-1345819.html: No meaningful content extracted.\n"
          ]
        },
        {
          "output_type": "stream",
          "name": "stderr",
          "text": [
            " 51%|█████     | 2069/4047 [21:54<35:28,  1.08s/it]"
          ]
        },
        {
          "output_type": "stream",
          "name": "stdout",
          "text": [
            "Failed to fetch https://orissadiary.com/hdfc-bank-parivartan-supports-social-sector-start-ups-with-rs-19-6-crore-grants/: 403 Client Error: Forbidden for url: https://orissadiary.com/hdfc-bank-parivartan-supports-social-sector-start-ups-with-rs-19-6-crore-grants/\n",
            "Failed to process https://orissadiary.com/hdfc-bank-parivartan-supports-social-sector-start-ups-with-rs-19-6-crore-grants/: No meaningful content extracted.\n"
          ]
        },
        {
          "output_type": "stream",
          "name": "stderr",
          "text": [
            " 51%|█████▏    | 2080/4047 [22:09<1:04:16,  1.96s/it]"
          ]
        },
        {
          "output_type": "stream",
          "name": "stdout",
          "text": [
            "Failed to fetch https://www.livemint.com/market/live-blog/hdfc-bank-share-price-today-latest-live-updates-on-08-may-2024-11715135726495.html: 410 Client Error: Gone for url: https://www.livemint.com/market/live-blog/hdfc-bank-share-price-today-latest-live-updates-on-08-may-2024-11715135726495.html\n",
            "Failed to process https://www.livemint.com/market/live-blog/hdfc-bank-share-price-today-latest-live-updates-on-08-may-2024-11715135726495.html: No meaningful content extracted.\n"
          ]
        },
        {
          "output_type": "stream",
          "name": "stderr",
          "text": [
            " 52%|█████▏    | 2091/4047 [22:26<1:01:18,  1.88s/it]"
          ]
        },
        {
          "output_type": "stream",
          "name": "stdout",
          "text": [
            "Failed to fetch https://www.livemint.com/market/live-blog/hdfc-bank-share-price-today-latest-live-updates-on-06-may-2024-11714962875672.html: 410 Client Error: Gone for url: https://www.livemint.com/market/live-blog/hdfc-bank-share-price-today-latest-live-updates-on-06-may-2024-11714962875672.html\n",
            "Failed to process https://www.livemint.com/market/live-blog/hdfc-bank-share-price-today-latest-live-updates-on-06-may-2024-11714962875672.html: No meaningful content extracted.\n"
          ]
        },
        {
          "output_type": "stream",
          "name": "stderr",
          "text": [
            " 52%|█████▏    | 2097/4047 [22:30<27:42,  1.17it/s]"
          ]
        },
        {
          "output_type": "stream",
          "name": "stdout",
          "text": [
            "Failed to fetch https://www.newsr.in/n/Business/1zqvn1fb6g/Sensex-swings-600-pts-ends-below-74.htm: 403 Client Error: Forbidden for url: https://www.newsr.in/n/Business/1zqvn1fb6g/Sensex-swings-600-pts-ends-below-74.htm\n",
            "Failed to process https://www.newsr.in/n/Business/1zqvn1fb6g/Sensex-swings-600-pts-ends-below-74.htm: No meaningful content extracted.\n"
          ]
        },
        {
          "output_type": "stream",
          "name": "stderr",
          "text": [
            " 52%|█████▏    | 2101/4047 [22:32<16:21,  1.98it/s]"
          ]
        },
        {
          "output_type": "stream",
          "name": "stdout",
          "text": [
            "Failed to fetch https://www.newsr.in/n/Business/1zqvn1f5vd/Sensex-Tumbles-700-Points-Amid-Broad-based-Selloff.htm: 403 Client Error: Forbidden for url: https://www.newsr.in/n/Business/1zqvn1f5vd/Sensex-Tumbles-700-Points-Amid-Broad-based-Selloff.htm\n",
            "Failed to process https://www.newsr.in/n/Business/1zqvn1f5vd/Sensex-Tumbles-700-Points-Amid-Broad-based-Selloff.htm: No meaningful content extracted.\n"
          ]
        },
        {
          "output_type": "stream",
          "name": "stderr",
          "text": [
            "\r 52%|█████▏    | 2103/4047 [22:32<14:46,  2.19it/s]"
          ]
        },
        {
          "output_type": "stream",
          "name": "stdout",
          "text": [
            "Failed to fetch https://www.goodreturns.in/news/closing-bell-market-erases-early-gains-sensex-nifty-dip-about-1-each-reliance-hdfc-bank-drag-1344857.html: 403 Client Error: Forbidden for url: https://www.goodreturns.in/news/closing-bell-market-erases-early-gains-sensex-nifty-dip-about-1-each-reliance-hdfc-bank-drag-1344857.html\n",
            "Failed to process https://www.goodreturns.in/news/closing-bell-market-erases-early-gains-sensex-nifty-dip-about-1-each-reliance-hdfc-bank-drag-1344857.html: No meaningful content extracted.\n"
          ]
        },
        {
          "output_type": "stream",
          "name": "stderr",
          "text": [
            " 52%|█████▏    | 2111/4047 [22:39<23:56,  1.35it/s]"
          ]
        },
        {
          "output_type": "stream",
          "name": "stdout",
          "text": [
            "Failed to fetch https://www.livemint.com/market/live-blog/hdfc-bank-share-price-today-latest-live-updates-on-02-may-2024-11714617255487.html: 410 Client Error: Gone for url: https://www.livemint.com/market/live-blog/hdfc-bank-share-price-today-latest-live-updates-on-02-may-2024-11714617255487.html\n",
            "Failed to process https://www.livemint.com/market/live-blog/hdfc-bank-share-price-today-latest-live-updates-on-02-may-2024-11714617255487.html: No meaningful content extracted.\n"
          ]
        },
        {
          "output_type": "stream",
          "name": "stderr",
          "text": [
            " 52%|█████▏    | 2119/4047 [22:44<28:08,  1.14it/s]"
          ]
        },
        {
          "output_type": "stream",
          "name": "stdout",
          "text": [
            "Failed to fetch https://www.livemint.com/market/live-blog/hdfc-bank-share-price-today-latest-live-updates-on-30-apr-2024-11714444468810.html: 410 Client Error: Gone for url: https://www.livemint.com/market/live-blog/hdfc-bank-share-price-today-latest-live-updates-on-30-apr-2024-11714444468810.html\n",
            "Failed to process https://www.livemint.com/market/live-blog/hdfc-bank-share-price-today-latest-live-updates-on-30-apr-2024-11714444468810.html: No meaningful content extracted.\n"
          ]
        },
        {
          "output_type": "stream",
          "name": "stderr",
          "text": [
            " 53%|█████▎    | 2125/4047 [22:46<14:04,  2.28it/s]"
          ]
        },
        {
          "output_type": "stream",
          "name": "stdout",
          "text": [
            "Failed to fetch https://www.goodreturns.in/personal-finance/hdfc-bank-icici-bank-other-banks-announce-changes-in-savings-account-charges-credit-card-rules-1344011.html: 403 Client Error: Forbidden for url: https://www.goodreturns.in/personal-finance/hdfc-bank-icici-bank-other-banks-announce-changes-in-savings-account-charges-credit-card-rules-1344011.html\n",
            "Failed to process https://www.goodreturns.in/personal-finance/hdfc-bank-icici-bank-other-banks-announce-changes-in-savings-account-charges-credit-card-rules-1344011.html: No meaningful content extracted.\n",
            "Failed to fetch https://www.livemint.com/market/live-blog/hdfc-bank-share-price-today-latest-live-updates-on-29-apr-2024-11714357820603.html: 410 Client Error: Gone for url: https://www.livemint.com/market/live-blog/hdfc-bank-share-price-today-latest-live-updates-on-29-apr-2024-11714357820603.html\n",
            "Failed to process https://www.livemint.com/market/live-blog/hdfc-bank-share-price-today-latest-live-updates-on-29-apr-2024-11714357820603.html: No meaningful content extracted.\n"
          ]
        },
        {
          "output_type": "stream",
          "name": "stderr",
          "text": [
            " 53%|█████▎    | 2135/4047 [22:57<36:25,  1.14s/it]"
          ]
        },
        {
          "output_type": "stream",
          "name": "stdout",
          "text": [
            "Failed to fetch https://www.livemint.com/market/live-blog/hdfc-bank-share-price-today-latest-live-updates-on-26-apr-2024-11714098654719.html: 410 Client Error: Gone for url: https://www.livemint.com/market/live-blog/hdfc-bank-share-price-today-latest-live-updates-on-26-apr-2024-11714098654719.html\n",
            "Failed to process https://www.livemint.com/market/live-blog/hdfc-bank-share-price-today-latest-live-updates-on-26-apr-2024-11714098654719.html: No meaningful content extracted.\n"
          ]
        },
        {
          "output_type": "stream",
          "name": "stderr",
          "text": [
            " 53%|█████▎    | 2143/4047 [23:01<15:16,  2.08it/s]"
          ]
        },
        {
          "output_type": "stream",
          "name": "stdout",
          "text": [
            "Failed to fetch https://www.livemint.com/market/live-blog/hdfc-bank-share-price-today-latest-live-updates-on-25-apr-2024-11714012214930.html: 410 Client Error: Gone for url: https://www.livemint.com/market/live-blog/hdfc-bank-share-price-today-latest-live-updates-on-25-apr-2024-11714012214930.html\n",
            "Failed to process https://www.livemint.com/market/live-blog/hdfc-bank-share-price-today-latest-live-updates-on-25-apr-2024-11714012214930.html: No meaningful content extracted.\n"
          ]
        },
        {
          "output_type": "stream",
          "name": "stderr",
          "text": [
            " 53%|█████▎    | 2148/4047 [23:03<14:00,  2.26it/s]"
          ]
        },
        {
          "output_type": "stream",
          "name": "stdout",
          "text": [
            "Failed to process https://bengali.news18.com/photogallery/business/hdfc-bank-1500-crore-ex-gratia-to-employees-but-what-does-it-mean-tc-dc-1623947.html: No meaningful content extracted.\n"
          ]
        },
        {
          "output_type": "stream",
          "name": "stderr",
          "text": [
            "\r 53%|█████▎    | 2149/4047 [23:03<13:04,  2.42it/s]"
          ]
        },
        {
          "output_type": "stream",
          "name": "stdout",
          "text": [
            "Failed to fetch https://www.newsr.in/n/Business/1zqv6hygd7/Short-term-fixed-deposits-Earn-FD-rates-up.htm: 403 Client Error: Forbidden for url: https://www.newsr.in/n/Business/1zqv6hygd7/Short-term-fixed-deposits-Earn-FD-rates-up.htm\n",
            "Failed to process https://www.newsr.in/n/Business/1zqv6hygd7/Short-term-fixed-deposits-Earn-FD-rates-up.htm: No meaningful content extracted.\n"
          ]
        },
        {
          "output_type": "stream",
          "name": "stderr",
          "text": [
            "\r 53%|█████▎    | 2151/4047 [23:04<14:05,  2.24it/s]"
          ]
        },
        {
          "output_type": "stream",
          "name": "stdout",
          "text": [
            "Failed to fetch https://www.goodreturns.in/news/trade-setup-mixed-results-from-hdfc-bank-ril-stall-nifty-momentum-global-economic-data-in-focus-1343277.html: 403 Client Error: Forbidden for url: https://www.goodreturns.in/news/trade-setup-mixed-results-from-hdfc-bank-ril-stall-nifty-momentum-global-economic-data-in-focus-1343277.html\n",
            "Failed to process https://www.goodreturns.in/news/trade-setup-mixed-results-from-hdfc-bank-ril-stall-nifty-momentum-global-economic-data-in-focus-1343277.html: No meaningful content extracted.\n",
            "Failed to fetch https://www.livemint.com/market/live-blog/hdfc-bank-share-price-today-latest-live-updates-on-24-apr-2024-11713925999609.html: 410 Client Error: Gone for url: https://www.livemint.com/market/live-blog/hdfc-bank-share-price-today-latest-live-updates-on-24-apr-2024-11713925999609.html\n",
            "Failed to process https://www.livemint.com/market/live-blog/hdfc-bank-share-price-today-latest-live-updates-on-24-apr-2024-11713925999609.html: No meaningful content extracted.\n"
          ]
        },
        {
          "output_type": "stream",
          "name": "stderr",
          "text": [
            " 53%|█████▎    | 2159/4047 [23:11<21:05,  1.49it/s]"
          ]
        },
        {
          "output_type": "stream",
          "name": "stdout",
          "text": [
            "Failed to fetch https://www.livemint.com/market/live-blog/hdfc-bank-share-price-today-latest-live-updates-on-23-apr-2024-11713839486323.html: 410 Client Error: Gone for url: https://www.livemint.com/market/live-blog/hdfc-bank-share-price-today-latest-live-updates-on-23-apr-2024-11713839486323.html\n",
            "Failed to process https://www.livemint.com/market/live-blog/hdfc-bank-share-price-today-latest-live-updates-on-23-apr-2024-11713839486323.html: No meaningful content extracted.\n"
          ]
        },
        {
          "output_type": "stream",
          "name": "stderr",
          "text": [
            " 54%|█████▎    | 2170/4047 [23:16<13:25,  2.33it/s]"
          ]
        },
        {
          "output_type": "stream",
          "name": "stdout",
          "text": [
            "Failed to fetch https://www.livemint.com/market/stock-market-news/top-gainers-and-losers-today-on-22-april-2024-bharat-petroleum-corporation-tata-consumer-ntpc-hdfc-bank-among-most-active-stocks-check-full-list-here-11713781998605.html: 410 Client Error: Gone for url: https://www.livemint.com/market/stock-market-news/top-gainers-and-losers-today-on-22-april-2024-bharat-petroleum-corporation-tata-consumer-ntpc-hdfc-bank-among-most-active-stocks-check-full-list-here-11713781998605.html\n",
            "Failed to process https://www.livemint.com/market/stock-market-news/top-gainers-and-losers-today-on-22-april-2024-bharat-petroleum-corporation-tata-consumer-ntpc-hdfc-bank-among-most-active-stocks-check-full-list-here-11713781998605.html: No meaningful content extracted.\n"
          ]
        },
        {
          "output_type": "stream",
          "name": "stderr",
          "text": [
            " 54%|█████▍    | 2192/4047 [23:27<14:58,  2.06it/s]"
          ]
        },
        {
          "output_type": "stream",
          "name": "stdout",
          "text": [
            "Failed to fetch https://www.livemint.com/market/live-blog/hdfc-bank-share-price-today-latest-live-updates-on-22-apr-2024-11713753183477.html: 410 Client Error: Gone for url: https://www.livemint.com/market/live-blog/hdfc-bank-share-price-today-latest-live-updates-on-22-apr-2024-11713753183477.html\n",
            "Failed to process https://www.livemint.com/market/live-blog/hdfc-bank-share-price-today-latest-live-updates-on-22-apr-2024-11713753183477.html: No meaningful content extracted.\n"
          ]
        },
        {
          "output_type": "stream",
          "name": "stderr",
          "text": [
            " 54%|█████▍    | 2195/4047 [23:30<20:25,  1.51it/s]"
          ]
        },
        {
          "output_type": "stream",
          "name": "stdout",
          "text": [
            "Failed to process https://www.ndtvprofit.com/research-reports/hdfc-bank-q4-results-review-inline-numbers-with-focus-on-profitability-intact-systematix: No meaningful content extracted.\n"
          ]
        },
        {
          "output_type": "stream",
          "name": "stderr",
          "text": [
            "\r 54%|█████▍    | 2196/4047 [23:30<19:08,  1.61it/s]"
          ]
        },
        {
          "output_type": "stream",
          "name": "stdout",
          "text": [
            "Failed to process https://www.ndtvprofit.com/markets/brokerage-views-goldman-sachs-clsa-on-wipro-bernstein-on-hdfc-bank-and-more: No meaningful content extracted.\n"
          ]
        },
        {
          "output_type": "stream",
          "name": "stderr",
          "text": [
            " 54%|█████▍    | 2199/4047 [23:31<14:09,  2.18it/s]"
          ]
        },
        {
          "output_type": "stream",
          "name": "stdout",
          "text": [
            "Failed to fetch https://www.newsr.in/n/Business/1zqv6hxiqz/HDFC-Bank-CEO-tells-investors-gains-to-follow.htm: 403 Client Error: Forbidden for url: https://www.newsr.in/n/Business/1zqv6hxiqz/HDFC-Bank-CEO-tells-investors-gains-to-follow.htm\n",
            "Failed to process https://www.newsr.in/n/Business/1zqv6hxiqz/HDFC-Bank-CEO-tells-investors-gains-to-follow.htm: No meaningful content extracted.\n"
          ]
        },
        {
          "output_type": "stream",
          "name": "stderr",
          "text": [
            " 55%|█████▍    | 2211/4047 [23:36<13:44,  2.23it/s]"
          ]
        },
        {
          "output_type": "stream",
          "name": "stdout",
          "text": [
            "Failed to fetch https://www.newsr.in/n/Business/1zqv6hxain/HDFC-Bank-Q4-Net-Profit-Grows-To-Rs.htm: 403 Client Error: Forbidden for url: https://www.newsr.in/n/Business/1zqv6hxain/HDFC-Bank-Q4-Net-Profit-Grows-To-Rs.htm\n",
            "Failed to process https://www.newsr.in/n/Business/1zqv6hxain/HDFC-Bank-Q4-Net-Profit-Grows-To-Rs.htm: No meaningful content extracted.\n"
          ]
        },
        {
          "output_type": "stream",
          "name": "stderr",
          "text": [
            " 55%|█████▍    | 2215/4047 [23:36<08:17,  3.69it/s]"
          ]
        },
        {
          "output_type": "stream",
          "name": "stdout",
          "text": [
            "Failed to fetch https://www.newsr.in/n/Business/1zqv6hx81z/HDFC-Bank-net-profit-rises-37-per-cent.htm: 403 Client Error: Forbidden for url: https://www.newsr.in/n/Business/1zqv6hx81z/HDFC-Bank-net-profit-rises-37-per-cent.htm\n",
            "Failed to process https://www.newsr.in/n/Business/1zqv6hx81z/HDFC-Bank-net-profit-rises-37-per-cent.htm: No meaningful content extracted.\n"
          ]
        },
        {
          "output_type": "stream",
          "name": "stderr",
          "text": [
            " 55%|█████▍    | 2225/4047 [23:41<12:19,  2.46it/s]"
          ]
        },
        {
          "output_type": "stream",
          "name": "stdout",
          "text": [
            "Failed to fetch https://www.newsr.in/n/Business/1zqv6hx2ui/HDFC-Bank-Q4-Results-Net-profit-increases-marginally.htm: 403 Client Error: Forbidden for url: https://www.newsr.in/n/Business/1zqv6hx2ui/HDFC-Bank-Q4-Results-Net-profit-increases-marginally.htm\n",
            "Failed to process https://www.newsr.in/n/Business/1zqv6hx2ui/HDFC-Bank-Q4-Results-Net-profit-increases-marginally.htm: No meaningful content extracted.\n"
          ]
        },
        {
          "output_type": "stream",
          "name": "stderr",
          "text": [
            " 55%|█████▌    | 2228/4047 [23:42<09:52,  3.07it/s]"
          ]
        },
        {
          "output_type": "stream",
          "name": "stdout",
          "text": [
            "Failed to fetch https://www.goodreturns.in/news/hdfc-bank-q4-results-net-profit-rises-37-to-rs-16-512-cr-rs-19-5-dividend-declared-1342685.html: 403 Client Error: Forbidden for url: https://www.goodreturns.in/news/hdfc-bank-q4-results-net-profit-rises-37-to-rs-16-512-cr-rs-19-5-dividend-declared-1342685.html\n",
            "Failed to process https://www.goodreturns.in/news/hdfc-bank-q4-results-net-profit-rises-37-to-rs-16-512-cr-rs-19-5-dividend-declared-1342685.html: No meaningful content extracted.\n"
          ]
        },
        {
          "output_type": "stream",
          "name": "stderr",
          "text": [
            " 55%|█████▌    | 2235/4047 [23:46<21:36,  1.40it/s]"
          ]
        },
        {
          "output_type": "stream",
          "name": "stdout",
          "text": [
            "Failed to fetch https://www.goodreturns.in/news/hdfc-bank-q4-preview-net-profit-likely-to-grow-56-yoy-credila-stake-sale-to-fuel-earnings-1342641.html: 403 Client Error: Forbidden for url: https://www.goodreturns.in/news/hdfc-bank-q4-preview-net-profit-likely-to-grow-56-yoy-credila-stake-sale-to-fuel-earnings-1342641.html\n",
            "Failed to process https://www.goodreturns.in/news/hdfc-bank-q4-preview-net-profit-likely-to-grow-56-yoy-credila-stake-sale-to-fuel-earnings-1342641.html: No meaningful content extracted.\n"
          ]
        },
        {
          "output_type": "stream",
          "name": "stderr",
          "text": [
            " 55%|█████▌    | 2246/4047 [23:52<22:49,  1.31it/s]"
          ]
        },
        {
          "output_type": "stream",
          "name": "stdout",
          "text": [
            "Failed to fetch https://www.livemint.com/market/live-blog/hdfc-bank-share-price-today-latest-live-updates-on-19-apr-2024-11713493975176.html: 410 Client Error: Gone for url: https://www.livemint.com/market/live-blog/hdfc-bank-share-price-today-latest-live-updates-on-19-apr-2024-11713493975176.html\n",
            "Failed to process https://www.livemint.com/market/live-blog/hdfc-bank-share-price-today-latest-live-updates-on-19-apr-2024-11713493975176.html: No meaningful content extracted.\n"
          ]
        },
        {
          "output_type": "stream",
          "name": "stderr",
          "text": [
            " 56%|█████▌    | 2253/4047 [23:56<16:17,  1.83it/s]"
          ]
        },
        {
          "output_type": "stream",
          "name": "stdout",
          "text": [
            "Failed to fetch https://www.livemint.com/market/live-blog/hdfc-bank-share-price-today-latest-live-updates-on-18-apr-2024-11713407487244.html: 410 Client Error: Gone for url: https://www.livemint.com/market/live-blog/hdfc-bank-share-price-today-latest-live-updates-on-18-apr-2024-11713407487244.html\n",
            "Failed to process https://www.livemint.com/market/live-blog/hdfc-bank-share-price-today-latest-live-updates-on-18-apr-2024-11713407487244.html: No meaningful content extracted.\n"
          ]
        },
        {
          "output_type": "stream",
          "name": "stderr",
          "text": [
            " 56%|█████▌    | 2270/4047 [24:14<11:07,  2.66it/s]"
          ]
        },
        {
          "output_type": "stream",
          "name": "stdout",
          "text": [
            "Failed to fetch https://www.livemint.com/market/live-blog/hdfc-bank-share-price-today-latest-live-updates-on-16-apr-2024-11713234685299.html: 410 Client Error: Gone for url: https://www.livemint.com/market/live-blog/hdfc-bank-share-price-today-latest-live-updates-on-16-apr-2024-11713234685299.html\n",
            "Failed to process https://www.livemint.com/market/live-blog/hdfc-bank-share-price-today-latest-live-updates-on-16-apr-2024-11713234685299.html: No meaningful content extracted.\n"
          ]
        },
        {
          "output_type": "stream",
          "name": "stderr",
          "text": [
            " 56%|█████▌    | 2275/4047 [24:22<24:14,  1.22it/s]"
          ]
        },
        {
          "output_type": "stream",
          "name": "stdout",
          "text": [
            "Failed to fetch https://www.livemint.com/market/live-blog/hdfc-bank-share-price-today-latest-live-updates-on-15-apr-2024-11713148336420.html: 410 Client Error: Gone for url: https://www.livemint.com/market/live-blog/hdfc-bank-share-price-today-latest-live-updates-on-15-apr-2024-11713148336420.html\n",
            "Failed to process https://www.livemint.com/market/live-blog/hdfc-bank-share-price-today-latest-live-updates-on-15-apr-2024-11713148336420.html: No meaningful content extracted.\n"
          ]
        },
        {
          "output_type": "stream",
          "name": "stderr",
          "text": [
            " 56%|█████▋    | 2286/4047 [24:29<12:45,  2.30it/s]"
          ]
        },
        {
          "output_type": "stream",
          "name": "stdout",
          "text": [
            "Failed to fetch https://www.goodreturns.in/news/japanese-bank-mufg-eyes-2-billion-investment-in-hdb-financial-services-ahead-of-ipo-talks-reports-1341449.html: 403 Client Error: Forbidden for url: https://www.goodreturns.in/news/japanese-bank-mufg-eyes-2-billion-investment-in-hdb-financial-services-ahead-of-ipo-talks-reports-1341449.html\n",
            "Failed to process https://www.goodreturns.in/news/japanese-bank-mufg-eyes-2-billion-investment-in-hdb-financial-services-ahead-of-ipo-talks-reports-1341449.html: No meaningful content extracted.\n",
            "Failed to fetch https://www.newsr.in/n/Business/1zqv6hukon/Attention-HDFC-Bank-Special-Fixed-Deposit-Scheme.htm: 403 Client Error: Forbidden for url: https://www.newsr.in/n/Business/1zqv6hukon/Attention-HDFC-Bank-Special-Fixed-Deposit-Scheme.htm\n",
            "Failed to process https://www.newsr.in/n/Business/1zqv6hukon/Attention-HDFC-Bank-Special-Fixed-Deposit-Scheme.htm: No meaningful content extracted.\n",
            "Failed to fetch https://www.goodreturns.in/personal-finance/investment/hdfc-bank-special-fd-scheme-for-senior-citizens-to-end-on-15th-april-should-you-invest-1341263.html: 403 Client Error: Forbidden for url: https://www.goodreturns.in/personal-finance/investment/hdfc-bank-special-fd-scheme-for-senior-citizens-to-end-on-15th-april-should-you-invest-1341263.html\n",
            "Failed to process https://www.goodreturns.in/personal-finance/investment/hdfc-bank-special-fd-scheme-for-senior-citizens-to-end-on-15th-april-should-you-invest-1341263.html: No meaningful content extracted.\n"
          ]
        },
        {
          "output_type": "stream",
          "name": "stderr",
          "text": [
            "\r 57%|█████▋    | 2287/4047 [24:30<12:34,  2.33it/s]"
          ]
        },
        {
          "output_type": "stream",
          "name": "stdout",
          "text": [
            "Failed to fetch https://www.newsr.in/n/Business/1zqv6hu8at/HDFC-Becomes-First-Private-Bank-To-Open-Branch.htm: 403 Client Error: Forbidden for url: https://www.newsr.in/n/Business/1zqv6hu8at/HDFC-Becomes-First-Private-Bank-To-Open-Branch.htm\n",
            "Failed to process https://www.newsr.in/n/Business/1zqv6hu8at/HDFC-Becomes-First-Private-Bank-To-Open-Branch.htm: No meaningful content extracted.\n"
          ]
        },
        {
          "output_type": "stream",
          "name": "stderr",
          "text": [
            " 57%|█████▋    | 2291/4047 [24:31<09:40,  3.03it/s]"
          ]
        },
        {
          "output_type": "stream",
          "name": "stdout",
          "text": [
            "Failed to fetch https://www.livemint.com/market/live-blog/hdfc-bank-share-price-today-latest-live-updates-on-12-apr-2024-11712889002099.html: 410 Client Error: Gone for url: https://www.livemint.com/market/live-blog/hdfc-bank-share-price-today-latest-live-updates-on-12-apr-2024-11712889002099.html\n",
            "Failed to process https://www.livemint.com/market/live-blog/hdfc-bank-share-price-today-latest-live-updates-on-12-apr-2024-11712889002099.html: No meaningful content extracted.\n"
          ]
        },
        {
          "output_type": "stream",
          "name": "stderr",
          "text": [
            "\r 57%|█████▋    | 2293/4047 [24:31<08:12,  3.56it/s]"
          ]
        },
        {
          "output_type": "stream",
          "name": "stdout",
          "text": [
            "Failed to fetch https://prajasakti.com/business/first-branch-of-hdfc-bank-set-up-in-lakshadweep: 403 Client Error: Forbidden for url: https://prajasakti.com/business/first-branch-of-hdfc-bank-set-up-in-lakshadweep\n",
            "Failed to process https://prajasakti.com/business/first-branch-of-hdfc-bank-set-up-in-lakshadweep: No meaningful content extracted.\n"
          ]
        },
        {
          "output_type": "stream",
          "name": "stderr",
          "text": [
            " 57%|█████▋    | 2297/4047 [24:33<10:17,  2.83it/s]"
          ]
        },
        {
          "output_type": "stream",
          "name": "stdout",
          "text": [
            "Failed to process https://news18marathi.com/photogallery/money/hdfc-bank-warns-customers-should-stop-doing-these-things-to-avoid-getting-hacked-check-details-mhmv-1160837.html: No meaningful content extracted.\n"
          ]
        },
        {
          "output_type": "stream",
          "name": "stderr",
          "text": [
            " 57%|█████▋    | 2299/4047 [24:34<10:27,  2.79it/s]"
          ]
        },
        {
          "output_type": "stream",
          "name": "stdout",
          "text": [
            "Failed to process https://hindi.news18.com/photogallery/business/hdfc-bank-warns-customers-should-stop-doing-these-things-to-avoid-getting-hacked-8227268.html: No meaningful content extracted.\n"
          ]
        },
        {
          "output_type": "stream",
          "name": "stderr",
          "text": [
            " 57%|█████▋    | 2308/4047 [24:40<13:42,  2.11it/s]"
          ]
        },
        {
          "output_type": "stream",
          "name": "stdout",
          "text": [
            "Failed to fetch https://www.livemint.com/market/live-blog/hdfc-bank-share-price-today-latest-live-updates-on-10-apr-2024-11712716380435.html: 410 Client Error: Gone for url: https://www.livemint.com/market/live-blog/hdfc-bank-share-price-today-latest-live-updates-on-10-apr-2024-11712716380435.html\n",
            "Failed to process https://www.livemint.com/market/live-blog/hdfc-bank-share-price-today-latest-live-updates-on-10-apr-2024-11712716380435.html: No meaningful content extracted.\n",
            "Failed to fetch https://www.newsr.in/n/Business/1zqv6hteia/PSU-banks-outdo-private-peers-due-to-govt.htm: 403 Client Error: Forbidden for url: https://www.newsr.in/n/Business/1zqv6hteia/PSU-banks-outdo-private-peers-due-to-govt.htm\n",
            "Failed to process https://www.newsr.in/n/Business/1zqv6hteia/PSU-banks-outdo-private-peers-due-to-govt.htm: No meaningful content extracted.\n"
          ]
        },
        {
          "output_type": "stream",
          "name": "stderr",
          "text": [
            " 57%|█████▋    | 2316/4047 [24:43<11:00,  2.62it/s]"
          ]
        },
        {
          "output_type": "stream",
          "name": "stdout",
          "text": [
            "Failed to fetch https://www.livemint.com/market/live-blog/hdfc-bank-share-price-today-latest-live-updates-on-09-apr-2024-11712629850315.html: 410 Client Error: Gone for url: https://www.livemint.com/market/live-blog/hdfc-bank-share-price-today-latest-live-updates-on-09-apr-2024-11712629850315.html\n",
            "Failed to process https://www.livemint.com/market/live-blog/hdfc-bank-share-price-today-latest-live-updates-on-09-apr-2024-11712629850315.html: No meaningful content extracted.\n"
          ]
        },
        {
          "output_type": "stream",
          "name": "stderr",
          "text": [
            " 57%|█████▋    | 2325/4047 [24:46<07:19,  3.91it/s]"
          ]
        },
        {
          "output_type": "stream",
          "name": "stdout",
          "text": [
            "Failed to fetch https://www.goodreturns.in/news/market-at-record-high-nifty-sensex-soar-ril-hdfc-bank-fuel-rally-bse-m-cap-above-rs-400-lk-cr-1340583.html: 403 Client Error: Forbidden for url: https://www.goodreturns.in/news/market-at-record-high-nifty-sensex-soar-ril-hdfc-bank-fuel-rally-bse-m-cap-above-rs-400-lk-cr-1340583.html\n",
            "Failed to process https://www.goodreturns.in/news/market-at-record-high-nifty-sensex-soar-ril-hdfc-bank-fuel-rally-bse-m-cap-above-rs-400-lk-cr-1340583.html: No meaningful content extracted.\n"
          ]
        },
        {
          "output_type": "stream",
          "name": "stderr",
          "text": [
            " 58%|█████▊    | 2329/4047 [24:49<15:29,  1.85it/s]"
          ]
        },
        {
          "output_type": "stream",
          "name": "stdout",
          "text": [
            "Failed to fetch https://www.livemint.com/market/live-blog/hdfc-bank-share-price-today-latest-live-updates-on-08-apr-2024-11712543535916.html: 410 Client Error: Gone for url: https://www.livemint.com/market/live-blog/hdfc-bank-share-price-today-latest-live-updates-on-08-apr-2024-11712543535916.html\n",
            "Failed to process https://www.livemint.com/market/live-blog/hdfc-bank-share-price-today-latest-live-updates-on-08-apr-2024-11712543535916.html: No meaningful content extracted.\n",
            "Failed to fetch https://www.goodreturns.in/personal-finance/its-raining-dividend-5-big-companies-likely-to-declare-soon-boost-shareholders-wealth-1340513.html: 403 Client Error: Forbidden for url: https://www.goodreturns.in/personal-finance/its-raining-dividend-5-big-companies-likely-to-declare-soon-boost-shareholders-wealth-1340513.html\n",
            "Failed to process https://www.goodreturns.in/personal-finance/its-raining-dividend-5-big-companies-likely-to-declare-soon-boost-shareholders-wealth-1340513.html: No meaningful content extracted.\n"
          ]
        },
        {
          "output_type": "stream",
          "name": "stderr",
          "text": [
            " 58%|█████▊    | 2349/4047 [24:58<06:35,  4.29it/s]"
          ]
        },
        {
          "output_type": "stream",
          "name": "stdout",
          "text": [
            "Failed to fetch https://www.goodreturns.in/personal-finance/1-share-split-to-10-hdfc-bank-stock-up-9-in-7-days-adr-up-too-4-brokerages-say-buy-for-1600-2000-tp-1340223.html: 403 Client Error: Forbidden for url: https://www.goodreturns.in/personal-finance/1-share-split-to-10-hdfc-bank-stock-up-9-in-7-days-adr-up-too-4-brokerages-say-buy-for-1600-2000-tp-1340223.html\n",
            "Failed to process https://www.goodreturns.in/personal-finance/1-share-split-to-10-hdfc-bank-stock-up-9-in-7-days-adr-up-too-4-brokerages-say-buy-for-1600-2000-tp-1340223.html: No meaningful content extracted.\n"
          ]
        },
        {
          "output_type": "stream",
          "name": "stderr",
          "text": [
            " 58%|█████▊    | 2357/4047 [25:03<19:39,  1.43it/s]"
          ]
        },
        {
          "output_type": "stream",
          "name": "stdout",
          "text": [
            "Failed to fetch https://www.livemint.com/market/live-blog/hdfc-bank-share-price-today-latest-live-updates-on-05-apr-2024-11712284336569.html: 410 Client Error: Gone for url: https://www.livemint.com/market/live-blog/hdfc-bank-share-price-today-latest-live-updates-on-05-apr-2024-11712284336569.html\n",
            "Failed to process https://www.livemint.com/market/live-blog/hdfc-bank-share-price-today-latest-live-updates-on-05-apr-2024-11712284336569.html: No meaningful content extracted.\n"
          ]
        },
        {
          "output_type": "stream",
          "name": "stderr",
          "text": [
            " 58%|█████▊    | 2361/4047 [25:04<12:28,  2.25it/s]"
          ]
        },
        {
          "output_type": "stream",
          "name": "stdout",
          "text": [
            "Failed to fetch https://www.newsr.in/n/Business/1zqv6hrr5t/HDFC-Bank-gets-record-%E2%82%B91-66L-cr-deposits.htm: 403 Client Error: Forbidden for url: https://www.newsr.in/n/Business/1zqv6hrr5t/HDFC-Bank-gets-record-%E2%82%B91-66L-cr-deposits.htm\n",
            "Failed to process https://www.newsr.in/n/Business/1zqv6hrr5t/HDFC-Bank-gets-record-%E2%82%B91-66L-cr-deposits.htm: No meaningful content extracted.\n"
          ]
        },
        {
          "output_type": "stream",
          "name": "stderr",
          "text": [
            " 59%|█████▊    | 2371/4047 [25:07<09:25,  2.96it/s]"
          ]
        },
        {
          "output_type": "stream",
          "name": "stdout",
          "text": [
            "Failed to fetch https://www.livemint.com/market/stock-market-news/top-gainers-and-losers-today-on-4-april-2024-hdfc-bank-eicher-motors-oil-natural-gas-corporation-shriram-finance-among-most-active-stocks-check-full-list-here-11712226793032.html: 410 Client Error: Gone for url: https://www.livemint.com/market/stock-market-news/top-gainers-and-losers-today-on-4-april-2024-hdfc-bank-eicher-motors-oil-natural-gas-corporation-shriram-finance-among-most-active-stocks-check-full-list-here-11712226793032.html\n",
            "Failed to process https://www.livemint.com/market/stock-market-news/top-gainers-and-losers-today-on-4-april-2024-hdfc-bank-eicher-motors-oil-natural-gas-corporation-shriram-finance-among-most-active-stocks-check-full-list-here-11712226793032.html: No meaningful content extracted.\n"
          ]
        },
        {
          "output_type": "stream",
          "name": "stderr",
          "text": [
            " 59%|█████▊    | 2377/4047 [25:10<11:16,  2.47it/s]"
          ]
        },
        {
          "output_type": "stream",
          "name": "stdout",
          "text": [
            "Failed to fetch https://www.goodreturns.in/news/market-hits-record-high-sensex-nifty-midcap-index-soar-led-by-hdfc-bank-psu-metal-stocks-1339993.html: 403 Client Error: Forbidden for url: https://www.goodreturns.in/news/market-hits-record-high-sensex-nifty-midcap-index-soar-led-by-hdfc-bank-psu-metal-stocks-1339993.html\n",
            "Failed to process https://www.goodreturns.in/news/market-hits-record-high-sensex-nifty-midcap-index-soar-led-by-hdfc-bank-psu-metal-stocks-1339993.html: No meaningful content extracted.\n"
          ]
        },
        {
          "output_type": "stream",
          "name": "stderr",
          "text": [
            " 59%|█████▉    | 2384/4047 [25:12<10:27,  2.65it/s]"
          ]
        },
        {
          "output_type": "stream",
          "name": "stdout",
          "text": [
            "Failed to fetch https://www.livemint.com/market/live-blog/hdfc-bank-share-price-today-latest-live-updates-on-04-apr-2024-11712197879887.html: 410 Client Error: Gone for url: https://www.livemint.com/market/live-blog/hdfc-bank-share-price-today-latest-live-updates-on-04-apr-2024-11712197879887.html\n",
            "Failed to process https://www.livemint.com/market/live-blog/hdfc-bank-share-price-today-latest-live-updates-on-04-apr-2024-11712197879887.html: No meaningful content extracted.\n"
          ]
        },
        {
          "output_type": "stream",
          "name": "stderr",
          "text": [
            " 59%|█████▉    | 2388/4047 [25:13<06:26,  4.29it/s]"
          ]
        },
        {
          "output_type": "stream",
          "name": "stdout",
          "text": [
            "Failed to fetch https://seekingalpha.com/article/4682018-hdfc-bank-the-jury-is-still-out-although-the-risk-reward-is-in-a-better-place?source=feed_tag_india: 403 Client Error: Forbidden for url: https://seekingalpha.com/article/4682018-hdfc-bank-the-jury-is-still-out-although-the-risk-reward-is-in-a-better-place?source=feed_tag_india\n",
            "Failed to process https://seekingalpha.com/article/4682018-hdfc-bank-the-jury-is-still-out-although-the-risk-reward-is-in-a-better-place?source=feed_tag_india: No meaningful content extracted.\n",
            "Failed to fetch https://www.goodreturns.in/personal-finance/investment/hdfc-bank-hikes-non-withdrawable-fixed-deposit-fd-rates-effective-from-today-1339883.html: 403 Client Error: Forbidden for url: https://www.goodreturns.in/personal-finance/investment/hdfc-bank-hikes-non-withdrawable-fixed-deposit-fd-rates-effective-from-today-1339883.html\n",
            "Failed to process https://www.goodreturns.in/personal-finance/investment/hdfc-bank-hikes-non-withdrawable-fixed-deposit-fd-rates-effective-from-today-1339883.html: No meaningful content extracted.\n"
          ]
        },
        {
          "output_type": "stream",
          "name": "stderr",
          "text": [
            " 59%|█████▉    | 2391/4047 [25:14<07:37,  3.62it/s]"
          ]
        },
        {
          "output_type": "stream",
          "name": "stdout",
          "text": [
            "Failed to fetch https://www.livemint.com/market/live-blog/hdfc-bank-share-price-today-latest-live-updates-on-03-apr-2024-11712111432546.html: 410 Client Error: Gone for url: https://www.livemint.com/market/live-blog/hdfc-bank-share-price-today-latest-live-updates-on-03-apr-2024-11712111432546.html\n",
            "Failed to process https://www.livemint.com/market/live-blog/hdfc-bank-share-price-today-latest-live-updates-on-03-apr-2024-11712111432546.html: No meaningful content extracted.\n"
          ]
        },
        {
          "output_type": "stream",
          "name": "stderr",
          "text": [
            " 59%|█████▉    | 2396/4047 [25:15<08:45,  3.14it/s]"
          ]
        },
        {
          "output_type": "stream",
          "name": "stdout",
          "text": [
            "Failed to fetch https://www.livemint.com/market/live-blog/hdfc-bank-share-price-today-latest-live-updates-on-02-apr-2024-11712025033699.html: 410 Client Error: Gone for url: https://www.livemint.com/market/live-blog/hdfc-bank-share-price-today-latest-live-updates-on-02-apr-2024-11712025033699.html\n",
            "Failed to process https://www.livemint.com/market/live-blog/hdfc-bank-share-price-today-latest-live-updates-on-02-apr-2024-11712025033699.html: No meaningful content extracted.\n"
          ]
        },
        {
          "output_type": "stream",
          "name": "stderr",
          "text": [
            " 59%|█████▉    | 2399/4047 [25:16<06:47,  4.05it/s]"
          ]
        },
        {
          "output_type": "stream",
          "name": "stdout",
          "text": [
            "Failed to process https://bengali.news18.com/photogallery/business/hdfc-bank-asks-customer-to-avoid-money-transfer-through-neft-on-1st-april-tc-dc-1586895.html: No meaningful content extracted.\n"
          ]
        },
        {
          "output_type": "stream",
          "name": "stderr",
          "text": [
            " 59%|█████▉    | 2402/4047 [25:17<08:40,  3.16it/s]"
          ]
        },
        {
          "output_type": "stream",
          "name": "stdout",
          "text": [
            "Failed to fetch https://www.newsr.in/n/Business/1zqv6hqe4l/HDFC-Bank-Advises-Customers-To-Avoid-Using-NEFT.htm: 403 Client Error: Forbidden for url: https://www.newsr.in/n/Business/1zqv6hqe4l/HDFC-Bank-Advises-Customers-To-Avoid-Using-NEFT.htm\n",
            "Failed to process https://www.newsr.in/n/Business/1zqv6hqe4l/HDFC-Bank-Advises-Customers-To-Avoid-Using-NEFT.htm: No meaningful content extracted.\n"
          ]
        },
        {
          "output_type": "stream",
          "name": "stderr",
          "text": [
            "\r 59%|█████▉    | 2404/4047 [25:17<06:19,  4.33it/s]"
          ]
        },
        {
          "output_type": "stream",
          "name": "stdout",
          "text": [
            "Failed to fetch https://www.newsr.in/n/Business/1zqv6hqdnl/HDFC-Bank-customers-take-note%21-NEFT-facility-for.htm: 403 Client Error: Forbidden for url: https://www.newsr.in/n/Business/1zqv6hqdnl/HDFC-Bank-customers-take-note%21-NEFT-facility-for.htm\n",
            "Failed to process https://www.newsr.in/n/Business/1zqv6hqdnl/HDFC-Bank-customers-take-note%21-NEFT-facility-for.htm: No meaningful content extracted.\n"
          ]
        },
        {
          "output_type": "stream",
          "name": "stderr",
          "text": [
            " 60%|█████▉    | 2409/4047 [25:19<11:17,  2.42it/s]"
          ]
        },
        {
          "output_type": "stream",
          "name": "stdout",
          "text": [
            "Failed to fetch https://www.livemint.com/market/live-blog/hdfc-bank-share-price-today-latest-live-updates-on-01-apr-2024-11711938846525.html: 410 Client Error: Gone for url: https://www.livemint.com/market/live-blog/hdfc-bank-share-price-today-latest-live-updates-on-01-apr-2024-11711938846525.html\n",
            "Failed to process https://www.livemint.com/market/live-blog/hdfc-bank-share-price-today-latest-live-updates-on-01-apr-2024-11711938846525.html: No meaningful content extracted.\n"
          ]
        },
        {
          "output_type": "stream",
          "name": "stderr",
          "text": [
            " 60%|█████▉    | 2418/4047 [25:23<14:39,  1.85it/s]"
          ]
        },
        {
          "output_type": "stream",
          "name": "stdout",
          "text": [
            "Failed to fetch https://www.newsr.in/n/Business/1zqupycncd/HDFC-Bank-Proposes-To-Sell-Its-Subsidiary-HDFC.htm: 403 Client Error: Forbidden for url: https://www.newsr.in/n/Business/1zqupycncd/HDFC-Bank-Proposes-To-Sell-Its-Subsidiary-HDFC.htm\n",
            "Failed to process https://www.newsr.in/n/Business/1zqupycncd/HDFC-Bank-Proposes-To-Sell-Its-Subsidiary-HDFC.htm: No meaningful content extracted.\n"
          ]
        },
        {
          "output_type": "stream",
          "name": "stderr",
          "text": [
            " 60%|█████▉    | 2425/4047 [25:25<08:40,  3.11it/s]"
          ]
        },
        {
          "output_type": "stream",
          "name": "stdout",
          "text": [
            "Failed to fetch https://www.newsr.in/n/Business/1zqupyce1d/Latest-HDFC-Bank-Vs-ICICI-Bank-Vs-SBI.htm: 403 Client Error: Forbidden for url: https://www.newsr.in/n/Business/1zqupyce1d/Latest-HDFC-Bank-Vs-ICICI-Bank-Vs-SBI.htm\n",
            "Failed to process https://www.newsr.in/n/Business/1zqupyce1d/Latest-HDFC-Bank-Vs-ICICI-Bank-Vs-SBI.htm: No meaningful content extracted.\n"
          ]
        },
        {
          "output_type": "stream",
          "name": "stderr",
          "text": [
            " 60%|██████    | 2436/4047 [25:29<10:19,  2.60it/s]"
          ]
        },
        {
          "output_type": "stream",
          "name": "stdout",
          "text": [
            "Failed to fetch https://www.newsr.in/n/Business/1zqupybodp/Big-Blow-To-Home-Loan-Borrowers%21-HDFC-Bank.htm: 403 Client Error: Forbidden for url: https://www.newsr.in/n/Business/1zqupybodp/Big-Blow-To-Home-Loan-Borrowers%21-HDFC-Bank.htm\n",
            "Failed to process https://www.newsr.in/n/Business/1zqupybodp/Big-Blow-To-Home-Loan-Borrowers%21-HDFC-Bank.htm: No meaningful content extracted.\n"
          ]
        },
        {
          "output_type": "stream",
          "name": "stderr",
          "text": [
            " 60%|██████    | 2439/4047 [25:31<15:57,  1.68it/s]"
          ]
        },
        {
          "output_type": "stream",
          "name": "stdout",
          "text": [
            "Failed to fetch https://www.livemint.com/market/live-blog/hdfc-bank-share-price-today-latest-live-updates-on-28-mar-2024-11711593170847.html: 410 Client Error: Gone for url: https://www.livemint.com/market/live-blog/hdfc-bank-share-price-today-latest-live-updates-on-28-mar-2024-11711593170847.html\n",
            "Failed to process https://www.livemint.com/market/live-blog/hdfc-bank-share-price-today-latest-live-updates-on-28-mar-2024-11711593170847.html: No meaningful content extracted.\n"
          ]
        },
        {
          "output_type": "stream",
          "name": "stderr",
          "text": [
            "\r 60%|██████    | 2441/4047 [25:31<11:41,  2.29it/s]"
          ]
        },
        {
          "output_type": "stream",
          "name": "stdout",
          "text": [
            "Failed to fetch https://www.newsr.in/n/Business/1zqupybdfb/Sensex-Nifty-Rebound-On-Heavy-Buying-In-RIL.htm: 403 Client Error: Forbidden for url: https://www.newsr.in/n/Business/1zqupybdfb/Sensex-Nifty-Rebound-On-Heavy-Buying-In-RIL.htm\n",
            "Failed to process https://www.newsr.in/n/Business/1zqupybdfb/Sensex-Nifty-Rebound-On-Heavy-Buying-In-RIL.htm: No meaningful content extracted.\n"
          ]
        },
        {
          "output_type": "stream",
          "name": "stderr",
          "text": [
            " 61%|██████    | 2455/4047 [25:39<11:49,  2.24it/s]"
          ]
        },
        {
          "output_type": "stream",
          "name": "stdout",
          "text": [
            "Failed to fetch https://www.goodreturns.in/personal-finance/from-hdfc-bank-fastag-purchases-to-toll-plazas-paytm-simplifies-fastag-recharges-1338459.html: 403 Client Error: Forbidden for url: https://www.goodreturns.in/personal-finance/from-hdfc-bank-fastag-purchases-to-toll-plazas-paytm-simplifies-fastag-recharges-1338459.html\n",
            "Failed to process https://www.goodreturns.in/personal-finance/from-hdfc-bank-fastag-purchases-to-toll-plazas-paytm-simplifies-fastag-recharges-1338459.html: No meaningful content extracted.\n",
            "Failed to fetch https://www.livemint.com/market/live-blog/hdfc-bank-share-price-today-latest-live-updates-on-26-mar-2024-11711420308468.html: 410 Client Error: Gone for url: https://www.livemint.com/market/live-blog/hdfc-bank-share-price-today-latest-live-updates-on-26-mar-2024-11711420308468.html\n",
            "Failed to process https://www.livemint.com/market/live-blog/hdfc-bank-share-price-today-latest-live-updates-on-26-mar-2024-11711420308468.html: No meaningful content extracted.\n"
          ]
        },
        {
          "output_type": "stream",
          "name": "stderr",
          "text": [
            " 61%|██████    | 2459/4047 [25:41<10:31,  2.52it/s]"
          ]
        },
        {
          "output_type": "stream",
          "name": "stdout",
          "text": [
            "Failed to fetch https://www.newsr.in/n/Business/1zqupya8mg/Five-Of-Top-10-Firms-Take-Rs.htm: 403 Client Error: Forbidden for url: https://www.newsr.in/n/Business/1zqupya8mg/Five-Of-Top-10-Firms-Take-Rs.htm\n",
            "Failed to process https://www.newsr.in/n/Business/1zqupya8mg/Five-Of-Top-10-Firms-Take-Rs.htm: No meaningful content extracted.\n"
          ]
        },
        {
          "output_type": "stream",
          "name": "stderr",
          "text": [
            "\r 61%|██████    | 2461/4047 [25:41<08:19,  3.18it/s]"
          ]
        },
        {
          "output_type": "stream",
          "name": "stdout",
          "text": [
            "Failed to fetch https://www.goodreturns.in/news/1-5-1-2-split-1-3-yield-hdfc-bank-dividend-q4-results-soon-stock-adr-down-ytd-what-to-expect-1338117.html: 403 Client Error: Forbidden for url: https://www.goodreturns.in/news/1-5-1-2-split-1-3-yield-hdfc-bank-dividend-q4-results-soon-stock-adr-down-ytd-what-to-expect-1338117.html\n",
            "Failed to process https://www.goodreturns.in/news/1-5-1-2-split-1-3-yield-hdfc-bank-dividend-q4-results-soon-stock-adr-down-ytd-what-to-expect-1338117.html: No meaningful content extracted.\n"
          ]
        },
        {
          "output_type": "stream",
          "name": "stderr",
          "text": [
            " 61%|██████    | 2465/4047 [25:42<09:21,  2.82it/s]"
          ]
        },
        {
          "output_type": "stream",
          "name": "stdout",
          "text": [
            "Failed to fetch https://www.livemint.com/market/live-blog/hdfc-bank-share-price-today-latest-live-updates-on-22-mar-2024-11711074690412.html: 410 Client Error: Gone for url: https://www.livemint.com/market/live-blog/hdfc-bank-share-price-today-latest-live-updates-on-22-mar-2024-11711074690412.html\n",
            "Failed to process https://www.livemint.com/market/live-blog/hdfc-bank-share-price-today-latest-live-updates-on-22-mar-2024-11711074690412.html: No meaningful content extracted.\n"
          ]
        },
        {
          "output_type": "stream",
          "name": "stderr",
          "text": [
            " 61%|██████    | 2469/4047 [25:43<08:14,  3.19it/s]"
          ]
        },
        {
          "output_type": "stream",
          "name": "stdout",
          "text": [
            "Failed to fetch https://www.livemint.com/market/live-blog/hdfc-bank-share-price-today-latest-live-updates-on-21-mar-2024-11710999000636.html: 410 Client Error: Gone for url: https://www.livemint.com/market/live-blog/hdfc-bank-share-price-today-latest-live-updates-on-21-mar-2024-11710999000636.html\n",
            "Failed to process https://www.livemint.com/market/live-blog/hdfc-bank-share-price-today-latest-live-updates-on-21-mar-2024-11710999000636.html: No meaningful content extracted.\n"
          ]
        },
        {
          "output_type": "stream",
          "name": "stderr",
          "text": [
            " 61%|██████    | 2476/4047 [25:46<08:29,  3.08it/s]"
          ]
        },
        {
          "output_type": "stream",
          "name": "stdout",
          "text": [
            "Failed to fetch https://www.goodreturns.in/news/hdfc-dividend-board-to-consider-dividend-on-april-20-macquarie-sets-highest-target-price-1337703.html: 403 Client Error: Forbidden for url: https://www.goodreturns.in/news/hdfc-dividend-board-to-consider-dividend-on-april-20-macquarie-sets-highest-target-price-1337703.html\n",
            "Failed to process https://www.goodreturns.in/news/hdfc-dividend-board-to-consider-dividend-on-april-20-macquarie-sets-highest-target-price-1337703.html: No meaningful content extracted.\n"
          ]
        },
        {
          "output_type": "stream",
          "name": "stderr",
          "text": [
            "\r 61%|██████    | 2478/4047 [25:46<06:18,  4.14it/s]"
          ]
        },
        {
          "output_type": "stream",
          "name": "stdout",
          "text": [
            "Failed to process https://bengali.news18.com/photogallery/business/big-news-for-hdfc-bank-customers-as-bank-is-giving-huge-interest-rate-tc-dc-1566314.html: No meaningful content extracted.\n"
          ]
        },
        {
          "output_type": "stream",
          "name": "stderr",
          "text": [
            " 61%|██████▏   | 2484/4047 [25:49<09:57,  2.62it/s]"
          ]
        },
        {
          "output_type": "stream",
          "name": "stdout",
          "text": [
            "Failed to fetch https://www.goodreturns.in/personal-finance/1-5-1-2-splits-1-31-yield-niftys-top-weightage-stock-hdfc-bank-on-road-to-recovery-right-time-to-buy-1337477.html: 403 Client Error: Forbidden for url: https://www.goodreturns.in/personal-finance/1-5-1-2-splits-1-31-yield-niftys-top-weightage-stock-hdfc-bank-on-road-to-recovery-right-time-to-buy-1337477.html\n",
            "Failed to process https://www.goodreturns.in/personal-finance/1-5-1-2-splits-1-31-yield-niftys-top-weightage-stock-hdfc-bank-on-road-to-recovery-right-time-to-buy-1337477.html: No meaningful content extracted.\n",
            "Failed to fetch https://www.goodreturns.in/personal-finance/hdfc-bank-icici-bank-kotak-mahindra-revise-recurring-deposit-rates-what-are-the-new-changes-1337471.html: 403 Client Error: Forbidden for url: https://www.goodreturns.in/personal-finance/hdfc-bank-icici-bank-kotak-mahindra-revise-recurring-deposit-rates-what-are-the-new-changes-1337471.html\n",
            "Failed to process https://www.goodreturns.in/personal-finance/hdfc-bank-icici-bank-kotak-mahindra-revise-recurring-deposit-rates-what-are-the-new-changes-1337471.html: No meaningful content extracted.\n"
          ]
        },
        {
          "output_type": "stream",
          "name": "stderr",
          "text": [
            " 62%|██████▏   | 2498/4047 [25:53<06:02,  4.27it/s]"
          ]
        },
        {
          "output_type": "stream",
          "name": "stdout",
          "text": [
            "Failed to fetch https://www.newsr.in/n/Business/1zqupy8eq6/HDFC-Bank-home-loan-business-head-to.htm: 403 Client Error: Forbidden for url: https://www.newsr.in/n/Business/1zqupy8eq6/HDFC-Bank-home-loan-business-head-to.htm\n",
            "Failed to process https://www.newsr.in/n/Business/1zqupy8eq6/HDFC-Bank-home-loan-business-head-to.htm: No meaningful content extracted.\n"
          ]
        },
        {
          "output_type": "stream",
          "name": "stderr",
          "text": [
            "\r 62%|██████▏   | 2499/4047 [25:53<06:09,  4.19it/s]"
          ]
        },
        {
          "output_type": "stream",
          "name": "stdout",
          "text": [
            "Failed to process https://bengali.news18.com/photogallery/business/hdfc-bank-loan-if-you-have-taken-12-lakh-rupees-laon-how-much-emi-you-have-to-pay-tc-dc-1563250.html: No meaningful content extracted.\n"
          ]
        },
        {
          "output_type": "stream",
          "name": "stderr",
          "text": [
            " 62%|██████▏   | 2511/4047 [26:09<49:07,  1.92s/it]"
          ]
        },
        {
          "output_type": "stream",
          "name": "stdout",
          "text": [
            "Failed to process https://hindi.news18.com/photogallery/business/sbi-mutual-fund-buy-ril-hdfc-bank-whirlpool-india-and-jubilant-foodworks-shares-in-february-2024-8150198.html: No meaningful content extracted.\n"
          ]
        },
        {
          "output_type": "stream",
          "name": "stderr",
          "text": [
            " 62%|██████▏   | 2515/4047 [26:10<18:30,  1.38it/s]"
          ]
        },
        {
          "output_type": "stream",
          "name": "stdout",
          "text": [
            "Failed to process https://bengali.news18.com/photogallery/business/emi-calculations-how-much-emi-you-have-to-pay-if-you-take-50-lakh-rupees-home-loan-from-hdfc-bank-dc-1557724.html: No meaningful content extracted.\n"
          ]
        },
        {
          "output_type": "stream",
          "name": "stderr",
          "text": [
            " 62%|██████▏   | 2527/4047 [26:16<16:50,  1.50it/s]"
          ]
        },
        {
          "output_type": "stream",
          "name": "stdout",
          "text": [
            "Failed to fetch https://pragativadi.com/hdfc-bank-sets-ball-rolling-for-mega-ipo-of-2024/: 404 Client Error: Not Found for url: https://pragativadi.com/hdfc-bank-sets-ball-rolling-for-mega-ipo-of-2024/\n",
            "Failed to process https://pragativadi.com/hdfc-bank-sets-ball-rolling-for-mega-ipo-of-2024/: No meaningful content extracted.\n"
          ]
        },
        {
          "output_type": "stream",
          "name": "stderr",
          "text": [
            " 63%|██████▎   | 2532/4047 [26:18<10:07,  2.50it/s]"
          ]
        },
        {
          "output_type": "stream",
          "name": "stdout",
          "text": [
            "Failed to fetch https://www.goodreturns.in/personal-finance/mfs-buy-rs-8-400-cr-more-shares-in-hdfc-bank-amid-soaring-market-volatility-1336043.html: 403 Client Error: Forbidden for url: https://www.goodreturns.in/personal-finance/mfs-buy-rs-8-400-cr-more-shares-in-hdfc-bank-amid-soaring-market-volatility-1336043.html\n",
            "Failed to process https://www.goodreturns.in/personal-finance/mfs-buy-rs-8-400-cr-more-shares-in-hdfc-bank-amid-soaring-market-volatility-1336043.html: No meaningful content extracted.\n"
          ]
        },
        {
          "output_type": "stream",
          "name": "stderr",
          "text": [
            "\r 63%|██████▎   | 2534/4047 [26:19<08:31,  2.96it/s]"
          ]
        },
        {
          "output_type": "stream",
          "name": "stdout",
          "text": [
            "Failed to fetch https://www.livemint.com/market/stock-market-news/top-gainers-and-losers-today-on-12-march-2024-hdfc-bank-tata-consultancy-services-adani-enterprises-cipla-among-most-active-stocks-check-full-list-here-11710239590559.html: 410 Client Error: Gone for url: https://www.livemint.com/market/stock-market-news/top-gainers-and-losers-today-on-12-march-2024-hdfc-bank-tata-consultancy-services-adani-enterprises-cipla-among-most-active-stocks-check-full-list-here-11710239590559.html\n",
            "Failed to process https://www.livemint.com/market/stock-market-news/top-gainers-and-losers-today-on-12-march-2024-hdfc-bank-tata-consultancy-services-adani-enterprises-cipla-among-most-active-stocks-check-full-list-here-11710239590559.html: No meaningful content extracted.\n"
          ]
        },
        {
          "output_type": "stream",
          "name": "stderr",
          "text": [
            " 63%|██████▎   | 2548/4047 [26:24<11:04,  2.25it/s]"
          ]
        },
        {
          "output_type": "stream",
          "name": "stdout",
          "text": [
            "Failed to fetch https://www.newsr.in/n/Business/1zqupy5nfn/Why-RBI-has-increased-its-scrutiny-on-co.htm: 403 Client Error: Forbidden for url: https://www.newsr.in/n/Business/1zqupy5nfn/Why-RBI-has-increased-its-scrutiny-on-co.htm\n",
            "Failed to process https://www.newsr.in/n/Business/1zqupy5nfn/Why-RBI-has-increased-its-scrutiny-on-co.htm: No meaningful content extracted.\n"
          ]
        },
        {
          "output_type": "stream",
          "name": "stderr",
          "text": [
            " 63%|██████▎   | 2556/4047 [26:28<18:42,  1.33it/s]"
          ]
        },
        {
          "output_type": "stream",
          "name": "stdout",
          "text": [
            "Failed to fetch https://pragativadi.com/15-oldest-banks-that-once-existed-in-india/: 404 Client Error: Not Found for url: https://pragativadi.com/15-oldest-banks-that-once-existed-in-india/\n",
            "Failed to process https://pragativadi.com/15-oldest-banks-that-once-existed-in-india/: No meaningful content extracted.\n"
          ]
        },
        {
          "output_type": "stream",
          "name": "stderr",
          "text": [
            " 63%|██████▎   | 2561/4047 [26:33<35:08,  1.42s/it]"
          ]
        },
        {
          "output_type": "stream",
          "name": "stdout",
          "text": [
            "Failed to fetch https://www.goodreturns.in/personal-finance/yes-bank-introduces-minimum-spending-requirement-for-domestic-airport-lounge-access-1334953.html: 403 Client Error: Forbidden for url: https://www.goodreturns.in/personal-finance/yes-bank-introduces-minimum-spending-requirement-for-domestic-airport-lounge-access-1334953.html\n",
            "Failed to process https://www.goodreturns.in/personal-finance/yes-bank-introduces-minimum-spending-requirement-for-domestic-airport-lounge-access-1334953.html: No meaningful content extracted.\n"
          ]
        },
        {
          "output_type": "stream",
          "name": "stderr",
          "text": [
            " 63%|██████▎   | 2565/4047 [26:34<15:22,  1.61it/s]"
          ]
        },
        {
          "output_type": "stream",
          "name": "stdout",
          "text": [
            "Failed to fetch https://www.livemint.com/market/live-blog/hdfc-bank-share-price-live-blog-for-06-mar-2024-11709692243777.html: 410 Client Error: Gone for url: https://www.livemint.com/market/live-blog/hdfc-bank-share-price-live-blog-for-06-mar-2024-11709692243777.html\n",
            "Failed to process https://www.livemint.com/market/live-blog/hdfc-bank-share-price-live-blog-for-06-mar-2024-11709692243777.html: No meaningful content extracted.\n"
          ]
        },
        {
          "output_type": "stream",
          "name": "stderr",
          "text": [
            " 63%|██████▎   | 2568/4047 [26:35<09:54,  2.49it/s]"
          ]
        },
        {
          "output_type": "stream",
          "name": "stdout",
          "text": [
            "Failed to fetch https://www.livemint.com/market/live-blog/hdfc-bank-share-price-live-blog-for-05-mar-2024-11709606362863.html: 410 Client Error: Gone for url: https://www.livemint.com/market/live-blog/hdfc-bank-share-price-live-blog-for-05-mar-2024-11709606362863.html\n",
            "Failed to process https://www.livemint.com/market/live-blog/hdfc-bank-share-price-live-blog-for-05-mar-2024-11709606362863.html: No meaningful content extracted.\n"
          ]
        },
        {
          "output_type": "stream",
          "name": "stderr",
          "text": [
            " 64%|██████▎   | 2572/4047 [26:36<08:31,  2.88it/s]"
          ]
        },
        {
          "output_type": "stream",
          "name": "stdout",
          "text": [
            "Failed to fetch https://www.livemint.com/market/live-blog/hdfc-bank-share-price-live-blog-for-04-mar-2024-11709520045229.html: 410 Client Error: Gone for url: https://www.livemint.com/market/live-blog/hdfc-bank-share-price-live-blog-for-04-mar-2024-11709520045229.html\n",
            "Failed to process https://www.livemint.com/market/live-blog/hdfc-bank-share-price-live-blog-for-04-mar-2024-11709520045229.html: No meaningful content extracted.\n",
            "Failed to fetch https://www.goodreturns.in/personal-finance/2-stock-splits-despite-latest-falls-hdfc-is-up-by-460-from-where-it-was-13-years-ago-buy-on-dips-1334241.html: 403 Client Error: Forbidden for url: https://www.goodreturns.in/personal-finance/2-stock-splits-despite-latest-falls-hdfc-is-up-by-460-from-where-it-was-13-years-ago-buy-on-dips-1334241.html\n",
            "Failed to process https://www.goodreturns.in/personal-finance/2-stock-splits-despite-latest-falls-hdfc-is-up-by-460-from-where-it-was-13-years-ago-buy-on-dips-1334241.html: No meaningful content extracted.\n"
          ]
        },
        {
          "output_type": "stream",
          "name": "stderr",
          "text": [
            "\r 64%|██████▎   | 2575/4047 [26:36<05:41,  4.31it/s]"
          ]
        },
        {
          "output_type": "stream",
          "name": "stdout",
          "text": [
            "Failed to fetch https://www.newsr.in/n/Business/1zqupy2t7f/Market-capitalization-of-of-top-10-most.htm: 403 Client Error: Forbidden for url: https://www.newsr.in/n/Business/1zqupy2t7f/Market-capitalization-of-of-top-10-most.htm\n",
            "Failed to process https://www.newsr.in/n/Business/1zqupy2t7f/Market-capitalization-of-of-top-10-most.htm: No meaningful content extracted.\n"
          ]
        },
        {
          "output_type": "stream",
          "name": "stderr",
          "text": [
            " 64%|██████▍   | 2580/4047 [26:38<08:41,  2.81it/s]"
          ]
        },
        {
          "output_type": "stream",
          "name": "stdout",
          "text": [
            "Failed to fetch https://www.goodreturns.in/news/closing-bell-market-ends-at-record-levels-nifty-surpasses-22-300-led-by-reliance-icici-and-hdfc-bank-1333821.html: 403 Client Error: Forbidden for url: https://www.goodreturns.in/news/closing-bell-market-ends-at-record-levels-nifty-surpasses-22-300-led-by-reliance-icici-and-hdfc-bank-1333821.html\n",
            "Failed to process https://www.goodreturns.in/news/closing-bell-market-ends-at-record-levels-nifty-surpasses-22-300-led-by-reliance-icici-and-hdfc-bank-1333821.html: No meaningful content extracted.\n"
          ]
        },
        {
          "output_type": "stream",
          "name": "stderr",
          "text": [
            " 64%|██████▍   | 2590/4047 [26:41<08:42,  2.79it/s]"
          ]
        },
        {
          "output_type": "stream",
          "name": "stdout",
          "text": [
            "Failed to fetch https://www.livemint.com/market/live-blog/hdfc-bank-share-price-live-blog-for-28-feb-2024-11709087998640.html: 410 Client Error: Gone for url: https://www.livemint.com/market/live-blog/hdfc-bank-share-price-live-blog-for-28-feb-2024-11709087998640.html\n",
            "Failed to process https://www.livemint.com/market/live-blog/hdfc-bank-share-price-live-blog-for-28-feb-2024-11709087998640.html: No meaningful content extracted.\n"
          ]
        },
        {
          "output_type": "stream",
          "name": "stderr",
          "text": [
            " 64%|██████▍   | 2595/4047 [26:43<06:28,  3.74it/s]"
          ]
        },
        {
          "output_type": "stream",
          "name": "stdout",
          "text": [
            "Failed to fetch https://www.livemint.com/market/live-blog/hdfc-bank-share-price-live-blog-for-27-feb-2024-11709001640196.html: 410 Client Error: Gone for url: https://www.livemint.com/market/live-blog/hdfc-bank-share-price-live-blog-for-27-feb-2024-11709001640196.html\n",
            "Failed to process https://www.livemint.com/market/live-blog/hdfc-bank-share-price-live-blog-for-27-feb-2024-11709001640196.html: No meaningful content extracted.\n",
            "Failed to fetch https://www.goodreturns.in/personal-finance/paytm-navigates-regulatory-challenges-partners-with-major-banks-for-upi-transactions-1332915.html: 403 Client Error: Forbidden for url: https://www.goodreturns.in/personal-finance/paytm-navigates-regulatory-challenges-partners-with-major-banks-for-upi-transactions-1332915.html\n",
            "Failed to process https://www.goodreturns.in/personal-finance/paytm-navigates-regulatory-challenges-partners-with-major-banks-for-upi-transactions-1332915.html: No meaningful content extracted.\n"
          ]
        },
        {
          "output_type": "stream",
          "name": "stderr",
          "text": [
            "\r 64%|██████▍   | 2597/4047 [26:43<05:15,  4.60it/s]"
          ]
        },
        {
          "output_type": "stream",
          "name": "stdout",
          "text": [
            "Failed to fetch https://www.newsr.in/n/Business/1zqu9enb1w/What-are-FASTag-charges-Check-details-for-issuers.htm: 403 Client Error: Forbidden for url: https://www.newsr.in/n/Business/1zqu9enb1w/What-are-FASTag-charges-Check-details-for-issuers.htm\n",
            "Failed to process https://www.newsr.in/n/Business/1zqu9enb1w/What-are-FASTag-charges-Check-details-for-issuers.htm: No meaningful content extracted.\n"
          ]
        },
        {
          "output_type": "stream",
          "name": "stderr",
          "text": [
            " 64%|██████▍   | 2602/4047 [26:46<14:15,  1.69it/s]"
          ]
        },
        {
          "output_type": "stream",
          "name": "stdout",
          "text": [
            "Failed to fetch https://www.livemint.com/market/live-blog/hdfc-bank-share-price-live-blog-for-26-feb-2024-11708915055954.html: 410 Client Error: Gone for url: https://www.livemint.com/market/live-blog/hdfc-bank-share-price-live-blog-for-26-feb-2024-11708915055954.html\n",
            "Failed to process https://www.livemint.com/market/live-blog/hdfc-bank-share-price-live-blog-for-26-feb-2024-11708915055954.html: No meaningful content extracted.\n"
          ]
        },
        {
          "output_type": "stream",
          "name": "stderr",
          "text": [
            " 65%|██████▍   | 2615/4047 [26:51<09:26,  2.53it/s]"
          ]
        },
        {
          "output_type": "stream",
          "name": "stdout",
          "text": [
            "Failed to fetch https://www.livemint.com/market/live-blog/hdfc-bank-share-price-live-blog-for-23-feb-2024-11708655954374.html: 410 Client Error: Gone for url: https://www.livemint.com/market/live-blog/hdfc-bank-share-price-live-blog-for-23-feb-2024-11708655954374.html\n",
            "Failed to process https://www.livemint.com/market/live-blog/hdfc-bank-share-price-live-blog-for-23-feb-2024-11708655954374.html: No meaningful content extracted.\n"
          ]
        },
        {
          "output_type": "stream",
          "name": "stderr",
          "text": [
            " 65%|██████▍   | 2620/4047 [26:55<16:18,  1.46it/s]"
          ]
        },
        {
          "output_type": "stream",
          "name": "stdout",
          "text": [
            "Failed to fetch https://www.livemint.com/market/stock-market-news/top-gainers-and-losers-today-on-22-february-2024-bajaj-auto-hcl-technologies-indusind-bank-hdfc-bank-among-most-active-stocks-check-full-list-here-11708597994206.html: 410 Client Error: Gone for url: https://www.livemint.com/market/stock-market-news/top-gainers-and-losers-today-on-22-february-2024-bajaj-auto-hcl-technologies-indusind-bank-hdfc-bank-among-most-active-stocks-check-full-list-here-11708597994206.html\n",
            "Failed to process https://www.livemint.com/market/stock-market-news/top-gainers-and-losers-today-on-22-february-2024-bajaj-auto-hcl-technologies-indusind-bank-hdfc-bank-among-most-active-stocks-check-full-list-here-11708597994206.html: No meaningful content extracted.\n"
          ]
        },
        {
          "output_type": "stream",
          "name": "stderr",
          "text": [
            " 65%|██████▍   | 2626/4047 [26:58<17:25,  1.36it/s]"
          ]
        },
        {
          "output_type": "stream",
          "name": "stdout",
          "text": [
            "Failed to fetch https://www.livemint.com/market/live-blog/hdfc-bank-share-price-live-blog-for-21-feb-2024-11708483192495.html: 410 Client Error: Gone for url: https://www.livemint.com/market/live-blog/hdfc-bank-share-price-live-blog-for-21-feb-2024-11708483192495.html\n",
            "Failed to process https://www.livemint.com/market/live-blog/hdfc-bank-share-price-live-blog-for-21-feb-2024-11708483192495.html: No meaningful content extracted.\n"
          ]
        },
        {
          "output_type": "stream",
          "name": "stderr",
          "text": [
            "\r 65%|██████▍   | 2628/4047 [26:59<10:53,  2.17it/s]"
          ]
        },
        {
          "output_type": "stream",
          "name": "stdout",
          "text": [
            "Failed to fetch https://www.newsr.in/n/Business/1zqu9elcan/Club-Vistara-announces-its-annual-Points-Fest-2024.htm: 403 Client Error: Forbidden for url: https://www.newsr.in/n/Business/1zqu9elcan/Club-Vistara-announces-its-annual-Points-Fest-2024.htm\n",
            "Failed to process https://www.newsr.in/n/Business/1zqu9elcan/Club-Vistara-announces-its-annual-Points-Fest-2024.htm: No meaningful content extracted.\n"
          ]
        },
        {
          "output_type": "stream",
          "name": "stderr",
          "text": [
            " 65%|██████▌   | 2632/4047 [27:00<07:45,  3.04it/s]"
          ]
        },
        {
          "output_type": "stream",
          "name": "stdout",
          "text": [
            "Failed to fetch https://www.livemint.com/market/stock-market-news/top-gainers-and-losers-today-on-20-february-2024-power-grid-corporation-of-india-hdfc-bank-hero-motocorp-coal-india-among-most-active-stocks-check-full-list-here-11708425196880.html: 410 Client Error: Gone for url: https://www.livemint.com/market/stock-market-news/top-gainers-and-losers-today-on-20-february-2024-power-grid-corporation-of-india-hdfc-bank-hero-motocorp-coal-india-among-most-active-stocks-check-full-list-here-11708425196880.html\n",
            "Failed to process https://www.livemint.com/market/stock-market-news/top-gainers-and-losers-today-on-20-february-2024-power-grid-corporation-of-india-hdfc-bank-hero-motocorp-coal-india-among-most-active-stocks-check-full-list-here-11708425196880.html: No meaningful content extracted.\n"
          ]
        },
        {
          "output_type": "stream",
          "name": "stderr",
          "text": [
            " 65%|██████▌   | 2645/4047 [27:08<14:53,  1.57it/s]"
          ]
        },
        {
          "output_type": "stream",
          "name": "stdout",
          "text": [
            "Failed to fetch https://www.goodreturns.in/news/hdfc-bank-share-drops-17-adr-falls-20-ytd-yet-morgan-stanley-maintains-overweight-for-rs-2-110-tp-1331153.html: 403 Client Error: Forbidden for url: https://www.goodreturns.in/news/hdfc-bank-share-drops-17-adr-falls-20-ytd-yet-morgan-stanley-maintains-overweight-for-rs-2-110-tp-1331153.html\n",
            "Failed to process https://www.goodreturns.in/news/hdfc-bank-share-drops-17-adr-falls-20-ytd-yet-morgan-stanley-maintains-overweight-for-rs-2-110-tp-1331153.html: No meaningful content extracted.\n"
          ]
        },
        {
          "output_type": "stream",
          "name": "stderr",
          "text": [
            " 66%|██████▌   | 2659/4047 [27:15<05:13,  4.43it/s]"
          ]
        },
        {
          "output_type": "stream",
          "name": "stdout",
          "text": [
            "Failed to fetch https://www.newsr.in/n/Business/1zqu9ejpq4/Markets-Log-Gains-For-Third-Day-On-Buying.htm: 403 Client Error: Forbidden for url: https://www.newsr.in/n/Business/1zqu9ejpq4/Markets-Log-Gains-For-Third-Day-On-Buying.htm\n",
            "Failed to process https://www.newsr.in/n/Business/1zqu9ejpq4/Markets-Log-Gains-For-Third-Day-On-Buying.htm: No meaningful content extracted.\n"
          ]
        },
        {
          "output_type": "stream",
          "name": "stderr",
          "text": [
            " 66%|██████▌   | 2671/4047 [27:19<08:58,  2.55it/s]"
          ]
        },
        {
          "output_type": "stream",
          "name": "stdout",
          "text": [
            "Failed to fetch https://www.livemint.com/market/live-blog/hdfc-bank-share-price-live-blog-for-14-feb-2024-11707878036281.html: 410 Client Error: Gone for url: https://www.livemint.com/market/live-blog/hdfc-bank-share-price-live-blog-for-14-feb-2024-11707878036281.html\n",
            "Failed to process https://www.livemint.com/market/live-blog/hdfc-bank-share-price-live-blog-for-14-feb-2024-11707878036281.html: No meaningful content extracted.\n"
          ]
        },
        {
          "output_type": "stream",
          "name": "stderr",
          "text": [
            " 66%|██████▌   | 2677/4047 [27:20<05:29,  4.15it/s]"
          ]
        },
        {
          "output_type": "stream",
          "name": "stdout",
          "text": [
            "Failed to fetch https://www.livemint.com/market/live-blog/hdfc-bank-share-price-live-blog-for-13-feb-2024-11707792149724.html: 410 Client Error: Gone for url: https://www.livemint.com/market/live-blog/hdfc-bank-share-price-live-blog-for-13-feb-2024-11707792149724.html\n",
            "Failed to process https://www.livemint.com/market/live-blog/hdfc-bank-share-price-live-blog-for-13-feb-2024-11707792149724.html: No meaningful content extracted.\n"
          ]
        },
        {
          "output_type": "stream",
          "name": "stderr",
          "text": [
            "\r 66%|██████▌   | 2678/4047 [27:21<06:48,  3.35it/s]"
          ]
        },
        {
          "output_type": "stream",
          "name": "stdout",
          "text": [
            "Failed to fetch https://www.newsr.in/n/Business/1zqu9eilx7/SBI-vs-HDFC-Bank-Why-public-sector-banks.htm: 403 Client Error: Forbidden for url: https://www.newsr.in/n/Business/1zqu9eilx7/SBI-vs-HDFC-Bank-Why-public-sector-banks.htm\n",
            "Failed to process https://www.newsr.in/n/Business/1zqu9eilx7/SBI-vs-HDFC-Bank-Why-public-sector-banks.htm: No meaningful content extracted.\n"
          ]
        },
        {
          "output_type": "stream",
          "name": "stderr",
          "text": [
            "\r 66%|██████▌   | 2680/4047 [27:21<05:42,  4.00it/s]"
          ]
        },
        {
          "output_type": "stream",
          "name": "stdout",
          "text": [
            "Failed to fetch https://www.livemint.com/market/live-blog/hdfc-bank-share-price-live-blog-for-12-feb-2024-11707705258435.html: 410 Client Error: Gone for url: https://www.livemint.com/market/live-blog/hdfc-bank-share-price-live-blog-for-12-feb-2024-11707705258435.html\n",
            "Failed to process https://www.livemint.com/market/live-blog/hdfc-bank-share-price-live-blog-for-12-feb-2024-11707705258435.html: No meaningful content extracted.\n",
            "Failed to fetch https://www.newsr.in/n/Business/1zqu9eibf7/Latest-HDFC-Bank-FD-Rates-2024-How-Much.htm: 403 Client Error: Forbidden for url: https://www.newsr.in/n/Business/1zqu9eibf7/Latest-HDFC-Bank-FD-Rates-2024-How-Much.htm\n",
            "Failed to process https://www.newsr.in/n/Business/1zqu9eibf7/Latest-HDFC-Bank-FD-Rates-2024-How-Much.htm: No meaningful content extracted.\n"
          ]
        },
        {
          "output_type": "stream",
          "name": "stderr",
          "text": [
            " 67%|██████▋   | 2705/4047 [27:30<09:36,  2.33it/s]"
          ]
        },
        {
          "output_type": "stream",
          "name": "stdout",
          "text": [
            "Failed to fetch https://www.newsr.in/n/Business/1zqu9ego50/HDFC-Bank-rolls-out-campaign-to-woo-small.htm: 403 Client Error: Forbidden for url: https://www.newsr.in/n/Business/1zqu9ego50/HDFC-Bank-rolls-out-campaign-to-woo-small.htm\n",
            "Failed to process https://www.newsr.in/n/Business/1zqu9ego50/HDFC-Bank-rolls-out-campaign-to-woo-small.htm: No meaningful content extracted.\n",
            "Failed to fetch https://www.newsr.in/n/Business/1zqu9ego4w/HDFC-Bank-gets-RBI-nod-to-hike-stake.htm: 403 Client Error: Forbidden for url: https://www.newsr.in/n/Business/1zqu9ego4w/HDFC-Bank-gets-RBI-nod-to-hike-stake.htm\n",
            "Failed to process https://www.newsr.in/n/Business/1zqu9ego4w/HDFC-Bank-gets-RBI-nod-to-hike-stake.htm: No meaningful content extracted.\n"
          ]
        },
        {
          "output_type": "stream",
          "name": "stderr",
          "text": [
            " 67%|██████▋   | 2712/4047 [27:35<20:30,  1.08it/s]"
          ]
        },
        {
          "output_type": "stream",
          "name": "stdout",
          "text": [
            "Failed to fetch https://www.newsr.in/n/Business/1zqu9egcdk/HDFC-Bank-Gets-RBI-Approval-To-Acquire-Up.htm: 403 Client Error: Forbidden for url: https://www.newsr.in/n/Business/1zqu9egcdk/HDFC-Bank-Gets-RBI-Approval-To-Acquire-Up.htm\n",
            "Failed to process https://www.newsr.in/n/Business/1zqu9egcdk/HDFC-Bank-Gets-RBI-Approval-To-Acquire-Up.htm: No meaningful content extracted.\n"
          ]
        },
        {
          "output_type": "stream",
          "name": "stderr",
          "text": [
            " 68%|██████▊   | 2735/4047 [27:43<06:59,  3.13it/s]"
          ]
        },
        {
          "output_type": "stream",
          "name": "stdout",
          "text": [
            "Failed to fetch https://www.livemint.com/market/live-blog/hdfc-bank-share-price-live-blog-for-05-feb-2024-11707100315029.html: 410 Client Error: Gone for url: https://www.livemint.com/market/live-blog/hdfc-bank-share-price-live-blog-for-05-feb-2024-11707100315029.html\n",
            "Failed to process https://www.livemint.com/market/live-blog/hdfc-bank-share-price-live-blog-for-05-feb-2024-11707100315029.html: No meaningful content extracted.\n"
          ]
        },
        {
          "output_type": "stream",
          "name": "stderr",
          "text": [
            " 68%|██████▊   | 2743/4047 [27:47<08:40,  2.51it/s]"
          ]
        },
        {
          "output_type": "stream",
          "name": "stdout",
          "text": [
            "Failed to fetch https://www.livemint.com/market/live-blog/hdfc-bank-share-price-live-blog-for-02-feb-2024-11706851800685.html: 410 Client Error: Gone for url: https://www.livemint.com/market/live-blog/hdfc-bank-share-price-live-blog-for-02-feb-2024-11706851800685.html\n",
            "Failed to process https://www.livemint.com/market/live-blog/hdfc-bank-share-price-live-blog-for-02-feb-2024-11706851800685.html: No meaningful content extracted.\n"
          ]
        },
        {
          "output_type": "stream",
          "name": "stderr",
          "text": [
            " 68%|██████▊   | 2750/4047 [27:51<12:06,  1.78it/s]"
          ]
        },
        {
          "output_type": "stream",
          "name": "stdout",
          "text": [
            "Failed to fetch https://www.livemint.com/market/live-blog/hdfc-bank-share-price-live-blog-for-31-jan-2024-11706668301161.html: 410 Client Error: Gone for url: https://www.livemint.com/market/live-blog/hdfc-bank-share-price-live-blog-for-31-jan-2024-11706668301161.html\n",
            "Failed to process https://www.livemint.com/market/live-blog/hdfc-bank-share-price-live-blog-for-31-jan-2024-11706668301161.html: No meaningful content extracted.\n"
          ]
        },
        {
          "output_type": "stream",
          "name": "stderr",
          "text": [
            "\r 68%|██████▊   | 2751/4047 [27:51<09:49,  2.20it/s]"
          ]
        },
        {
          "output_type": "stream",
          "name": "stdout",
          "text": [
            "Failed to fetch https://www.livemint.com/market/live-blog/hdfc-bank-share-price-live-blog-for-30-jan-2024-11706583340240.html: 410 Client Error: Gone for url: https://www.livemint.com/market/live-blog/hdfc-bank-share-price-live-blog-for-30-jan-2024-11706583340240.html\n",
            "Failed to process https://www.livemint.com/market/live-blog/hdfc-bank-share-price-live-blog-for-30-jan-2024-11706583340240.html: No meaningful content extracted.\n"
          ]
        },
        {
          "output_type": "stream",
          "name": "stderr",
          "text": [
            " 68%|██████▊   | 2761/4047 [27:59<30:11,  1.41s/it]"
          ]
        },
        {
          "output_type": "stream",
          "name": "stdout",
          "text": [
            "Failed to fetch https://www.livemint.com/market/live-blog/hdfc-bank-share-price-live-blog-for-29-jan-2024-11706495937271.html: 410 Client Error: Gone for url: https://www.livemint.com/market/live-blog/hdfc-bank-share-price-live-blog-for-29-jan-2024-11706495937271.html\n",
            "Failed to process https://www.livemint.com/market/live-blog/hdfc-bank-share-price-live-blog-for-29-jan-2024-11706495937271.html: No meaningful content extracted.\n"
          ]
        },
        {
          "output_type": "stream",
          "name": "stderr",
          "text": [
            " 68%|██████▊   | 2767/4047 [28:01<11:39,  1.83it/s]"
          ]
        },
        {
          "output_type": "stream",
          "name": "stdout",
          "text": [
            "Failed to fetch https://www.newsr.in/n/Business/1zqtsuz800/Latest-HDFC-Bank-Fixed-Deposit-Rates-2024-Check.htm: 403 Client Error: Forbidden for url: https://www.newsr.in/n/Business/1zqtsuz800/Latest-HDFC-Bank-Fixed-Deposit-Rates-2024-Check.htm\n",
            "Failed to process https://www.newsr.in/n/Business/1zqtsuz800/Latest-HDFC-Bank-Fixed-Deposit-Rates-2024-Check.htm: No meaningful content extracted.\n"
          ]
        },
        {
          "output_type": "stream",
          "name": "stderr",
          "text": [
            " 69%|██████▊   | 2780/4047 [28:06<09:12,  2.29it/s]"
          ]
        },
        {
          "output_type": "stream",
          "name": "stdout",
          "text": [
            "Failed to fetch https://www.livemint.com/market/live-blog/hdfc-bank-share-price-live-blog-for-26-jan-2024-11706246064025.html: 410 Client Error: Gone for url: https://www.livemint.com/market/live-blog/hdfc-bank-share-price-live-blog-for-26-jan-2024-11706246064025.html\n",
            "Failed to process https://www.livemint.com/market/live-blog/hdfc-bank-share-price-live-blog-for-26-jan-2024-11706246064025.html: No meaningful content extracted.\n",
            "Failed to fetch https://www.newsr.in/n/Business/1zqtsuybk2/LIC-gets-nod-to-buy-99-in.htm: 403 Client Error: Forbidden for url: https://www.newsr.in/n/Business/1zqtsuybk2/LIC-gets-nod-to-buy-99-in.htm\n",
            "Failed to process https://www.newsr.in/n/Business/1zqtsuybk2/LIC-gets-nod-to-buy-99-in.htm: No meaningful content extracted.\n"
          ]
        },
        {
          "output_type": "stream",
          "name": "stderr",
          "text": [
            " 69%|██████▉   | 2792/4047 [28:15<20:06,  1.04it/s]"
          ]
        },
        {
          "output_type": "stream",
          "name": "stdout",
          "text": [
            "Failed to process https://www.ndtvprofit.com/the-editors-cut/hdfc-bank-emerging-from-the-crisis-the-editors-cut-ndtv-profit: No meaningful content extracted.\n",
            "Failed to fetch https://www.livemint.com/market/live-blog/hdfc-bank-share-price-live-blog-for-25-jan-2024-11706150209864.html: 410 Client Error: Gone for url: https://www.livemint.com/market/live-blog/hdfc-bank-share-price-live-blog-for-25-jan-2024-11706150209864.html\n",
            "Failed to process https://www.livemint.com/market/live-blog/hdfc-bank-share-price-live-blog-for-25-jan-2024-11706150209864.html: No meaningful content extracted.\n"
          ]
        },
        {
          "output_type": "stream",
          "name": "stderr",
          "text": [
            "\r 69%|██████▉   | 2794/4047 [28:16<13:33,  1.54it/s]"
          ]
        },
        {
          "output_type": "stream",
          "name": "stdout",
          "text": [
            "Failed to process https://www.ndtvprofit.com/all-you-need-to-know/hdfc-bank-may-sell-assets-us-markets-mixed-all-you-need-to-know-ndtv-profit: No meaningful content extracted.\n"
          ]
        },
        {
          "output_type": "stream",
          "name": "stderr",
          "text": [
            " 69%|██████▉   | 2797/4047 [28:18<17:35,  1.18it/s]"
          ]
        },
        {
          "output_type": "stream",
          "name": "stdout",
          "text": [
            "Failed to process https://www.ndtvprofit.com/economy-finance/hdfc-bank-may-sell-assets-to-bring-down-costs-ndtv-profit-exclusive: No meaningful content extracted.\n"
          ]
        },
        {
          "output_type": "stream",
          "name": "stderr",
          "text": [
            " 69%|██████▉   | 2804/4047 [28:22<10:09,  2.04it/s]"
          ]
        },
        {
          "output_type": "stream",
          "name": "stdout",
          "text": [
            "Failed to fetch https://www.newsr.in/n/Business/1zqtsux6sp/Sensex-Slumps-Over-000-Points-To-Slip.htm: 403 Client Error: Forbidden for url: https://www.newsr.in/n/Business/1zqtsux6sp/Sensex-Slumps-Over-000-Points-To-Slip.htm\n",
            "Failed to process https://www.newsr.in/n/Business/1zqtsux6sp/Sensex-Slumps-Over-000-Points-To-Slip.htm: No meaningful content extracted.\n"
          ]
        },
        {
          "output_type": "stream",
          "name": "stderr",
          "text": [
            " 70%|██████▉   | 2823/4047 [28:37<22:09,  1.09s/it]"
          ]
        },
        {
          "output_type": "stream",
          "name": "stdout",
          "text": [
            "Failed to fetch https://www.newsr.in/n/Business/1zqtsuvrk9/HDFC-Bank-shares-fall-for-third-day-in.htm: 403 Client Error: Forbidden for url: https://www.newsr.in/n/Business/1zqtsuvrk9/HDFC-Bank-shares-fall-for-third-day-in.htm\n",
            "Failed to process https://www.newsr.in/n/Business/1zqtsuvrk9/HDFC-Bank-shares-fall-for-third-day-in.htm: No meaningful content extracted.\n"
          ]
        },
        {
          "output_type": "stream",
          "name": "stderr",
          "text": [
            "\r 70%|██████▉   | 2825/4047 [28:38<13:33,  1.50it/s]"
          ]
        },
        {
          "output_type": "stream",
          "name": "stdout",
          "text": [
            "Failed to fetch https://www.livemint.com/market/stock-market-news/top-gainers-and-losers-today-on-19-january-2024-oil-natural-gas-corporation-bharti-airtel-indusind-bank-hdfc-bank-among-most-active-stocks-check-full-list-here-11705660395756.html: 410 Client Error: Gone for url: https://www.livemint.com/market/stock-market-news/top-gainers-and-losers-today-on-19-january-2024-oil-natural-gas-corporation-bharti-airtel-indusind-bank-hdfc-bank-among-most-active-stocks-check-full-list-here-11705660395756.html\n",
            "Failed to process https://www.livemint.com/market/stock-market-news/top-gainers-and-losers-today-on-19-january-2024-oil-natural-gas-corporation-bharti-airtel-indusind-bank-hdfc-bank-among-most-active-stocks-check-full-list-here-11705660395756.html: No meaningful content extracted.\n"
          ]
        },
        {
          "output_type": "stream",
          "name": "stderr",
          "text": [
            " 70%|██████▉   | 2830/4047 [28:40<09:37,  2.11it/s]"
          ]
        },
        {
          "output_type": "stream",
          "name": "stdout",
          "text": [
            "Failed to process https://www.ndtvprofit.com/india-market-open/hdfc-bank-adr-rises-india-market-open-ndtv-profit: No meaningful content extracted.\n",
            "Failed to fetch https://www.livemint.com/market/live-blog/hdfc-bank-share-price-live-blog-for-19-jan-2024-11705632400561.html: 410 Client Error: Gone for url: https://www.livemint.com/market/live-blog/hdfc-bank-share-price-live-blog-for-19-jan-2024-11705632400561.html\n",
            "Failed to process https://www.livemint.com/market/live-blog/hdfc-bank-share-price-live-blog-for-19-jan-2024-11705632400561.html: No meaningful content extracted.\n"
          ]
        },
        {
          "output_type": "stream",
          "name": "stderr",
          "text": [
            " 70%|███████   | 2838/4047 [28:43<13:21,  1.51it/s]"
          ]
        },
        {
          "output_type": "stream",
          "name": "stdout",
          "text": [
            "Failed to fetch https://www.livemint.com/market/stock-market-news/top-gainers-and-losers-today-on-18-january-2024-sun-pharmaceutical-industries-cipla-hdfc-bank-ntpc-among-most-active-stocks-check-full-list-here-11705574000573.html: 410 Client Error: Gone for url: https://www.livemint.com/market/stock-market-news/top-gainers-and-losers-today-on-18-january-2024-sun-pharmaceutical-industries-cipla-hdfc-bank-ntpc-among-most-active-stocks-check-full-list-here-11705574000573.html\n",
            "Failed to process https://www.livemint.com/market/stock-market-news/top-gainers-and-losers-today-on-18-january-2024-sun-pharmaceutical-industries-cipla-hdfc-bank-ntpc-among-most-active-stocks-check-full-list-here-11705574000573.html: No meaningful content extracted.\n"
          ]
        },
        {
          "output_type": "stream",
          "name": "stderr",
          "text": [
            " 70%|███████   | 2843/4047 [28:45<08:48,  2.28it/s]"
          ]
        },
        {
          "output_type": "stream",
          "name": "stdout",
          "text": [
            "Failed to fetch https://www.newsr.in/n/Business/1zqtsuv6ap/HDFC-Bank-share-price-today-Stock-tanks-12.htm: 403 Client Error: Forbidden for url: https://www.newsr.in/n/Business/1zqtsuv6ap/HDFC-Bank-share-price-today-Stock-tanks-12.htm\n",
            "Failed to process https://www.newsr.in/n/Business/1zqtsuv6ap/HDFC-Bank-share-price-today-Stock-tanks-12.htm: No meaningful content extracted.\n"
          ]
        },
        {
          "output_type": "stream",
          "name": "stderr",
          "text": [
            " 71%|███████   | 2854/4047 [29:01<1:07:53,  3.41s/it]"
          ]
        },
        {
          "output_type": "stream",
          "name": "stdout",
          "text": [
            "Failed to fetch https://www.thehindubusinessline.com/markets/share-market-nifty-sensex-live-updates-18-january-2024/article67748508.ece: HTTPSConnectionPool(host='www.thehindubusinessline.com', port=443): Read timed out. (read timeout=10)\n",
            "Failed to process https://www.thehindubusinessline.com/markets/share-market-nifty-sensex-live-updates-18-january-2024/article67748508.ece: No meaningful content extracted.\n"
          ]
        },
        {
          "output_type": "stream",
          "name": "stderr",
          "text": [
            " 71%|███████   | 2874/4047 [29:11<08:33,  2.29it/s]"
          ]
        },
        {
          "output_type": "stream",
          "name": "stdout",
          "text": [
            "Failed to fetch https://www.livemint.com/market/stock-market-news/top-gainers-and-losers-today-on-17-january-2024-hcl-technologies-sbi-life-insurance-company-hdfc-bank-tata-steel-among-most-active-stocks-check-full-list-here-11705487598898.html: 410 Client Error: Gone for url: https://www.livemint.com/market/stock-market-news/top-gainers-and-losers-today-on-17-january-2024-hcl-technologies-sbi-life-insurance-company-hdfc-bank-tata-steel-among-most-active-stocks-check-full-list-here-11705487598898.html\n",
            "Failed to process https://www.livemint.com/market/stock-market-news/top-gainers-and-losers-today-on-17-january-2024-hcl-technologies-sbi-life-insurance-company-hdfc-bank-tata-steel-among-most-active-stocks-check-full-list-here-11705487598898.html: No meaningful content extracted.\n"
          ]
        },
        {
          "output_type": "stream",
          "name": "stderr",
          "text": [
            " 71%|███████   | 2883/4047 [29:21<20:29,  1.06s/it]"
          ]
        },
        {
          "output_type": "stream",
          "name": "stdout",
          "text": [
            "Failed to fetch https://www.newsr.in/n/Business/1zqtsuupcv/HDFC-Bank-shares-plunge-post-Q3-results.htm: 403 Client Error: Forbidden for url: https://www.newsr.in/n/Business/1zqtsuupcv/HDFC-Bank-shares-plunge-post-Q3-results.htm\n",
            "Failed to process https://www.newsr.in/n/Business/1zqtsuupcv/HDFC-Bank-shares-plunge-post-Q3-results.htm: No meaningful content extracted.\n"
          ]
        },
        {
          "output_type": "stream",
          "name": "stderr",
          "text": [
            " 71%|███████▏  | 2887/4047 [29:23<14:11,  1.36it/s]"
          ]
        },
        {
          "output_type": "stream",
          "name": "stdout",
          "text": [
            "Failed to process https://www.ndtvprofit.com/markets/hdfc-bank-wipro-adrs-plunge-india-market-open-ndtv-profit: No meaningful content extracted.\n"
          ]
        },
        {
          "output_type": "stream",
          "name": "stderr",
          "text": [
            " 72%|███████▏  | 2898/4047 [29:30<18:20,  1.04it/s]"
          ]
        },
        {
          "output_type": "stream",
          "name": "stdout",
          "text": [
            "Failed to fetch https://www.livemint.com/market/live-blog/hdfc-bank-share-price-live-blog-for-17-jan-2024-11705459221635.html: 410 Client Error: Gone for url: https://www.livemint.com/market/live-blog/hdfc-bank-share-price-live-blog-for-17-jan-2024-11705459221635.html\n",
            "Failed to process https://www.livemint.com/market/live-blog/hdfc-bank-share-price-live-blog-for-17-jan-2024-11705459221635.html: No meaningful content extracted.\n"
          ]
        },
        {
          "output_type": "stream",
          "name": "stderr",
          "text": [
            " 72%|███████▏  | 2904/4047 [29:39<21:09,  1.11s/it]"
          ]
        },
        {
          "output_type": "stream",
          "name": "stdout",
          "text": [
            "Failed to fetch https://www.newsr.in/n/Business/1zqtsuumw9/HDFC-Bank-December-quarter-profit-rises-34.htm: 403 Client Error: Forbidden for url: https://www.newsr.in/n/Business/1zqtsuumw9/HDFC-Bank-December-quarter-profit-rises-34.htm\n",
            "Failed to process https://www.newsr.in/n/Business/1zqtsuumw9/HDFC-Bank-December-quarter-profit-rises-34.htm: No meaningful content extracted.\n"
          ]
        },
        {
          "output_type": "stream",
          "name": "stderr",
          "text": [
            " 72%|███████▏  | 2911/4047 [29:47<17:33,  1.08it/s]"
          ]
        },
        {
          "output_type": "stream",
          "name": "stdout",
          "text": [
            "Failed to fetch https://www.newsr.in/n/Business/1zqtsuue9l/HDFC-Bank-Q3-profit-rises-34-to-Rs.htm: 403 Client Error: Forbidden for url: https://www.newsr.in/n/Business/1zqtsuue9l/HDFC-Bank-Q3-profit-rises-34-to-Rs.htm\n",
            "Failed to process https://www.newsr.in/n/Business/1zqtsuue9l/HDFC-Bank-Q3-profit-rises-34-to-Rs.htm: No meaningful content extracted.\n"
          ]
        },
        {
          "output_type": "stream",
          "name": "stderr",
          "text": [
            "\r 72%|███████▏  | 2913/4047 [29:48<11:53,  1.59it/s]"
          ]
        },
        {
          "output_type": "stream",
          "name": "stdout",
          "text": [
            "Failed to fetch https://www.newsr.in/n/Business/1zqtsuud5l/HDFC-Bank-Q3-profit-rises-34-to-Rs.htm: 403 Client Error: Forbidden for url: https://www.newsr.in/n/Business/1zqtsuud5l/HDFC-Bank-Q3-profit-rises-34-to-Rs.htm\n",
            "Failed to process https://www.newsr.in/n/Business/1zqtsuud5l/HDFC-Bank-Q3-profit-rises-34-to-Rs.htm: No meaningful content extracted.\n"
          ]
        },
        {
          "output_type": "stream",
          "name": "stderr",
          "text": [
            " 72%|███████▏  | 2920/4047 [29:51<12:16,  1.53it/s]"
          ]
        },
        {
          "output_type": "stream",
          "name": "stdout",
          "text": [
            "Failed to fetch https://www.newsr.in/n/Business/1zqtsuuaqe/Home-loan-other-loan-interest-rates-revised-List.htm: 403 Client Error: Forbidden for url: https://www.newsr.in/n/Business/1zqtsuuaqe/Home-loan-other-loan-interest-rates-revised-List.htm\n",
            "Failed to process https://www.newsr.in/n/Business/1zqtsuuaqe/Home-loan-other-loan-interest-rates-revised-List.htm: No meaningful content extracted.\n"
          ]
        },
        {
          "output_type": "stream",
          "name": "stderr",
          "text": [
            " 73%|███████▎  | 2950/4047 [30:19<08:34,  2.13it/s]"
          ]
        },
        {
          "output_type": "stream",
          "name": "stdout",
          "text": [
            "Failed to fetch https://www.livemint.com/market/live-blog/hdfc-bank-share-price-live-blog-for-12-jan-2024-11705027365374.html: 410 Client Error: Gone for url: https://www.livemint.com/market/live-blog/hdfc-bank-share-price-live-blog-for-12-jan-2024-11705027365374.html\n",
            "Failed to process https://www.livemint.com/market/live-blog/hdfc-bank-share-price-live-blog-for-12-jan-2024-11705027365374.html: No meaningful content extracted.\n"
          ]
        },
        {
          "output_type": "stream",
          "name": "stderr",
          "text": [
            " 73%|███████▎  | 2958/4047 [30:23<12:45,  1.42it/s]"
          ]
        },
        {
          "output_type": "stream",
          "name": "stdout",
          "text": [
            "Failed to fetch https://www.newsr.in/n/Business/1zqtsurwot/Senior-Citizen-Saving-Scheme-vs-SBI-HDFC-Bank.htm: 403 Client Error: Forbidden for url: https://www.newsr.in/n/Business/1zqtsurwot/Senior-Citizen-Saving-Scheme-vs-SBI-HDFC-Bank.htm\n",
            "Failed to process https://www.newsr.in/n/Business/1zqtsurwot/Senior-Citizen-Saving-Scheme-vs-SBI-HDFC-Bank.htm: No meaningful content extracted.\n"
          ]
        },
        {
          "output_type": "stream",
          "name": "stderr",
          "text": [
            " 73%|███████▎  | 2969/4047 [30:27<05:08,  3.49it/s]"
          ]
        },
        {
          "output_type": "stream",
          "name": "stdout",
          "text": [
            "Failed to fetch https://www.newsr.in/n/Business/1zqtsuqxo6/Fixed-deposit-interest-rates-SBI-vs-ICICI-Bank.htm: 403 Client Error: Forbidden for url: https://www.newsr.in/n/Business/1zqtsuqxo6/Fixed-deposit-interest-rates-SBI-vs-ICICI-Bank.htm\n",
            "Failed to process https://www.newsr.in/n/Business/1zqtsuqxo6/Fixed-deposit-interest-rates-SBI-vs-ICICI-Bank.htm: No meaningful content extracted.\n"
          ]
        },
        {
          "output_type": "stream",
          "name": "stderr",
          "text": [
            " 74%|███████▎  | 2980/4047 [30:33<09:22,  1.90it/s]"
          ]
        },
        {
          "output_type": "stream",
          "name": "stdout",
          "text": [
            "Failed to fetch https://www.livemint.com/market/live-blog/hdfc-bank-share-price-live-blog-for-05-jan-2024-11704422381624.html: 410 Client Error: Gone for url: https://www.livemint.com/market/live-blog/hdfc-bank-share-price-live-blog-for-05-jan-2024-11704422381624.html\n",
            "Failed to process https://www.livemint.com/market/live-blog/hdfc-bank-share-price-live-blog-for-05-jan-2024-11704422381624.html: No meaningful content extracted.\n"
          ]
        },
        {
          "output_type": "stream",
          "name": "stderr",
          "text": [
            " 74%|███████▍  | 2986/4047 [30:34<05:42,  3.10it/s]"
          ]
        },
        {
          "output_type": "stream",
          "name": "stdout",
          "text": [
            "Failed to fetch https://www.livemint.com/market/live-blog/hdfc-bank-share-price-live-blog-for-04-jan-2024-11704336206355.html: 410 Client Error: Gone for url: https://www.livemint.com/market/live-blog/hdfc-bank-share-price-live-blog-for-04-jan-2024-11704336206355.html\n",
            "Failed to process https://www.livemint.com/market/live-blog/hdfc-bank-share-price-live-blog-for-04-jan-2024-11704336206355.html: No meaningful content extracted.\n"
          ]
        },
        {
          "output_type": "stream",
          "name": "stderr",
          "text": [
            " 74%|███████▍  | 2995/4047 [30:37<05:33,  3.16it/s]"
          ]
        },
        {
          "output_type": "stream",
          "name": "stdout",
          "text": [
            "Failed to fetch https://www.livemint.com/market/live-blog/hdfc-bank-share-price-live-blog-for-02-jan-2024-11704163403944.html: 410 Client Error: Gone for url: https://www.livemint.com/market/live-blog/hdfc-bank-share-price-live-blog-for-02-jan-2024-11704163403944.html\n",
            "Failed to process https://www.livemint.com/market/live-blog/hdfc-bank-share-price-live-blog-for-02-jan-2024-11704163403944.html: No meaningful content extracted.\n"
          ]
        },
        {
          "output_type": "stream",
          "name": "stderr",
          "text": [
            " 74%|███████▍  | 3004/4047 [30:46<18:07,  1.04s/it]"
          ]
        },
        {
          "output_type": "stream",
          "name": "stdout",
          "text": [
            "Failed to fetch https://www.newsr.in/n/Business/1zpowydfu0/Mcap-of-of-top-10-most-valued.htm: 403 Client Error: Forbidden for url: https://www.newsr.in/n/Business/1zpowydfu0/Mcap-of-of-top-10-most-valued.htm\n",
            "Failed to process https://www.newsr.in/n/Business/1zpowydfu0/Mcap-of-of-top-10-most-valued.htm: No meaningful content extracted.\n"
          ]
        },
        {
          "output_type": "stream",
          "name": "stderr",
          "text": [
            " 74%|███████▍  | 3009/4047 [30:51<17:12,  1.01it/s]"
          ]
        },
        {
          "output_type": "stream",
          "name": "stdout",
          "text": [
            "Failed to fetch https://marathi.abplive.com/business/bank-news-rbi-announced-the-list-of-safest-banks-in-the-country-business-marathi-news-1241962: 404 Client Error: Not Found for url: https://marathi.abplive.com/business/bank-news-rbi-announced-the-list-of-safest-banks-in-the-country-business-marathi-news-1241962\n",
            "Failed to process https://marathi.abplive.com/business/bank-news-rbi-announced-the-list-of-safest-banks-in-the-country-business-marathi-news-1241962: No meaningful content extracted.\n"
          ]
        },
        {
          "output_type": "stream",
          "name": "stderr",
          "text": [
            " 74%|███████▍  | 3011/4047 [30:51<10:44,  1.61it/s]"
          ]
        },
        {
          "output_type": "stream",
          "name": "stdout",
          "text": [
            "Failed to fetch https://www.newsr.in/n/Business/1zpowycnw0/Too-big-to-fail-RBI-increases-capital-buffer.htm: 403 Client Error: Forbidden for url: https://www.newsr.in/n/Business/1zpowycnw0/Too-big-to-fail-RBI-increases-capital-buffer.htm\n",
            "Failed to process https://www.newsr.in/n/Business/1zpowycnw0/Too-big-to-fail-RBI-increases-capital-buffer.htm: No meaningful content extracted.\n"
          ]
        },
        {
          "output_type": "stream",
          "name": "stderr",
          "text": [
            " 75%|███████▍  | 3022/4047 [31:03<08:29,  2.01it/s]"
          ]
        },
        {
          "output_type": "stream",
          "name": "stdout",
          "text": [
            "Failed to fetch https://www.livemint.com/market/live-blog/hdfc-bank-share-price-live-blog-for-28-dec-2023-11703731347032.html: 410 Client Error: Gone for url: https://www.livemint.com/market/live-blog/hdfc-bank-share-price-live-blog-for-28-dec-2023-11703731347032.html\n",
            "Failed to process https://www.livemint.com/market/live-blog/hdfc-bank-share-price-live-blog-for-28-dec-2023-11703731347032.html: No meaningful content extracted.\n"
          ]
        },
        {
          "output_type": "stream",
          "name": "stderr",
          "text": [
            " 75%|███████▍  | 3026/4047 [31:04<05:23,  3.16it/s]"
          ]
        },
        {
          "output_type": "stream",
          "name": "stdout",
          "text": [
            "Failed to fetch https://www.livemint.com/market/live-blog/hdfc-bank-share-price-live-blog-for-27-dec-2023-11703644356398.html: 410 Client Error: Gone for url: https://www.livemint.com/market/live-blog/hdfc-bank-share-price-live-blog-for-27-dec-2023-11703644356398.html\n",
            "Failed to process https://www.livemint.com/market/live-blog/hdfc-bank-share-price-live-blog-for-27-dec-2023-11703644356398.html: No meaningful content extracted.\n"
          ]
        },
        {
          "output_type": "stream",
          "name": "stderr",
          "text": [
            " 75%|███████▌  | 3041/4047 [31:09<04:45,  3.52it/s]"
          ]
        },
        {
          "output_type": "stream",
          "name": "stdout",
          "text": [
            "Failed to fetch https://www.newsr.in/n/Business/1zpowya4eq/Stock-market-today-Why-BSE-Sensex-climbed-over.htm: 403 Client Error: Forbidden for url: https://www.newsr.in/n/Business/1zpowya4eq/Stock-market-today-Why-BSE-Sensex-climbed-over.htm\n",
            "Failed to process https://www.newsr.in/n/Business/1zpowya4eq/Stock-market-today-Why-BSE-Sensex-climbed-over.htm: No meaningful content extracted.\n"
          ]
        },
        {
          "output_type": "stream",
          "name": "stderr",
          "text": [
            " 75%|███████▌  | 3047/4047 [31:12<08:59,  1.85it/s]"
          ]
        },
        {
          "output_type": "stream",
          "name": "stdout",
          "text": [
            "Failed to fetch https://www.newsr.in/n/Business/1zpowy9m4i/Cop-Alleges-HDFC-Bank-Doesn-Provide-Personal.htm: 403 Client Error: Forbidden for url: https://www.newsr.in/n/Business/1zpowy9m4i/Cop-Alleges-HDFC-Bank-Doesn-Provide-Personal.htm\n",
            "Failed to process https://www.newsr.in/n/Business/1zpowy9m4i/Cop-Alleges-HDFC-Bank-Doesn-Provide-Personal.htm: No meaningful content extracted.\n"
          ]
        },
        {
          "output_type": "stream",
          "name": "stderr",
          "text": [
            "\r 75%|███████▌  | 3049/4047 [31:13<06:48,  2.44it/s]"
          ]
        },
        {
          "output_type": "stream",
          "name": "stdout",
          "text": [
            "Failed to fetch https://www.livemint.com/market/live-blog/hdfc-bank-share-price-live-blog-for-20-dec-2023-11703040234720.html: 410 Client Error: Gone for url: https://www.livemint.com/market/live-blog/hdfc-bank-share-price-live-blog-for-20-dec-2023-11703040234720.html\n",
            "Failed to process https://www.livemint.com/market/live-blog/hdfc-bank-share-price-live-blog-for-20-dec-2023-11703040234720.html: No meaningful content extracted.\n"
          ]
        },
        {
          "output_type": "stream",
          "name": "stderr",
          "text": [
            " 77%|███████▋  | 3096/4047 [31:37<04:08,  3.83it/s]"
          ]
        },
        {
          "output_type": "stream",
          "name": "stdout",
          "text": [
            "Failed to fetch https://www.livemint.com/market/live-blog/hdfc-bank-share-price-live-blog-for-05-dec-2023-11701743855450.html: 410 Client Error: Gone for url: https://www.livemint.com/market/live-blog/hdfc-bank-share-price-live-blog-for-05-dec-2023-11701743855450.html\n",
            "Failed to process https://www.livemint.com/market/live-blog/hdfc-bank-share-price-live-blog-for-05-dec-2023-11701743855450.html: No meaningful content extracted.\n"
          ]
        },
        {
          "output_type": "stream",
          "name": "stderr",
          "text": [
            " 77%|███████▋  | 3102/4047 [31:38<02:35,  6.08it/s]"
          ]
        },
        {
          "output_type": "stream",
          "name": "stdout",
          "text": [
            "Failed to fetch https://www.livemint.com/market/live-blog/hdfc-bank-share-price-live-blog-for-04-dec-2023-11701657309980.html: 410 Client Error: Gone for url: https://www.livemint.com/market/live-blog/hdfc-bank-share-price-live-blog-for-04-dec-2023-11701657309980.html\n",
            "Failed to process https://www.livemint.com/market/live-blog/hdfc-bank-share-price-live-blog-for-04-dec-2023-11701657309980.html: No meaningful content extracted.\n"
          ]
        },
        {
          "output_type": "stream",
          "name": "stderr",
          "text": [
            " 77%|███████▋  | 3112/4047 [31:44<08:41,  1.79it/s]"
          ]
        },
        {
          "output_type": "stream",
          "name": "stdout",
          "text": [
            "Failed to fetch https://www.newsr.in/n/Business/1zpogenrhx/lifetime-free-credit-cards-with-zero-annual.htm: 403 Client Error: Forbidden for url: https://www.newsr.in/n/Business/1zpogenrhx/lifetime-free-credit-cards-with-zero-annual.htm\n",
            "Failed to process https://www.newsr.in/n/Business/1zpogenrhx/lifetime-free-credit-cards-with-zero-annual.htm: No meaningful content extracted.\n"
          ]
        },
        {
          "output_type": "stream",
          "name": "stderr",
          "text": [
            " 77%|███████▋  | 3117/4047 [31:46<09:05,  1.70it/s]"
          ]
        },
        {
          "output_type": "stream",
          "name": "stdout",
          "text": [
            "Failed to fetch https://www.ndtv.com/business/stock-market-sensex-rises-by-305-points-nifty-by-103-in-early-market-trade-4616211: 403 Client Error: Forbidden for url: https://www.ndtv.com/business/stock-market-sensex-rises-by-305-points-nifty-by-103-in-early-market-trade-4616211\n",
            "Failed to process https://www.ndtv.com/business/stock-market-sensex-rises-by-305-points-nifty-by-103-in-early-market-trade-4616211: No meaningful content extracted.\n"
          ]
        },
        {
          "output_type": "stream",
          "name": "stderr",
          "text": [
            " 77%|███████▋  | 3130/4047 [31:51<05:04,  3.01it/s]"
          ]
        },
        {
          "output_type": "stream",
          "name": "stdout",
          "text": [
            "Failed to fetch https://www.newsr.in/n/Business/1zpogek451/Markets-rebound-in-early-trade-after-two-days.htm: 403 Client Error: Forbidden for url: https://www.newsr.in/n/Business/1zpogek451/Markets-rebound-in-early-trade-after-two-days.htm\n",
            "Failed to process https://www.newsr.in/n/Business/1zpogek451/Markets-rebound-in-early-trade-after-two-days.htm: No meaningful content extracted.\n"
          ]
        },
        {
          "output_type": "stream",
          "name": "stderr",
          "text": [
            " 78%|███████▊  | 3167/4047 [32:07<06:38,  2.21it/s]"
          ]
        },
        {
          "output_type": "stream",
          "name": "stdout",
          "text": [
            "Failed to fetch https://www.newsr.in/n/Business/1zpnzuu9a0/HDFC-Bank-Latest-FD-Rates-2023-Check-How.htm: 403 Client Error: Forbidden for url: https://www.newsr.in/n/Business/1zpnzuu9a0/HDFC-Bank-Latest-FD-Rates-2023-Check-How.htm\n",
            "Failed to process https://www.newsr.in/n/Business/1zpnzuu9a0/HDFC-Bank-Latest-FD-Rates-2023-Check-How.htm: No meaningful content extracted.\n"
          ]
        },
        {
          "output_type": "stream",
          "name": "stderr",
          "text": [
            " 79%|███████▉  | 3201/4047 [32:33<17:00,  1.21s/it]"
          ]
        },
        {
          "output_type": "stream",
          "name": "stdout",
          "text": [
            "Failed to process https://jantaserishta.com/business/hdfc-bank-announces-q2-updates-with-577-yoy-growth-in-advances-and-30-yoy-rise-in-deposits-2878972: No meaningful content extracted.\n"
          ]
        },
        {
          "output_type": "stream",
          "name": "stderr",
          "text": [
            " 80%|███████▉  | 3223/4047 [32:48<08:48,  1.56it/s]"
          ]
        },
        {
          "output_type": "stream",
          "name": "stdout",
          "text": [
            "Failed to fetch https://www.newsr.in/n/Business/1zpnjb56k5/of-top-10-firms-lose-Rs.htm: 403 Client Error: Forbidden for url: https://www.newsr.in/n/Business/1zpnjb56k5/of-top-10-firms-lose-Rs.htm\n",
            "Failed to process https://www.newsr.in/n/Business/1zpnjb56k5/of-top-10-firms-lose-Rs.htm: No meaningful content extracted.\n"
          ]
        },
        {
          "output_type": "stream",
          "name": "stderr",
          "text": [
            " 80%|███████▉  | 3235/4047 [32:54<06:58,  1.94it/s]"
          ]
        },
        {
          "output_type": "stream",
          "name": "stdout",
          "text": [
            "Failed to fetch https://www.newsr.in/n/Business/1zpnjb38ur/RBI-extends-tenure-of-HDFC-Bank-MD-Sashidhar.htm: 403 Client Error: Forbidden for url: https://www.newsr.in/n/Business/1zpnjb38ur/RBI-extends-tenure-of-HDFC-Bank-MD-Sashidhar.htm\n",
            "Failed to process https://www.newsr.in/n/Business/1zpnjb38ur/RBI-extends-tenure-of-HDFC-Bank-MD-Sashidhar.htm: No meaningful content extracted.\n"
          ]
        },
        {
          "output_type": "stream",
          "name": "stderr",
          "text": [
            " 81%|████████  | 3260/4047 [33:18<12:52,  1.02it/s]"
          ]
        },
        {
          "output_type": "stream",
          "name": "stdout",
          "text": [
            "Failed to process https://jantaserishta.com/business/market-recorded-rise-for-the-fourth-day-due-to-buying-in-hdfc-bank-2785602: No meaningful content extracted.\n"
          ]
        },
        {
          "output_type": "stream",
          "name": "stderr",
          "text": [
            " 81%|████████  | 3281/4047 [33:38<23:34,  1.85s/it]"
          ]
        },
        {
          "output_type": "stream",
          "name": "stdout",
          "text": [
            "Failed to fetch https://organiser.org/2023/08/28/192563/bharat/indian-equities-rebound-with-global-markets-as-hdfc-bank-drives-gains/: 403 Client Error: Forbidden for url: https://organiser.org/2023/08/28/192563/bharat/indian-equities-rebound-with-global-markets-as-hdfc-bank-drives-gains/\n",
            "Failed to process https://organiser.org/2023/08/28/192563/bharat/indian-equities-rebound-with-global-markets-as-hdfc-bank-drives-gains/: No meaningful content extracted.\n"
          ]
        },
        {
          "output_type": "stream",
          "name": "stderr",
          "text": [
            " 81%|████████▏ | 3292/4047 [33:45<07:41,  1.64it/s]"
          ]
        },
        {
          "output_type": "stream",
          "name": "stdout",
          "text": [
            "Failed to fetch https://orissadiary.com/bandhan-bank-completes-8-years-opens-a-branch-in-leh-ladakh/: 403 Client Error: Forbidden for url: https://orissadiary.com/bandhan-bank-completes-8-years-opens-a-branch-in-leh-ladakh/\n",
            "Failed to process https://orissadiary.com/bandhan-bank-completes-8-years-opens-a-branch-in-leh-ladakh/: No meaningful content extracted.\n"
          ]
        },
        {
          "output_type": "stream",
          "name": "stderr",
          "text": [
            " 83%|████████▎ | 3340/4047 [34:20<11:42,  1.01it/s]"
          ]
        },
        {
          "output_type": "stream",
          "name": "stdout",
          "text": [
            "Failed to process https://jantaserishta.com/business/hdfc-bank-increased-mclr-2693519: No meaningful content extracted.\n"
          ]
        },
        {
          "output_type": "stream",
          "name": "stderr",
          "text": [
            " 83%|████████▎ | 3371/4047 [34:37<08:14,  1.37it/s]"
          ]
        },
        {
          "output_type": "stream",
          "name": "stdout",
          "text": [
            "Failed to process https://www.bqprime.com/research-reports/hdfc-bank-revival-in-growth-with-steady-return-on-asset-to-aid-valuation-icici-direct: No meaningful content extracted.\n"
          ]
        },
        {
          "output_type": "stream",
          "name": "stderr",
          "text": [
            " 83%|████████▎ | 3376/4047 [34:39<04:04,  2.74it/s]"
          ]
        },
        {
          "output_type": "stream",
          "name": "stdout",
          "text": [
            "Failed to fetch https://www.tribuneindia.com/news/business/markets-fall-in-early-trade-on-weak-global-trends-foreign-fund-outflows-531676: 404 Client Error: Not Found for url: https://www.tribuneindia.com/news/business/markets-fall-in-early-trade-on-weak-global-trends-foreign-fund-outflows-531676\n",
            "Failed to process https://www.tribuneindia.com/news/business/markets-fall-in-early-trade-on-weak-global-trends-foreign-fund-outflows-531676: No meaningful content extracted.\n"
          ]
        },
        {
          "output_type": "stream",
          "name": "stderr",
          "text": [
            " 84%|████████▍ | 3396/4047 [34:56<09:48,  1.11it/s]"
          ]
        },
        {
          "output_type": "stream",
          "name": "stdout",
          "text": [
            "Failed to fetch https://www.tribuneindia.com/news/business/markets-fall-in-early-trade-529759: 404 Client Error: Not Found for url: https://www.tribuneindia.com/news/business/markets-fall-in-early-trade-529759\n",
            "Failed to process https://www.tribuneindia.com/news/business/markets-fall-in-early-trade-529759: No meaningful content extracted.\n"
          ]
        },
        {
          "output_type": "stream",
          "name": "stderr",
          "text": [
            " 84%|████████▍ | 3415/4047 [35:09<07:07,  1.48it/s]"
          ]
        },
        {
          "output_type": "stream",
          "name": "stdout",
          "text": [
            "Failed to process https://jantaserishta.com/business/hdfc-bank-expects-17-18-credit-growth-this-year-2619891: No meaningful content extracted.\n"
          ]
        },
        {
          "output_type": "stream",
          "name": "stderr",
          "text": [
            " 84%|████████▍ | 3419/4047 [35:11<05:22,  1.95it/s]"
          ]
        },
        {
          "output_type": "stream",
          "name": "stdout",
          "text": [
            "Failed to process https://jantaserishta.com/business/hdfc-bank-expects-17-18-pc-credit-growth-this-year-2618723: No meaningful content extracted.\n"
          ]
        },
        {
          "output_type": "stream",
          "name": "stderr",
          "text": [
            " 85%|████████▍ | 3423/4047 [35:12<04:40,  2.23it/s]"
          ]
        },
        {
          "output_type": "stream",
          "name": "stdout",
          "text": [
            "Failed to fetch https://ndtv.in/business/hdfc-bank-becomes-second-valuable-company-pushing-tcs-to-third-position-4227046#publisher=newsstand: 403 Client Error: Forbidden for url: https://ndtv.in/business/hdfc-bank-becomes-second-valuable-company-pushing-tcs-to-third-position-4227046#publisher=newsstand\n",
            "Failed to process https://ndtv.in/business/hdfc-bank-becomes-second-valuable-company-pushing-tcs-to-third-position-4227046#publisher=newsstand: No meaningful content extracted.\n"
          ]
        },
        {
          "output_type": "stream",
          "name": "stderr",
          "text": [
            " 85%|████████▍ | 3427/4047 [35:14<04:34,  2.26it/s]"
          ]
        },
        {
          "output_type": "stream",
          "name": "stdout",
          "text": [
            "Failed to process https://jantaserishta.com/business/hdfc-bank-ceo-got-this-much-crore-package-2608769: No meaningful content extracted.\n"
          ]
        },
        {
          "output_type": "stream",
          "name": "stderr",
          "text": [
            " 85%|████████▍ | 3431/4047 [35:15<02:55,  3.51it/s]"
          ]
        },
        {
          "output_type": "stream",
          "name": "stdout",
          "text": [
            "Failed to fetch https://ndtv.in/business/hdfc-bank-ceo-salary-raised-by-62-percent-in-one-year-4223603#publisher=newsstand: 403 Client Error: Forbidden for url: https://ndtv.in/business/hdfc-bank-ceo-salary-raised-by-62-percent-in-one-year-4223603#publisher=newsstand\n",
            "Failed to process https://ndtv.in/business/hdfc-bank-ceo-salary-raised-by-62-percent-in-one-year-4223603#publisher=newsstand: No meaningful content extracted.\n"
          ]
        },
        {
          "output_type": "stream",
          "name": "stderr",
          "text": [
            " 85%|████████▌ | 3444/4047 [35:22<07:06,  1.41it/s]"
          ]
        },
        {
          "output_type": "stream",
          "name": "stdout",
          "text": [
            "Failed to process https://www.bqprime.com/research-reports/hdfc-bank-q1-results-review-profit-beat-driven-by-strong-asset-quality-icici-securities: No meaningful content extracted.\n"
          ]
        },
        {
          "output_type": "stream",
          "name": "stderr",
          "text": [
            "\r 85%|████████▌ | 3445/4047 [35:23<09:17,  1.08it/s]"
          ]
        },
        {
          "output_type": "stream",
          "name": "stdout",
          "text": [
            "Failed to process https://www.bqprime.com/research-reports/hdfc-bank-q1-results-review-unmerged-bank-growing-relatively-slower-merged-entity-more-so-yes-securities: No meaningful content extracted.\n"
          ]
        },
        {
          "output_type": "stream",
          "name": "stderr",
          "text": [
            " 87%|████████▋ | 3508/4047 [36:03<02:21,  3.82it/s]"
          ]
        },
        {
          "output_type": "stream",
          "name": "stdout",
          "text": [
            "Failed to fetch https://www.ndtv.com/business/hdfc-bank-records-15-8-loan-growth-in-q1-4179770: 403 Client Error: Forbidden for url: https://www.ndtv.com/business/hdfc-bank-records-15-8-loan-growth-in-q1-4179770\n",
            "Failed to process https://www.ndtv.com/business/hdfc-bank-records-15-8-loan-growth-in-q1-4179770: No meaningful content extracted.\n"
          ]
        },
        {
          "output_type": "stream",
          "name": "stderr",
          "text": [
            " 87%|████████▋ | 3512/4047 [36:05<04:06,  2.17it/s]"
          ]
        },
        {
          "output_type": "stream",
          "name": "stdout",
          "text": [
            "Failed to process https://jantaserishta.com/business/hdfc-bank-says-merged-loan-book-with-hdfc-at-2738-bln-as-of-june-end-2543635: No meaningful content extracted.\n"
          ]
        },
        {
          "output_type": "stream",
          "name": "stderr",
          "text": [
            " 87%|████████▋ | 3517/4047 [36:09<05:26,  1.62it/s]"
          ]
        },
        {
          "output_type": "stream",
          "name": "stdout",
          "text": [
            "Failed to fetch https://www.ndtv.com/business/for-advising-on-64-billion-hdfc-bank-merger-bankers-get-a-0-0002-fee-4175332: 403 Client Error: Forbidden for url: https://www.ndtv.com/business/for-advising-on-64-billion-hdfc-bank-merger-bankers-get-a-0-0002-fee-4175332\n",
            "Failed to process https://www.ndtv.com/business/for-advising-on-64-billion-hdfc-bank-merger-bankers-get-a-0-0002-fee-4175332: No meaningful content extracted.\n"
          ]
        },
        {
          "output_type": "stream",
          "name": "stderr",
          "text": [
            " 87%|████████▋ | 3530/4047 [36:18<05:14,  1.65it/s]"
          ]
        },
        {
          "output_type": "stream",
          "name": "stdout",
          "text": [
            "Failed to process https://jantaserishta.com/business/hdfc-bank-became-the-fourth-largest-bank-in-the-world-2533328: No meaningful content extracted.\n"
          ]
        },
        {
          "output_type": "stream",
          "name": "stderr",
          "text": [
            " 87%|████████▋ | 3538/4047 [36:23<05:50,  1.45it/s]"
          ]
        },
        {
          "output_type": "stream",
          "name": "stdout",
          "text": [
            "Failed to fetch https://www.ndtv.com/business/aim-to-double-every-four-years-hdfc-bank-managing-director-after-merger-4169942: 403 Client Error: Forbidden for url: https://www.ndtv.com/business/aim-to-double-every-four-years-hdfc-bank-managing-director-after-merger-4169942\n",
            "Failed to process https://www.ndtv.com/business/aim-to-double-every-four-years-hdfc-bank-managing-director-after-merger-4169942: No meaningful content extracted.\n"
          ]
        },
        {
          "output_type": "stream",
          "name": "stderr",
          "text": [
            " 88%|████████▊ | 3545/4047 [36:28<06:11,  1.35it/s]"
          ]
        },
        {
          "output_type": "stream",
          "name": "stdout",
          "text": [
            "Failed to process https://navbharattimes.indiatimes.com/business/business-news/hdfc-bank-merger-what-will-be-the-effect-on-fd-customers-of-hdfc-limited/articleshow/101418566.cms: No meaningful content extracted.\n"
          ]
        },
        {
          "output_type": "stream",
          "name": "stderr",
          "text": [
            " 88%|████████▊ | 3549/4047 [36:30<04:12,  1.97it/s]"
          ]
        },
        {
          "output_type": "stream",
          "name": "stdout",
          "text": [
            "Failed to process https://jantaserishta.com/business/hdfc-to-merge-with-subsidiary-hdfc-bank-today-2528147: No meaningful content extracted.\n"
          ]
        },
        {
          "output_type": "stream",
          "name": "stderr",
          "text": [
            "\r 88%|████████▊ | 3550/4047 [36:30<04:05,  2.03it/s]"
          ]
        },
        {
          "output_type": "stream",
          "name": "stdout",
          "text": [
            "Failed to process https://jantaserishta.com/business/board-finalises-approval-for-hdfc-hdfc-bank-merger-appointed-date-set-for-july-1-2528127: No meaningful content extracted.\n",
            "Failed to fetch https://ndtv.in/file-facts/hdfc-hdfc-bank-mega-merger-to-be-effective-from-1-july-2023-hdfc-bank-to-become-worlds-fourth-largest-bank-by-m-cap-10-important-points-to-know-4168305#publisher=newsstand: 403 Client Error: Forbidden for url: https://ndtv.in/file-facts/hdfc-hdfc-bank-mega-merger-to-be-effective-from-1-july-2023-hdfc-bank-to-become-worlds-fourth-largest-bank-by-m-cap-10-important-points-to-know-4168305#publisher=newsstand\n",
            "Failed to process https://ndtv.in/file-facts/hdfc-hdfc-bank-mega-merger-to-be-effective-from-1-july-2023-hdfc-bank-to-become-worlds-fourth-largest-bank-by-m-cap-10-important-points-to-know-4168305#publisher=newsstand: No meaningful content extracted.\n"
          ]
        },
        {
          "output_type": "stream",
          "name": "stderr",
          "text": [
            " 88%|████████▊ | 3554/4047 [36:31<03:16,  2.51it/s]"
          ]
        },
        {
          "output_type": "stream",
          "name": "stdout",
          "text": [
            "Failed to process https://jantaserishta.com/business/merger-between-hdfc-and-hdfc-bank-to-be-effective-from-july-1-2527303: No meaningful content extracted.\n"
          ]
        },
        {
          "output_type": "stream",
          "name": "stderr",
          "text": [
            " 88%|████████▊ | 3557/4047 [36:33<03:29,  2.34it/s]"
          ]
        },
        {
          "output_type": "stream",
          "name": "stdout",
          "text": [
            "Failed to fetch https://ndtv.in/business/hdfc-bank-and-hdfc-merger-today-4167997#publisher=newsstand: 403 Client Error: Forbidden for url: https://ndtv.in/business/hdfc-bank-and-hdfc-merger-today-4167997#publisher=newsstand\n",
            "Failed to process https://ndtv.in/business/hdfc-bank-and-hdfc-merger-today-4167997#publisher=newsstand: No meaningful content extracted.\n"
          ]
        },
        {
          "output_type": "stream",
          "name": "stderr",
          "text": [
            " 88%|████████▊ | 3560/4047 [36:34<03:54,  2.08it/s]"
          ]
        },
        {
          "output_type": "stream",
          "name": "stdout",
          "text": [
            "Failed to process https://navbharattimes.indiatimes.com/business/business-news/hdfc-bank-merger-to-small-savings-scheme-rates-rules-change-from-1st-july/articleshow/101402711.cms: No meaningful content extracted.\n"
          ]
        },
        {
          "output_type": "stream",
          "name": "stderr",
          "text": [
            " 88%|████████▊ | 3573/4047 [36:41<03:19,  2.37it/s]"
          ]
        },
        {
          "output_type": "stream",
          "name": "stdout",
          "text": [
            "Failed to fetch https://www.ndtv.com/business/hdfc-hdfc-bank-merger-why-mutual-funds-may-not-get-more-time-to-realign-portfolios-in-hdfc-twins-4162827: 403 Client Error: Forbidden for url: https://www.ndtv.com/business/hdfc-hdfc-bank-merger-why-mutual-funds-may-not-get-more-time-to-realign-portfolios-in-hdfc-twins-4162827\n",
            "Failed to process https://www.ndtv.com/business/hdfc-hdfc-bank-merger-why-mutual-funds-may-not-get-more-time-to-realign-portfolios-in-hdfc-twins-4162827: No meaningful content extracted.\n"
          ]
        },
        {
          "output_type": "stream",
          "name": "stderr",
          "text": [
            " 88%|████████▊ | 3577/4047 [36:42<02:51,  2.74it/s]"
          ]
        },
        {
          "output_type": "stream",
          "name": "stdout",
          "text": [
            "Failed to process https://jantaserishta.com/business/hdfc-bank-hdfc-ltd-merger-to-be-effective-by-july-1-proposal-to-be-finalized-on-june-30-2515606: No meaningful content extracted.\n"
          ]
        },
        {
          "output_type": "stream",
          "name": "stderr",
          "text": [
            "\r 88%|████████▊ | 3578/4047 [36:43<03:03,  2.55it/s]"
          ]
        },
        {
          "output_type": "stream",
          "name": "stdout",
          "text": [
            "Failed to process https://jantaserishta.com/business/hdfc-merger-with-hdfc-bank-effective-july-1-deepak-parekh-2515415: No meaningful content extracted.\n"
          ]
        },
        {
          "output_type": "stream",
          "name": "stderr",
          "text": [
            " 88%|████████▊ | 3580/4047 [36:43<03:12,  2.42it/s]"
          ]
        },
        {
          "output_type": "stream",
          "name": "stdout",
          "text": [
            "Failed to process https://jantaserishta.com/business/sensex-nifty-hit-record-highs-led-by-gains-in-hdfc-bank-itc-2514796: No meaningful content extracted.\n"
          ]
        },
        {
          "output_type": "stream",
          "name": "stderr",
          "text": [
            " 89%|████████▉ | 3594/4047 [36:56<06:42,  1.13it/s]"
          ]
        },
        {
          "output_type": "stream",
          "name": "stdout",
          "text": [
            "Failed to fetch https://ndtv.in/business/hdfc-and-hdfc-bank-merger-to-become-effective-from-july-1-deepak-parikh-4156425#publisher=newsstand: 403 Client Error: Forbidden for url: https://ndtv.in/business/hdfc-and-hdfc-bank-merger-to-become-effective-from-july-1-deepak-parikh-4156425#publisher=newsstand\n",
            "Failed to process https://ndtv.in/business/hdfc-and-hdfc-bank-merger-to-become-effective-from-july-1-deepak-parikh-4156425#publisher=newsstand: No meaningful content extracted.\n"
          ]
        },
        {
          "output_type": "stream",
          "name": "stderr",
          "text": [
            " 89%|████████▉ | 3603/4047 [37:00<05:33,  1.33it/s]"
          ]
        },
        {
          "output_type": "stream",
          "name": "stdout",
          "text": [
            "Failed to process https://navbharattimes.indiatimes.com/business/business-news/apple-to-launch-credit-card-in-tie-up-with-hdfc-bank-know-features/articleshow/101221287.cms: No meaningful content extracted.\n"
          ]
        },
        {
          "output_type": "stream",
          "name": "stderr",
          "text": [
            " 89%|████████▉ | 3619/4047 [37:08<03:45,  1.90it/s]"
          ]
        },
        {
          "output_type": "stream",
          "name": "stdout",
          "text": [
            "Failed to process https://jantaserishta.com/business/no-possibility-of-sebi-exemption-on-holding-after-hdfc-hdfc-bank-merger-2467200: No meaningful content extracted.\n"
          ]
        },
        {
          "output_type": "stream",
          "name": "stderr",
          "text": [
            " 90%|█████████ | 3644/4047 [37:23<04:23,  1.53it/s]"
          ]
        },
        {
          "output_type": "stream",
          "name": "stdout",
          "text": [
            "Failed to process https://jantaserishta.com/business/sidbi-signs-pact-with-hdfc-bank-to-offer-financial-solutions-to-msmes-2427613: No meaningful content extracted.\n"
          ]
        },
        {
          "output_type": "stream",
          "name": "stderr",
          "text": [
            " 90%|█████████ | 3653/4047 [37:26<02:44,  2.40it/s]"
          ]
        },
        {
          "output_type": "stream",
          "name": "stdout",
          "text": [
            "Failed to process https://jantaserishta.com/business/hdfc-bank-gives-big-relief-to-senior-citizens-will-be-able-to-invest-in-fd-till-july-7-2398337: No meaningful content extracted.\n"
          ]
        },
        {
          "output_type": "stream",
          "name": "stderr",
          "text": [
            " 90%|█████████ | 3656/4047 [37:28<04:23,  1.48it/s]"
          ]
        },
        {
          "output_type": "stream",
          "name": "stdout",
          "text": [
            "Failed to fetch https://www.tribuneindia.com/news/business/powergrid-nets-4-320-cr-in-q4-510498: 404 Client Error: Not Found for url: https://www.tribuneindia.com/news/business/powergrid-nets-4-320-cr-in-q4-510498\n",
            "Failed to process https://www.tribuneindia.com/news/business/powergrid-nets-4-320-cr-in-q4-510498: No meaningful content extracted.\n"
          ]
        },
        {
          "output_type": "stream",
          "name": "stderr",
          "text": [
            " 90%|█████████ | 3658/4047 [37:29<03:56,  1.64it/s]"
          ]
        },
        {
          "output_type": "stream",
          "name": "stdout",
          "text": [
            "Failed to process https://jantaserishta.com/business/sbi-funds-allowed-to-acquire-999-stake-in-hdfc-bank-2344473: No meaningful content extracted.\n"
          ]
        },
        {
          "output_type": "stream",
          "name": "stderr",
          "text": [
            " 91%|█████████ | 3676/4047 [37:44<03:03,  2.03it/s]"
          ]
        },
        {
          "output_type": "stream",
          "name": "stdout",
          "text": [
            "Failed to process https://jantaserishta.com/business/hdfc-bank-denied-cash-reserve-ratio-relief-2253502: No meaningful content extracted.\n"
          ]
        },
        {
          "output_type": "stream",
          "name": "stderr",
          "text": [
            "\r 91%|█████████ | 3677/4047 [37:44<03:17,  1.88it/s]"
          ]
        },
        {
          "output_type": "stream",
          "name": "stdout",
          "text": [
            "Failed to fetch https://www.ndtv.com/business/what-infosys-and-hdfc-bank-results-dont-tell-you-3965162: 403 Client Error: Forbidden for url: https://www.ndtv.com/business/what-infosys-and-hdfc-bank-results-dont-tell-you-3965162\n",
            "Failed to process https://www.ndtv.com/business/what-infosys-and-hdfc-bank-results-dont-tell-you-3965162: No meaningful content extracted.\n"
          ]
        },
        {
          "output_type": "stream",
          "name": "stderr",
          "text": [
            " 91%|█████████ | 3682/4047 [37:48<06:11,  1.02s/it]"
          ]
        },
        {
          "output_type": "stream",
          "name": "stdout",
          "text": [
            "Failed to fetch https://ndtv.in/business/stock-market-update-market-capitalization-m-cap-of-7-out-of-top-10-sensex-companies-climbs-rs-67-859-77-crore-last-week-hdfc-bank-and-icici-bank-top-g-3952122#publisher=newsstand: 403 Client Error: Forbidden for url: https://ndtv.in/business/stock-market-update-market-capitalization-m-cap-of-7-out-of-top-10-sensex-companies-climbs-rs-67-859-77-crore-last-week-hdfc-bank-and-icici-bank-top-g-3952122#publisher=newsstand\n",
            "Failed to process https://ndtv.in/business/stock-market-update-market-capitalization-m-cap-of-7-out-of-top-10-sensex-companies-climbs-rs-67-859-77-crore-last-week-hdfc-bank-and-icici-bank-top-g-3952122#publisher=newsstand: No meaningful content extracted.\n",
            "Failed to fetch https://ndtv.in/business/stock-market-trends-share-markets-will-react-to-infosys-hdfc-bank-q4-earnings-on-monday-global-trends-upcoming-company-results-to-dictate-the-week-3952094#publisher=newsstand: 403 Client Error: Forbidden for url: https://ndtv.in/business/stock-market-trends-share-markets-will-react-to-infosys-hdfc-bank-q4-earnings-on-monday-global-trends-upcoming-company-results-to-dictate-the-week-3952094#publisher=newsstand\n",
            "Failed to process https://ndtv.in/business/stock-market-trends-share-markets-will-react-to-infosys-hdfc-bank-q4-earnings-on-monday-global-trends-upcoming-company-results-to-dictate-the-week-3952094#publisher=newsstand: No meaningful content extracted.\n"
          ]
        },
        {
          "output_type": "stream",
          "name": "stderr",
          "text": [
            " 91%|█████████ | 3689/4047 [37:51<03:39,  1.63it/s]"
          ]
        },
        {
          "output_type": "stream",
          "name": "stdout",
          "text": [
            "Failed to process https://navbharattimes.indiatimes.com/business/business-news/hdfc-bank-cuts-mclr-emis-to-go-down-know-who-will-be-benefitted/articleshow/99408358.cms: No meaningful content extracted.\n"
          ]
        },
        {
          "output_type": "stream",
          "name": "stderr",
          "text": [
            " 92%|█████████▏| 3721/4047 [38:09<01:45,  3.09it/s]"
          ]
        },
        {
          "output_type": "stream",
          "name": "stdout",
          "text": [
            "Failed to fetch https://thenewsglory.com/can-book-train-tickets-and-earn-reward-points/: HTTPSConnectionPool(host='thenewsglory.com', port=443): Max retries exceeded with url: /can-book-train-tickets-and-earn-reward-points/ (Caused by SSLError(SSLCertVerificationError(1, \"[SSL: CERTIFICATE_VERIFY_FAILED] certificate verify failed: Hostname mismatch, certificate is not valid for 'thenewsglory.com'. (_ssl.c:1016)\")))\n",
            "Failed to process https://thenewsglory.com/can-book-train-tickets-and-earn-reward-points/: No meaningful content extracted.\n"
          ]
        },
        {
          "output_type": "stream",
          "name": "stderr",
          "text": [
            "\r 92%|█████████▏| 3722/4047 [38:10<02:09,  2.51it/s]"
          ]
        },
        {
          "output_type": "stream",
          "name": "stdout",
          "text": [
            "Failed to process https://www.business-standard.com/article/finance/hdfc-bank-md-ceo-sashidhar-jagdishan-is-bs-banker-of-the-year-2022-123030101175_1.html: No meaningful content extracted.\n"
          ]
        },
        {
          "output_type": "stream",
          "name": "stderr",
          "text": [
            " 93%|█████████▎| 3747/4047 [38:27<01:59,  2.50it/s]"
          ]
        },
        {
          "output_type": "stream",
          "name": "stdout",
          "text": [
            "Failed to fetch https://www.covaipost.com/business/latest-interest-rates-for-fixed-deposits-at-indian-banks-for-2023/: 403 Client Error: Forbidden for url: https://www.covaipost.com/business/latest-interest-rates-for-fixed-deposits-at-indian-banks-for-2023/\n",
            "Failed to process https://www.covaipost.com/business/latest-interest-rates-for-fixed-deposits-at-indian-banks-for-2023/: No meaningful content extracted.\n"
          ]
        },
        {
          "output_type": "stream",
          "name": "stderr",
          "text": [
            " 94%|█████████▎| 3790/4047 [38:58<02:59,  1.43it/s]"
          ]
        },
        {
          "output_type": "stream",
          "name": "stdout",
          "text": [
            "Failed to fetch https://www.tribuneindia.com/news/business/sensex-nifty-decline-in-early-trade-469127: 404 Client Error: Not Found for url: https://www.tribuneindia.com/news/business/sensex-nifty-decline-in-early-trade-469127\n",
            "Failed to process https://www.tribuneindia.com/news/business/sensex-nifty-decline-in-early-trade-469127: No meaningful content extracted.\n"
          ]
        },
        {
          "output_type": "stream",
          "name": "stderr",
          "text": [
            " 94%|█████████▍| 3797/4047 [39:04<03:51,  1.08it/s]"
          ]
        },
        {
          "output_type": "stream",
          "name": "stdout",
          "text": [
            "Failed to process https://navbharattimes.indiatimes.com/business/business-news/best-fixed-deposite-sbi-vs-hdfc-bank-vs-icici-bank-vs-pnb-vs-yes-bank-which-bank-give-you-best-fd-rate/articleshow/96243341.cms: No meaningful content extracted.\n"
          ]
        },
        {
          "output_type": "stream",
          "name": "stderr",
          "text": [
            " 94%|█████████▍| 3803/4047 [39:07<01:59,  2.05it/s]"
          ]
        },
        {
          "output_type": "stream",
          "name": "stdout",
          "text": [
            "Failed to fetch https://thenewsglory.com/repo-rate-hike-major-banks-raise-loan-rates/: HTTPSConnectionPool(host='thenewsglory.com', port=443): Max retries exceeded with url: /repo-rate-hike-major-banks-raise-loan-rates/ (Caused by SSLError(SSLCertVerificationError(1, \"[SSL: CERTIFICATE_VERIFY_FAILED] certificate verify failed: Hostname mismatch, certificate is not valid for 'thenewsglory.com'. (_ssl.c:1016)\")))\n",
            "Failed to process https://thenewsglory.com/repo-rate-hike-major-banks-raise-loan-rates/: No meaningful content extracted.\n"
          ]
        },
        {
          "output_type": "stream",
          "name": "stderr",
          "text": [
            " 94%|█████████▍| 3820/4047 [39:15<01:35,  2.37it/s]"
          ]
        },
        {
          "output_type": "stream",
          "name": "stdout",
          "text": [
            "Failed to fetch https://www.tribuneindia.com/news/business/markets-climb-in-early-trade-on-firm-global-trends-453863: 404 Client Error: Not Found for url: https://www.tribuneindia.com/news/business/markets-climb-in-early-trade-on-firm-global-trends-453863\n",
            "Failed to process https://www.tribuneindia.com/news/business/markets-climb-in-early-trade-on-firm-global-trends-453863: No meaningful content extracted.\n"
          ]
        },
        {
          "output_type": "stream",
          "name": "stderr",
          "text": [
            " 94%|█████████▍| 3822/4047 [39:16<01:46,  2.11it/s]"
          ]
        },
        {
          "output_type": "stream",
          "name": "stdout",
          "text": [
            "Failed to fetch https://www.ndtv.com/business/hdfc-bank-canara-bank-get-rbi-approval-for-rupee-trade-with-russia-report-3540388: 403 Client Error: Forbidden for url: https://www.ndtv.com/business/hdfc-bank-canara-bank-get-rbi-approval-for-rupee-trade-with-russia-report-3540388\n",
            "Failed to process https://www.ndtv.com/business/hdfc-bank-canara-bank-get-rbi-approval-for-rupee-trade-with-russia-report-3540388: No meaningful content extracted.\n"
          ]
        },
        {
          "output_type": "stream",
          "name": "stderr",
          "text": [
            " 95%|█████████▍| 3838/4047 [39:24<03:24,  1.02it/s]"
          ]
        },
        {
          "output_type": "stream",
          "name": "stdout",
          "text": [
            "Failed to fetch https://www.ndtv.com/business/can-hdfc-bank-lead-nifty-bank-indexs-rally-3506777: 403 Client Error: Forbidden for url: https://www.ndtv.com/business/can-hdfc-bank-lead-nifty-bank-indexs-rally-3506777\n",
            "Failed to process https://www.ndtv.com/business/can-hdfc-bank-lead-nifty-bank-indexs-rally-3506777: No meaningful content extracted.\n"
          ]
        },
        {
          "output_type": "stream",
          "name": "stderr",
          "text": [
            "\r 95%|█████████▍| 3840/4047 [39:26<03:45,  1.09s/it]"
          ]
        },
        {
          "output_type": "stream",
          "name": "stdout",
          "text": [
            "Failed to fetch https://thenewsglory.com/emis-cost-hdfc-bank-hikes-loan-interest-rates/: HTTPSConnectionPool(host='thenewsglory.com', port=443): Max retries exceeded with url: /emis-cost-hdfc-bank-hikes-loan-interest-rates/ (Caused by SSLError(SSLCertVerificationError(1, \"[SSL: CERTIFICATE_VERIFY_FAILED] certificate verify failed: Hostname mismatch, certificate is not valid for 'thenewsglory.com'. (_ssl.c:1016)\")))\n",
            "Failed to process https://thenewsglory.com/emis-cost-hdfc-bank-hikes-loan-interest-rates/: No meaningful content extracted.\n"
          ]
        },
        {
          "output_type": "stream",
          "name": "stderr",
          "text": [
            " 96%|█████████▌| 3872/4047 [39:50<01:35,  1.82it/s]"
          ]
        },
        {
          "output_type": "stream",
          "name": "stdout",
          "text": [
            "Failed to fetch https://www.tribuneindia.com/news/business/mm-rolls-out-xuv3oo-turbosport-at-10-35-lakh-440235: 404 Client Error: Not Found for url: https://www.tribuneindia.com/news/business/mm-rolls-out-xuv3oo-turbosport-at-10-35-lakh-440235\n",
            "Failed to process https://www.tribuneindia.com/news/business/mm-rolls-out-xuv3oo-turbosport-at-10-35-lakh-440235: No meaningful content extracted.\n"
          ]
        },
        {
          "output_type": "stream",
          "name": "stderr",
          "text": [
            " 96%|█████████▌| 3892/4047 [40:03<00:47,  3.26it/s]"
          ]
        },
        {
          "output_type": "stream",
          "name": "stdout",
          "text": [
            "Failed to fetch https://www.ndtv.com/business/all-you-need-to-know-about-various-charges-levied-by-banks-3358968: 403 Client Error: Forbidden for url: https://www.ndtv.com/business/all-you-need-to-know-about-various-charges-levied-by-banks-3358968\n",
            "Failed to process https://www.ndtv.com/business/all-you-need-to-know-about-various-charges-levied-by-banks-3358968: No meaningful content extracted.\n"
          ]
        },
        {
          "output_type": "stream",
          "name": "stderr",
          "text": [
            " 96%|█████████▋| 3896/4047 [40:07<01:36,  1.57it/s]"
          ]
        },
        {
          "output_type": "stream",
          "name": "stdout",
          "text": [
            "Failed to process https://www.business-standard.com/article/finance/hdfc-bank-issues-e-bg-aebc-appoints-sanjay-khanna-as-ceo-and-more-122091200998_1.html: No meaningful content extracted.\n"
          ]
        },
        {
          "output_type": "stream",
          "name": "stderr",
          "text": [
            " 96%|█████████▋| 3898/4047 [40:08<01:29,  1.67it/s]"
          ]
        },
        {
          "output_type": "stream",
          "name": "stdout",
          "text": [
            "Failed to process https://www.hindustantimes.com/business/hdfc-bank-raises-rs-3-000-crore-from-bonds-101662644573622.html: No meaningful content extracted.\n"
          ]
        },
        {
          "output_type": "stream",
          "name": "stderr",
          "text": [
            "\r 96%|█████████▋| 3899/4047 [40:08<01:14,  2.00it/s]"
          ]
        },
        {
          "output_type": "stream",
          "name": "stdout",
          "text": [
            "Failed to fetch https://www.thelatestnewsofindia.com/business/hdfc-bank-loan-interest-rate-increases/: HTTPSConnectionPool(host='www.thelatestnewsofindia.com', port=443): Max retries exceeded with url: /business/hdfc-bank-loan-interest-rate-increases/ (Caused by NameResolutionError(\"<urllib3.connection.HTTPSConnection object at 0x7e08b8581790>: Failed to resolve 'www.thelatestnewsofindia.com' ([Errno -2] Name or service not known)\"))\n",
            "Failed to process https://www.thelatestnewsofindia.com/business/hdfc-bank-loan-interest-rate-increases/: No meaningful content extracted.\n"
          ]
        },
        {
          "output_type": "stream",
          "name": "stderr",
          "text": [
            "\r 96%|█████████▋| 3901/4047 [40:08<00:49,  2.96it/s]"
          ]
        },
        {
          "output_type": "stream",
          "name": "stdout",
          "text": [
            "Failed to process https://www.business-standard.com/article/finance/hdfc-bank-hikes-mclr-by-10-bps-across-loan-tenures-effective-sep-7-122090700844_1.html: No meaningful content extracted.\n"
          ]
        },
        {
          "output_type": "stream",
          "name": "stderr",
          "text": [
            " 96%|█████████▋| 3903/4047 [40:09<00:39,  3.66it/s]"
          ]
        },
        {
          "output_type": "stream",
          "name": "stdout",
          "text": [
            "Failed to process https://www.business-standard.com/article/finance/hdfc-bank-at-1-bonds-worth-rs-3-000-crore-get-this-fy-s-best-rate-122090601028_1.html: No meaningful content extracted.\n"
          ]
        },
        {
          "output_type": "stream",
          "name": "stderr",
          "text": [
            " 97%|█████████▋| 3911/4047 [40:14<01:22,  1.66it/s]"
          ]
        },
        {
          "output_type": "stream",
          "name": "stdout",
          "text": [
            "Failed to process https://www.business-standard.com/article/finance/hdfc-bank-to-open-207-branches-in-maharashtra-hire-more-than-3-000-122090100851_1.html: No meaningful content extracted.\n"
          ]
        },
        {
          "output_type": "stream",
          "name": "stderr",
          "text": [
            " 97%|█████████▋| 3913/4047 [40:15<01:22,  1.63it/s]"
          ]
        },
        {
          "output_type": "stream",
          "name": "stdout",
          "text": [
            "Failed to process https://www.business-standard.com/article/finance/hdfc-bank-partly-recoups-market-share-in-credit-card-spends-lost-to-embargo-122083100716_1.html: No meaningful content extracted.\n"
          ]
        },
        {
          "output_type": "stream",
          "name": "stderr",
          "text": [
            " 97%|█████████▋| 3915/4047 [40:16<01:05,  2.01it/s]"
          ]
        },
        {
          "output_type": "stream",
          "name": "stdout",
          "text": [
            "Failed to process https://www.hindustantimes.com/business/axis-bank-eyes-10-stake-in-go-digit-life-insurance-business-report-101661855865700.html: No meaningful content extracted.\n"
          ]
        },
        {
          "output_type": "stream",
          "name": "stderr",
          "text": [
            " 97%|█████████▋| 3917/4047 [40:19<02:23,  1.10s/it]"
          ]
        },
        {
          "output_type": "stream",
          "name": "stdout",
          "text": [
            "Failed to fetch https://www.ndtv.com/business/hdfc-bank-to-acquire-9-94-pc-stake-in-go-digit-life-insurance-3287029: 403 Client Error: Forbidden for url: https://www.ndtv.com/business/hdfc-bank-to-acquire-9-94-pc-stake-in-go-digit-life-insurance-3287029\n",
            "Failed to process https://www.ndtv.com/business/hdfc-bank-to-acquire-9-94-pc-stake-in-go-digit-life-insurance-3287029: No meaningful content extracted.\n"
          ]
        },
        {
          "output_type": "stream",
          "name": "stderr",
          "text": [
            " 97%|█████████▋| 3930/4047 [40:33<01:00,  1.95it/s]"
          ]
        },
        {
          "output_type": "stream",
          "name": "stdout",
          "text": [
            "Failed to process https://www.business-standard.com/article/finance/hdfc-bank-s-kaizad-bharucha-took-home-the-most-among-bankers-in-fy22-122080901438_1.html: No meaningful content extracted.\n"
          ]
        },
        {
          "output_type": "stream",
          "name": "stderr",
          "text": [
            " 97%|█████████▋| 3936/4047 [40:41<01:24,  1.32it/s]"
          ]
        },
        {
          "output_type": "stream",
          "name": "stdout",
          "text": [
            "Failed to process https://www.business-standard.com/article/finance/hdfc-bank-idfc-bank-hike-mclr-post-repo-rate-hike-by-rbi-122080800581_1.html: No meaningful content extracted.\n"
          ]
        },
        {
          "output_type": "stream",
          "name": "stderr",
          "text": [
            " 98%|█████████▊| 3959/4047 [41:02<01:03,  1.40it/s]"
          ]
        },
        {
          "output_type": "stream",
          "name": "stdout",
          "text": [
            "Failed to process https://www.business-standard.com/article/finance/merger-with-hdfc-to-help-tap-home-finance-opportunity-hdfc-bank-chairman-122071600642_1.html: No meaningful content extracted.\n"
          ]
        },
        {
          "output_type": "stream",
          "name": "stderr",
          "text": [
            " 98%|█████████▊| 3965/4047 [41:03<00:19,  4.28it/s]"
          ]
        },
        {
          "output_type": "stream",
          "name": "stdout",
          "text": [
            "Failed to fetch https://www.ndtv.com/business/hdfc-banks-profit-jumps-nearly-20-to-rs-9-196-crore-3163611: 403 Client Error: Forbidden for url: https://www.ndtv.com/business/hdfc-banks-profit-jumps-nearly-20-to-rs-9-196-crore-3163611\n",
            "Failed to process https://www.ndtv.com/business/hdfc-banks-profit-jumps-nearly-20-to-rs-9-196-crore-3163611: No meaningful content extracted.\n",
            "Failed to process https://www.hindustantimes.com/business/indias-hdfc-bank-s-april-june-profit-rises-19-on-year-101657961337154.html: No meaningful content extracted.\n"
          ]
        },
        {
          "output_type": "stream",
          "name": "stderr",
          "text": [
            " 98%|█████████▊| 3971/4047 [41:10<01:48,  1.43s/it]"
          ]
        },
        {
          "output_type": "stream",
          "name": "stdout",
          "text": [
            "Failed to fetch https://www.ndtv.com/business/how-ultratech-bought-russian-coal-using-chinese-yuan-through-hdfc-bank-report-3142215: 403 Client Error: Forbidden for url: https://www.ndtv.com/business/how-ultratech-bought-russian-coal-using-chinese-yuan-through-hdfc-bank-report-3142215\n",
            "Failed to process https://www.ndtv.com/business/how-ultratech-bought-russian-coal-using-chinese-yuan-through-hdfc-bank-report-3142215: No meaningful content extracted.\n"
          ]
        },
        {
          "output_type": "stream",
          "name": "stderr",
          "text": [
            " 98%|█████████▊| 3974/4047 [41:11<00:55,  1.31it/s]"
          ]
        },
        {
          "output_type": "stream",
          "name": "stdout",
          "text": [
            "Failed to fetch https://www.ndtv.com/business/hdfc-bank-hikes-lending-rate-by-0-20-third-straight-increase-since-may-3136331: 403 Client Error: Forbidden for url: https://www.ndtv.com/business/hdfc-bank-hikes-lending-rate-by-0-20-third-straight-increase-since-may-3136331\n",
            "Failed to process https://www.ndtv.com/business/hdfc-bank-hikes-lending-rate-by-0-20-third-straight-increase-since-may-3136331: No meaningful content extracted.\n"
          ]
        },
        {
          "output_type": "stream",
          "name": "stderr",
          "text": [
            " 98%|█████████▊| 3977/4047 [41:12<00:30,  2.31it/s]"
          ]
        },
        {
          "output_type": "stream",
          "name": "stdout",
          "text": [
            "Failed to process https://www.business-standard.com/article/finance/hdfc-bank-receives-no-objection-letter-from-rbi-for-merger-with-hdfc-122070401339_1.html: No meaningful content extracted.\n"
          ]
        },
        {
          "output_type": "stream",
          "name": "stderr",
          "text": [
            " 99%|█████████▉| 3998/4047 [41:35<00:47,  1.03it/s]"
          ]
        },
        {
          "output_type": "stream",
          "name": "stdout",
          "text": [
            "Failed to fetch https://www.ndtv.com/business/hdfc-bank-hikes-lending-rate-twice-in-a-month-emis-to-get-costlier-3045175: 403 Client Error: Forbidden for url: https://www.ndtv.com/business/hdfc-bank-hikes-lending-rate-twice-in-a-month-emis-to-get-costlier-3045175\n",
            "Failed to process https://www.ndtv.com/business/hdfc-bank-hikes-lending-rate-twice-in-a-month-emis-to-get-costlier-3045175: No meaningful content extracted.\n"
          ]
        },
        {
          "output_type": "stream",
          "name": "stderr",
          "text": [
            " 99%|█████████▉| 4005/4047 [41:42<00:47,  1.14s/it]"
          ]
        },
        {
          "output_type": "stream",
          "name": "stdout",
          "text": [
            "Failed to process https://www.bqprime.com/research-reports/hdfc-bank-all-set-for-merger-will-sustain-growth-momentum-by-accelerating-deposit-engine-icici-securities: No meaningful content extracted.\n"
          ]
        },
        {
          "output_type": "stream",
          "name": "stderr",
          "text": [
            "\r 99%|█████████▉| 4006/4047 [41:43<00:51,  1.26s/it]"
          ]
        },
        {
          "output_type": "stream",
          "name": "stdout",
          "text": [
            "Failed to process https://www.bqprime.com/research-reports/hdfc-bank-analyst-meet-update-immense-opportunities-execution-remains-key-prabhudas-lilladher: No meaningful content extracted.\n"
          ]
        },
        {
          "output_type": "stream",
          "name": "stderr",
          "text": [
            " 99%|█████████▉| 4009/4047 [41:49<01:04,  1.71s/it]"
          ]
        },
        {
          "output_type": "stream",
          "name": "stdout",
          "text": [
            "Failed to fetch https://www.ndtv.com/business/seven-most-valued-entities-add-rs-1-16-lakh-crore-in-market-capitalisation-3018971: 403 Client Error: Forbidden for url: https://www.ndtv.com/business/seven-most-valued-entities-add-rs-1-16-lakh-crore-in-market-capitalisation-3018971\n",
            "Failed to process https://www.ndtv.com/business/seven-most-valued-entities-add-rs-1-16-lakh-crore-in-market-capitalisation-3018971: No meaningful content extracted.\n"
          ]
        },
        {
          "output_type": "stream",
          "name": "stderr",
          "text": [
            " 99%|█████████▉| 4015/4047 [41:56<00:44,  1.40s/it]"
          ]
        },
        {
          "output_type": "stream",
          "name": "stdout",
          "text": [
            "Failed to fetch https://www.ndtv.com/business/market-capitalisation-of-reliance-industries-hdfc-bank-and-hindustan-unilever-rises-rs-1-78-lakh-crore-2998035: 403 Client Error: Forbidden for url: https://www.ndtv.com/business/market-capitalisation-of-reliance-industries-hdfc-bank-and-hindustan-unilever-rises-rs-1-78-lakh-crore-2998035\n",
            "Failed to process https://www.ndtv.com/business/market-capitalisation-of-reliance-industries-hdfc-bank-and-hindustan-unilever-rises-rs-1-78-lakh-crore-2998035: No meaningful content extracted.\n"
          ]
        },
        {
          "output_type": "stream",
          "name": "stderr",
          "text": [
            "100%|█████████▉| 4027/4047 [42:06<00:20,  1.01s/it]"
          ]
        },
        {
          "output_type": "stream",
          "name": "stdout",
          "text": [
            "Failed to process https://www.business-standard.com/article/finance/hdfc-bank-canara-bank-indian-overseas-bank-others-raise-lending-rates-122050901284_1.html: No meaningful content extracted.\n"
          ]
        },
        {
          "output_type": "stream",
          "name": "stderr",
          "text": [
            "100%|█████████▉| 4032/4047 [42:10<00:15,  1.01s/it]"
          ]
        },
        {
          "output_type": "stream",
          "name": "stdout",
          "text": [
            "Failed to fetch https://www.ndtv.com/business/reliance-hindustan-unilever-gain-in-market-valuation-2936168: 403 Client Error: Forbidden for url: https://www.ndtv.com/business/reliance-hindustan-unilever-gain-in-market-valuation-2936168\n",
            "Failed to process https://www.ndtv.com/business/reliance-hindustan-unilever-gain-in-market-valuation-2936168: No meaningful content extracted.\n"
          ]
        },
        {
          "output_type": "stream",
          "name": "stderr",
          "text": [
            "100%|█████████▉| 4037/4047 [42:14<00:07,  1.40it/s]"
          ]
        },
        {
          "output_type": "stream",
          "name": "stdout",
          "text": [
            "Failed to fetch https://www.ndtv.com/business/hdfc-bank-announces-1550-dividend-or-15-50-per-rs-1-face-value-share-2914887: 403 Client Error: Forbidden for url: https://www.ndtv.com/business/hdfc-bank-announces-1550-dividend-or-15-50-per-rs-1-face-value-share-2914887\n",
            "Failed to process https://www.ndtv.com/business/hdfc-bank-announces-1550-dividend-or-15-50-per-rs-1-face-value-share-2914887: No meaningful content extracted.\n"
          ]
        },
        {
          "output_type": "stream",
          "name": "stderr",
          "text": [
            "100%|█████████▉| 4042/4047 [42:15<00:01,  2.77it/s]"
          ]
        },
        {
          "output_type": "stream",
          "name": "stdout",
          "text": [
            "Failed to fetch https://www.ndtv.com/business/hdfc-bank-shares-continue-to-fall-heres-what-experts-say-2900677: 403 Client Error: Forbidden for url: https://www.ndtv.com/business/hdfc-bank-shares-continue-to-fall-heres-what-experts-say-2900677\n",
            "Failed to process https://www.ndtv.com/business/hdfc-bank-shares-continue-to-fall-heres-what-experts-say-2900677: No meaningful content extracted.\n"
          ]
        },
        {
          "output_type": "stream",
          "name": "stderr",
          "text": [
            "\r100%|█████████▉| 4044/4047 [42:16<00:01,  2.77it/s]"
          ]
        },
        {
          "output_type": "stream",
          "name": "stdout",
          "text": [
            "Failed to process https://www.iamgujarat.com/business/analysts-bullish-on-hdfc-bank-share-30-percent-rally-possible/articleshow/88944880.cms: No meaningful content extracted.\n"
          ]
        },
        {
          "output_type": "stream",
          "name": "stderr",
          "text": [
            "100%|██████████| 4047/4047 [42:19<00:00,  1.59it/s]"
          ]
        },
        {
          "output_type": "stream",
          "name": "stdout",
          "text": [
            "Failed to fetch https://thenortheasttoday.com/business/hdfc-bank-named-indias-best-sme-bank-at-asiamoney-awards/cid2566734.htm: HTTPSConnectionPool(host='thenortheasttoday.com', port=443): Max retries exceeded with url: /business/hdfc-bank-named-indias-best-sme-bank-at-asiamoney-awards/cid2566734.htm (Caused by NameResolutionError(\"<urllib3.connection.HTTPSConnection object at 0x7e09006ab850>: Failed to resolve 'thenortheasttoday.com' ([Errno -2] Name or service not known)\"))\n",
            "Failed to process https://thenortheasttoday.com/business/hdfc-bank-named-indias-best-sme-bank-at-asiamoney-awards/cid2566734.htm: No meaningful content extracted.\n"
          ]
        },
        {
          "output_type": "stream",
          "name": "stderr",
          "text": [
            "\n"
          ]
        }
      ]
    },
    {
      "cell_type": "code",
      "source": [
        "dataframe = pd.read_csv(\"/content/articles_with_sentiment.csv\")\n",
        "dataframe"
      ],
      "metadata": {
        "colab": {
          "base_uri": "https://localhost:8080/",
          "height": 162
        },
        "id": "_1uIzVwwiPSk",
        "outputId": "9575dbc3-3e7d-4ea3-9612-468d25076f69"
      },
      "execution_count": null,
      "outputs": [
        {
          "output_type": "error",
          "ename": "TypeError",
          "evalue": "'int' object is not callable",
          "traceback": [
            "\u001b[0;31m---------------------------------------------------------------------------\u001b[0m",
            "\u001b[0;31mTypeError\u001b[0m                                 Traceback (most recent call last)",
            "\u001b[0;32m<ipython-input-13-733462447>\u001b[0m in \u001b[0;36m<cell line: 0>\u001b[0;34m()\u001b[0m\n\u001b[1;32m      1\u001b[0m \u001b[0mdataframe\u001b[0m \u001b[0;34m=\u001b[0m \u001b[0mpd\u001b[0m\u001b[0;34m.\u001b[0m\u001b[0mread_csv\u001b[0m\u001b[0;34m(\u001b[0m\u001b[0;34m\"/content/articles_with_sentiment.csv\"\u001b[0m\u001b[0;34m)\u001b[0m\u001b[0;34m\u001b[0m\u001b[0;34m\u001b[0m\u001b[0m\n\u001b[0;32m----> 2\u001b[0;31m \u001b[0mdataframe\u001b[0m\u001b[0;34m.\u001b[0m\u001b[0msize\u001b[0m\u001b[0;34m(\u001b[0m\u001b[0;34m)\u001b[0m\u001b[0;34m\u001b[0m\u001b[0;34m\u001b[0m\u001b[0m\n\u001b[0m",
            "\u001b[0;31mTypeError\u001b[0m: 'int' object is not callable"
          ]
        }
      ]
    },
    {
      "cell_type": "code",
      "source": [
        "len(dataframe)"
      ],
      "metadata": {
        "colab": {
          "base_uri": "https://localhost:8080/"
        },
        "id": "ppXl9iigidoR",
        "outputId": "66ad36a8-e404-4e46-fbe2-c88882c6b242"
      },
      "execution_count": null,
      "outputs": [
        {
          "output_type": "execute_result",
          "data": {
            "text/plain": [
              "4047"
            ]
          },
          "metadata": {},
          "execution_count": 16
        }
      ]
    },
    {
      "cell_type": "code",
      "source": [
        "dataframe.columns"
      ],
      "metadata": {
        "colab": {
          "base_uri": "https://localhost:8080/"
        },
        "id": "OabAr_xciheM",
        "outputId": "32f00b56-d93c-4e85-cfa9-0111000e19d4"
      },
      "execution_count": null,
      "outputs": [
        {
          "output_type": "execute_result",
          "data": {
            "text/plain": [
              "Index(['article_id', 'title', 'link', 'keywords', 'creator', 'description',\n",
              "       'content', 'pubDate', 'pubDateTZ', 'image_url', 'video_url',\n",
              "       'source_id', 'source_name', 'source_priority', 'source_url',\n",
              "       'source_icon', 'language', 'country', 'category', 'sentiment',\n",
              "       'sentiment_stats', 'ai_tag', 'ai_region', 'ai_org', 'sentiment_label',\n",
              "       'sentiment_score'],\n",
              "      dtype='object')"
            ]
          },
          "metadata": {},
          "execution_count": 17
        }
      ]
    },
    {
      "cell_type": "code",
      "source": [
        "final_df = dataframe.drop([\"article_id\",\"link\",\"keywords\",\"creator\",\"description\",\"content\",\"pubDateTZ\",\"image_url\",\"video_url\",\"source_id\",\"source_name\",\"source_priority\",\"source_url\",\"source_icon\",\"language\",\"country\",\"category\",\"sentiment\",\"sentiment_stats\",\"ai_tag\",\"ai_region\",\"ai_org\",\"sentiment_label\"], axis=\"columns\")"
      ],
      "metadata": {
        "id": "zIKxAqcVi4NS"
      },
      "execution_count": null,
      "outputs": []
    },
    {
      "cell_type": "code",
      "source": [
        "final_df"
      ],
      "metadata": {
        "colab": {
          "base_uri": "https://localhost:8080/",
          "height": 424
        },
        "id": "PChvC9T_kYeT",
        "outputId": "daed49ea-0729-4b07-995c-9de35c1cb225"
      },
      "execution_count": null,
      "outputs": [
        {
          "output_type": "execute_result",
          "data": {
            "text/plain": [
              "                                                  title  \\\n",
              "0     \"मुकेश अंबानी नहीं इन दिग्गजों का बजा डंका, शे...   \n",
              "1     \"Bank Holiday: ਕੀ ਭਲਕੇ 1 ਜਨਵਰੀ 2025 ਨੂੰ ਬੰਦ ਰਹ...   \n",
              "2     \"HDFC Bank Credit Cards: Key changes in reward...   \n",
              "3     \"Nifty Bank rejig today: SBI, HDFC Bank may wi...   \n",
              "4     \"Day Trading Guide For December 31, 2024: Intr...   \n",
              "...                                                 ...   \n",
              "4042  \"HDFC Bank Shares Continue To Fall: Here's Wha...   \n",
              "4043  \"HDFC Bank પર એનાલિસ્ટ્સને પૂરો ભરોસોઃ શેર 30%...   \n",
              "4044  \"HDFC बैंक की इस स्कीम से बिना गारंटी के दुकान...   \n",
              "4045  \"HDFC बैंक की दूर हुई तकनीकी समस्या, ग्राहक कर...   \n",
              "4046  \"HDFC Bank named India’s Best SME Bank at Asia...   \n",
              "\n",
              "                    pubDate  sentiment_score  \n",
              "0     \"2024-12-31 17:13:49\"         0.999983  \n",
              "1     \"2024-12-31 09:41:55\"         0.992906  \n",
              "2     \"2024-12-31 07:53:58\"         0.752925  \n",
              "3     \"2024-12-31 05:30:23\"         0.729719  \n",
              "4     \"2024-12-31 00:30:00\"         0.956570  \n",
              "...                     ...              ...  \n",
              "4042  \"2022-04-19 11:21:07\"              NaN  \n",
              "4043  \"2022-01-17 05:41:46\"              NaN  \n",
              "4044  \"2021-07-27 09:42:46\"         0.999903  \n",
              "4045  \"2021-06-15 12:15:48\"         0.993595  \n",
              "4046  \"2021-03-25 09:43:54\"              NaN  \n",
              "\n",
              "[4047 rows x 3 columns]"
            ],
            "text/html": [
              "\n",
              "  <div id=\"df-89906b08-d30d-41dd-bdee-5a682543a1bb\" class=\"colab-df-container\">\n",
              "    <div>\n",
              "<style scoped>\n",
              "    .dataframe tbody tr th:only-of-type {\n",
              "        vertical-align: middle;\n",
              "    }\n",
              "\n",
              "    .dataframe tbody tr th {\n",
              "        vertical-align: top;\n",
              "    }\n",
              "\n",
              "    .dataframe thead th {\n",
              "        text-align: right;\n",
              "    }\n",
              "</style>\n",
              "<table border=\"1\" class=\"dataframe\">\n",
              "  <thead>\n",
              "    <tr style=\"text-align: right;\">\n",
              "      <th></th>\n",
              "      <th>title</th>\n",
              "      <th>pubDate</th>\n",
              "      <th>sentiment_score</th>\n",
              "    </tr>\n",
              "  </thead>\n",
              "  <tbody>\n",
              "    <tr>\n",
              "      <th>0</th>\n",
              "      <td>\"मुकेश अंबानी नहीं इन दिग्गजों का बजा डंका, शे...</td>\n",
              "      <td>\"2024-12-31 17:13:49\"</td>\n",
              "      <td>0.999983</td>\n",
              "    </tr>\n",
              "    <tr>\n",
              "      <th>1</th>\n",
              "      <td>\"Bank Holiday: ਕੀ ਭਲਕੇ 1 ਜਨਵਰੀ 2025 ਨੂੰ ਬੰਦ ਰਹ...</td>\n",
              "      <td>\"2024-12-31 09:41:55\"</td>\n",
              "      <td>0.992906</td>\n",
              "    </tr>\n",
              "    <tr>\n",
              "      <th>2</th>\n",
              "      <td>\"HDFC Bank Credit Cards: Key changes in reward...</td>\n",
              "      <td>\"2024-12-31 07:53:58\"</td>\n",
              "      <td>0.752925</td>\n",
              "    </tr>\n",
              "    <tr>\n",
              "      <th>3</th>\n",
              "      <td>\"Nifty Bank rejig today: SBI, HDFC Bank may wi...</td>\n",
              "      <td>\"2024-12-31 05:30:23\"</td>\n",
              "      <td>0.729719</td>\n",
              "    </tr>\n",
              "    <tr>\n",
              "      <th>4</th>\n",
              "      <td>\"Day Trading Guide For December 31, 2024: Intr...</td>\n",
              "      <td>\"2024-12-31 00:30:00\"</td>\n",
              "      <td>0.956570</td>\n",
              "    </tr>\n",
              "    <tr>\n",
              "      <th>...</th>\n",
              "      <td>...</td>\n",
              "      <td>...</td>\n",
              "      <td>...</td>\n",
              "    </tr>\n",
              "    <tr>\n",
              "      <th>4042</th>\n",
              "      <td>\"HDFC Bank Shares Continue To Fall: Here's Wha...</td>\n",
              "      <td>\"2022-04-19 11:21:07\"</td>\n",
              "      <td>NaN</td>\n",
              "    </tr>\n",
              "    <tr>\n",
              "      <th>4043</th>\n",
              "      <td>\"HDFC Bank પર એનાલિસ્ટ્સને પૂરો ભરોસોઃ શેર 30%...</td>\n",
              "      <td>\"2022-01-17 05:41:46\"</td>\n",
              "      <td>NaN</td>\n",
              "    </tr>\n",
              "    <tr>\n",
              "      <th>4044</th>\n",
              "      <td>\"HDFC बैंक की इस स्कीम से बिना गारंटी के दुकान...</td>\n",
              "      <td>\"2021-07-27 09:42:46\"</td>\n",
              "      <td>0.999903</td>\n",
              "    </tr>\n",
              "    <tr>\n",
              "      <th>4045</th>\n",
              "      <td>\"HDFC बैंक की दूर हुई तकनीकी समस्या, ग्राहक कर...</td>\n",
              "      <td>\"2021-06-15 12:15:48\"</td>\n",
              "      <td>0.993595</td>\n",
              "    </tr>\n",
              "    <tr>\n",
              "      <th>4046</th>\n",
              "      <td>\"HDFC Bank named India’s Best SME Bank at Asia...</td>\n",
              "      <td>\"2021-03-25 09:43:54\"</td>\n",
              "      <td>NaN</td>\n",
              "    </tr>\n",
              "  </tbody>\n",
              "</table>\n",
              "<p>4047 rows × 3 columns</p>\n",
              "</div>\n",
              "    <div class=\"colab-df-buttons\">\n",
              "\n",
              "  <div class=\"colab-df-container\">\n",
              "    <button class=\"colab-df-convert\" onclick=\"convertToInteractive('df-89906b08-d30d-41dd-bdee-5a682543a1bb')\"\n",
              "            title=\"Convert this dataframe to an interactive table.\"\n",
              "            style=\"display:none;\">\n",
              "\n",
              "  <svg xmlns=\"http://www.w3.org/2000/svg\" height=\"24px\" viewBox=\"0 -960 960 960\">\n",
              "    <path d=\"M120-120v-720h720v720H120Zm60-500h600v-160H180v160Zm220 220h160v-160H400v160Zm0 220h160v-160H400v160ZM180-400h160v-160H180v160Zm440 0h160v-160H620v160ZM180-180h160v-160H180v160Zm440 0h160v-160H620v160Z\"/>\n",
              "  </svg>\n",
              "    </button>\n",
              "\n",
              "  <style>\n",
              "    .colab-df-container {\n",
              "      display:flex;\n",
              "      gap: 12px;\n",
              "    }\n",
              "\n",
              "    .colab-df-convert {\n",
              "      background-color: #E8F0FE;\n",
              "      border: none;\n",
              "      border-radius: 50%;\n",
              "      cursor: pointer;\n",
              "      display: none;\n",
              "      fill: #1967D2;\n",
              "      height: 32px;\n",
              "      padding: 0 0 0 0;\n",
              "      width: 32px;\n",
              "    }\n",
              "\n",
              "    .colab-df-convert:hover {\n",
              "      background-color: #E2EBFA;\n",
              "      box-shadow: 0px 1px 2px rgba(60, 64, 67, 0.3), 0px 1px 3px 1px rgba(60, 64, 67, 0.15);\n",
              "      fill: #174EA6;\n",
              "    }\n",
              "\n",
              "    .colab-df-buttons div {\n",
              "      margin-bottom: 4px;\n",
              "    }\n",
              "\n",
              "    [theme=dark] .colab-df-convert {\n",
              "      background-color: #3B4455;\n",
              "      fill: #D2E3FC;\n",
              "    }\n",
              "\n",
              "    [theme=dark] .colab-df-convert:hover {\n",
              "      background-color: #434B5C;\n",
              "      box-shadow: 0px 1px 3px 1px rgba(0, 0, 0, 0.15);\n",
              "      filter: drop-shadow(0px 1px 2px rgba(0, 0, 0, 0.3));\n",
              "      fill: #FFFFFF;\n",
              "    }\n",
              "  </style>\n",
              "\n",
              "    <script>\n",
              "      const buttonEl =\n",
              "        document.querySelector('#df-89906b08-d30d-41dd-bdee-5a682543a1bb button.colab-df-convert');\n",
              "      buttonEl.style.display =\n",
              "        google.colab.kernel.accessAllowed ? 'block' : 'none';\n",
              "\n",
              "      async function convertToInteractive(key) {\n",
              "        const element = document.querySelector('#df-89906b08-d30d-41dd-bdee-5a682543a1bb');\n",
              "        const dataTable =\n",
              "          await google.colab.kernel.invokeFunction('convertToInteractive',\n",
              "                                                    [key], {});\n",
              "        if (!dataTable) return;\n",
              "\n",
              "        const docLinkHtml = 'Like what you see? Visit the ' +\n",
              "          '<a target=\"_blank\" href=https://colab.research.google.com/notebooks/data_table.ipynb>data table notebook</a>'\n",
              "          + ' to learn more about interactive tables.';\n",
              "        element.innerHTML = '';\n",
              "        dataTable['output_type'] = 'display_data';\n",
              "        await google.colab.output.renderOutput(dataTable, element);\n",
              "        const docLink = document.createElement('div');\n",
              "        docLink.innerHTML = docLinkHtml;\n",
              "        element.appendChild(docLink);\n",
              "      }\n",
              "    </script>\n",
              "  </div>\n",
              "\n",
              "\n",
              "    <div id=\"df-f1e04a0b-86b4-4c6e-994a-367f9c849cbe\">\n",
              "      <button class=\"colab-df-quickchart\" onclick=\"quickchart('df-f1e04a0b-86b4-4c6e-994a-367f9c849cbe')\"\n",
              "                title=\"Suggest charts\"\n",
              "                style=\"display:none;\">\n",
              "\n",
              "<svg xmlns=\"http://www.w3.org/2000/svg\" height=\"24px\"viewBox=\"0 0 24 24\"\n",
              "     width=\"24px\">\n",
              "    <g>\n",
              "        <path d=\"M19 3H5c-1.1 0-2 .9-2 2v14c0 1.1.9 2 2 2h14c1.1 0 2-.9 2-2V5c0-1.1-.9-2-2-2zM9 17H7v-7h2v7zm4 0h-2V7h2v10zm4 0h-2v-4h2v4z\"/>\n",
              "    </g>\n",
              "</svg>\n",
              "      </button>\n",
              "\n",
              "<style>\n",
              "  .colab-df-quickchart {\n",
              "      --bg-color: #E8F0FE;\n",
              "      --fill-color: #1967D2;\n",
              "      --hover-bg-color: #E2EBFA;\n",
              "      --hover-fill-color: #174EA6;\n",
              "      --disabled-fill-color: #AAA;\n",
              "      --disabled-bg-color: #DDD;\n",
              "  }\n",
              "\n",
              "  [theme=dark] .colab-df-quickchart {\n",
              "      --bg-color: #3B4455;\n",
              "      --fill-color: #D2E3FC;\n",
              "      --hover-bg-color: #434B5C;\n",
              "      --hover-fill-color: #FFFFFF;\n",
              "      --disabled-bg-color: #3B4455;\n",
              "      --disabled-fill-color: #666;\n",
              "  }\n",
              "\n",
              "  .colab-df-quickchart {\n",
              "    background-color: var(--bg-color);\n",
              "    border: none;\n",
              "    border-radius: 50%;\n",
              "    cursor: pointer;\n",
              "    display: none;\n",
              "    fill: var(--fill-color);\n",
              "    height: 32px;\n",
              "    padding: 0;\n",
              "    width: 32px;\n",
              "  }\n",
              "\n",
              "  .colab-df-quickchart:hover {\n",
              "    background-color: var(--hover-bg-color);\n",
              "    box-shadow: 0 1px 2px rgba(60, 64, 67, 0.3), 0 1px 3px 1px rgba(60, 64, 67, 0.15);\n",
              "    fill: var(--button-hover-fill-color);\n",
              "  }\n",
              "\n",
              "  .colab-df-quickchart-complete:disabled,\n",
              "  .colab-df-quickchart-complete:disabled:hover {\n",
              "    background-color: var(--disabled-bg-color);\n",
              "    fill: var(--disabled-fill-color);\n",
              "    box-shadow: none;\n",
              "  }\n",
              "\n",
              "  .colab-df-spinner {\n",
              "    border: 2px solid var(--fill-color);\n",
              "    border-color: transparent;\n",
              "    border-bottom-color: var(--fill-color);\n",
              "    animation:\n",
              "      spin 1s steps(1) infinite;\n",
              "  }\n",
              "\n",
              "  @keyframes spin {\n",
              "    0% {\n",
              "      border-color: transparent;\n",
              "      border-bottom-color: var(--fill-color);\n",
              "      border-left-color: var(--fill-color);\n",
              "    }\n",
              "    20% {\n",
              "      border-color: transparent;\n",
              "      border-left-color: var(--fill-color);\n",
              "      border-top-color: var(--fill-color);\n",
              "    }\n",
              "    30% {\n",
              "      border-color: transparent;\n",
              "      border-left-color: var(--fill-color);\n",
              "      border-top-color: var(--fill-color);\n",
              "      border-right-color: var(--fill-color);\n",
              "    }\n",
              "    40% {\n",
              "      border-color: transparent;\n",
              "      border-right-color: var(--fill-color);\n",
              "      border-top-color: var(--fill-color);\n",
              "    }\n",
              "    60% {\n",
              "      border-color: transparent;\n",
              "      border-right-color: var(--fill-color);\n",
              "    }\n",
              "    80% {\n",
              "      border-color: transparent;\n",
              "      border-right-color: var(--fill-color);\n",
              "      border-bottom-color: var(--fill-color);\n",
              "    }\n",
              "    90% {\n",
              "      border-color: transparent;\n",
              "      border-bottom-color: var(--fill-color);\n",
              "    }\n",
              "  }\n",
              "</style>\n",
              "\n",
              "      <script>\n",
              "        async function quickchart(key) {\n",
              "          const quickchartButtonEl =\n",
              "            document.querySelector('#' + key + ' button');\n",
              "          quickchartButtonEl.disabled = true;  // To prevent multiple clicks.\n",
              "          quickchartButtonEl.classList.add('colab-df-spinner');\n",
              "          try {\n",
              "            const charts = await google.colab.kernel.invokeFunction(\n",
              "                'suggestCharts', [key], {});\n",
              "          } catch (error) {\n",
              "            console.error('Error during call to suggestCharts:', error);\n",
              "          }\n",
              "          quickchartButtonEl.classList.remove('colab-df-spinner');\n",
              "          quickchartButtonEl.classList.add('colab-df-quickchart-complete');\n",
              "        }\n",
              "        (() => {\n",
              "          let quickchartButtonEl =\n",
              "            document.querySelector('#df-f1e04a0b-86b4-4c6e-994a-367f9c849cbe button');\n",
              "          quickchartButtonEl.style.display =\n",
              "            google.colab.kernel.accessAllowed ? 'block' : 'none';\n",
              "        })();\n",
              "      </script>\n",
              "    </div>\n",
              "\n",
              "  <div id=\"id_712f646d-9095-43f8-849c-3bdeabb7bc77\">\n",
              "    <style>\n",
              "      .colab-df-generate {\n",
              "        background-color: #E8F0FE;\n",
              "        border: none;\n",
              "        border-radius: 50%;\n",
              "        cursor: pointer;\n",
              "        display: none;\n",
              "        fill: #1967D2;\n",
              "        height: 32px;\n",
              "        padding: 0 0 0 0;\n",
              "        width: 32px;\n",
              "      }\n",
              "\n",
              "      .colab-df-generate:hover {\n",
              "        background-color: #E2EBFA;\n",
              "        box-shadow: 0px 1px 2px rgba(60, 64, 67, 0.3), 0px 1px 3px 1px rgba(60, 64, 67, 0.15);\n",
              "        fill: #174EA6;\n",
              "      }\n",
              "\n",
              "      [theme=dark] .colab-df-generate {\n",
              "        background-color: #3B4455;\n",
              "        fill: #D2E3FC;\n",
              "      }\n",
              "\n",
              "      [theme=dark] .colab-df-generate:hover {\n",
              "        background-color: #434B5C;\n",
              "        box-shadow: 0px 1px 3px 1px rgba(0, 0, 0, 0.15);\n",
              "        filter: drop-shadow(0px 1px 2px rgba(0, 0, 0, 0.3));\n",
              "        fill: #FFFFFF;\n",
              "      }\n",
              "    </style>\n",
              "    <button class=\"colab-df-generate\" onclick=\"generateWithVariable('final_df')\"\n",
              "            title=\"Generate code using this dataframe.\"\n",
              "            style=\"display:none;\">\n",
              "\n",
              "  <svg xmlns=\"http://www.w3.org/2000/svg\" height=\"24px\"viewBox=\"0 0 24 24\"\n",
              "       width=\"24px\">\n",
              "    <path d=\"M7,19H8.4L18.45,9,17,7.55,7,17.6ZM5,21V16.75L18.45,3.32a2,2,0,0,1,2.83,0l1.4,1.43a1.91,1.91,0,0,1,.58,1.4,1.91,1.91,0,0,1-.58,1.4L9.25,21ZM18.45,9,17,7.55Zm-12,3A5.31,5.31,0,0,0,4.9,8.1,5.31,5.31,0,0,0,1,6.5,5.31,5.31,0,0,0,4.9,4.9,5.31,5.31,0,0,0,6.5,1,5.31,5.31,0,0,0,8.1,4.9,5.31,5.31,0,0,0,12,6.5,5.46,5.46,0,0,0,6.5,12Z\"/>\n",
              "  </svg>\n",
              "    </button>\n",
              "    <script>\n",
              "      (() => {\n",
              "      const buttonEl =\n",
              "        document.querySelector('#id_712f646d-9095-43f8-849c-3bdeabb7bc77 button.colab-df-generate');\n",
              "      buttonEl.style.display =\n",
              "        google.colab.kernel.accessAllowed ? 'block' : 'none';\n",
              "\n",
              "      buttonEl.onclick = () => {\n",
              "        google.colab.notebook.generateWithVariable('final_df');\n",
              "      }\n",
              "      })();\n",
              "    </script>\n",
              "  </div>\n",
              "\n",
              "    </div>\n",
              "  </div>\n"
            ],
            "application/vnd.google.colaboratory.intrinsic+json": {
              "type": "dataframe",
              "variable_name": "final_df",
              "summary": "{\n  \"name\": \"final_df\",\n  \"rows\": 4047,\n  \"fields\": [\n    {\n      \"column\": \"title\",\n      \"properties\": {\n        \"dtype\": \"string\",\n        \"num_unique_values\": 4047,\n        \"samples\": [\n          \"\\\"\\u0911\\u0928\\u0932\\u093e\\u0907\\u0928 \\u092e\\u0940\\u091f\\u093f\\u0902\\u0917 \\u092e\\u0947\\u0902 \\u091c\\u0942\\u0928\\u093f\\u092f\\u0930 \\u0915\\u094b \\u0917\\u093e\\u0932\\u0940 \\u0926\\u0947\\u0928\\u093e HDFC \\u092c\\u0948\\u0902\\u0915 \\u0905\\u0927\\u093f\\u0915\\u093e\\u0930\\u0940 \\u0915\\u094b \\u092a\\u0921\\u093c\\u093e \\u092d\\u093e\\u0930\\u0940, \\u0935\\u0940\\u0921\\u093f\\u092f\\u094b \\u0935\\u093e\\u092f\\u0930\\u0932 \\u0939\\u094b\\u0928\\u0947 \\u0915\\u0947 \\u092c\\u093e\\u0926 \\u0939\\u0941\\u0908 \\u0915\\u093e\\u0930\\u094d\\u0930\\u0935\\u093e\\u0908\\\"\",\n          \"\\\"Friday's Rally Lifts Sensex, Nifty To Fourth Consecutive Weekly Gains: Market Wrap\\\"\",\n          \"\\\"Stock Market : \\u0926\\u0947\\u0936 \\u0915\\u0947 \\u0938\\u092c\\u0938\\u0947 \\u092c\\u095c\\u0947 \\u092b\\u0902\\u0921 \\u0939\\u093e\\u0909\\u0938 \\u0928\\u0947 \\u0907\\u0928 5 \\u0936\\u0947\\u092f\\u0930\\u094b\\u0902 \\u092e\\u0947\\u0902 \\u091c\\u092e\\u0915\\u0930 \\u0932\\u0917\\u093e\\u092f\\u093e \\u092a\\u0948\\u0938\\u093e\\\"\"\n        ],\n        \"semantic_type\": \"\",\n        \"description\": \"\"\n      }\n    },\n    {\n      \"column\": \"pubDate\",\n      \"properties\": {\n        \"dtype\": \"string\",\n        \"num_unique_values\": 4040,\n        \"samples\": [\n          \"\\\"2023-11-08 03:51:00\\\"\",\n          \"\\\"2024-12-13 10:48:59\\\"\",\n          \"\\\"2024-05-15 00:13:09\\\"\"\n        ],\n        \"semantic_type\": \"\",\n        \"description\": \"\"\n      }\n    },\n    {\n      \"column\": \"sentiment_score\",\n      \"properties\": {\n        \"dtype\": \"number\",\n        \"std\": 0.12686934932162203,\n        \"min\": 0.3756309449672699,\n        \"max\": 0.9999935626983644,\n        \"num_unique_values\": 3239,\n        \"samples\": [\n          0.9516097605228424,\n          0.936349093914032,\n          0.944680780172348\n        ],\n        \"semantic_type\": \"\",\n        \"description\": \"\"\n      }\n    }\n  ]\n}"
            }
          },
          "metadata": {},
          "execution_count": 21
        }
      ]
    },
    {
      "cell_type": "code",
      "source": [
        "#final_df['pubDate'] = final_df['pubDate'].str.strip('\"').str.split().str[0]\n",
        "final_df"
      ],
      "metadata": {
        "colab": {
          "base_uri": "https://localhost:8080/",
          "height": 424
        },
        "id": "yrwZbjiSkjMR",
        "outputId": "0fb00569-97ac-45a4-cfdd-46e094e2c8f9"
      },
      "execution_count": null,
      "outputs": [
        {
          "output_type": "execute_result",
          "data": {
            "text/plain": [
              "                                                  title     pubDate  \\\n",
              "0     \"मुकेश अंबानी नहीं इन दिग्गजों का बजा डंका, शे...  2024-12-31   \n",
              "1     \"Bank Holiday: ਕੀ ਭਲਕੇ 1 ਜਨਵਰੀ 2025 ਨੂੰ ਬੰਦ ਰਹ...  2024-12-31   \n",
              "2     \"HDFC Bank Credit Cards: Key changes in reward...  2024-12-31   \n",
              "3     \"Nifty Bank rejig today: SBI, HDFC Bank may wi...  2024-12-31   \n",
              "4     \"Day Trading Guide For December 31, 2024: Intr...  2024-12-31   \n",
              "...                                                 ...         ...   \n",
              "4042  \"HDFC Bank Shares Continue To Fall: Here's Wha...  2022-04-19   \n",
              "4043  \"HDFC Bank પર એનાલિસ્ટ્સને પૂરો ભરોસોઃ શેર 30%...  2022-01-17   \n",
              "4044  \"HDFC बैंक की इस स्कीम से बिना गारंटी के दुकान...  2021-07-27   \n",
              "4045  \"HDFC बैंक की दूर हुई तकनीकी समस्या, ग्राहक कर...  2021-06-15   \n",
              "4046  \"HDFC Bank named India’s Best SME Bank at Asia...  2021-03-25   \n",
              "\n",
              "      sentiment_score  \n",
              "0            0.999983  \n",
              "1            0.992906  \n",
              "2            0.752925  \n",
              "3            0.729719  \n",
              "4            0.956570  \n",
              "...               ...  \n",
              "4042              NaN  \n",
              "4043              NaN  \n",
              "4044         0.999903  \n",
              "4045         0.993595  \n",
              "4046              NaN  \n",
              "\n",
              "[4047 rows x 3 columns]"
            ],
            "text/html": [
              "\n",
              "  <div id=\"df-46e93bf4-298a-495f-a8f1-6e0fd7d1239a\" class=\"colab-df-container\">\n",
              "    <div>\n",
              "<style scoped>\n",
              "    .dataframe tbody tr th:only-of-type {\n",
              "        vertical-align: middle;\n",
              "    }\n",
              "\n",
              "    .dataframe tbody tr th {\n",
              "        vertical-align: top;\n",
              "    }\n",
              "\n",
              "    .dataframe thead th {\n",
              "        text-align: right;\n",
              "    }\n",
              "</style>\n",
              "<table border=\"1\" class=\"dataframe\">\n",
              "  <thead>\n",
              "    <tr style=\"text-align: right;\">\n",
              "      <th></th>\n",
              "      <th>title</th>\n",
              "      <th>pubDate</th>\n",
              "      <th>sentiment_score</th>\n",
              "    </tr>\n",
              "  </thead>\n",
              "  <tbody>\n",
              "    <tr>\n",
              "      <th>0</th>\n",
              "      <td>\"मुकेश अंबानी नहीं इन दिग्गजों का बजा डंका, शे...</td>\n",
              "      <td>2024-12-31</td>\n",
              "      <td>0.999983</td>\n",
              "    </tr>\n",
              "    <tr>\n",
              "      <th>1</th>\n",
              "      <td>\"Bank Holiday: ਕੀ ਭਲਕੇ 1 ਜਨਵਰੀ 2025 ਨੂੰ ਬੰਦ ਰਹ...</td>\n",
              "      <td>2024-12-31</td>\n",
              "      <td>0.992906</td>\n",
              "    </tr>\n",
              "    <tr>\n",
              "      <th>2</th>\n",
              "      <td>\"HDFC Bank Credit Cards: Key changes in reward...</td>\n",
              "      <td>2024-12-31</td>\n",
              "      <td>0.752925</td>\n",
              "    </tr>\n",
              "    <tr>\n",
              "      <th>3</th>\n",
              "      <td>\"Nifty Bank rejig today: SBI, HDFC Bank may wi...</td>\n",
              "      <td>2024-12-31</td>\n",
              "      <td>0.729719</td>\n",
              "    </tr>\n",
              "    <tr>\n",
              "      <th>4</th>\n",
              "      <td>\"Day Trading Guide For December 31, 2024: Intr...</td>\n",
              "      <td>2024-12-31</td>\n",
              "      <td>0.956570</td>\n",
              "    </tr>\n",
              "    <tr>\n",
              "      <th>...</th>\n",
              "      <td>...</td>\n",
              "      <td>...</td>\n",
              "      <td>...</td>\n",
              "    </tr>\n",
              "    <tr>\n",
              "      <th>4042</th>\n",
              "      <td>\"HDFC Bank Shares Continue To Fall: Here's Wha...</td>\n",
              "      <td>2022-04-19</td>\n",
              "      <td>NaN</td>\n",
              "    </tr>\n",
              "    <tr>\n",
              "      <th>4043</th>\n",
              "      <td>\"HDFC Bank પર એનાલિસ્ટ્સને પૂરો ભરોસોઃ શેર 30%...</td>\n",
              "      <td>2022-01-17</td>\n",
              "      <td>NaN</td>\n",
              "    </tr>\n",
              "    <tr>\n",
              "      <th>4044</th>\n",
              "      <td>\"HDFC बैंक की इस स्कीम से बिना गारंटी के दुकान...</td>\n",
              "      <td>2021-07-27</td>\n",
              "      <td>0.999903</td>\n",
              "    </tr>\n",
              "    <tr>\n",
              "      <th>4045</th>\n",
              "      <td>\"HDFC बैंक की दूर हुई तकनीकी समस्या, ग्राहक कर...</td>\n",
              "      <td>2021-06-15</td>\n",
              "      <td>0.993595</td>\n",
              "    </tr>\n",
              "    <tr>\n",
              "      <th>4046</th>\n",
              "      <td>\"HDFC Bank named India’s Best SME Bank at Asia...</td>\n",
              "      <td>2021-03-25</td>\n",
              "      <td>NaN</td>\n",
              "    </tr>\n",
              "  </tbody>\n",
              "</table>\n",
              "<p>4047 rows × 3 columns</p>\n",
              "</div>\n",
              "    <div class=\"colab-df-buttons\">\n",
              "\n",
              "  <div class=\"colab-df-container\">\n",
              "    <button class=\"colab-df-convert\" onclick=\"convertToInteractive('df-46e93bf4-298a-495f-a8f1-6e0fd7d1239a')\"\n",
              "            title=\"Convert this dataframe to an interactive table.\"\n",
              "            style=\"display:none;\">\n",
              "\n",
              "  <svg xmlns=\"http://www.w3.org/2000/svg\" height=\"24px\" viewBox=\"0 -960 960 960\">\n",
              "    <path d=\"M120-120v-720h720v720H120Zm60-500h600v-160H180v160Zm220 220h160v-160H400v160Zm0 220h160v-160H400v160ZM180-400h160v-160H180v160Zm440 0h160v-160H620v160ZM180-180h160v-160H180v160Zm440 0h160v-160H620v160Z\"/>\n",
              "  </svg>\n",
              "    </button>\n",
              "\n",
              "  <style>\n",
              "    .colab-df-container {\n",
              "      display:flex;\n",
              "      gap: 12px;\n",
              "    }\n",
              "\n",
              "    .colab-df-convert {\n",
              "      background-color: #E8F0FE;\n",
              "      border: none;\n",
              "      border-radius: 50%;\n",
              "      cursor: pointer;\n",
              "      display: none;\n",
              "      fill: #1967D2;\n",
              "      height: 32px;\n",
              "      padding: 0 0 0 0;\n",
              "      width: 32px;\n",
              "    }\n",
              "\n",
              "    .colab-df-convert:hover {\n",
              "      background-color: #E2EBFA;\n",
              "      box-shadow: 0px 1px 2px rgba(60, 64, 67, 0.3), 0px 1px 3px 1px rgba(60, 64, 67, 0.15);\n",
              "      fill: #174EA6;\n",
              "    }\n",
              "\n",
              "    .colab-df-buttons div {\n",
              "      margin-bottom: 4px;\n",
              "    }\n",
              "\n",
              "    [theme=dark] .colab-df-convert {\n",
              "      background-color: #3B4455;\n",
              "      fill: #D2E3FC;\n",
              "    }\n",
              "\n",
              "    [theme=dark] .colab-df-convert:hover {\n",
              "      background-color: #434B5C;\n",
              "      box-shadow: 0px 1px 3px 1px rgba(0, 0, 0, 0.15);\n",
              "      filter: drop-shadow(0px 1px 2px rgba(0, 0, 0, 0.3));\n",
              "      fill: #FFFFFF;\n",
              "    }\n",
              "  </style>\n",
              "\n",
              "    <script>\n",
              "      const buttonEl =\n",
              "        document.querySelector('#df-46e93bf4-298a-495f-a8f1-6e0fd7d1239a button.colab-df-convert');\n",
              "      buttonEl.style.display =\n",
              "        google.colab.kernel.accessAllowed ? 'block' : 'none';\n",
              "\n",
              "      async function convertToInteractive(key) {\n",
              "        const element = document.querySelector('#df-46e93bf4-298a-495f-a8f1-6e0fd7d1239a');\n",
              "        const dataTable =\n",
              "          await google.colab.kernel.invokeFunction('convertToInteractive',\n",
              "                                                    [key], {});\n",
              "        if (!dataTable) return;\n",
              "\n",
              "        const docLinkHtml = 'Like what you see? Visit the ' +\n",
              "          '<a target=\"_blank\" href=https://colab.research.google.com/notebooks/data_table.ipynb>data table notebook</a>'\n",
              "          + ' to learn more about interactive tables.';\n",
              "        element.innerHTML = '';\n",
              "        dataTable['output_type'] = 'display_data';\n",
              "        await google.colab.output.renderOutput(dataTable, element);\n",
              "        const docLink = document.createElement('div');\n",
              "        docLink.innerHTML = docLinkHtml;\n",
              "        element.appendChild(docLink);\n",
              "      }\n",
              "    </script>\n",
              "  </div>\n",
              "\n",
              "\n",
              "    <div id=\"df-3bdfe7d7-cee4-47a9-b566-e384d042e963\">\n",
              "      <button class=\"colab-df-quickchart\" onclick=\"quickchart('df-3bdfe7d7-cee4-47a9-b566-e384d042e963')\"\n",
              "                title=\"Suggest charts\"\n",
              "                style=\"display:none;\">\n",
              "\n",
              "<svg xmlns=\"http://www.w3.org/2000/svg\" height=\"24px\"viewBox=\"0 0 24 24\"\n",
              "     width=\"24px\">\n",
              "    <g>\n",
              "        <path d=\"M19 3H5c-1.1 0-2 .9-2 2v14c0 1.1.9 2 2 2h14c1.1 0 2-.9 2-2V5c0-1.1-.9-2-2-2zM9 17H7v-7h2v7zm4 0h-2V7h2v10zm4 0h-2v-4h2v4z\"/>\n",
              "    </g>\n",
              "</svg>\n",
              "      </button>\n",
              "\n",
              "<style>\n",
              "  .colab-df-quickchart {\n",
              "      --bg-color: #E8F0FE;\n",
              "      --fill-color: #1967D2;\n",
              "      --hover-bg-color: #E2EBFA;\n",
              "      --hover-fill-color: #174EA6;\n",
              "      --disabled-fill-color: #AAA;\n",
              "      --disabled-bg-color: #DDD;\n",
              "  }\n",
              "\n",
              "  [theme=dark] .colab-df-quickchart {\n",
              "      --bg-color: #3B4455;\n",
              "      --fill-color: #D2E3FC;\n",
              "      --hover-bg-color: #434B5C;\n",
              "      --hover-fill-color: #FFFFFF;\n",
              "      --disabled-bg-color: #3B4455;\n",
              "      --disabled-fill-color: #666;\n",
              "  }\n",
              "\n",
              "  .colab-df-quickchart {\n",
              "    background-color: var(--bg-color);\n",
              "    border: none;\n",
              "    border-radius: 50%;\n",
              "    cursor: pointer;\n",
              "    display: none;\n",
              "    fill: var(--fill-color);\n",
              "    height: 32px;\n",
              "    padding: 0;\n",
              "    width: 32px;\n",
              "  }\n",
              "\n",
              "  .colab-df-quickchart:hover {\n",
              "    background-color: var(--hover-bg-color);\n",
              "    box-shadow: 0 1px 2px rgba(60, 64, 67, 0.3), 0 1px 3px 1px rgba(60, 64, 67, 0.15);\n",
              "    fill: var(--button-hover-fill-color);\n",
              "  }\n",
              "\n",
              "  .colab-df-quickchart-complete:disabled,\n",
              "  .colab-df-quickchart-complete:disabled:hover {\n",
              "    background-color: var(--disabled-bg-color);\n",
              "    fill: var(--disabled-fill-color);\n",
              "    box-shadow: none;\n",
              "  }\n",
              "\n",
              "  .colab-df-spinner {\n",
              "    border: 2px solid var(--fill-color);\n",
              "    border-color: transparent;\n",
              "    border-bottom-color: var(--fill-color);\n",
              "    animation:\n",
              "      spin 1s steps(1) infinite;\n",
              "  }\n",
              "\n",
              "  @keyframes spin {\n",
              "    0% {\n",
              "      border-color: transparent;\n",
              "      border-bottom-color: var(--fill-color);\n",
              "      border-left-color: var(--fill-color);\n",
              "    }\n",
              "    20% {\n",
              "      border-color: transparent;\n",
              "      border-left-color: var(--fill-color);\n",
              "      border-top-color: var(--fill-color);\n",
              "    }\n",
              "    30% {\n",
              "      border-color: transparent;\n",
              "      border-left-color: var(--fill-color);\n",
              "      border-top-color: var(--fill-color);\n",
              "      border-right-color: var(--fill-color);\n",
              "    }\n",
              "    40% {\n",
              "      border-color: transparent;\n",
              "      border-right-color: var(--fill-color);\n",
              "      border-top-color: var(--fill-color);\n",
              "    }\n",
              "    60% {\n",
              "      border-color: transparent;\n",
              "      border-right-color: var(--fill-color);\n",
              "    }\n",
              "    80% {\n",
              "      border-color: transparent;\n",
              "      border-right-color: var(--fill-color);\n",
              "      border-bottom-color: var(--fill-color);\n",
              "    }\n",
              "    90% {\n",
              "      border-color: transparent;\n",
              "      border-bottom-color: var(--fill-color);\n",
              "    }\n",
              "  }\n",
              "</style>\n",
              "\n",
              "      <script>\n",
              "        async function quickchart(key) {\n",
              "          const quickchartButtonEl =\n",
              "            document.querySelector('#' + key + ' button');\n",
              "          quickchartButtonEl.disabled = true;  // To prevent multiple clicks.\n",
              "          quickchartButtonEl.classList.add('colab-df-spinner');\n",
              "          try {\n",
              "            const charts = await google.colab.kernel.invokeFunction(\n",
              "                'suggestCharts', [key], {});\n",
              "          } catch (error) {\n",
              "            console.error('Error during call to suggestCharts:', error);\n",
              "          }\n",
              "          quickchartButtonEl.classList.remove('colab-df-spinner');\n",
              "          quickchartButtonEl.classList.add('colab-df-quickchart-complete');\n",
              "        }\n",
              "        (() => {\n",
              "          let quickchartButtonEl =\n",
              "            document.querySelector('#df-3bdfe7d7-cee4-47a9-b566-e384d042e963 button');\n",
              "          quickchartButtonEl.style.display =\n",
              "            google.colab.kernel.accessAllowed ? 'block' : 'none';\n",
              "        })();\n",
              "      </script>\n",
              "    </div>\n",
              "\n",
              "  <div id=\"id_b414542f-6d2c-4ce0-85a6-faf94aeb3ce2\">\n",
              "    <style>\n",
              "      .colab-df-generate {\n",
              "        background-color: #E8F0FE;\n",
              "        border: none;\n",
              "        border-radius: 50%;\n",
              "        cursor: pointer;\n",
              "        display: none;\n",
              "        fill: #1967D2;\n",
              "        height: 32px;\n",
              "        padding: 0 0 0 0;\n",
              "        width: 32px;\n",
              "      }\n",
              "\n",
              "      .colab-df-generate:hover {\n",
              "        background-color: #E2EBFA;\n",
              "        box-shadow: 0px 1px 2px rgba(60, 64, 67, 0.3), 0px 1px 3px 1px rgba(60, 64, 67, 0.15);\n",
              "        fill: #174EA6;\n",
              "      }\n",
              "\n",
              "      [theme=dark] .colab-df-generate {\n",
              "        background-color: #3B4455;\n",
              "        fill: #D2E3FC;\n",
              "      }\n",
              "\n",
              "      [theme=dark] .colab-df-generate:hover {\n",
              "        background-color: #434B5C;\n",
              "        box-shadow: 0px 1px 3px 1px rgba(0, 0, 0, 0.15);\n",
              "        filter: drop-shadow(0px 1px 2px rgba(0, 0, 0, 0.3));\n",
              "        fill: #FFFFFF;\n",
              "      }\n",
              "    </style>\n",
              "    <button class=\"colab-df-generate\" onclick=\"generateWithVariable('final_df')\"\n",
              "            title=\"Generate code using this dataframe.\"\n",
              "            style=\"display:none;\">\n",
              "\n",
              "  <svg xmlns=\"http://www.w3.org/2000/svg\" height=\"24px\"viewBox=\"0 0 24 24\"\n",
              "       width=\"24px\">\n",
              "    <path d=\"M7,19H8.4L18.45,9,17,7.55,7,17.6ZM5,21V16.75L18.45,3.32a2,2,0,0,1,2.83,0l1.4,1.43a1.91,1.91,0,0,1,.58,1.4,1.91,1.91,0,0,1-.58,1.4L9.25,21ZM18.45,9,17,7.55Zm-12,3A5.31,5.31,0,0,0,4.9,8.1,5.31,5.31,0,0,0,1,6.5,5.31,5.31,0,0,0,4.9,4.9,5.31,5.31,0,0,0,6.5,1,5.31,5.31,0,0,0,8.1,4.9,5.31,5.31,0,0,0,12,6.5,5.46,5.46,0,0,0,6.5,12Z\"/>\n",
              "  </svg>\n",
              "    </button>\n",
              "    <script>\n",
              "      (() => {\n",
              "      const buttonEl =\n",
              "        document.querySelector('#id_b414542f-6d2c-4ce0-85a6-faf94aeb3ce2 button.colab-df-generate');\n",
              "      buttonEl.style.display =\n",
              "        google.colab.kernel.accessAllowed ? 'block' : 'none';\n",
              "\n",
              "      buttonEl.onclick = () => {\n",
              "        google.colab.notebook.generateWithVariable('final_df');\n",
              "      }\n",
              "      })();\n",
              "    </script>\n",
              "  </div>\n",
              "\n",
              "    </div>\n",
              "  </div>\n"
            ],
            "application/vnd.google.colaboratory.intrinsic+json": {
              "type": "dataframe",
              "variable_name": "final_df",
              "summary": "{\n  \"name\": \"final_df\",\n  \"rows\": 4047,\n  \"fields\": [\n    {\n      \"column\": \"title\",\n      \"properties\": {\n        \"dtype\": \"string\",\n        \"num_unique_values\": 4047,\n        \"samples\": [\n          \"\\\"\\u0911\\u0928\\u0932\\u093e\\u0907\\u0928 \\u092e\\u0940\\u091f\\u093f\\u0902\\u0917 \\u092e\\u0947\\u0902 \\u091c\\u0942\\u0928\\u093f\\u092f\\u0930 \\u0915\\u094b \\u0917\\u093e\\u0932\\u0940 \\u0926\\u0947\\u0928\\u093e HDFC \\u092c\\u0948\\u0902\\u0915 \\u0905\\u0927\\u093f\\u0915\\u093e\\u0930\\u0940 \\u0915\\u094b \\u092a\\u0921\\u093c\\u093e \\u092d\\u093e\\u0930\\u0940, \\u0935\\u0940\\u0921\\u093f\\u092f\\u094b \\u0935\\u093e\\u092f\\u0930\\u0932 \\u0939\\u094b\\u0928\\u0947 \\u0915\\u0947 \\u092c\\u093e\\u0926 \\u0939\\u0941\\u0908 \\u0915\\u093e\\u0930\\u094d\\u0930\\u0935\\u093e\\u0908\\\"\",\n          \"\\\"Friday's Rally Lifts Sensex, Nifty To Fourth Consecutive Weekly Gains: Market Wrap\\\"\",\n          \"\\\"Stock Market : \\u0926\\u0947\\u0936 \\u0915\\u0947 \\u0938\\u092c\\u0938\\u0947 \\u092c\\u095c\\u0947 \\u092b\\u0902\\u0921 \\u0939\\u093e\\u0909\\u0938 \\u0928\\u0947 \\u0907\\u0928 5 \\u0936\\u0947\\u092f\\u0930\\u094b\\u0902 \\u092e\\u0947\\u0902 \\u091c\\u092e\\u0915\\u0930 \\u0932\\u0917\\u093e\\u092f\\u093e \\u092a\\u0948\\u0938\\u093e\\\"\"\n        ],\n        \"semantic_type\": \"\",\n        \"description\": \"\"\n      }\n    },\n    {\n      \"column\": \"pubDate\",\n      \"properties\": {\n        \"dtype\": \"object\",\n        \"num_unique_values\": 748,\n        \"samples\": [\n          \"2023-02-20\",\n          \"2023-12-29\",\n          \"2024-08-17\"\n        ],\n        \"semantic_type\": \"\",\n        \"description\": \"\"\n      }\n    },\n    {\n      \"column\": \"sentiment_score\",\n      \"properties\": {\n        \"dtype\": \"number\",\n        \"std\": 0.12686934932162203,\n        \"min\": 0.3756309449672699,\n        \"max\": 0.9999935626983644,\n        \"num_unique_values\": 3239,\n        \"samples\": [\n          0.9516097605228424,\n          0.936349093914032,\n          0.944680780172348\n        ],\n        \"semantic_type\": \"\",\n        \"description\": \"\"\n      }\n    }\n  ]\n}"
            }
          },
          "metadata": {},
          "execution_count": 23
        }
      ]
    },
    {
      "cell_type": "code",
      "source": [
        "final_df.to_csv('final_sentiment_df.csv', index=False)"
      ],
      "metadata": {
        "id": "pz49BRHqktcZ"
      },
      "execution_count": null,
      "outputs": []
    },
    {
      "cell_type": "code",
      "source": [
        "df5 = pd.read_csv(\"/content/final_sentiment_df.csv\")\n",
        "df5"
      ],
      "metadata": {
        "colab": {
          "base_uri": "https://localhost:8080/",
          "height": 424
        },
        "id": "pDtoZAvQk1W1",
        "outputId": "edb11e08-f11f-4786-a625-14e90124ebb4"
      },
      "execution_count": null,
      "outputs": [
        {
          "output_type": "execute_result",
          "data": {
            "text/plain": [
              "                                                  title     pubDate  \\\n",
              "0     \"मुकेश अंबानी नहीं इन दिग्गजों का बजा डंका, शे...  2024-12-31   \n",
              "1     \"Bank Holiday: ਕੀ ਭਲਕੇ 1 ਜਨਵਰੀ 2025 ਨੂੰ ਬੰਦ ਰਹ...  2024-12-31   \n",
              "2     \"HDFC Bank Credit Cards: Key changes in reward...  2024-12-31   \n",
              "3     \"Nifty Bank rejig today: SBI, HDFC Bank may wi...  2024-12-31   \n",
              "4     \"Day Trading Guide For December 31, 2024: Intr...  2024-12-31   \n",
              "...                                                 ...         ...   \n",
              "4042  \"HDFC Bank Shares Continue To Fall: Here's Wha...  2022-04-19   \n",
              "4043  \"HDFC Bank પર એનાલિસ્ટ્સને પૂરો ભરોસોઃ શેર 30%...  2022-01-17   \n",
              "4044  \"HDFC बैंक की इस स्कीम से बिना गारंटी के दुकान...  2021-07-27   \n",
              "4045  \"HDFC बैंक की दूर हुई तकनीकी समस्या, ग्राहक कर...  2021-06-15   \n",
              "4046  \"HDFC Bank named India’s Best SME Bank at Asia...  2021-03-25   \n",
              "\n",
              "      sentiment_score  \n",
              "0            0.999983  \n",
              "1            0.992906  \n",
              "2            0.752925  \n",
              "3            0.729719  \n",
              "4            0.956570  \n",
              "...               ...  \n",
              "4042              NaN  \n",
              "4043              NaN  \n",
              "4044         0.999903  \n",
              "4045         0.993595  \n",
              "4046              NaN  \n",
              "\n",
              "[4047 rows x 3 columns]"
            ],
            "text/html": [
              "\n",
              "  <div id=\"df-5386cdf7-49c4-4794-8dee-23a454c4ba7f\" class=\"colab-df-container\">\n",
              "    <div>\n",
              "<style scoped>\n",
              "    .dataframe tbody tr th:only-of-type {\n",
              "        vertical-align: middle;\n",
              "    }\n",
              "\n",
              "    .dataframe tbody tr th {\n",
              "        vertical-align: top;\n",
              "    }\n",
              "\n",
              "    .dataframe thead th {\n",
              "        text-align: right;\n",
              "    }\n",
              "</style>\n",
              "<table border=\"1\" class=\"dataframe\">\n",
              "  <thead>\n",
              "    <tr style=\"text-align: right;\">\n",
              "      <th></th>\n",
              "      <th>title</th>\n",
              "      <th>pubDate</th>\n",
              "      <th>sentiment_score</th>\n",
              "    </tr>\n",
              "  </thead>\n",
              "  <tbody>\n",
              "    <tr>\n",
              "      <th>0</th>\n",
              "      <td>\"मुकेश अंबानी नहीं इन दिग्गजों का बजा डंका, शे...</td>\n",
              "      <td>2024-12-31</td>\n",
              "      <td>0.999983</td>\n",
              "    </tr>\n",
              "    <tr>\n",
              "      <th>1</th>\n",
              "      <td>\"Bank Holiday: ਕੀ ਭਲਕੇ 1 ਜਨਵਰੀ 2025 ਨੂੰ ਬੰਦ ਰਹ...</td>\n",
              "      <td>2024-12-31</td>\n",
              "      <td>0.992906</td>\n",
              "    </tr>\n",
              "    <tr>\n",
              "      <th>2</th>\n",
              "      <td>\"HDFC Bank Credit Cards: Key changes in reward...</td>\n",
              "      <td>2024-12-31</td>\n",
              "      <td>0.752925</td>\n",
              "    </tr>\n",
              "    <tr>\n",
              "      <th>3</th>\n",
              "      <td>\"Nifty Bank rejig today: SBI, HDFC Bank may wi...</td>\n",
              "      <td>2024-12-31</td>\n",
              "      <td>0.729719</td>\n",
              "    </tr>\n",
              "    <tr>\n",
              "      <th>4</th>\n",
              "      <td>\"Day Trading Guide For December 31, 2024: Intr...</td>\n",
              "      <td>2024-12-31</td>\n",
              "      <td>0.956570</td>\n",
              "    </tr>\n",
              "    <tr>\n",
              "      <th>...</th>\n",
              "      <td>...</td>\n",
              "      <td>...</td>\n",
              "      <td>...</td>\n",
              "    </tr>\n",
              "    <tr>\n",
              "      <th>4042</th>\n",
              "      <td>\"HDFC Bank Shares Continue To Fall: Here's Wha...</td>\n",
              "      <td>2022-04-19</td>\n",
              "      <td>NaN</td>\n",
              "    </tr>\n",
              "    <tr>\n",
              "      <th>4043</th>\n",
              "      <td>\"HDFC Bank પર એનાલિસ્ટ્સને પૂરો ભરોસોઃ શેર 30%...</td>\n",
              "      <td>2022-01-17</td>\n",
              "      <td>NaN</td>\n",
              "    </tr>\n",
              "    <tr>\n",
              "      <th>4044</th>\n",
              "      <td>\"HDFC बैंक की इस स्कीम से बिना गारंटी के दुकान...</td>\n",
              "      <td>2021-07-27</td>\n",
              "      <td>0.999903</td>\n",
              "    </tr>\n",
              "    <tr>\n",
              "      <th>4045</th>\n",
              "      <td>\"HDFC बैंक की दूर हुई तकनीकी समस्या, ग्राहक कर...</td>\n",
              "      <td>2021-06-15</td>\n",
              "      <td>0.993595</td>\n",
              "    </tr>\n",
              "    <tr>\n",
              "      <th>4046</th>\n",
              "      <td>\"HDFC Bank named India’s Best SME Bank at Asia...</td>\n",
              "      <td>2021-03-25</td>\n",
              "      <td>NaN</td>\n",
              "    </tr>\n",
              "  </tbody>\n",
              "</table>\n",
              "<p>4047 rows × 3 columns</p>\n",
              "</div>\n",
              "    <div class=\"colab-df-buttons\">\n",
              "\n",
              "  <div class=\"colab-df-container\">\n",
              "    <button class=\"colab-df-convert\" onclick=\"convertToInteractive('df-5386cdf7-49c4-4794-8dee-23a454c4ba7f')\"\n",
              "            title=\"Convert this dataframe to an interactive table.\"\n",
              "            style=\"display:none;\">\n",
              "\n",
              "  <svg xmlns=\"http://www.w3.org/2000/svg\" height=\"24px\" viewBox=\"0 -960 960 960\">\n",
              "    <path d=\"M120-120v-720h720v720H120Zm60-500h600v-160H180v160Zm220 220h160v-160H400v160Zm0 220h160v-160H400v160ZM180-400h160v-160H180v160Zm440 0h160v-160H620v160ZM180-180h160v-160H180v160Zm440 0h160v-160H620v160Z\"/>\n",
              "  </svg>\n",
              "    </button>\n",
              "\n",
              "  <style>\n",
              "    .colab-df-container {\n",
              "      display:flex;\n",
              "      gap: 12px;\n",
              "    }\n",
              "\n",
              "    .colab-df-convert {\n",
              "      background-color: #E8F0FE;\n",
              "      border: none;\n",
              "      border-radius: 50%;\n",
              "      cursor: pointer;\n",
              "      display: none;\n",
              "      fill: #1967D2;\n",
              "      height: 32px;\n",
              "      padding: 0 0 0 0;\n",
              "      width: 32px;\n",
              "    }\n",
              "\n",
              "    .colab-df-convert:hover {\n",
              "      background-color: #E2EBFA;\n",
              "      box-shadow: 0px 1px 2px rgba(60, 64, 67, 0.3), 0px 1px 3px 1px rgba(60, 64, 67, 0.15);\n",
              "      fill: #174EA6;\n",
              "    }\n",
              "\n",
              "    .colab-df-buttons div {\n",
              "      margin-bottom: 4px;\n",
              "    }\n",
              "\n",
              "    [theme=dark] .colab-df-convert {\n",
              "      background-color: #3B4455;\n",
              "      fill: #D2E3FC;\n",
              "    }\n",
              "\n",
              "    [theme=dark] .colab-df-convert:hover {\n",
              "      background-color: #434B5C;\n",
              "      box-shadow: 0px 1px 3px 1px rgba(0, 0, 0, 0.15);\n",
              "      filter: drop-shadow(0px 1px 2px rgba(0, 0, 0, 0.3));\n",
              "      fill: #FFFFFF;\n",
              "    }\n",
              "  </style>\n",
              "\n",
              "    <script>\n",
              "      const buttonEl =\n",
              "        document.querySelector('#df-5386cdf7-49c4-4794-8dee-23a454c4ba7f button.colab-df-convert');\n",
              "      buttonEl.style.display =\n",
              "        google.colab.kernel.accessAllowed ? 'block' : 'none';\n",
              "\n",
              "      async function convertToInteractive(key) {\n",
              "        const element = document.querySelector('#df-5386cdf7-49c4-4794-8dee-23a454c4ba7f');\n",
              "        const dataTable =\n",
              "          await google.colab.kernel.invokeFunction('convertToInteractive',\n",
              "                                                    [key], {});\n",
              "        if (!dataTable) return;\n",
              "\n",
              "        const docLinkHtml = 'Like what you see? Visit the ' +\n",
              "          '<a target=\"_blank\" href=https://colab.research.google.com/notebooks/data_table.ipynb>data table notebook</a>'\n",
              "          + ' to learn more about interactive tables.';\n",
              "        element.innerHTML = '';\n",
              "        dataTable['output_type'] = 'display_data';\n",
              "        await google.colab.output.renderOutput(dataTable, element);\n",
              "        const docLink = document.createElement('div');\n",
              "        docLink.innerHTML = docLinkHtml;\n",
              "        element.appendChild(docLink);\n",
              "      }\n",
              "    </script>\n",
              "  </div>\n",
              "\n",
              "\n",
              "    <div id=\"df-3f0a8ac2-c778-4d3d-a35d-77579d53303d\">\n",
              "      <button class=\"colab-df-quickchart\" onclick=\"quickchart('df-3f0a8ac2-c778-4d3d-a35d-77579d53303d')\"\n",
              "                title=\"Suggest charts\"\n",
              "                style=\"display:none;\">\n",
              "\n",
              "<svg xmlns=\"http://www.w3.org/2000/svg\" height=\"24px\"viewBox=\"0 0 24 24\"\n",
              "     width=\"24px\">\n",
              "    <g>\n",
              "        <path d=\"M19 3H5c-1.1 0-2 .9-2 2v14c0 1.1.9 2 2 2h14c1.1 0 2-.9 2-2V5c0-1.1-.9-2-2-2zM9 17H7v-7h2v7zm4 0h-2V7h2v10zm4 0h-2v-4h2v4z\"/>\n",
              "    </g>\n",
              "</svg>\n",
              "      </button>\n",
              "\n",
              "<style>\n",
              "  .colab-df-quickchart {\n",
              "      --bg-color: #E8F0FE;\n",
              "      --fill-color: #1967D2;\n",
              "      --hover-bg-color: #E2EBFA;\n",
              "      --hover-fill-color: #174EA6;\n",
              "      --disabled-fill-color: #AAA;\n",
              "      --disabled-bg-color: #DDD;\n",
              "  }\n",
              "\n",
              "  [theme=dark] .colab-df-quickchart {\n",
              "      --bg-color: #3B4455;\n",
              "      --fill-color: #D2E3FC;\n",
              "      --hover-bg-color: #434B5C;\n",
              "      --hover-fill-color: #FFFFFF;\n",
              "      --disabled-bg-color: #3B4455;\n",
              "      --disabled-fill-color: #666;\n",
              "  }\n",
              "\n",
              "  .colab-df-quickchart {\n",
              "    background-color: var(--bg-color);\n",
              "    border: none;\n",
              "    border-radius: 50%;\n",
              "    cursor: pointer;\n",
              "    display: none;\n",
              "    fill: var(--fill-color);\n",
              "    height: 32px;\n",
              "    padding: 0;\n",
              "    width: 32px;\n",
              "  }\n",
              "\n",
              "  .colab-df-quickchart:hover {\n",
              "    background-color: var(--hover-bg-color);\n",
              "    box-shadow: 0 1px 2px rgba(60, 64, 67, 0.3), 0 1px 3px 1px rgba(60, 64, 67, 0.15);\n",
              "    fill: var(--button-hover-fill-color);\n",
              "  }\n",
              "\n",
              "  .colab-df-quickchart-complete:disabled,\n",
              "  .colab-df-quickchart-complete:disabled:hover {\n",
              "    background-color: var(--disabled-bg-color);\n",
              "    fill: var(--disabled-fill-color);\n",
              "    box-shadow: none;\n",
              "  }\n",
              "\n",
              "  .colab-df-spinner {\n",
              "    border: 2px solid var(--fill-color);\n",
              "    border-color: transparent;\n",
              "    border-bottom-color: var(--fill-color);\n",
              "    animation:\n",
              "      spin 1s steps(1) infinite;\n",
              "  }\n",
              "\n",
              "  @keyframes spin {\n",
              "    0% {\n",
              "      border-color: transparent;\n",
              "      border-bottom-color: var(--fill-color);\n",
              "      border-left-color: var(--fill-color);\n",
              "    }\n",
              "    20% {\n",
              "      border-color: transparent;\n",
              "      border-left-color: var(--fill-color);\n",
              "      border-top-color: var(--fill-color);\n",
              "    }\n",
              "    30% {\n",
              "      border-color: transparent;\n",
              "      border-left-color: var(--fill-color);\n",
              "      border-top-color: var(--fill-color);\n",
              "      border-right-color: var(--fill-color);\n",
              "    }\n",
              "    40% {\n",
              "      border-color: transparent;\n",
              "      border-right-color: var(--fill-color);\n",
              "      border-top-color: var(--fill-color);\n",
              "    }\n",
              "    60% {\n",
              "      border-color: transparent;\n",
              "      border-right-color: var(--fill-color);\n",
              "    }\n",
              "    80% {\n",
              "      border-color: transparent;\n",
              "      border-right-color: var(--fill-color);\n",
              "      border-bottom-color: var(--fill-color);\n",
              "    }\n",
              "    90% {\n",
              "      border-color: transparent;\n",
              "      border-bottom-color: var(--fill-color);\n",
              "    }\n",
              "  }\n",
              "</style>\n",
              "\n",
              "      <script>\n",
              "        async function quickchart(key) {\n",
              "          const quickchartButtonEl =\n",
              "            document.querySelector('#' + key + ' button');\n",
              "          quickchartButtonEl.disabled = true;  // To prevent multiple clicks.\n",
              "          quickchartButtonEl.classList.add('colab-df-spinner');\n",
              "          try {\n",
              "            const charts = await google.colab.kernel.invokeFunction(\n",
              "                'suggestCharts', [key], {});\n",
              "          } catch (error) {\n",
              "            console.error('Error during call to suggestCharts:', error);\n",
              "          }\n",
              "          quickchartButtonEl.classList.remove('colab-df-spinner');\n",
              "          quickchartButtonEl.classList.add('colab-df-quickchart-complete');\n",
              "        }\n",
              "        (() => {\n",
              "          let quickchartButtonEl =\n",
              "            document.querySelector('#df-3f0a8ac2-c778-4d3d-a35d-77579d53303d button');\n",
              "          quickchartButtonEl.style.display =\n",
              "            google.colab.kernel.accessAllowed ? 'block' : 'none';\n",
              "        })();\n",
              "      </script>\n",
              "    </div>\n",
              "\n",
              "  <div id=\"id_fb74ff1e-1031-4c7e-98d1-ab648e74552c\">\n",
              "    <style>\n",
              "      .colab-df-generate {\n",
              "        background-color: #E8F0FE;\n",
              "        border: none;\n",
              "        border-radius: 50%;\n",
              "        cursor: pointer;\n",
              "        display: none;\n",
              "        fill: #1967D2;\n",
              "        height: 32px;\n",
              "        padding: 0 0 0 0;\n",
              "        width: 32px;\n",
              "      }\n",
              "\n",
              "      .colab-df-generate:hover {\n",
              "        background-color: #E2EBFA;\n",
              "        box-shadow: 0px 1px 2px rgba(60, 64, 67, 0.3), 0px 1px 3px 1px rgba(60, 64, 67, 0.15);\n",
              "        fill: #174EA6;\n",
              "      }\n",
              "\n",
              "      [theme=dark] .colab-df-generate {\n",
              "        background-color: #3B4455;\n",
              "        fill: #D2E3FC;\n",
              "      }\n",
              "\n",
              "      [theme=dark] .colab-df-generate:hover {\n",
              "        background-color: #434B5C;\n",
              "        box-shadow: 0px 1px 3px 1px rgba(0, 0, 0, 0.15);\n",
              "        filter: drop-shadow(0px 1px 2px rgba(0, 0, 0, 0.3));\n",
              "        fill: #FFFFFF;\n",
              "      }\n",
              "    </style>\n",
              "    <button class=\"colab-df-generate\" onclick=\"generateWithVariable('df5')\"\n",
              "            title=\"Generate code using this dataframe.\"\n",
              "            style=\"display:none;\">\n",
              "\n",
              "  <svg xmlns=\"http://www.w3.org/2000/svg\" height=\"24px\"viewBox=\"0 0 24 24\"\n",
              "       width=\"24px\">\n",
              "    <path d=\"M7,19H8.4L18.45,9,17,7.55,7,17.6ZM5,21V16.75L18.45,3.32a2,2,0,0,1,2.83,0l1.4,1.43a1.91,1.91,0,0,1,.58,1.4,1.91,1.91,0,0,1-.58,1.4L9.25,21ZM18.45,9,17,7.55Zm-12,3A5.31,5.31,0,0,0,4.9,8.1,5.31,5.31,0,0,0,1,6.5,5.31,5.31,0,0,0,4.9,4.9,5.31,5.31,0,0,0,6.5,1,5.31,5.31,0,0,0,8.1,4.9,5.31,5.31,0,0,0,12,6.5,5.46,5.46,0,0,0,6.5,12Z\"/>\n",
              "  </svg>\n",
              "    </button>\n",
              "    <script>\n",
              "      (() => {\n",
              "      const buttonEl =\n",
              "        document.querySelector('#id_fb74ff1e-1031-4c7e-98d1-ab648e74552c button.colab-df-generate');\n",
              "      buttonEl.style.display =\n",
              "        google.colab.kernel.accessAllowed ? 'block' : 'none';\n",
              "\n",
              "      buttonEl.onclick = () => {\n",
              "        google.colab.notebook.generateWithVariable('df5');\n",
              "      }\n",
              "      })();\n",
              "    </script>\n",
              "  </div>\n",
              "\n",
              "    </div>\n",
              "  </div>\n"
            ],
            "application/vnd.google.colaboratory.intrinsic+json": {
              "type": "dataframe",
              "variable_name": "df5",
              "summary": "{\n  \"name\": \"df5\",\n  \"rows\": 4047,\n  \"fields\": [\n    {\n      \"column\": \"title\",\n      \"properties\": {\n        \"dtype\": \"string\",\n        \"num_unique_values\": 4047,\n        \"samples\": [\n          \"\\\"\\u0911\\u0928\\u0932\\u093e\\u0907\\u0928 \\u092e\\u0940\\u091f\\u093f\\u0902\\u0917 \\u092e\\u0947\\u0902 \\u091c\\u0942\\u0928\\u093f\\u092f\\u0930 \\u0915\\u094b \\u0917\\u093e\\u0932\\u0940 \\u0926\\u0947\\u0928\\u093e HDFC \\u092c\\u0948\\u0902\\u0915 \\u0905\\u0927\\u093f\\u0915\\u093e\\u0930\\u0940 \\u0915\\u094b \\u092a\\u0921\\u093c\\u093e \\u092d\\u093e\\u0930\\u0940, \\u0935\\u0940\\u0921\\u093f\\u092f\\u094b \\u0935\\u093e\\u092f\\u0930\\u0932 \\u0939\\u094b\\u0928\\u0947 \\u0915\\u0947 \\u092c\\u093e\\u0926 \\u0939\\u0941\\u0908 \\u0915\\u093e\\u0930\\u094d\\u0930\\u0935\\u093e\\u0908\\\"\",\n          \"\\\"Friday's Rally Lifts Sensex, Nifty To Fourth Consecutive Weekly Gains: Market Wrap\\\"\",\n          \"\\\"Stock Market : \\u0926\\u0947\\u0936 \\u0915\\u0947 \\u0938\\u092c\\u0938\\u0947 \\u092c\\u095c\\u0947 \\u092b\\u0902\\u0921 \\u0939\\u093e\\u0909\\u0938 \\u0928\\u0947 \\u0907\\u0928 5 \\u0936\\u0947\\u092f\\u0930\\u094b\\u0902 \\u092e\\u0947\\u0902 \\u091c\\u092e\\u0915\\u0930 \\u0932\\u0917\\u093e\\u092f\\u093e \\u092a\\u0948\\u0938\\u093e\\\"\"\n        ],\n        \"semantic_type\": \"\",\n        \"description\": \"\"\n      }\n    },\n    {\n      \"column\": \"pubDate\",\n      \"properties\": {\n        \"dtype\": \"object\",\n        \"num_unique_values\": 748,\n        \"samples\": [\n          \"2023-02-20\",\n          \"2023-12-29\",\n          \"2024-08-17\"\n        ],\n        \"semantic_type\": \"\",\n        \"description\": \"\"\n      }\n    },\n    {\n      \"column\": \"sentiment_score\",\n      \"properties\": {\n        \"dtype\": \"number\",\n        \"std\": 0.12686934932162203,\n        \"min\": 0.3756309449672699,\n        \"max\": 0.9999935626983644,\n        \"num_unique_values\": 3239,\n        \"samples\": [\n          0.9516097605228424,\n          0.936349093914032,\n          0.944680780172348\n        ],\n        \"semantic_type\": \"\",\n        \"description\": \"\"\n      }\n    }\n  ]\n}"
            }
          },
          "metadata": {},
          "execution_count": 25
        }
      ]
    },
    {
      "cell_type": "code",
      "source": [
        "df5.dropna()"
      ],
      "metadata": {
        "colab": {
          "base_uri": "https://localhost:8080/",
          "height": 424
        },
        "id": "X-5IoCwalDh6",
        "outputId": "8308ff56-3b0e-4523-a786-dd3c4b48b772"
      },
      "execution_count": null,
      "outputs": [
        {
          "output_type": "execute_result",
          "data": {
            "text/plain": [
              "                                                  title     pubDate  \\\n",
              "0     \"मुकेश अंबानी नहीं इन दिग्गजों का बजा डंका, शे...  2024-12-31   \n",
              "1     \"Bank Holiday: ਕੀ ਭਲਕੇ 1 ਜਨਵਰੀ 2025 ਨੂੰ ਬੰਦ ਰਹ...  2024-12-31   \n",
              "2     \"HDFC Bank Credit Cards: Key changes in reward...  2024-12-31   \n",
              "3     \"Nifty Bank rejig today: SBI, HDFC Bank may wi...  2024-12-31   \n",
              "4     \"Day Trading Guide For December 31, 2024: Intr...  2024-12-31   \n",
              "...                                                 ...         ...   \n",
              "4039  \"HDFC Bank declares Rs 15.50 per share dividen...  2022-04-23   \n",
              "4040  \"Bears return to D-Street after two-day rally;...  2022-04-22   \n",
              "4041  \"HDFC Bank Fixed Deposit rates revised from to...  2022-04-20   \n",
              "4044  \"HDFC बैंक की इस स्कीम से बिना गारंटी के दुकान...  2021-07-27   \n",
              "4045  \"HDFC बैंक की दूर हुई तकनीकी समस्या, ग्राहक कर...  2021-06-15   \n",
              "\n",
              "      sentiment_score  \n",
              "0            0.999983  \n",
              "1            0.992906  \n",
              "2            0.752925  \n",
              "3            0.729719  \n",
              "4            0.956570  \n",
              "...               ...  \n",
              "4039         0.981686  \n",
              "4040         0.875076  \n",
              "4041         0.899085  \n",
              "4044         0.999903  \n",
              "4045         0.993595  \n",
              "\n",
              "[3648 rows x 3 columns]"
            ],
            "text/html": [
              "\n",
              "  <div id=\"df-df778053-7fc0-4e8c-9b6f-d127d6eed3dd\" class=\"colab-df-container\">\n",
              "    <div>\n",
              "<style scoped>\n",
              "    .dataframe tbody tr th:only-of-type {\n",
              "        vertical-align: middle;\n",
              "    }\n",
              "\n",
              "    .dataframe tbody tr th {\n",
              "        vertical-align: top;\n",
              "    }\n",
              "\n",
              "    .dataframe thead th {\n",
              "        text-align: right;\n",
              "    }\n",
              "</style>\n",
              "<table border=\"1\" class=\"dataframe\">\n",
              "  <thead>\n",
              "    <tr style=\"text-align: right;\">\n",
              "      <th></th>\n",
              "      <th>title</th>\n",
              "      <th>pubDate</th>\n",
              "      <th>sentiment_score</th>\n",
              "    </tr>\n",
              "  </thead>\n",
              "  <tbody>\n",
              "    <tr>\n",
              "      <th>0</th>\n",
              "      <td>\"मुकेश अंबानी नहीं इन दिग्गजों का बजा डंका, शे...</td>\n",
              "      <td>2024-12-31</td>\n",
              "      <td>0.999983</td>\n",
              "    </tr>\n",
              "    <tr>\n",
              "      <th>1</th>\n",
              "      <td>\"Bank Holiday: ਕੀ ਭਲਕੇ 1 ਜਨਵਰੀ 2025 ਨੂੰ ਬੰਦ ਰਹ...</td>\n",
              "      <td>2024-12-31</td>\n",
              "      <td>0.992906</td>\n",
              "    </tr>\n",
              "    <tr>\n",
              "      <th>2</th>\n",
              "      <td>\"HDFC Bank Credit Cards: Key changes in reward...</td>\n",
              "      <td>2024-12-31</td>\n",
              "      <td>0.752925</td>\n",
              "    </tr>\n",
              "    <tr>\n",
              "      <th>3</th>\n",
              "      <td>\"Nifty Bank rejig today: SBI, HDFC Bank may wi...</td>\n",
              "      <td>2024-12-31</td>\n",
              "      <td>0.729719</td>\n",
              "    </tr>\n",
              "    <tr>\n",
              "      <th>4</th>\n",
              "      <td>\"Day Trading Guide For December 31, 2024: Intr...</td>\n",
              "      <td>2024-12-31</td>\n",
              "      <td>0.956570</td>\n",
              "    </tr>\n",
              "    <tr>\n",
              "      <th>...</th>\n",
              "      <td>...</td>\n",
              "      <td>...</td>\n",
              "      <td>...</td>\n",
              "    </tr>\n",
              "    <tr>\n",
              "      <th>4039</th>\n",
              "      <td>\"HDFC Bank declares Rs 15.50 per share dividen...</td>\n",
              "      <td>2022-04-23</td>\n",
              "      <td>0.981686</td>\n",
              "    </tr>\n",
              "    <tr>\n",
              "      <th>4040</th>\n",
              "      <td>\"Bears return to D-Street after two-day rally;...</td>\n",
              "      <td>2022-04-22</td>\n",
              "      <td>0.875076</td>\n",
              "    </tr>\n",
              "    <tr>\n",
              "      <th>4041</th>\n",
              "      <td>\"HDFC Bank Fixed Deposit rates revised from to...</td>\n",
              "      <td>2022-04-20</td>\n",
              "      <td>0.899085</td>\n",
              "    </tr>\n",
              "    <tr>\n",
              "      <th>4044</th>\n",
              "      <td>\"HDFC बैंक की इस स्कीम से बिना गारंटी के दुकान...</td>\n",
              "      <td>2021-07-27</td>\n",
              "      <td>0.999903</td>\n",
              "    </tr>\n",
              "    <tr>\n",
              "      <th>4045</th>\n",
              "      <td>\"HDFC बैंक की दूर हुई तकनीकी समस्या, ग्राहक कर...</td>\n",
              "      <td>2021-06-15</td>\n",
              "      <td>0.993595</td>\n",
              "    </tr>\n",
              "  </tbody>\n",
              "</table>\n",
              "<p>3648 rows × 3 columns</p>\n",
              "</div>\n",
              "    <div class=\"colab-df-buttons\">\n",
              "\n",
              "  <div class=\"colab-df-container\">\n",
              "    <button class=\"colab-df-convert\" onclick=\"convertToInteractive('df-df778053-7fc0-4e8c-9b6f-d127d6eed3dd')\"\n",
              "            title=\"Convert this dataframe to an interactive table.\"\n",
              "            style=\"display:none;\">\n",
              "\n",
              "  <svg xmlns=\"http://www.w3.org/2000/svg\" height=\"24px\" viewBox=\"0 -960 960 960\">\n",
              "    <path d=\"M120-120v-720h720v720H120Zm60-500h600v-160H180v160Zm220 220h160v-160H400v160Zm0 220h160v-160H400v160ZM180-400h160v-160H180v160Zm440 0h160v-160H620v160ZM180-180h160v-160H180v160Zm440 0h160v-160H620v160Z\"/>\n",
              "  </svg>\n",
              "    </button>\n",
              "\n",
              "  <style>\n",
              "    .colab-df-container {\n",
              "      display:flex;\n",
              "      gap: 12px;\n",
              "    }\n",
              "\n",
              "    .colab-df-convert {\n",
              "      background-color: #E8F0FE;\n",
              "      border: none;\n",
              "      border-radius: 50%;\n",
              "      cursor: pointer;\n",
              "      display: none;\n",
              "      fill: #1967D2;\n",
              "      height: 32px;\n",
              "      padding: 0 0 0 0;\n",
              "      width: 32px;\n",
              "    }\n",
              "\n",
              "    .colab-df-convert:hover {\n",
              "      background-color: #E2EBFA;\n",
              "      box-shadow: 0px 1px 2px rgba(60, 64, 67, 0.3), 0px 1px 3px 1px rgba(60, 64, 67, 0.15);\n",
              "      fill: #174EA6;\n",
              "    }\n",
              "\n",
              "    .colab-df-buttons div {\n",
              "      margin-bottom: 4px;\n",
              "    }\n",
              "\n",
              "    [theme=dark] .colab-df-convert {\n",
              "      background-color: #3B4455;\n",
              "      fill: #D2E3FC;\n",
              "    }\n",
              "\n",
              "    [theme=dark] .colab-df-convert:hover {\n",
              "      background-color: #434B5C;\n",
              "      box-shadow: 0px 1px 3px 1px rgba(0, 0, 0, 0.15);\n",
              "      filter: drop-shadow(0px 1px 2px rgba(0, 0, 0, 0.3));\n",
              "      fill: #FFFFFF;\n",
              "    }\n",
              "  </style>\n",
              "\n",
              "    <script>\n",
              "      const buttonEl =\n",
              "        document.querySelector('#df-df778053-7fc0-4e8c-9b6f-d127d6eed3dd button.colab-df-convert');\n",
              "      buttonEl.style.display =\n",
              "        google.colab.kernel.accessAllowed ? 'block' : 'none';\n",
              "\n",
              "      async function convertToInteractive(key) {\n",
              "        const element = document.querySelector('#df-df778053-7fc0-4e8c-9b6f-d127d6eed3dd');\n",
              "        const dataTable =\n",
              "          await google.colab.kernel.invokeFunction('convertToInteractive',\n",
              "                                                    [key], {});\n",
              "        if (!dataTable) return;\n",
              "\n",
              "        const docLinkHtml = 'Like what you see? Visit the ' +\n",
              "          '<a target=\"_blank\" href=https://colab.research.google.com/notebooks/data_table.ipynb>data table notebook</a>'\n",
              "          + ' to learn more about interactive tables.';\n",
              "        element.innerHTML = '';\n",
              "        dataTable['output_type'] = 'display_data';\n",
              "        await google.colab.output.renderOutput(dataTable, element);\n",
              "        const docLink = document.createElement('div');\n",
              "        docLink.innerHTML = docLinkHtml;\n",
              "        element.appendChild(docLink);\n",
              "      }\n",
              "    </script>\n",
              "  </div>\n",
              "\n",
              "\n",
              "    <div id=\"df-bcabbd55-ca80-49f0-b723-ab1154728684\">\n",
              "      <button class=\"colab-df-quickchart\" onclick=\"quickchart('df-bcabbd55-ca80-49f0-b723-ab1154728684')\"\n",
              "                title=\"Suggest charts\"\n",
              "                style=\"display:none;\">\n",
              "\n",
              "<svg xmlns=\"http://www.w3.org/2000/svg\" height=\"24px\"viewBox=\"0 0 24 24\"\n",
              "     width=\"24px\">\n",
              "    <g>\n",
              "        <path d=\"M19 3H5c-1.1 0-2 .9-2 2v14c0 1.1.9 2 2 2h14c1.1 0 2-.9 2-2V5c0-1.1-.9-2-2-2zM9 17H7v-7h2v7zm4 0h-2V7h2v10zm4 0h-2v-4h2v4z\"/>\n",
              "    </g>\n",
              "</svg>\n",
              "      </button>\n",
              "\n",
              "<style>\n",
              "  .colab-df-quickchart {\n",
              "      --bg-color: #E8F0FE;\n",
              "      --fill-color: #1967D2;\n",
              "      --hover-bg-color: #E2EBFA;\n",
              "      --hover-fill-color: #174EA6;\n",
              "      --disabled-fill-color: #AAA;\n",
              "      --disabled-bg-color: #DDD;\n",
              "  }\n",
              "\n",
              "  [theme=dark] .colab-df-quickchart {\n",
              "      --bg-color: #3B4455;\n",
              "      --fill-color: #D2E3FC;\n",
              "      --hover-bg-color: #434B5C;\n",
              "      --hover-fill-color: #FFFFFF;\n",
              "      --disabled-bg-color: #3B4455;\n",
              "      --disabled-fill-color: #666;\n",
              "  }\n",
              "\n",
              "  .colab-df-quickchart {\n",
              "    background-color: var(--bg-color);\n",
              "    border: none;\n",
              "    border-radius: 50%;\n",
              "    cursor: pointer;\n",
              "    display: none;\n",
              "    fill: var(--fill-color);\n",
              "    height: 32px;\n",
              "    padding: 0;\n",
              "    width: 32px;\n",
              "  }\n",
              "\n",
              "  .colab-df-quickchart:hover {\n",
              "    background-color: var(--hover-bg-color);\n",
              "    box-shadow: 0 1px 2px rgba(60, 64, 67, 0.3), 0 1px 3px 1px rgba(60, 64, 67, 0.15);\n",
              "    fill: var(--button-hover-fill-color);\n",
              "  }\n",
              "\n",
              "  .colab-df-quickchart-complete:disabled,\n",
              "  .colab-df-quickchart-complete:disabled:hover {\n",
              "    background-color: var(--disabled-bg-color);\n",
              "    fill: var(--disabled-fill-color);\n",
              "    box-shadow: none;\n",
              "  }\n",
              "\n",
              "  .colab-df-spinner {\n",
              "    border: 2px solid var(--fill-color);\n",
              "    border-color: transparent;\n",
              "    border-bottom-color: var(--fill-color);\n",
              "    animation:\n",
              "      spin 1s steps(1) infinite;\n",
              "  }\n",
              "\n",
              "  @keyframes spin {\n",
              "    0% {\n",
              "      border-color: transparent;\n",
              "      border-bottom-color: var(--fill-color);\n",
              "      border-left-color: var(--fill-color);\n",
              "    }\n",
              "    20% {\n",
              "      border-color: transparent;\n",
              "      border-left-color: var(--fill-color);\n",
              "      border-top-color: var(--fill-color);\n",
              "    }\n",
              "    30% {\n",
              "      border-color: transparent;\n",
              "      border-left-color: var(--fill-color);\n",
              "      border-top-color: var(--fill-color);\n",
              "      border-right-color: var(--fill-color);\n",
              "    }\n",
              "    40% {\n",
              "      border-color: transparent;\n",
              "      border-right-color: var(--fill-color);\n",
              "      border-top-color: var(--fill-color);\n",
              "    }\n",
              "    60% {\n",
              "      border-color: transparent;\n",
              "      border-right-color: var(--fill-color);\n",
              "    }\n",
              "    80% {\n",
              "      border-color: transparent;\n",
              "      border-right-color: var(--fill-color);\n",
              "      border-bottom-color: var(--fill-color);\n",
              "    }\n",
              "    90% {\n",
              "      border-color: transparent;\n",
              "      border-bottom-color: var(--fill-color);\n",
              "    }\n",
              "  }\n",
              "</style>\n",
              "\n",
              "      <script>\n",
              "        async function quickchart(key) {\n",
              "          const quickchartButtonEl =\n",
              "            document.querySelector('#' + key + ' button');\n",
              "          quickchartButtonEl.disabled = true;  // To prevent multiple clicks.\n",
              "          quickchartButtonEl.classList.add('colab-df-spinner');\n",
              "          try {\n",
              "            const charts = await google.colab.kernel.invokeFunction(\n",
              "                'suggestCharts', [key], {});\n",
              "          } catch (error) {\n",
              "            console.error('Error during call to suggestCharts:', error);\n",
              "          }\n",
              "          quickchartButtonEl.classList.remove('colab-df-spinner');\n",
              "          quickchartButtonEl.classList.add('colab-df-quickchart-complete');\n",
              "        }\n",
              "        (() => {\n",
              "          let quickchartButtonEl =\n",
              "            document.querySelector('#df-bcabbd55-ca80-49f0-b723-ab1154728684 button');\n",
              "          quickchartButtonEl.style.display =\n",
              "            google.colab.kernel.accessAllowed ? 'block' : 'none';\n",
              "        })();\n",
              "      </script>\n",
              "    </div>\n",
              "\n",
              "    </div>\n",
              "  </div>\n"
            ],
            "application/vnd.google.colaboratory.intrinsic+json": {
              "type": "dataframe",
              "summary": "{\n  \"name\": \"df5\",\n  \"rows\": 3648,\n  \"fields\": [\n    {\n      \"column\": \"title\",\n      \"properties\": {\n        \"dtype\": \"string\",\n        \"num_unique_values\": 3648,\n        \"samples\": [\n          \"\\\"Kotak Mahindra Bank Q1 Results: \\u091c\\u0942\\u0928 \\u0924\\u093f\\u092e\\u093e\\u0939\\u0940 \\u092e\\u0947\\u0902 \\u0915\\u094b\\u091f\\u0915 \\u092e\\u0939\\u093f\\u0902\\u0926\\u094d\\u0930\\u093e \\u092c\\u0948\\u0902\\u0915 \\u0915\\u093e \\u092e\\u0941\\u0928\\u093e\\u092b\\u093e 2% \\u092c\\u0922\\u093c\\u0915\\u0930 3,520 \\u0915\\u0930\\u094b\\u0921\\u093c \\u0939\\u0941\\u0906, \\u090f\\u0938\\u0947\\u091f\\u094d\\u0938 \\u0915\\u094d\\u0935\\u0949\\u0932\\u093f\\u091f\\u0940 \\u092e\\u0947\\u0902 \\u0938\\u0941\\u0927\\u093e\\u0930\\\"\",\n          \"\\\"Sensex climbs 644 points in early trade amid firm global market trends\\\"\",\n          \"\\\"HDFC Bank Fixed Deposit rates revised from today, April 20: Check latest FD rates here\\\"\"\n        ],\n        \"semantic_type\": \"\",\n        \"description\": \"\"\n      }\n    },\n    {\n      \"column\": \"pubDate\",\n      \"properties\": {\n        \"dtype\": \"object\",\n        \"num_unique_values\": 728,\n        \"samples\": [\n          \"2024-11-20\",\n          \"2024-01-16\",\n          \"2024-01-25\"\n        ],\n        \"semantic_type\": \"\",\n        \"description\": \"\"\n      }\n    },\n    {\n      \"column\": \"sentiment_score\",\n      \"properties\": {\n        \"dtype\": \"number\",\n        \"std\": 0.12686934932162203,\n        \"min\": 0.3756309449672699,\n        \"max\": 0.9999935626983644,\n        \"num_unique_values\": 3239,\n        \"samples\": [\n          0.9516097605228424,\n          0.936349093914032,\n          0.944680780172348\n        ],\n        \"semantic_type\": \"\",\n        \"description\": \"\"\n      }\n    }\n  ]\n}"
            }
          },
          "metadata": {},
          "execution_count": 26
        }
      ]
    },
    {
      "cell_type": "code",
      "source": [
        "final_df.to_csv('Final_Sentiment_DF.csv', index=False)"
      ],
      "metadata": {
        "id": "A1Ob4DS3lR8j"
      },
      "execution_count": null,
      "outputs": []
    }
  ]
}